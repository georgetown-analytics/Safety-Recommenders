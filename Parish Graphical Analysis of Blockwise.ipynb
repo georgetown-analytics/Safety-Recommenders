{
 "cells": [
  {
   "cell_type": "code",
   "execution_count": 1,
   "metadata": {},
   "outputs": [
    {
     "name": "stdout",
     "output_type": "stream",
     "text": [
      "  business_name                  address      category01  rating  \\\n",
      "0        Barrel  613 Pennsylvania Ave SE  American (New)     4.5   \n",
      "1        Barrel  613 Pennsylvania Ave SE  American (New)     4.5   \n",
      "2        Barrel  613 Pennsylvania Ave SE  American (New)     4.5   \n",
      "3        Barrel  613 Pennsylvania Ave SE  American (New)     4.5   \n",
      "4        Barrel  613 Pennsylvania Ave SE  American (New)     4.5   \n",
      "\n",
      "                                       block                     offense  \\\n",
      "0  600 - 669 block of pennsylvania avenue se  assault w/dangerous weapon   \n",
      "1  600 - 669 block of pennsylvania avenue se  assault w/dangerous weapon   \n",
      "2  600 - 669 block of pennsylvania avenue se  assault w/dangerous weapon   \n",
      "3  600 - 669 block of pennsylvania avenue se                    burglary   \n",
      "4  600 - 669 block of pennsylvania avenue se                    burglary   \n",
      "\n",
      "  offense_group  method  ucrrank  year         report_date  \n",
      "0       violent     gun        3  2018 2018-01-21 06:17:06  \n",
      "1       violent  others        3  2016 2016-08-11 15:29:31  \n",
      "2       violent   knife        3  2016 2016-06-21 05:20:36  \n",
      "3      property  others        5  2017 2017-06-06 17:01:14  \n",
      "4      property  others        5  2016 2016-08-10 08:30:50  \n"
     ]
    }
   ],
   "source": [
    "# Standard import for pandas, numpy and matplot\n",
    "import pandas as pd\n",
    "import numpy as np\n",
    "import matplotlib.pyplot as plt\n",
    "\n",
    "plt.rcParams['toolbar'] = 'None'\n",
    "SMALL_SIZE = 9\n",
    "plt.rc('font', size=SMALL_SIZE)\n",
    "#plt.rc('axes', titlesize=SMALL_SIZE)\n",
    "\n",
    "# Read in the csv file and display some of the basic info\n",
    "loc_crimes=pd.read_csv(\"/Users/melanieparish/Projects/Blockwise/location_crime_20180424.csv\",parse_dates=['report_date'])\n",
    "print(loc_crimes.head())"
   ]
  },
  {
   "cell_type": "code",
   "execution_count": 2,
   "metadata": {},
   "outputs": [
    {
     "data": {
      "text/html": [
       "<div>\n",
       "<style>\n",
       "    .dataframe thead tr:only-child th {\n",
       "        text-align: right;\n",
       "    }\n",
       "\n",
       "    .dataframe thead th {\n",
       "        text-align: left;\n",
       "    }\n",
       "\n",
       "    .dataframe tbody tr th {\n",
       "        vertical-align: top;\n",
       "    }\n",
       "</style>\n",
       "<table border=\"1\" class=\"dataframe\">\n",
       "  <thead>\n",
       "    <tr style=\"text-align: right;\">\n",
       "      <th></th>\n",
       "      <th>3</th>\n",
       "      <th>4</th>\n",
       "      <th>5</th>\n",
       "      <th>6</th>\n",
       "      <th>7</th>\n",
       "      <th>8</th>\n",
       "    </tr>\n",
       "  </thead>\n",
       "  <tbody>\n",
       "    <tr>\n",
       "      <th>Barrel</th>\n",
       "      <td>3</td>\n",
       "      <td>8</td>\n",
       "      <td>4</td>\n",
       "      <td>153</td>\n",
       "      <td>6</td>\n",
       "      <td>2</td>\n",
       "    </tr>\n",
       "    <tr>\n",
       "      <th>Grady's</th>\n",
       "      <td>0</td>\n",
       "      <td>1</td>\n",
       "      <td>1</td>\n",
       "      <td>179</td>\n",
       "      <td>13</td>\n",
       "      <td>1</td>\n",
       "    </tr>\n",
       "    <tr>\n",
       "      <th>Farmbird</th>\n",
       "      <td>0</td>\n",
       "      <td>2</td>\n",
       "      <td>1</td>\n",
       "      <td>8</td>\n",
       "      <td>4</td>\n",
       "      <td>0</td>\n",
       "    </tr>\n",
       "    <tr>\n",
       "      <th>Rose's Luxury</th>\n",
       "      <td>0</td>\n",
       "      <td>2</td>\n",
       "      <td>2</td>\n",
       "      <td>7</td>\n",
       "      <td>3</td>\n",
       "      <td>3</td>\n",
       "    </tr>\n",
       "    <tr>\n",
       "      <th>Honeysuckle</th>\n",
       "      <td>0</td>\n",
       "      <td>0</td>\n",
       "      <td>1</td>\n",
       "      <td>2</td>\n",
       "      <td>11</td>\n",
       "      <td>0</td>\n",
       "    </tr>\n",
       "    <tr>\n",
       "      <th>Tiki Taco</th>\n",
       "      <td>0</td>\n",
       "      <td>3</td>\n",
       "      <td>3</td>\n",
       "      <td>27</td>\n",
       "      <td>8</td>\n",
       "      <td>2</td>\n",
       "    </tr>\n",
       "    <tr>\n",
       "      <th>The Alibi</th>\n",
       "      <td>0</td>\n",
       "      <td>0</td>\n",
       "      <td>0</td>\n",
       "      <td>1</td>\n",
       "      <td>1</td>\n",
       "      <td>0</td>\n",
       "    </tr>\n",
       "    <tr>\n",
       "      <th>Unconventional Diner</th>\n",
       "      <td>3</td>\n",
       "      <td>1</td>\n",
       "      <td>2</td>\n",
       "      <td>21</td>\n",
       "      <td>19</td>\n",
       "      <td>2</td>\n",
       "    </tr>\n",
       "    <tr>\n",
       "      <th>Napoli Pasta Bar</th>\n",
       "      <td>2</td>\n",
       "      <td>2</td>\n",
       "      <td>1</td>\n",
       "      <td>12</td>\n",
       "      <td>60</td>\n",
       "      <td>1</td>\n",
       "    </tr>\n",
       "  </tbody>\n",
       "</table>\n",
       "</div>"
      ],
      "text/plain": [
       "                      3  4  5    6   7  8\n",
       "Barrel                3  8  4  153   6  2\n",
       "Grady's               0  1  1  179  13  1\n",
       "Farmbird              0  2  1    8   4  0\n",
       "Rose's Luxury         0  2  2    7   3  3\n",
       "Honeysuckle           0  0  1    2  11  0\n",
       "Tiki Taco             0  3  3   27   8  2\n",
       "The Alibi             0  0  0    1   1  0\n",
       "Unconventional Diner  3  1  2   21  19  2\n",
       "Napoli Pasta Bar      2  2  1   12  60  1"
      ]
     },
     "execution_count": 2,
     "metadata": {},
     "output_type": "execute_result"
    }
   ],
   "source": [
    "##Table of UCR Rank Count by Restaurant\n",
    "\n",
    "UCRRank_Restaurant = pd.crosstab(index=loc_crimes[\"business_name\"], \n",
    "                            columns=loc_crimes[\"ucrrank\"])\n",
    "\n",
    "UCRRank_Restaurant.columns = [\"3\",\"4\",\"5\",\"6\",\"7\",\"8\"]\n",
    "UCRRank_Restaurant.index= [\"Barrel\",\"Grady's\",\"Farmbird\",\"Rose's Luxury\",\"Honeysuckle\",\"Tiki Taco\",\"The Alibi\", \"Unconventional Diner\",\"Napoli Pasta Bar\"]\n",
    "\n",
    "UCRRank_Restaurant"
   ]
  },
  {
   "cell_type": "code",
   "execution_count": 4,
   "metadata": {},
   "outputs": [
    {
     "data": {
      "image/png": "[encoded data removed]",
      "text/plain": [
       "<Figure size 504x648 with 1 Axes>"
      ]
     },
     "metadata": {},
     "output_type": "display_data"
    }
   ],
   "source": [
    "UCRRank_Restaurant.plot(kind=\"bar\", \n",
    "                 figsize=(7,9),\n",
    "                 stacked=True)\n",
    "plt.show()"
   ]
  },
  {
   "cell_type": "code",
   "execution_count": null,
   "metadata": {
    "collapsed": true
   },
   "outputs": [],
   "source": []
  }
 ],
 "metadata": {
  "kernelspec": {
   "display_name": "Python 3",
   "language": "python",
   "name": "python3"
  },
  "language_info": {
   "codemirror_mode": {
    "name": "ipython",
    "version": 3
   },
   "file_extension": ".py",
   "mimetype": "text/x-python",
   "name": "python",
   "nbconvert_exporter": "python",
   "pygments_lexer": "ipython3",
   "version": "3.6.3"
  }
 },
 "nbformat": 4,
 "nbformat_minor": 2
}
