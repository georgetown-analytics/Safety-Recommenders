{
 "cells": [
  {
   "cell_type": "markdown",
   "metadata": {},
   "source": [
    "# SAFETY RECOMMENDER"
   ]
  },
  {
   "cell_type": "markdown",
   "metadata": {},
   "source": [
    "## Data Ingestion"
   ]
  },
  {
   "cell_type": "code",
   "execution_count": 1,
   "metadata": {},
   "outputs": [
    {
     "name": "stderr",
     "output_type": "stream",
     "text": [
      "C:\\Users\\Judith\\Anaconda3\\lib\\site-packages\\requests\\__init__.py:80: RequestsDependencyWarning: urllib3 (1.22) or chardet (2.0.3) doesn't match a supported version!\n",
      "  RequestsDependencyWarning)\n"
     ]
    }
   ],
   "source": [
    "import pandas as pd\n",
    "import numpy as np\n",
    "import matplotlib.pyplot as plt\n",
    "import seaborn as sns\n",
    "import scipy as sp\n",
    "import sklearn\n",
    "import IPython\n",
    "import sys\n",
    "import os\n",
    "import json\n",
    "import time\n",
    "import pickle\n",
    "import requests\n",
    "import pandas.io.sql as pd_sql\n",
    "import sqlite3 as sql\n",
    "import csv\n",
    "import graphviz\n",
    "\n",
    "\n",
    "from IPython.display import display\n",
    "from sklearn.neighbors import KNeighborsClassifier\n",
    "from datetime import datetime\n",
    "\n",
    "from sklearn.pipeline import Pipeline\n",
    "from sklearn.preprocessing import LabelEncoder\n",
    "from sklearn.feature_extraction import DictVectorizer \n",
    "from sklearn.base import BaseEstimator, TransformerMixin \n",
    "\n",
    "from sklearn.svm import SVC\n",
    "from sklearn.svm import LinearSVC\n",
    "\n",
    "from sklearn.naive_bayes import GaussianNB\n",
    "\n",
    "from sklearn.neighbors import KNeighborsClassifier\n",
    "\n",
    "from sklearn.ensemble import RandomForestClassifier\n",
    "from sklearn.ensemble import GradientBoostingClassifier \n",
    "\n",
    "from sklearn.linear_model import Ridge\n",
    "from sklearn.linear_model import LogisticRegression\n",
    "from sklearn.linear_model import LinearRegression\n",
    "from sklearn.linear_model import Lasso\n",
    "\n",
    "from sklearn.tree import DecisionTreeClassifier\n",
    "from sklearn.tree import export_graphviz\n",
    "\n",
    "from sklearn.model_selection import cross_val_score\n",
    "from sklearn.model_selection import StratifiedKFold\n",
    "from sklearn.model_selection import train_test_split as tts \n",
    "\n",
    "%matplotlib inline"
   ]
  },
  {
   "cell_type": "code",
   "execution_count": 2,
   "metadata": {},
   "outputs": [],
   "source": [
    "#Pandas will not display all columns in our data when using the head() function without this\n",
    "pd.set_option('max_columns',50) "
   ]
  },
  {
   "cell_type": "code",
   "execution_count": 3,
   "metadata": {},
   "outputs": [],
   "source": [
    "#this takes about 10 seconds\n",
    "URL = \"https://datagate.dc.gov/search/open/crimes?daterange=2years&details=true&format=csv\"\n",
    "\n",
    "def fetch_data(fname=\"dc-crimes-search-results.csv\"):\n",
    "    \"\"\"\n",
    "    Helper method to retrieve the ML Repository dataset.\n",
    "    \"\"\"\n",
    "    response = requests.get(URL)\n",
    "    outpath  = os.path.abspath(fname)\n",
    "    with open(outpath, 'wb') as f:\n",
    "        f.write(response.content)\n",
    "    \n",
    "    return outpath\n",
    "\n",
    "DATA = fetch_data()\n"
   ]
  },
  {
   "cell_type": "code",
   "execution_count": 4,
   "metadata": {},
   "outputs": [],
   "source": [
    "def load_df(path=DATA):\n",
    "    return pd.read_csv(path)"
   ]
  },
  {
   "cell_type": "code",
   "execution_count": 5,
   "metadata": {},
   "outputs": [],
   "source": [
    "df = load_df()"
   ]
  },
  {
   "cell_type": "markdown",
   "metadata": {},
   "source": [
    "## Data Exploration 1"
   ]
  },
  {
   "cell_type": "code",
   "execution_count": 6,
   "metadata": {},
   "outputs": [
    {
     "data": {
      "text/plain": [
       "Index(['NEIGHBORHOOD_CLUSTER', 'CENSUS_TRACT', 'offensegroup', 'LONGITUDE',\n",
       "       'END_DATE', 'offense-text', 'SHIFT', 'YBLOCK', 'DISTRICT', 'WARD',\n",
       "       'YEAR', 'offensekey', 'BID', 'sector', 'PSA', 'ucr-rank', 'BLOCK_GROUP',\n",
       "       'VOTING_PRECINCT', 'XBLOCK', 'BLOCK', 'START_DATE', 'CCN', 'OFFENSE',\n",
       "       'ANC', 'REPORT_DAT', 'METHOD', 'location', 'LATITUDE'],\n",
       "      dtype='object')"
      ]
     },
     "execution_count": 6,
     "metadata": {},
     "output_type": "execute_result"
    }
   ],
   "source": [
    "df.columns"
   ]
  },
  {
   "cell_type": "code",
   "execution_count": 7,
   "metadata": {},
   "outputs": [
    {
     "data": {
      "text/html": [
       "<div>\n",
       "<style scoped>\n",
       "    .dataframe tbody tr th:only-of-type {\n",
       "        vertical-align: middle;\n",
       "    }\n",
       "\n",
       "    .dataframe tbody tr th {\n",
       "        vertical-align: top;\n",
       "    }\n",
       "\n",
       "    .dataframe thead th {\n",
       "        text-align: right;\n",
       "    }\n",
       "</style>\n",
       "<table border=\"1\" class=\"dataframe\">\n",
       "  <thead>\n",
       "    <tr style=\"text-align: right;\">\n",
       "      <th></th>\n",
       "      <th>CENSUS_TRACT</th>\n",
       "      <th>LONGITUDE</th>\n",
       "      <th>YBLOCK</th>\n",
       "      <th>DISTRICT</th>\n",
       "      <th>WARD</th>\n",
       "      <th>YEAR</th>\n",
       "      <th>PSA</th>\n",
       "      <th>ucr-rank</th>\n",
       "      <th>XBLOCK</th>\n",
       "      <th>CCN</th>\n",
       "      <th>LATITUDE</th>\n",
       "    </tr>\n",
       "  </thead>\n",
       "  <tbody>\n",
       "    <tr>\n",
       "      <th>count</th>\n",
       "      <td>68246.000000</td>\n",
       "      <td>68405.000000</td>\n",
       "      <td>68405.000000</td>\n",
       "      <td>68383.000000</td>\n",
       "      <td>68405.000000</td>\n",
       "      <td>68405.000000</td>\n",
       "      <td>68377.000000</td>\n",
       "      <td>68405.000000</td>\n",
       "      <td>68405.000000</td>\n",
       "      <td>6.840500e+04</td>\n",
       "      <td>68405.000000</td>\n",
       "    </tr>\n",
       "    <tr>\n",
       "      <th>mean</th>\n",
       "      <td>6246.898881</td>\n",
       "      <td>-77.007665</td>\n",
       "      <td>137645.435352</td>\n",
       "      <td>3.672272</td>\n",
       "      <td>4.422454</td>\n",
       "      <td>2016.838784</td>\n",
       "      <td>371.779604</td>\n",
       "      <td>6.054835</td>\n",
       "      <td>399335.723267</td>\n",
       "      <td>1.696359e+07</td>\n",
       "      <td>38.906661</td>\n",
       "    </tr>\n",
       "    <tr>\n",
       "      <th>std</th>\n",
       "      <td>3118.224225</td>\n",
       "      <td>0.036087</td>\n",
       "      <td>3362.971224</td>\n",
       "      <td>1.953244</td>\n",
       "      <td>2.338953</td>\n",
       "      <td>0.700419</td>\n",
       "      <td>195.142451</td>\n",
       "      <td>1.296839</td>\n",
       "      <td>3129.886007</td>\n",
       "      <td>7.680898e+05</td>\n",
       "      <td>0.030294</td>\n",
       "    </tr>\n",
       "    <tr>\n",
       "      <th>min</th>\n",
       "      <td>100.000000</td>\n",
       "      <td>-77.113642</td>\n",
       "      <td>127300.000000</td>\n",
       "      <td>1.000000</td>\n",
       "      <td>1.000000</td>\n",
       "      <td>2016.000000</td>\n",
       "      <td>101.000000</td>\n",
       "      <td>1.000000</td>\n",
       "      <td>390147.000000</td>\n",
       "      <td>2.111617e+06</td>\n",
       "      <td>38.813471</td>\n",
       "    </tr>\n",
       "    <tr>\n",
       "      <th>25%</th>\n",
       "      <td>3600.000000</td>\n",
       "      <td>-77.031224</td>\n",
       "      <td>136110.000000</td>\n",
       "      <td>2.000000</td>\n",
       "      <td>2.000000</td>\n",
       "      <td>2016.000000</td>\n",
       "      <td>206.000000</td>\n",
       "      <td>6.000000</td>\n",
       "      <td>397293.000000</td>\n",
       "      <td>1.619087e+07</td>\n",
       "      <td>38.892836</td>\n",
       "    </tr>\n",
       "    <tr>\n",
       "      <th>50%</th>\n",
       "      <td>7000.000000</td>\n",
       "      <td>-77.012414</td>\n",
       "      <td>137594.000000</td>\n",
       "      <td>3.000000</td>\n",
       "      <td>5.000000</td>\n",
       "      <td>2017.000000</td>\n",
       "      <td>308.000000</td>\n",
       "      <td>6.000000</td>\n",
       "      <td>398923.000000</td>\n",
       "      <td>1.707798e+07</td>\n",
       "      <td>38.906202</td>\n",
       "    </tr>\n",
       "    <tr>\n",
       "      <th>75%</th>\n",
       "      <td>9000.000000</td>\n",
       "      <td>-76.985491</td>\n",
       "      <td>139610.000000</td>\n",
       "      <td>5.000000</td>\n",
       "      <td>6.000000</td>\n",
       "      <td>2017.000000</td>\n",
       "      <td>506.000000</td>\n",
       "      <td>7.000000</td>\n",
       "      <td>401258.000000</td>\n",
       "      <td>1.719733e+07</td>\n",
       "      <td>38.924339</td>\n",
       "    </tr>\n",
       "    <tr>\n",
       "      <th>max</th>\n",
       "      <td>11100.000000</td>\n",
       "      <td>-76.910021</td>\n",
       "      <td>147292.000000</td>\n",
       "      <td>7.000000</td>\n",
       "      <td>8.000000</td>\n",
       "      <td>2018.000000</td>\n",
       "      <td>708.000000</td>\n",
       "      <td>9.000000</td>\n",
       "      <td>407806.000000</td>\n",
       "      <td>8.501717e+07</td>\n",
       "      <td>38.993560</td>\n",
       "    </tr>\n",
       "  </tbody>\n",
       "</table>\n",
       "</div>"
      ],
      "text/plain": [
       "       CENSUS_TRACT     LONGITUDE         YBLOCK      DISTRICT          WARD  \\\n",
       "count  68246.000000  68405.000000   68405.000000  68383.000000  68405.000000   \n",
       "mean    6246.898881    -77.007665  137645.435352      3.672272      4.422454   \n",
       "std     3118.224225      0.036087    3362.971224      1.953244      2.338953   \n",
       "min      100.000000    -77.113642  127300.000000      1.000000      1.000000   \n",
       "25%     3600.000000    -77.031224  136110.000000      2.000000      2.000000   \n",
       "50%     7000.000000    -77.012414  137594.000000      3.000000      5.000000   \n",
       "75%     9000.000000    -76.985491  139610.000000      5.000000      6.000000   \n",
       "max    11100.000000    -76.910021  147292.000000      7.000000      8.000000   \n",
       "\n",
       "               YEAR           PSA      ucr-rank         XBLOCK           CCN  \\\n",
       "count  68405.000000  68377.000000  68405.000000   68405.000000  6.840500e+04   \n",
       "mean    2016.838784    371.779604      6.054835  399335.723267  1.696359e+07   \n",
       "std        0.700419    195.142451      1.296839    3129.886007  7.680898e+05   \n",
       "min     2016.000000    101.000000      1.000000  390147.000000  2.111617e+06   \n",
       "25%     2016.000000    206.000000      6.000000  397293.000000  1.619087e+07   \n",
       "50%     2017.000000    308.000000      6.000000  398923.000000  1.707798e+07   \n",
       "75%     2017.000000    506.000000      7.000000  401258.000000  1.719733e+07   \n",
       "max     2018.000000    708.000000      9.000000  407806.000000  8.501717e+07   \n",
       "\n",
       "           LATITUDE  \n",
       "count  68405.000000  \n",
       "mean      38.906661  \n",
       "std        0.030294  \n",
       "min       38.813471  \n",
       "25%       38.892836  \n",
       "50%       38.906202  \n",
       "75%       38.924339  \n",
       "max       38.993560  "
      ]
     },
     "execution_count": 7,
     "metadata": {},
     "output_type": "execute_result"
    }
   ],
   "source": [
    "# Use pandas to get the summary statistics on the data.\n",
    "\n",
    "df.describe()"
   ]
  },
  {
   "cell_type": "markdown",
   "metadata": {},
   "source": [
    "## Data Wrangling 1 -- Parse Start Date into Month, Day, Hour"
   ]
  },
  {
   "cell_type": "code",
   "execution_count": 8,
   "metadata": {},
   "outputs": [],
   "source": [
    "import datetime"
   ]
  },
  {
   "cell_type": "code",
   "execution_count": 9,
   "metadata": {},
   "outputs": [],
   "source": [
    "#Create a new column with the datetime month\n",
    "def label_month (row):\n",
    "    startdate = (row['START_DATE'] ).replace(\"Z\",\"\")\n",
    "    startdate2 = datetime.datetime.strptime(startdate, \"%Y-%m-%dT%H:%M:%S.%f\")\n",
    "    return startdate2.month\n"
   ]
  },
  {
   "cell_type": "code",
   "execution_count": 10,
   "metadata": {},
   "outputs": [],
   "source": [
    "df['start_month'] = df.apply (lambda row: label_month (row),axis=1)\n",
    "#This takes about 10 seconds so wait for asterisk to disappear before proceeding"
   ]
  },
  {
   "cell_type": "code",
   "execution_count": 11,
   "metadata": {},
   "outputs": [],
   "source": [
    "#Create a new column with the datetime day\n",
    "def label_day (row):\n",
    "    startdate = (row['START_DATE'] ).replace(\"Z\",\"\")\n",
    "    startdate2 = datetime.datetime.strptime(startdate, \"%Y-%m-%dT%H:%M:%S.%f\")\n",
    "    return startdate2.day\n"
   ]
  },
  {
   "cell_type": "code",
   "execution_count": 12,
   "metadata": {},
   "outputs": [],
   "source": [
    "df['start_day'] = df.apply (lambda row: label_day (row),axis=1)\n",
    "#This takes about 10 seconds so wait for asterisk to disappear before proceeding"
   ]
  },
  {
   "cell_type": "code",
   "execution_count": 13,
   "metadata": {},
   "outputs": [],
   "source": [
    "#Create a new column with the datetime hour\n",
    "def label_hour (row):\n",
    "    startdate = (row['START_DATE'] ).replace(\"Z\",\"\")\n",
    "    startdate2 = datetime.datetime.strptime(startdate, \"%Y-%m-%dT%H:%M:%S.%f\")\n",
    "    return startdate2.hour\n"
   ]
  },
  {
   "cell_type": "code",
   "execution_count": 14,
   "metadata": {},
   "outputs": [],
   "source": [
    "df['start_hour'] = df.apply (lambda row: label_hour (row),axis=1)\n",
    "# This takes about 10 seconds so wait for asterisk to disappear before proceeding"
   ]
  },
  {
   "cell_type": "markdown",
   "metadata": {},
   "source": [
    "## Data Wrangling 2 - Add a column with all positive Longitude values for ML purposes"
   ]
  },
  {
   "cell_type": "code",
   "execution_count": 15,
   "metadata": {},
   "outputs": [],
   "source": [
    "#Create a new column with a positive longitude\n",
    "def label_longitude2 (row):\n",
    "    longitude = row['LONGITUDE']\n",
    "    longitude2 = longitude * -1\n",
    "    return longitude2"
   ]
  },
  {
   "cell_type": "code",
   "execution_count": 16,
   "metadata": {},
   "outputs": [],
   "source": [
    "df['longitude2'] = df.apply (lambda row: label_longitude2 (row),axis=1)\n",
    "# This takes about 10 seconds so wait for asterisk to disappear before proceeding"
   ]
  },
  {
   "cell_type": "code",
   "execution_count": 17,
   "metadata": {},
   "outputs": [
    {
     "data": {
      "text/plain": [
       "Index(['NEIGHBORHOOD_CLUSTER', 'CENSUS_TRACT', 'offensegroup', 'LONGITUDE',\n",
       "       'END_DATE', 'offense-text', 'SHIFT', 'YBLOCK', 'DISTRICT', 'WARD',\n",
       "       'YEAR', 'offensekey', 'BID', 'sector', 'PSA', 'ucr-rank', 'BLOCK_GROUP',\n",
       "       'VOTING_PRECINCT', 'XBLOCK', 'BLOCK', 'START_DATE', 'CCN', 'OFFENSE',\n",
       "       'ANC', 'REPORT_DAT', 'METHOD', 'location', 'LATITUDE', 'start_month',\n",
       "       'start_day', 'start_hour', 'longitude2'],\n",
       "      dtype='object')"
      ]
     },
     "execution_count": 17,
     "metadata": {},
     "output_type": "execute_result"
    }
   ],
   "source": [
    "# See new columns for start month, day, hour, positive longitude\n",
    "df.columns"
   ]
  },
  {
   "cell_type": "code",
   "execution_count": 18,
   "metadata": {},
   "outputs": [
    {
     "data": {
      "text/html": [
       "<div>\n",
       "<style scoped>\n",
       "    .dataframe tbody tr th:only-of-type {\n",
       "        vertical-align: middle;\n",
       "    }\n",
       "\n",
       "    .dataframe tbody tr th {\n",
       "        vertical-align: top;\n",
       "    }\n",
       "\n",
       "    .dataframe thead th {\n",
       "        text-align: right;\n",
       "    }\n",
       "</style>\n",
       "<table border=\"1\" class=\"dataframe\">\n",
       "  <thead>\n",
       "    <tr style=\"text-align: right;\">\n",
       "      <th></th>\n",
       "      <th>NEIGHBORHOOD_CLUSTER</th>\n",
       "      <th>CENSUS_TRACT</th>\n",
       "      <th>offensegroup</th>\n",
       "      <th>LONGITUDE</th>\n",
       "      <th>END_DATE</th>\n",
       "      <th>offense-text</th>\n",
       "      <th>SHIFT</th>\n",
       "      <th>YBLOCK</th>\n",
       "      <th>DISTRICT</th>\n",
       "      <th>WARD</th>\n",
       "      <th>YEAR</th>\n",
       "      <th>offensekey</th>\n",
       "      <th>BID</th>\n",
       "      <th>sector</th>\n",
       "      <th>PSA</th>\n",
       "      <th>ucr-rank</th>\n",
       "      <th>BLOCK_GROUP</th>\n",
       "      <th>VOTING_PRECINCT</th>\n",
       "      <th>XBLOCK</th>\n",
       "      <th>BLOCK</th>\n",
       "      <th>START_DATE</th>\n",
       "      <th>CCN</th>\n",
       "      <th>OFFENSE</th>\n",
       "      <th>ANC</th>\n",
       "      <th>REPORT_DAT</th>\n",
       "      <th>METHOD</th>\n",
       "      <th>location</th>\n",
       "      <th>LATITUDE</th>\n",
       "      <th>start_month</th>\n",
       "      <th>start_day</th>\n",
       "      <th>start_hour</th>\n",
       "      <th>longitude2</th>\n",
       "    </tr>\n",
       "  </thead>\n",
       "  <tbody>\n",
       "    <tr>\n",
       "      <th>0</th>\n",
       "      <td>cluster 32</td>\n",
       "      <td>7708.0</td>\n",
       "      <td>property</td>\n",
       "      <td>-76.955521</td>\n",
       "      <td>2016-10-04T16:37:29.000</td>\n",
       "      <td>motor vehicle theft</td>\n",
       "      <td>evening</td>\n",
       "      <td>135396.0</td>\n",
       "      <td>6.0</td>\n",
       "      <td>7</td>\n",
       "      <td>2016</td>\n",
       "      <td>property|motor vehicle theft</td>\n",
       "      <td>NaN</td>\n",
       "      <td>6D3</td>\n",
       "      <td>603.0</td>\n",
       "      <td>8</td>\n",
       "      <td>007708 2</td>\n",
       "      <td>precinct 132</td>\n",
       "      <td>403859.0</td>\n",
       "      <td>3500 - 3526 block of minnesota avenue se</td>\n",
       "      <td>2016-10-04T16:09:08.000</td>\n",
       "      <td>16168699</td>\n",
       "      <td>motor vehicle theft</td>\n",
       "      <td>7B</td>\n",
       "      <td>2016-10-05T03:00:47.000Z</td>\n",
       "      <td>others</td>\n",
       "      <td>38.886402972929169,-76.955523453842957</td>\n",
       "      <td>38.886395</td>\n",
       "      <td>10</td>\n",
       "      <td>4</td>\n",
       "      <td>16</td>\n",
       "      <td>76.955521</td>\n",
       "    </tr>\n",
       "    <tr>\n",
       "      <th>1</th>\n",
       "      <td>cluster 4</td>\n",
       "      <td>100.0</td>\n",
       "      <td>property</td>\n",
       "      <td>-77.059614</td>\n",
       "      <td>2016-10-04T17:44:13.000</td>\n",
       "      <td>theft/other</td>\n",
       "      <td>evening</td>\n",
       "      <td>137194.0</td>\n",
       "      <td>2.0</td>\n",
       "      <td>2</td>\n",
       "      <td>2016</td>\n",
       "      <td>property|theft/other</td>\n",
       "      <td>georgetown</td>\n",
       "      <td>2D3</td>\n",
       "      <td>206.0</td>\n",
       "      <td>6</td>\n",
       "      <td>000100 4</td>\n",
       "      <td>precinct 5</td>\n",
       "      <td>394829.0</td>\n",
       "      <td>3000 - 3029 block of k street nw</td>\n",
       "      <td>2016-10-04T17:00:48.000</td>\n",
       "      <td>16168738</td>\n",
       "      <td>theft/other</td>\n",
       "      <td>2E</td>\n",
       "      <td>2016-10-05T01:36:11.000Z</td>\n",
       "      <td>others</td>\n",
       "      <td>38.902593275715809,-77.059616752356732</td>\n",
       "      <td>38.902585</td>\n",
       "      <td>10</td>\n",
       "      <td>4</td>\n",
       "      <td>17</td>\n",
       "      <td>77.059614</td>\n",
       "    </tr>\n",
       "    <tr>\n",
       "      <th>2</th>\n",
       "      <td>cluster 23</td>\n",
       "      <td>8904.0</td>\n",
       "      <td>property</td>\n",
       "      <td>-76.981924</td>\n",
       "      <td>2016-10-04T20:10:43.000</td>\n",
       "      <td>theft/other</td>\n",
       "      <td>evening</td>\n",
       "      <td>136987.0</td>\n",
       "      <td>5.0</td>\n",
       "      <td>5</td>\n",
       "      <td>2016</td>\n",
       "      <td>property|theft/other</td>\n",
       "      <td>NaN</td>\n",
       "      <td>5D3</td>\n",
       "      <td>507.0</td>\n",
       "      <td>6</td>\n",
       "      <td>008904 2</td>\n",
       "      <td>precinct 79</td>\n",
       "      <td>401568.0</td>\n",
       "      <td>1500 - 1599 block of maryland avenue ne</td>\n",
       "      <td>2016-10-04T19:21:09.000</td>\n",
       "      <td>16168845</td>\n",
       "      <td>theft/other</td>\n",
       "      <td>5D</td>\n",
       "      <td>2016-10-05T02:21:19.000Z</td>\n",
       "      <td>others</td>\n",
       "      <td>38.900742359981244,-76.981925885322667</td>\n",
       "      <td>38.900735</td>\n",
       "      <td>10</td>\n",
       "      <td>4</td>\n",
       "      <td>19</td>\n",
       "      <td>76.981924</td>\n",
       "    </tr>\n",
       "    <tr>\n",
       "      <th>3</th>\n",
       "      <td>cluster 29</td>\n",
       "      <td>9601.0</td>\n",
       "      <td>violent</td>\n",
       "      <td>-76.937531</td>\n",
       "      <td>2016-10-14T00:12:56.000</td>\n",
       "      <td>robbery</td>\n",
       "      <td>midnight</td>\n",
       "      <td>138092.0</td>\n",
       "      <td>6.0</td>\n",
       "      <td>7</td>\n",
       "      <td>2016</td>\n",
       "      <td>violent|robbery</td>\n",
       "      <td>NaN</td>\n",
       "      <td>6D1</td>\n",
       "      <td>601.0</td>\n",
       "      <td>4</td>\n",
       "      <td>009601 1</td>\n",
       "      <td>precinct 92</td>\n",
       "      <td>405418.0</td>\n",
       "      <td>1500 1535  block of 45th street ne</td>\n",
       "      <td>2016-10-13T22:45:39.000</td>\n",
       "      <td>16174401</td>\n",
       "      <td>robbery</td>\n",
       "      <td>7D</td>\n",
       "      <td>2016-10-14T05:31:03.000Z</td>\n",
       "      <td>gun</td>\n",
       "      <td>38.910681288493713,-76.937533164068512</td>\n",
       "      <td>38.910673</td>\n",
       "      <td>10</td>\n",
       "      <td>13</td>\n",
       "      <td>22</td>\n",
       "      <td>76.937531</td>\n",
       "    </tr>\n",
       "    <tr>\n",
       "      <th>4</th>\n",
       "      <td>cluster 25</td>\n",
       "      <td>10600.0</td>\n",
       "      <td>violent</td>\n",
       "      <td>-76.995538</td>\n",
       "      <td>2016-10-22T16:40:05.000</td>\n",
       "      <td>robbery</td>\n",
       "      <td>evening</td>\n",
       "      <td>137463.0</td>\n",
       "      <td>5.0</td>\n",
       "      <td>6</td>\n",
       "      <td>2016</td>\n",
       "      <td>violent|robbery</td>\n",
       "      <td>NaN</td>\n",
       "      <td>5D3</td>\n",
       "      <td>506.0</td>\n",
       "      <td>4</td>\n",
       "      <td>010600 1</td>\n",
       "      <td>precinct 83</td>\n",
       "      <td>400387.0</td>\n",
       "      <td>700 - 799 block of florida avenue ne</td>\n",
       "      <td>2016-10-22T16:24:12.000</td>\n",
       "      <td>16180021</td>\n",
       "      <td>robbery</td>\n",
       "      <td>6C</td>\n",
       "      <td>2016-10-22T22:55:30.000Z</td>\n",
       "      <td>gun</td>\n",
       "      <td>38.90503165003841,-76.995540557600265</td>\n",
       "      <td>38.905024</td>\n",
       "      <td>10</td>\n",
       "      <td>22</td>\n",
       "      <td>16</td>\n",
       "      <td>76.995538</td>\n",
       "    </tr>\n",
       "    <tr>\n",
       "      <th>5</th>\n",
       "      <td>cluster 2</td>\n",
       "      <td>3200.0</td>\n",
       "      <td>property</td>\n",
       "      <td>-77.021405</td>\n",
       "      <td>2016-10-22T22:56:31.000</td>\n",
       "      <td>theft f/auto</td>\n",
       "      <td>midnight</td>\n",
       "      <td>140137.0</td>\n",
       "      <td>3.0</td>\n",
       "      <td>1</td>\n",
       "      <td>2016</td>\n",
       "      <td>property|theft f/auto</td>\n",
       "      <td>NaN</td>\n",
       "      <td>3D1</td>\n",
       "      <td>302.0</td>\n",
       "      <td>7</td>\n",
       "      <td>003200 4</td>\n",
       "      <td>precinct 38</td>\n",
       "      <td>398144.0</td>\n",
       "      <td>500 - 699 block of irving street nw</td>\n",
       "      <td>2016-10-22T20:21:52.000</td>\n",
       "      <td>16180127</td>\n",
       "      <td>theft f/auto</td>\n",
       "      <td>1A</td>\n",
       "      <td>2016-10-24T04:29:28.000Z</td>\n",
       "      <td>others</td>\n",
       "      <td>38.929118054612083,-77.021407353091945</td>\n",
       "      <td>38.929110</td>\n",
       "      <td>10</td>\n",
       "      <td>22</td>\n",
       "      <td>20</td>\n",
       "      <td>77.021405</td>\n",
       "    </tr>\n",
       "    <tr>\n",
       "      <th>6</th>\n",
       "      <td>cluster 31</td>\n",
       "      <td>7807.0</td>\n",
       "      <td>property</td>\n",
       "      <td>-76.922953</td>\n",
       "      <td>NaN</td>\n",
       "      <td>theft/other</td>\n",
       "      <td>midnight</td>\n",
       "      <td>137294.0</td>\n",
       "      <td>6.0</td>\n",
       "      <td>7</td>\n",
       "      <td>2016</td>\n",
       "      <td>property|theft/other</td>\n",
       "      <td>NaN</td>\n",
       "      <td>6D1</td>\n",
       "      <td>608.0</td>\n",
       "      <td>6</td>\n",
       "      <td>007807 2</td>\n",
       "      <td>precinct 95</td>\n",
       "      <td>406683.0</td>\n",
       "      <td>934 - 1099 block of eastern avenue ne</td>\n",
       "      <td>2016-10-22T21:53:20.000</td>\n",
       "      <td>16180199</td>\n",
       "      <td>theft/other</td>\n",
       "      <td>7C</td>\n",
       "      <td>2016-10-23T04:11:28.000Z</td>\n",
       "      <td>others</td>\n",
       "      <td>38.903483920886075,-76.922955583391357</td>\n",
       "      <td>38.903476</td>\n",
       "      <td>10</td>\n",
       "      <td>22</td>\n",
       "      <td>21</td>\n",
       "      <td>76.922953</td>\n",
       "    </tr>\n",
       "    <tr>\n",
       "      <th>7</th>\n",
       "      <td>cluster 6</td>\n",
       "      <td>10700.0</td>\n",
       "      <td>property</td>\n",
       "      <td>-77.040088</td>\n",
       "      <td>2016-10-23T04:28:53.000</td>\n",
       "      <td>theft f/auto</td>\n",
       "      <td>midnight</td>\n",
       "      <td>137847.0</td>\n",
       "      <td>2.0</td>\n",
       "      <td>2</td>\n",
       "      <td>2016</td>\n",
       "      <td>property|theft f/auto</td>\n",
       "      <td>NaN</td>\n",
       "      <td>2D3</td>\n",
       "      <td>208.0</td>\n",
       "      <td>7</td>\n",
       "      <td>010700 2</td>\n",
       "      <td>precinct 15</td>\n",
       "      <td>396523.0</td>\n",
       "      <td>1700 - 1799 block of massachusetts avenue nw</td>\n",
       "      <td>2016-10-23T01:30:55.000</td>\n",
       "      <td>16180348</td>\n",
       "      <td>theft f/auto</td>\n",
       "      <td>2B</td>\n",
       "      <td>2016-10-23T09:24:07.000Z</td>\n",
       "      <td>others</td>\n",
       "      <td>38.908484062358717,-77.040090587782586</td>\n",
       "      <td>38.908476</td>\n",
       "      <td>10</td>\n",
       "      <td>23</td>\n",
       "      <td>1</td>\n",
       "      <td>77.040088</td>\n",
       "    </tr>\n",
       "    <tr>\n",
       "      <th>8</th>\n",
       "      <td>cluster 17</td>\n",
       "      <td>1804.0</td>\n",
       "      <td>property</td>\n",
       "      <td>-77.031560</td>\n",
       "      <td>2016-10-23T06:00:06.000</td>\n",
       "      <td>theft f/auto</td>\n",
       "      <td>day</td>\n",
       "      <td>144484.0</td>\n",
       "      <td>4.0</td>\n",
       "      <td>4</td>\n",
       "      <td>2016</td>\n",
       "      <td>property|theft f/auto</td>\n",
       "      <td>NaN</td>\n",
       "      <td>4D1</td>\n",
       "      <td>402.0</td>\n",
       "      <td>7</td>\n",
       "      <td>001804 1</td>\n",
       "      <td>precinct 61</td>\n",
       "      <td>397265.0</td>\n",
       "      <td>1300  - 1399 block of tewkesbury place nw</td>\n",
       "      <td>2016-10-22T09:00:04.000</td>\n",
       "      <td>16180372</td>\n",
       "      <td>theft f/auto</td>\n",
       "      <td>4A</td>\n",
       "      <td>2016-10-23T11:46:17.000Z</td>\n",
       "      <td>others</td>\n",
       "      <td>38.968274741325793,-77.031562108374985</td>\n",
       "      <td>38.968267</td>\n",
       "      <td>10</td>\n",
       "      <td>22</td>\n",
       "      <td>9</td>\n",
       "      <td>77.031560</td>\n",
       "    </tr>\n",
       "    <tr>\n",
       "      <th>9</th>\n",
       "      <td>cluster 26</td>\n",
       "      <td>7000.0</td>\n",
       "      <td>property</td>\n",
       "      <td>-76.996185</td>\n",
       "      <td>2016-11-01T10:00:39.000</td>\n",
       "      <td>theft f/auto</td>\n",
       "      <td>day</td>\n",
       "      <td>134740.0</td>\n",
       "      <td>1.0</td>\n",
       "      <td>6</td>\n",
       "      <td>2016</td>\n",
       "      <td>property|theft f/auto</td>\n",
       "      <td>NaN</td>\n",
       "      <td>1D3</td>\n",
       "      <td>106.0</td>\n",
       "      <td>7</td>\n",
       "      <td>007000 1</td>\n",
       "      <td>precinct 90</td>\n",
       "      <td>400331.0</td>\n",
       "      <td>700 - 753 block of 7th street se</td>\n",
       "      <td>2016-11-01T08:30:07.000</td>\n",
       "      <td>16186247</td>\n",
       "      <td>theft f/auto</td>\n",
       "      <td>6B</td>\n",
       "      <td>2016-11-01T15:26:46.000Z</td>\n",
       "      <td>others</td>\n",
       "      <td>38.880501876434913,-76.996187492452577</td>\n",
       "      <td>38.880494</td>\n",
       "      <td>11</td>\n",
       "      <td>1</td>\n",
       "      <td>8</td>\n",
       "      <td>76.996185</td>\n",
       "    </tr>\n",
       "  </tbody>\n",
       "</table>\n",
       "</div>"
      ],
      "text/plain": [
       "  NEIGHBORHOOD_CLUSTER  CENSUS_TRACT offensegroup  LONGITUDE  \\\n",
       "0           cluster 32        7708.0     property -76.955521   \n",
       "1            cluster 4         100.0     property -77.059614   \n",
       "2           cluster 23        8904.0     property -76.981924   \n",
       "3           cluster 29        9601.0      violent -76.937531   \n",
       "4           cluster 25       10600.0      violent -76.995538   \n",
       "5            cluster 2        3200.0     property -77.021405   \n",
       "6           cluster 31        7807.0     property -76.922953   \n",
       "7            cluster 6       10700.0     property -77.040088   \n",
       "8           cluster 17        1804.0     property -77.031560   \n",
       "9           cluster 26        7000.0     property -76.996185   \n",
       "\n",
       "                  END_DATE         offense-text     SHIFT    YBLOCK  DISTRICT  \\\n",
       "0  2016-10-04T16:37:29.000  motor vehicle theft   evening  135396.0       6.0   \n",
       "1  2016-10-04T17:44:13.000          theft/other   evening  137194.0       2.0   \n",
       "2  2016-10-04T20:10:43.000          theft/other   evening  136987.0       5.0   \n",
       "3  2016-10-14T00:12:56.000              robbery  midnight  138092.0       6.0   \n",
       "4  2016-10-22T16:40:05.000              robbery   evening  137463.0       5.0   \n",
       "5  2016-10-22T22:56:31.000         theft f/auto  midnight  140137.0       3.0   \n",
       "6                      NaN          theft/other  midnight  137294.0       6.0   \n",
       "7  2016-10-23T04:28:53.000         theft f/auto  midnight  137847.0       2.0   \n",
       "8  2016-10-23T06:00:06.000         theft f/auto       day  144484.0       4.0   \n",
       "9  2016-11-01T10:00:39.000         theft f/auto       day  134740.0       1.0   \n",
       "\n",
       "   WARD  YEAR                    offensekey         BID sector    PSA  \\\n",
       "0     7  2016  property|motor vehicle theft         NaN    6D3  603.0   \n",
       "1     2  2016          property|theft/other  georgetown    2D3  206.0   \n",
       "2     5  2016          property|theft/other         NaN    5D3  507.0   \n",
       "3     7  2016               violent|robbery         NaN    6D1  601.0   \n",
       "4     6  2016               violent|robbery         NaN    5D3  506.0   \n",
       "5     1  2016         property|theft f/auto         NaN    3D1  302.0   \n",
       "6     7  2016          property|theft/other         NaN    6D1  608.0   \n",
       "7     2  2016         property|theft f/auto         NaN    2D3  208.0   \n",
       "8     4  2016         property|theft f/auto         NaN    4D1  402.0   \n",
       "9     6  2016         property|theft f/auto         NaN    1D3  106.0   \n",
       "\n",
       "   ucr-rank BLOCK_GROUP VOTING_PRECINCT    XBLOCK  \\\n",
       "0         8    007708 2    precinct 132  403859.0   \n",
       "1         6    000100 4      precinct 5  394829.0   \n",
       "2         6    008904 2     precinct 79  401568.0   \n",
       "3         4    009601 1     precinct 92  405418.0   \n",
       "4         4    010600 1     precinct 83  400387.0   \n",
       "5         7    003200 4     precinct 38  398144.0   \n",
       "6         6    007807 2     precinct 95  406683.0   \n",
       "7         7    010700 2     precinct 15  396523.0   \n",
       "8         7    001804 1     precinct 61  397265.0   \n",
       "9         7    007000 1     precinct 90  400331.0   \n",
       "\n",
       "                                          BLOCK               START_DATE  \\\n",
       "0      3500 - 3526 block of minnesota avenue se  2016-10-04T16:09:08.000   \n",
       "1              3000 - 3029 block of k street nw  2016-10-04T17:00:48.000   \n",
       "2       1500 - 1599 block of maryland avenue ne  2016-10-04T19:21:09.000   \n",
       "3            1500 1535  block of 45th street ne  2016-10-13T22:45:39.000   \n",
       "4          700 - 799 block of florida avenue ne  2016-10-22T16:24:12.000   \n",
       "5           500 - 699 block of irving street nw  2016-10-22T20:21:52.000   \n",
       "6         934 - 1099 block of eastern avenue ne  2016-10-22T21:53:20.000   \n",
       "7  1700 - 1799 block of massachusetts avenue nw  2016-10-23T01:30:55.000   \n",
       "8     1300  - 1399 block of tewkesbury place nw  2016-10-22T09:00:04.000   \n",
       "9              700 - 753 block of 7th street se  2016-11-01T08:30:07.000   \n",
       "\n",
       "        CCN              OFFENSE ANC                REPORT_DAT  METHOD  \\\n",
       "0  16168699  motor vehicle theft  7B  2016-10-05T03:00:47.000Z  others   \n",
       "1  16168738          theft/other  2E  2016-10-05T01:36:11.000Z  others   \n",
       "2  16168845          theft/other  5D  2016-10-05T02:21:19.000Z  others   \n",
       "3  16174401              robbery  7D  2016-10-14T05:31:03.000Z     gun   \n",
       "4  16180021              robbery  6C  2016-10-22T22:55:30.000Z     gun   \n",
       "5  16180127         theft f/auto  1A  2016-10-24T04:29:28.000Z  others   \n",
       "6  16180199          theft/other  7C  2016-10-23T04:11:28.000Z  others   \n",
       "7  16180348         theft f/auto  2B  2016-10-23T09:24:07.000Z  others   \n",
       "8  16180372         theft f/auto  4A  2016-10-23T11:46:17.000Z  others   \n",
       "9  16186247         theft f/auto  6B  2016-11-01T15:26:46.000Z  others   \n",
       "\n",
       "                                 location   LATITUDE  start_month  start_day  \\\n",
       "0  38.886402972929169,-76.955523453842957  38.886395           10          4   \n",
       "1  38.902593275715809,-77.059616752356732  38.902585           10          4   \n",
       "2  38.900742359981244,-76.981925885322667  38.900735           10          4   \n",
       "3  38.910681288493713,-76.937533164068512  38.910673           10         13   \n",
       "4   38.90503165003841,-76.995540557600265  38.905024           10         22   \n",
       "5  38.929118054612083,-77.021407353091945  38.929110           10         22   \n",
       "6  38.903483920886075,-76.922955583391357  38.903476           10         22   \n",
       "7  38.908484062358717,-77.040090587782586  38.908476           10         23   \n",
       "8  38.968274741325793,-77.031562108374985  38.968267           10         22   \n",
       "9  38.880501876434913,-76.996187492452577  38.880494           11          1   \n",
       "\n",
       "   start_hour  longitude2  \n",
       "0          16   76.955521  \n",
       "1          17   77.059614  \n",
       "2          19   76.981924  \n",
       "3          22   76.937531  \n",
       "4          16   76.995538  \n",
       "5          20   77.021405  \n",
       "6          21   76.922953  \n",
       "7           1   77.040088  \n",
       "8           9   77.031560  \n",
       "9           8   76.996185  "
      ]
     },
     "execution_count": 18,
     "metadata": {},
     "output_type": "execute_result"
    }
   ],
   "source": [
    "df.head(10)"
   ]
  },
  {
   "cell_type": "markdown",
   "metadata": {},
   "source": [
    "## Data Exploration 2 - UCR Rank"
   ]
  },
  {
   "attachments": {
    "image.png": {
     "image/png": "[encoded data removed]"
    }
   },
   "cell_type": "markdown",
   "metadata": {},
   "source": [
    "Look at ucrrank (Uniform Crime Report Rank). DC uses this index (1-9) to rank crime severity. This is how the ucrrank relates to crime detail: \n",
    "\n",
    "![image.png](attachment:image.png)\n",
    "\n",
    "Notice that a ucrrank of 1 is assigned to the most serious type of crime and 9 to the least serious.  "
   ]
  },
  {
   "cell_type": "code",
   "execution_count": 19,
   "metadata": {},
   "outputs": [
    {
     "data": {
      "text/plain": [
       "6.0"
      ]
     },
     "execution_count": 19,
     "metadata": {},
     "output_type": "execute_result"
    }
   ],
   "source": [
    "# Use pandas to get the median of the ucrrank column. DataFrame.median(axis=None, skipna=None, level=None, numeric_only=None, **kwargs)[source]\n",
    "df['ucr-rank'].median()"
   ]
  },
  {
   "cell_type": "code",
   "execution_count": 20,
   "metadata": {},
   "outputs": [
    {
     "data": {
      "text/plain": [
       "9"
      ]
     },
     "execution_count": 20,
     "metadata": {},
     "output_type": "execute_result"
    }
   ],
   "source": [
    "# Use pandas to find the number of unique values in the ucrrank column. Series.nunique(dropna=True)[source]¶\n",
    "df['ucr-rank'].nunique()"
   ]
  },
  {
   "cell_type": "code",
   "execution_count": 21,
   "metadata": {},
   "outputs": [
    {
     "data": {
      "text/plain": [
       "NEIGHBORHOOD_CLUSTER     object\n",
       "CENSUS_TRACT            float64\n",
       "offensegroup             object\n",
       "LONGITUDE               float64\n",
       "END_DATE                 object\n",
       "offense-text             object\n",
       "SHIFT                    object\n",
       "YBLOCK                  float64\n",
       "DISTRICT                float64\n",
       "WARD                      int64\n",
       "YEAR                      int64\n",
       "offensekey               object\n",
       "BID                      object\n",
       "sector                   object\n",
       "PSA                     float64\n",
       "ucr-rank                  int64\n",
       "BLOCK_GROUP              object\n",
       "VOTING_PRECINCT          object\n",
       "XBLOCK                  float64\n",
       "BLOCK                    object\n",
       "START_DATE               object\n",
       "CCN                       int64\n",
       "OFFENSE                  object\n",
       "ANC                      object\n",
       "REPORT_DAT               object\n",
       "METHOD                   object\n",
       "location                 object\n",
       "LATITUDE                float64\n",
       "start_month               int64\n",
       "start_day                 int64\n",
       "start_hour                int64\n",
       "longitude2              float64\n",
       "dtype: object"
      ]
     },
     "execution_count": 21,
     "metadata": {},
     "output_type": "execute_result"
    }
   ],
   "source": [
    "df.dtypes"
   ]
  },
  {
   "cell_type": "code",
   "execution_count": 22,
   "metadata": {},
   "outputs": [
    {
     "data": {
      "text/plain": [
       "6    28846\n",
       "7    21756\n",
       "8     5023\n",
       "4     4661\n",
       "3     3865\n",
       "5     3357\n",
       "2      628\n",
       "1      259\n",
       "9       10\n",
       "Name: ucr-rank, dtype: int64"
      ]
     },
     "execution_count": 22,
     "metadata": {},
     "output_type": "execute_result"
    }
   ],
   "source": [
    "# Use pandas to count the number of each unique ucrrank value.\n",
    "df['ucr-rank'].value_counts()"
   ]
  },
  {
   "cell_type": "markdown",
   "metadata": {},
   "source": [
    "## Visualize the Data\n",
    "Now let's look at two histograms of the ```Fare``` data. In the first, we'll set ```bins=10``` and in the second ```bin=50```. Which one do you find the most helpful? What are you able to tell about the range of fares paid by the passengers from the histograms?"
   ]
  },
  {
   "cell_type": "code",
   "execution_count": 23,
   "metadata": {},
   "outputs": [
    {
     "data": {
      "image/png": "[encoded data removed]",
      "text/plain": [
       "<Figure size 504x720 with 1 Axes>"
      ]
     },
     "metadata": {},
     "output_type": "display_data"
    },
    {
     "data": {
      "image/png": "[encoded data removed]",
      "text/plain": [
       "<Figure size 504x720 with 1 Axes>"
      ]
     },
     "metadata": {},
     "output_type": "display_data"
    }
   ],
   "source": [
    "fig = plt.figure(figsize=(7,10))\n",
    "ax = fig.add_subplot(211)\n",
    "ax.hist(df['ucr-rank'], bins=10, range=(df['ucr-rank'].min(),df['ucr-rank'].max()))\n",
    "plt.title('UCR Rank Distribution with 10 Bins')\n",
    "plt.xlabel('UCR Rank')\n",
    "plt.ylabel('Count of Crimes')\n",
    "plt.show()\n",
    "\n",
    "fig = plt.figure(figsize=(7,10))\n",
    "ax = fig.add_subplot(212)\n",
    "ax.hist(df['ucr-rank'], bins=50, range=(df['ucr-rank'].min(),df['ucr-rank'].max()))\n",
    "plt.title('UCR Rank Distribution with 50 Bins')\n",
    "plt.xlabel('UCR Rank')\n",
    "plt.ylabel('Count of Crimes')\n",
    "plt.show()"
   ]
  },
  {
   "cell_type": "markdown",
   "metadata": {},
   "source": [
    "## Delete Features\n",
    "\n",
    "Reduce dataframe to only numerics as required for machine learning. I will convert some categorical features like offense and offense group in future versions.   "
   ]
  },
  {
   "cell_type": "code",
   "execution_count": 24,
   "metadata": {},
   "outputs": [],
   "source": [
    "\n",
    "df2 = df.drop(['LONGITUDE','NEIGHBORHOOD_CLUSTER','CENSUS_TRACT','offensegroup','END_DATE','offense-text','SHIFT','YBLOCK','DISTRICT','WARD','offensekey','BID','sector','PSA','BLOCK_GROUP','VOTING_PRECINCT','XBLOCK','BLOCK','CCN','OFFENSE','ANC','REPORT_DAT','METHOD','location'], axis=1)"
   ]
  },
  {
   "cell_type": "code",
   "execution_count": 25,
   "metadata": {},
   "outputs": [
    {
     "data": {
      "text/html": [
       "<div>\n",
       "<style scoped>\n",
       "    .dataframe tbody tr th:only-of-type {\n",
       "        vertical-align: middle;\n",
       "    }\n",
       "\n",
       "    .dataframe tbody tr th {\n",
       "        vertical-align: top;\n",
       "    }\n",
       "\n",
       "    .dataframe thead th {\n",
       "        text-align: right;\n",
       "    }\n",
       "</style>\n",
       "<table border=\"1\" class=\"dataframe\">\n",
       "  <thead>\n",
       "    <tr style=\"text-align: right;\">\n",
       "      <th></th>\n",
       "      <th>YEAR</th>\n",
       "      <th>ucr-rank</th>\n",
       "      <th>START_DATE</th>\n",
       "      <th>LATITUDE</th>\n",
       "      <th>start_month</th>\n",
       "      <th>start_day</th>\n",
       "      <th>start_hour</th>\n",
       "      <th>longitude2</th>\n",
       "    </tr>\n",
       "  </thead>\n",
       "  <tbody>\n",
       "    <tr>\n",
       "      <th>0</th>\n",
       "      <td>2016</td>\n",
       "      <td>8</td>\n",
       "      <td>2016-10-04T16:09:08.000</td>\n",
       "      <td>38.886395</td>\n",
       "      <td>10</td>\n",
       "      <td>4</td>\n",
       "      <td>16</td>\n",
       "      <td>76.955521</td>\n",
       "    </tr>\n",
       "    <tr>\n",
       "      <th>1</th>\n",
       "      <td>2016</td>\n",
       "      <td>6</td>\n",
       "      <td>2016-10-04T17:00:48.000</td>\n",
       "      <td>38.902585</td>\n",
       "      <td>10</td>\n",
       "      <td>4</td>\n",
       "      <td>17</td>\n",
       "      <td>77.059614</td>\n",
       "    </tr>\n",
       "    <tr>\n",
       "      <th>2</th>\n",
       "      <td>2016</td>\n",
       "      <td>6</td>\n",
       "      <td>2016-10-04T19:21:09.000</td>\n",
       "      <td>38.900735</td>\n",
       "      <td>10</td>\n",
       "      <td>4</td>\n",
       "      <td>19</td>\n",
       "      <td>76.981924</td>\n",
       "    </tr>\n",
       "    <tr>\n",
       "      <th>3</th>\n",
       "      <td>2016</td>\n",
       "      <td>4</td>\n",
       "      <td>2016-10-13T22:45:39.000</td>\n",
       "      <td>38.910673</td>\n",
       "      <td>10</td>\n",
       "      <td>13</td>\n",
       "      <td>22</td>\n",
       "      <td>76.937531</td>\n",
       "    </tr>\n",
       "    <tr>\n",
       "      <th>4</th>\n",
       "      <td>2016</td>\n",
       "      <td>4</td>\n",
       "      <td>2016-10-22T16:24:12.000</td>\n",
       "      <td>38.905024</td>\n",
       "      <td>10</td>\n",
       "      <td>22</td>\n",
       "      <td>16</td>\n",
       "      <td>76.995538</td>\n",
       "    </tr>\n",
       "    <tr>\n",
       "      <th>5</th>\n",
       "      <td>2016</td>\n",
       "      <td>7</td>\n",
       "      <td>2016-10-22T20:21:52.000</td>\n",
       "      <td>38.929110</td>\n",
       "      <td>10</td>\n",
       "      <td>22</td>\n",
       "      <td>20</td>\n",
       "      <td>77.021405</td>\n",
       "    </tr>\n",
       "    <tr>\n",
       "      <th>6</th>\n",
       "      <td>2016</td>\n",
       "      <td>6</td>\n",
       "      <td>2016-10-22T21:53:20.000</td>\n",
       "      <td>38.903476</td>\n",
       "      <td>10</td>\n",
       "      <td>22</td>\n",
       "      <td>21</td>\n",
       "      <td>76.922953</td>\n",
       "    </tr>\n",
       "    <tr>\n",
       "      <th>7</th>\n",
       "      <td>2016</td>\n",
       "      <td>7</td>\n",
       "      <td>2016-10-23T01:30:55.000</td>\n",
       "      <td>38.908476</td>\n",
       "      <td>10</td>\n",
       "      <td>23</td>\n",
       "      <td>1</td>\n",
       "      <td>77.040088</td>\n",
       "    </tr>\n",
       "    <tr>\n",
       "      <th>8</th>\n",
       "      <td>2016</td>\n",
       "      <td>7</td>\n",
       "      <td>2016-10-22T09:00:04.000</td>\n",
       "      <td>38.968267</td>\n",
       "      <td>10</td>\n",
       "      <td>22</td>\n",
       "      <td>9</td>\n",
       "      <td>77.031560</td>\n",
       "    </tr>\n",
       "    <tr>\n",
       "      <th>9</th>\n",
       "      <td>2016</td>\n",
       "      <td>7</td>\n",
       "      <td>2016-11-01T08:30:07.000</td>\n",
       "      <td>38.880494</td>\n",
       "      <td>11</td>\n",
       "      <td>1</td>\n",
       "      <td>8</td>\n",
       "      <td>76.996185</td>\n",
       "    </tr>\n",
       "  </tbody>\n",
       "</table>\n",
       "</div>"
      ],
      "text/plain": [
       "   YEAR  ucr-rank               START_DATE   LATITUDE  start_month  start_day  \\\n",
       "0  2016         8  2016-10-04T16:09:08.000  38.886395           10          4   \n",
       "1  2016         6  2016-10-04T17:00:48.000  38.902585           10          4   \n",
       "2  2016         6  2016-10-04T19:21:09.000  38.900735           10          4   \n",
       "3  2016         4  2016-10-13T22:45:39.000  38.910673           10         13   \n",
       "4  2016         4  2016-10-22T16:24:12.000  38.905024           10         22   \n",
       "5  2016         7  2016-10-22T20:21:52.000  38.929110           10         22   \n",
       "6  2016         6  2016-10-22T21:53:20.000  38.903476           10         22   \n",
       "7  2016         7  2016-10-23T01:30:55.000  38.908476           10         23   \n",
       "8  2016         7  2016-10-22T09:00:04.000  38.968267           10         22   \n",
       "9  2016         7  2016-11-01T08:30:07.000  38.880494           11          1   \n",
       "\n",
       "   start_hour  longitude2  \n",
       "0          16   76.955521  \n",
       "1          17   77.059614  \n",
       "2          19   76.981924  \n",
       "3          22   76.937531  \n",
       "4          16   76.995538  \n",
       "5          20   77.021405  \n",
       "6          21   76.922953  \n",
       "7           1   77.040088  \n",
       "8           9   77.031560  \n",
       "9           8   76.996185  "
      ]
     },
     "execution_count": 25,
     "metadata": {},
     "output_type": "execute_result"
    }
   ],
   "source": [
    "df2.head(10)"
   ]
  },
  {
   "cell_type": "code",
   "execution_count": 26,
   "metadata": {},
   "outputs": [],
   "source": [
    "df2.rename(columns={'START_DATE':'datetime'}, inplace=True)"
   ]
  },
  {
   "cell_type": "code",
   "execution_count": 27,
   "metadata": {},
   "outputs": [
    {
     "data": {
      "text/html": [
       "<div>\n",
       "<style scoped>\n",
       "    .dataframe tbody tr th:only-of-type {\n",
       "        vertical-align: middle;\n",
       "    }\n",
       "\n",
       "    .dataframe tbody tr th {\n",
       "        vertical-align: top;\n",
       "    }\n",
       "\n",
       "    .dataframe thead th {\n",
       "        text-align: right;\n",
       "    }\n",
       "</style>\n",
       "<table border=\"1\" class=\"dataframe\">\n",
       "  <thead>\n",
       "    <tr style=\"text-align: right;\">\n",
       "      <th></th>\n",
       "      <th>YEAR</th>\n",
       "      <th>ucr-rank</th>\n",
       "      <th>datetime</th>\n",
       "      <th>LATITUDE</th>\n",
       "      <th>start_month</th>\n",
       "      <th>start_day</th>\n",
       "      <th>start_hour</th>\n",
       "      <th>longitude2</th>\n",
       "    </tr>\n",
       "  </thead>\n",
       "  <tbody>\n",
       "    <tr>\n",
       "      <th>0</th>\n",
       "      <td>2016</td>\n",
       "      <td>8</td>\n",
       "      <td>2016-10-04T16:09:08.000</td>\n",
       "      <td>38.886395</td>\n",
       "      <td>10</td>\n",
       "      <td>4</td>\n",
       "      <td>16</td>\n",
       "      <td>76.955521</td>\n",
       "    </tr>\n",
       "    <tr>\n",
       "      <th>1</th>\n",
       "      <td>2016</td>\n",
       "      <td>6</td>\n",
       "      <td>2016-10-04T17:00:48.000</td>\n",
       "      <td>38.902585</td>\n",
       "      <td>10</td>\n",
       "      <td>4</td>\n",
       "      <td>17</td>\n",
       "      <td>77.059614</td>\n",
       "    </tr>\n",
       "    <tr>\n",
       "      <th>2</th>\n",
       "      <td>2016</td>\n",
       "      <td>6</td>\n",
       "      <td>2016-10-04T19:21:09.000</td>\n",
       "      <td>38.900735</td>\n",
       "      <td>10</td>\n",
       "      <td>4</td>\n",
       "      <td>19</td>\n",
       "      <td>76.981924</td>\n",
       "    </tr>\n",
       "    <tr>\n",
       "      <th>3</th>\n",
       "      <td>2016</td>\n",
       "      <td>4</td>\n",
       "      <td>2016-10-13T22:45:39.000</td>\n",
       "      <td>38.910673</td>\n",
       "      <td>10</td>\n",
       "      <td>13</td>\n",
       "      <td>22</td>\n",
       "      <td>76.937531</td>\n",
       "    </tr>\n",
       "    <tr>\n",
       "      <th>4</th>\n",
       "      <td>2016</td>\n",
       "      <td>4</td>\n",
       "      <td>2016-10-22T16:24:12.000</td>\n",
       "      <td>38.905024</td>\n",
       "      <td>10</td>\n",
       "      <td>22</td>\n",
       "      <td>16</td>\n",
       "      <td>76.995538</td>\n",
       "    </tr>\n",
       "    <tr>\n",
       "      <th>5</th>\n",
       "      <td>2016</td>\n",
       "      <td>7</td>\n",
       "      <td>2016-10-22T20:21:52.000</td>\n",
       "      <td>38.929110</td>\n",
       "      <td>10</td>\n",
       "      <td>22</td>\n",
       "      <td>20</td>\n",
       "      <td>77.021405</td>\n",
       "    </tr>\n",
       "    <tr>\n",
       "      <th>6</th>\n",
       "      <td>2016</td>\n",
       "      <td>6</td>\n",
       "      <td>2016-10-22T21:53:20.000</td>\n",
       "      <td>38.903476</td>\n",
       "      <td>10</td>\n",
       "      <td>22</td>\n",
       "      <td>21</td>\n",
       "      <td>76.922953</td>\n",
       "    </tr>\n",
       "    <tr>\n",
       "      <th>7</th>\n",
       "      <td>2016</td>\n",
       "      <td>7</td>\n",
       "      <td>2016-10-23T01:30:55.000</td>\n",
       "      <td>38.908476</td>\n",
       "      <td>10</td>\n",
       "      <td>23</td>\n",
       "      <td>1</td>\n",
       "      <td>77.040088</td>\n",
       "    </tr>\n",
       "    <tr>\n",
       "      <th>8</th>\n",
       "      <td>2016</td>\n",
       "      <td>7</td>\n",
       "      <td>2016-10-22T09:00:04.000</td>\n",
       "      <td>38.968267</td>\n",
       "      <td>10</td>\n",
       "      <td>22</td>\n",
       "      <td>9</td>\n",
       "      <td>77.031560</td>\n",
       "    </tr>\n",
       "    <tr>\n",
       "      <th>9</th>\n",
       "      <td>2016</td>\n",
       "      <td>7</td>\n",
       "      <td>2016-11-01T08:30:07.000</td>\n",
       "      <td>38.880494</td>\n",
       "      <td>11</td>\n",
       "      <td>1</td>\n",
       "      <td>8</td>\n",
       "      <td>76.996185</td>\n",
       "    </tr>\n",
       "  </tbody>\n",
       "</table>\n",
       "</div>"
      ],
      "text/plain": [
       "   YEAR  ucr-rank                 datetime   LATITUDE  start_month  start_day  \\\n",
       "0  2016         8  2016-10-04T16:09:08.000  38.886395           10          4   \n",
       "1  2016         6  2016-10-04T17:00:48.000  38.902585           10          4   \n",
       "2  2016         6  2016-10-04T19:21:09.000  38.900735           10          4   \n",
       "3  2016         4  2016-10-13T22:45:39.000  38.910673           10         13   \n",
       "4  2016         4  2016-10-22T16:24:12.000  38.905024           10         22   \n",
       "5  2016         7  2016-10-22T20:21:52.000  38.929110           10         22   \n",
       "6  2016         6  2016-10-22T21:53:20.000  38.903476           10         22   \n",
       "7  2016         7  2016-10-23T01:30:55.000  38.908476           10         23   \n",
       "8  2016         7  2016-10-22T09:00:04.000  38.968267           10         22   \n",
       "9  2016         7  2016-11-01T08:30:07.000  38.880494           11          1   \n",
       "\n",
       "   start_hour  longitude2  \n",
       "0          16   76.955521  \n",
       "1          17   77.059614  \n",
       "2          19   76.981924  \n",
       "3          22   76.937531  \n",
       "4          16   76.995538  \n",
       "5          20   77.021405  \n",
       "6          21   76.922953  \n",
       "7           1   77.040088  \n",
       "8           9   77.031560  \n",
       "9           8   76.996185  "
      ]
     },
     "execution_count": 27,
     "metadata": {},
     "output_type": "execute_result"
    }
   ],
   "source": [
    "df2.head(10)"
   ]
  },
  {
   "cell_type": "markdown",
   "metadata": {},
   "source": [
    "## Save to csv file"
   ]
  },
  {
   "cell_type": "code",
   "execution_count": 28,
   "metadata": {},
   "outputs": [],
   "source": [
    "#save to csv\n",
    "df2.to_csv(\"c:\\\\Users\\\\Judith\\\\projects\\\\safetyrecommender\\\\data\\\\safetyrecommender.csv\", index = False)"
   ]
  },
  {
   "cell_type": "markdown",
   "metadata": {},
   "source": [
    "# Machine Learning Exploration"
   ]
  },
  {
   "cell_type": "markdown",
   "metadata": {},
   "source": [
    "## Load the data two ways: further exploration and machine learning"
   ]
  },
  {
   "cell_type": "code",
   "execution_count": 29,
   "metadata": {},
   "outputs": [],
   "source": [
    "DATA = os.path.join(\"data\", \"safetyrecommender.csv\")\n",
    "#DTFMT = '%Y-%m-%d %H:%M:%S.%f\"'\n",
    "#2016-10-04T16:09:08.000\n",
    "#2/4/2015 17:51\n",
    "DTFMT = '%Y-%m-%dT%H:%M:%S.000'\n",
    "\n",
    "def load_raw(path=DATA):\n",
    "    with open(path, 'r') as f:\n",
    "        reader = csv.DictReader(f)\n",
    "        for row in reader:\n",
    "            # Pop target off of features dictionary \n",
    "            target = row.pop('ucr-rank')\n",
    "            \n",
    "            # Convert fields to floats\n",
    "            for field in ('YEAR', 'LATITUDE', 'start_month', 'start_day', 'start_hour', 'longitude2'):\n",
    "                row[field] = float(row[field])\n",
    "            \n",
    "            # Parse datetime\n",
    "            row['datetime'] = datetime.strptime(row['datetime'], DTFMT)\n",
    "            \n",
    "            yield row, target\n",
    "            \n",
    "            \n",
    "def load_df(path=DATA):\n",
    "    return pd.read_csv(path)"
   ]
  },
  {
   "cell_type": "code",
   "execution_count": 30,
   "metadata": {},
   "outputs": [],
   "source": [
    "df = load_df()"
   ]
  },
  {
   "cell_type": "code",
   "execution_count": 31,
   "metadata": {},
   "outputs": [
    {
     "data": {
      "text/html": [
       "<div>\n",
       "<style scoped>\n",
       "    .dataframe tbody tr th:only-of-type {\n",
       "        vertical-align: middle;\n",
       "    }\n",
       "\n",
       "    .dataframe tbody tr th {\n",
       "        vertical-align: top;\n",
       "    }\n",
       "\n",
       "    .dataframe thead th {\n",
       "        text-align: right;\n",
       "    }\n",
       "</style>\n",
       "<table border=\"1\" class=\"dataframe\">\n",
       "  <thead>\n",
       "    <tr style=\"text-align: right;\">\n",
       "      <th></th>\n",
       "      <th>YEAR</th>\n",
       "      <th>ucr-rank</th>\n",
       "      <th>LATITUDE</th>\n",
       "      <th>start_month</th>\n",
       "      <th>start_day</th>\n",
       "      <th>start_hour</th>\n",
       "      <th>longitude2</th>\n",
       "    </tr>\n",
       "  </thead>\n",
       "  <tbody>\n",
       "    <tr>\n",
       "      <th>count</th>\n",
       "      <td>68405.000000</td>\n",
       "      <td>68405.000000</td>\n",
       "      <td>68405.000000</td>\n",
       "      <td>68405.000000</td>\n",
       "      <td>68405.000000</td>\n",
       "      <td>68405.000000</td>\n",
       "      <td>68405.000000</td>\n",
       "    </tr>\n",
       "    <tr>\n",
       "      <th>mean</th>\n",
       "      <td>2016.838784</td>\n",
       "      <td>6.054835</td>\n",
       "      <td>38.906661</td>\n",
       "      <td>6.715518</td>\n",
       "      <td>15.985396</td>\n",
       "      <td>13.554228</td>\n",
       "      <td>77.007665</td>\n",
       "    </tr>\n",
       "    <tr>\n",
       "      <th>std</th>\n",
       "      <td>0.700419</td>\n",
       "      <td>1.296839</td>\n",
       "      <td>0.030294</td>\n",
       "      <td>3.380505</td>\n",
       "      <td>8.753335</td>\n",
       "      <td>6.257834</td>\n",
       "      <td>0.036087</td>\n",
       "    </tr>\n",
       "    <tr>\n",
       "      <th>min</th>\n",
       "      <td>2016.000000</td>\n",
       "      <td>1.000000</td>\n",
       "      <td>38.813471</td>\n",
       "      <td>1.000000</td>\n",
       "      <td>1.000000</td>\n",
       "      <td>0.000000</td>\n",
       "      <td>76.910021</td>\n",
       "    </tr>\n",
       "    <tr>\n",
       "      <th>25%</th>\n",
       "      <td>2016.000000</td>\n",
       "      <td>6.000000</td>\n",
       "      <td>38.892836</td>\n",
       "      <td>4.000000</td>\n",
       "      <td>8.000000</td>\n",
       "      <td>10.000000</td>\n",
       "      <td>76.985491</td>\n",
       "    </tr>\n",
       "    <tr>\n",
       "      <th>50%</th>\n",
       "      <td>2017.000000</td>\n",
       "      <td>6.000000</td>\n",
       "      <td>38.906202</td>\n",
       "      <td>7.000000</td>\n",
       "      <td>16.000000</td>\n",
       "      <td>14.000000</td>\n",
       "      <td>77.012414</td>\n",
       "    </tr>\n",
       "    <tr>\n",
       "      <th>75%</th>\n",
       "      <td>2017.000000</td>\n",
       "      <td>7.000000</td>\n",
       "      <td>38.924339</td>\n",
       "      <td>10.000000</td>\n",
       "      <td>23.000000</td>\n",
       "      <td>19.000000</td>\n",
       "      <td>77.031224</td>\n",
       "    </tr>\n",
       "    <tr>\n",
       "      <th>max</th>\n",
       "      <td>2018.000000</td>\n",
       "      <td>9.000000</td>\n",
       "      <td>38.993560</td>\n",
       "      <td>12.000000</td>\n",
       "      <td>31.000000</td>\n",
       "      <td>23.000000</td>\n",
       "      <td>77.113642</td>\n",
       "    </tr>\n",
       "  </tbody>\n",
       "</table>\n",
       "</div>"
      ],
      "text/plain": [
       "               YEAR      ucr-rank      LATITUDE   start_month     start_day  \\\n",
       "count  68405.000000  68405.000000  68405.000000  68405.000000  68405.000000   \n",
       "mean    2016.838784      6.054835     38.906661      6.715518     15.985396   \n",
       "std        0.700419      1.296839      0.030294      3.380505      8.753335   \n",
       "min     2016.000000      1.000000     38.813471      1.000000      1.000000   \n",
       "25%     2016.000000      6.000000     38.892836      4.000000      8.000000   \n",
       "50%     2017.000000      6.000000     38.906202      7.000000     16.000000   \n",
       "75%     2017.000000      7.000000     38.924339     10.000000     23.000000   \n",
       "max     2018.000000      9.000000     38.993560     12.000000     31.000000   \n",
       "\n",
       "         start_hour    longitude2  \n",
       "count  68405.000000  68405.000000  \n",
       "mean      13.554228     77.007665  \n",
       "std        6.257834      0.036087  \n",
       "min        0.000000     76.910021  \n",
       "25%       10.000000     76.985491  \n",
       "50%       14.000000     77.012414  \n",
       "75%       19.000000     77.031224  \n",
       "max       23.000000     77.113642  "
      ]
     },
     "execution_count": 31,
     "metadata": {},
     "output_type": "execute_result"
    }
   ],
   "source": [
    "df.describe()"
   ]
  },
  {
   "cell_type": "markdown",
   "metadata": {},
   "source": [
    "## Transformation"
   ]
  },
  {
   "cell_type": "markdown",
   "metadata": {},
   "source": [
    "1. Convert datetime into hour of day (numeric)\n",
    "\n",
    "2. Label Encode our Class\n",
    "\n",
    "3. Transform dictionaries into numpy array"
   ]
  },
  {
   "cell_type": "code",
   "execution_count": 32,
   "metadata": {},
   "outputs": [],
   "source": [
    "class DateEncode(BaseEstimator, TransformerMixin):\n",
    "    \"\"\"\n",
    "    Custom transformers extend sklearn.base.BaseEstimator and TransformerMixin \n",
    "    to add helper methods like fit_transform(). It is up to you to add the \n",
    "    following methods:\n",
    "    \n",
    "        1. fit(X, y=None)\n",
    "        2. transform(X)\n",
    "    \n",
    "    This transfomer encodes the datetime into hour of day and day of week features. \n",
    "    \"\"\"\n",
    "    \n",
    "    def fit(self, X, y=None):\n",
    "        \"\"\"\n",
    "        Expects X to be a list of dictionaries. \n",
    "        \n",
    "        Loops through all dictionaries to find all unique dictionary keys \n",
    "        whose values are datetimes, in order to \"learn\" what fields to \n",
    "        encode date time as. \n",
    "        \n",
    "        For this data, this will only be the \"datetime\" field, but this \n",
    "        method is added here as an example of fitting to data. \n",
    "        \"\"\"\n",
    "        # NOTE: properties suffixed with an underscore are internal \n",
    "        # attributes that are learned during fit \n",
    "        self.date_columns_ = set([\n",
    "            key \n",
    "            for Xi in X \n",
    "            for key, val in Xi.items()\n",
    "            if isinstance(val, datetime)\n",
    "        ])\n",
    "        \n",
    "        # NOTE: fit must always return self \n",
    "        return self \n",
    "    \n",
    "    def transform(self, X):\n",
    "        \"\"\"\n",
    "        Expects X to be a list of dictionaries. \n",
    "        \n",
    "        Pops (deletes) the datetime fields discovered during fit \n",
    "        and replaces it with the following features:\n",
    "        \n",
    "            1. field_hour : the hour of day \n",
    "            2. field_dow : the day of the week \n",
    "        \n",
    "        Returns a list of dictionaries\n",
    "        \"\"\"\n",
    "        Xprime = []\n",
    "        for Xi in X:\n",
    "            for col in self.date_columns_:\n",
    "                dt = Xi.pop(col)\n",
    "                Xi[col + \"_hour\"] = dt.hour \n",
    "                Xi[col + \"_dow\"] = dt.weekday()\n",
    "            Xprime.append(Xi)\n",
    "        return Xprime "
   ]
  },
  {
   "cell_type": "code",
   "execution_count": 33,
   "metadata": {},
   "outputs": [],
   "source": [
    "# Load Raw Data - data is a list of tuples [(features, target)]\n",
    "# Extract the features into X and the target into y \n",
    "from datetime import datetime\n",
    "data = list(load_raw())\n",
    "X = [row[0] for row in data]\n",
    "y = [row[1] for row in data]\n",
    "\n",
    "# Create feature extraction pipeline \n",
    "features = Pipeline([\n",
    "    ('date_encode', DateEncode()),\n",
    "    ('vec', DictVectorizer()), \n",
    "])\n",
    "\n",
    "# Fit transfrom the features, which should now be a 2D array \n",
    "Xp = features.fit_transform(X)"
   ]
  },
  {
   "cell_type": "code",
   "execution_count": 34,
   "metadata": {},
   "outputs": [],
   "source": [
    "# Label Encode the target, which should now be a 1D vector \n",
    "label_encoder = LabelEncoder()\n",
    "yp = label_encoder.fit_transform(y)"
   ]
  },
  {
   "cell_type": "code",
   "execution_count": 35,
   "metadata": {},
   "outputs": [
    {
     "name": "stderr",
     "output_type": "stream",
     "text": [
      "C:\\Users\\Judith\\Anaconda3\\lib\\site-packages\\sklearn\\preprocessing\\label.py:151: DeprecationWarning: The truth value of an empty array is ambiguous. Returning False, but in future this will result in an error. Use `array.size > 0` to check that an array is not empty.\n",
      "  if diff:\n"
     ]
    },
    {
     "data": {
      "text/plain": [
       "array(['1', '2', '2', '1', '1'], dtype='<U1')"
      ]
     },
     "execution_count": 35,
     "metadata": {},
     "output_type": "execute_result"
    }
   ],
   "source": [
    "# Example of getting the class name back from the encoder \n",
    "label_encoder.inverse_transform([0,1,1,0,0])"
   ]
  },
  {
   "cell_type": "code",
   "execution_count": 36,
   "metadata": {},
   "outputs": [
    {
     "name": "stdout",
     "output_type": "stream",
     "text": [
      "X shape is (68405, 8) y shape is (68405,)\n"
     ]
    }
   ],
   "source": [
    "print(\"X shape is {} y shape is {}\".format(\n",
    "    Xp.shape, yp.shape\n",
    "))"
   ]
  },
  {
   "cell_type": "markdown",
   "metadata": {},
   "source": [
    "## Try Gradient Boosting Classifier from Class Occupancy Project"
   ]
  },
  {
   "cell_type": "code",
   "execution_count": 37,
   "metadata": {},
   "outputs": [],
   "source": [
    "from yellowbrick.classifier import ClassBalance, ConfusionMatrix, ClassificationReport\n",
    "from sklearn.metrics import classification_report\n",
    "from sklearn.metrics import f1_score"
   ]
  },
  {
   "cell_type": "code",
   "execution_count": 38,
   "metadata": {},
   "outputs": [],
   "source": [
    "def simple_evaluate_model(model, X=Xp.todense(), y=yp, encoder=label_encoder):\n",
    "    X_train, X_test, y_train, y_test = tts(X, y, train_size=0.80, shuffle=True)\n",
    "    model.fit(X_train, y_train)\n",
    "    y_hat = model.predict(X_test)\n",
    "    print(\"f1: {}\".format(f1_score(y_test, y_hat, average='weighted')))"
   ]
  },
  {
   "cell_type": "code",
   "execution_count": 39,
   "metadata": {},
   "outputs": [
    {
     "name": "stderr",
     "output_type": "stream",
     "text": [
      "C:\\Users\\Judith\\Anaconda3\\lib\\site-packages\\sklearn\\model_selection\\_split.py:2026: FutureWarning: From version 0.21, test_size will always complement train_size unless both are specified.\n",
      "  FutureWarning)\n"
     ]
    },
    {
     "name": "stdout",
     "output_type": "stream",
     "text": [
      "f1: 0.42257543577832063\n"
     ]
    }
   ],
   "source": [
    "# Simple Evaluation\n",
    "clf = GradientBoostingClassifier()\n",
    "simple_evaluate_model(clf)\n",
    "# 0.42 accuracy is not good"
   ]
  },
  {
   "cell_type": "markdown",
   "metadata": {},
   "source": [
    "## Try K Nearest Neighbors"
   ]
  },
  {
   "cell_type": "code",
   "execution_count": 40,
   "metadata": {},
   "outputs": [
    {
     "name": "stdout",
     "output_type": "stream",
     "text": [
      "Shape of crime data: (68405, 8)\n"
     ]
    }
   ],
   "source": [
    "print(\"Shape of crime data: {}\".format(Xp.shape))"
   ]
  },
  {
   "cell_type": "code",
   "execution_count": 41,
   "metadata": {},
   "outputs": [],
   "source": [
    "X_train, X_test, y_train, y_test = tts(Xp, yp, random_state=0)"
   ]
  },
  {
   "cell_type": "code",
   "execution_count": 42,
   "metadata": {},
   "outputs": [],
   "source": [
    "clf = KNeighborsClassifier(n_neighbors=5)\n",
    "# 5 neighbors"
   ]
  },
  {
   "cell_type": "code",
   "execution_count": 43,
   "metadata": {},
   "outputs": [
    {
     "data": {
      "text/plain": [
       "KNeighborsClassifier(algorithm='auto', leaf_size=30, metric='minkowski',\n",
       "           metric_params=None, n_jobs=1, n_neighbors=5, p=2,\n",
       "           weights='uniform')"
      ]
     },
     "execution_count": 43,
     "metadata": {},
     "output_type": "execute_result"
    }
   ],
   "source": [
    "clf.fit(X_train, y_train)"
   ]
  },
  {
   "cell_type": "code",
   "execution_count": 44,
   "metadata": {},
   "outputs": [
    {
     "name": "stdout",
     "output_type": "stream",
     "text": [
      "Test set accuracy: 0.38\n"
     ]
    }
   ],
   "source": [
    "print(\"Test set accuracy: {:.2f}\".format(clf.score(X_test, y_test)))\n",
    "# This takes about 7 minutes\n",
    "# .38 accuracy is not good"
   ]
  },
  {
   "cell_type": "code",
   "execution_count": 45,
   "metadata": {},
   "outputs": [],
   "source": [
    "clf = KNeighborsClassifier(n_neighbors=3)\n",
    "# 3 neighbors"
   ]
  },
  {
   "cell_type": "code",
   "execution_count": 46,
   "metadata": {},
   "outputs": [
    {
     "data": {
      "text/plain": [
       "KNeighborsClassifier(algorithm='auto', leaf_size=30, metric='minkowski',\n",
       "           metric_params=None, n_jobs=1, n_neighbors=3, p=2,\n",
       "           weights='uniform')"
      ]
     },
     "execution_count": 46,
     "metadata": {},
     "output_type": "execute_result"
    }
   ],
   "source": [
    "clf.fit(X_train, y_train)"
   ]
  },
  {
   "cell_type": "code",
   "execution_count": 47,
   "metadata": {},
   "outputs": [
    {
     "name": "stdout",
     "output_type": "stream",
     "text": [
      "Test set accuracy: 0.32\n"
     ]
    }
   ],
   "source": [
    "print(\"Test set accuracy: {:.2f}\".format(clf.score(X_test, y_test)))\n",
    "# This accuracy is even worse at .32"
   ]
  },
  {
   "cell_type": "code",
   "execution_count": 48,
   "metadata": {},
   "outputs": [],
   "source": [
    "clf = KNeighborsClassifier(n_neighbors=7)\n",
    "# 7 neighbors"
   ]
  },
  {
   "cell_type": "code",
   "execution_count": 49,
   "metadata": {},
   "outputs": [
    {
     "data": {
      "text/plain": [
       "KNeighborsClassifier(algorithm='auto', leaf_size=30, metric='minkowski',\n",
       "           metric_params=None, n_jobs=1, n_neighbors=7, p=2,\n",
       "           weights='uniform')"
      ]
     },
     "execution_count": 49,
     "metadata": {},
     "output_type": "execute_result"
    }
   ],
   "source": [
    "clf.fit(X_train, y_train)"
   ]
  },
  {
   "cell_type": "code",
   "execution_count": 50,
   "metadata": {},
   "outputs": [
    {
     "name": "stdout",
     "output_type": "stream",
     "text": [
      "Test set accuracy: 0.39\n"
     ]
    }
   ],
   "source": [
    "print(\"Test set accuracy: {:.2f}\".format(clf.score(X_test, y_test)))\n",
    "# slightly better than 5 at.39"
   ]
  },
  {
   "cell_type": "code",
   "execution_count": 51,
   "metadata": {},
   "outputs": [
    {
     "name": "stdout",
     "output_type": "stream",
     "text": [
      "Test set predictions: [6 6 5 ... 5 5 3]\n"
     ]
    }
   ],
   "source": [
    "print(\"Test set predictions: {}\".format(clf.predict(X_test)))"
   ]
  },
  {
   "cell_type": "code",
   "execution_count": 52,
   "metadata": {},
   "outputs": [],
   "source": [
    "clf = KNeighborsClassifier(n_neighbors=11)\n",
    "# 11 neighbors"
   ]
  },
  {
   "cell_type": "code",
   "execution_count": 53,
   "metadata": {},
   "outputs": [
    {
     "data": {
      "text/plain": [
       "KNeighborsClassifier(algorithm='auto', leaf_size=30, metric='minkowski',\n",
       "           metric_params=None, n_jobs=1, n_neighbors=11, p=2,\n",
       "           weights='uniform')"
      ]
     },
     "execution_count": 53,
     "metadata": {},
     "output_type": "execute_result"
    }
   ],
   "source": [
    "clf.fit(X_train, y_train)"
   ]
  },
  {
   "cell_type": "code",
   "execution_count": 54,
   "metadata": {},
   "outputs": [
    {
     "name": "stdout",
     "output_type": "stream",
     "text": [
      "Test set accuracy: 0.41\n"
     ]
    }
   ],
   "source": [
    "print(\"Test set accuracy: {:.2f}\".format(clf.score(X_test, y_test)))\n",
    "# Improvement at .41 with 11 neighbors"
   ]
  },
  {
   "cell_type": "code",
   "execution_count": 55,
   "metadata": {},
   "outputs": [],
   "source": [
    "clf = KNeighborsClassifier(n_neighbors=20)\n",
    "# 20 neighbors"
   ]
  },
  {
   "cell_type": "code",
   "execution_count": 56,
   "metadata": {},
   "outputs": [
    {
     "data": {
      "text/plain": [
       "KNeighborsClassifier(algorithm='auto', leaf_size=30, metric='minkowski',\n",
       "           metric_params=None, n_jobs=1, n_neighbors=20, p=2,\n",
       "           weights='uniform')"
      ]
     },
     "execution_count": 56,
     "metadata": {},
     "output_type": "execute_result"
    }
   ],
   "source": [
    "clf.fit(X_train, y_train)"
   ]
  },
  {
   "cell_type": "code",
   "execution_count": 57,
   "metadata": {},
   "outputs": [
    {
     "name": "stdout",
     "output_type": "stream",
     "text": [
      "Test set accuracy: 0.42\n"
     ]
    }
   ],
   "source": [
    "print(\"Test set accuracy: {:.2f}\".format(clf.score(X_test, y_test)))\n",
    "# No significant difference at .42"
   ]
  },
  {
   "cell_type": "code",
   "execution_count": 58,
   "metadata": {},
   "outputs": [],
   "source": [
    "clf = KNeighborsClassifier(n_neighbors=30)\n",
    "# 30 neighbors"
   ]
  },
  {
   "cell_type": "code",
   "execution_count": 59,
   "metadata": {},
   "outputs": [
    {
     "data": {
      "text/plain": [
       "KNeighborsClassifier(algorithm='auto', leaf_size=30, metric='minkowski',\n",
       "           metric_params=None, n_jobs=1, n_neighbors=30, p=2,\n",
       "           weights='uniform')"
      ]
     },
     "execution_count": 59,
     "metadata": {},
     "output_type": "execute_result"
    }
   ],
   "source": [
    "clf.fit(X_train, y_train)"
   ]
  },
  {
   "cell_type": "code",
   "execution_count": 60,
   "metadata": {},
   "outputs": [
    {
     "name": "stdout",
     "output_type": "stream",
     "text": [
      "Test set accuracy: 0.42\n"
     ]
    }
   ],
   "source": [
    "print(\"Test set accuracy: {:.2f}\".format(clf.score(X_test, y_test)))\n",
    "# No change at .042"
   ]
  },
  {
   "cell_type": "markdown",
   "metadata": {},
   "source": [
    "## Linear Regression"
   ]
  },
  {
   "cell_type": "code",
   "execution_count": 61,
   "metadata": {},
   "outputs": [],
   "source": [
    "lr = LinearRegression().fit(X_train, y_train)"
   ]
  },
  {
   "cell_type": "code",
   "execution_count": 62,
   "metadata": {},
   "outputs": [
    {
     "name": "stdout",
     "output_type": "stream",
     "text": [
      "lr.coef_: [ 4.42866363e+00 -1.19037833e-01  3.38047706e-04  5.93955330e-03\n",
      "  8.79105139e-01 -6.91073290e-04  5.93955330e-03 -1.09635952e-02]\n",
      "lr.intercept_: 5.052043740132156\n"
     ]
    }
   ],
   "source": [
    "print(\"lr.coef_: {}\".format(lr.coef_))\n",
    "print(\"lr.intercept_: {}\".format(lr.intercept_))"
   ]
  },
  {
   "cell_type": "code",
   "execution_count": 63,
   "metadata": {},
   "outputs": [
    {
     "name": "stdout",
     "output_type": "stream",
     "text": [
      "Training set score: 0.02\n",
      "Test set score: 0.02\n"
     ]
    }
   ],
   "source": [
    "print(\"Training set score: {:.2f}\".format(lr.score(X_train, y_train)))\n",
    "print(\"Test set score: {:.2f}\".format(lr.score(X_test, y_test)))"
   ]
  },
  {
   "cell_type": "code",
   "execution_count": 64,
   "metadata": {},
   "outputs": [
    {
     "name": "stdout",
     "output_type": "stream",
     "text": [
      "Training set score: 0.00\n",
      "Test set score: 0.00\n"
     ]
    }
   ],
   "source": [
    "ridge = Ridge().fit(X_train, y_train)\n",
    "print(\"Training set score: {:.2f}\".format(ridge.score(X_train, y_train)))\n",
    "print(\"Test set score: {:.2f}\".format(ridge.score(X_test, y_test)))"
   ]
  },
  {
   "cell_type": "code",
   "execution_count": 65,
   "metadata": {},
   "outputs": [
    {
     "name": "stdout",
     "output_type": "stream",
     "text": [
      "Training set score: 0.00\n",
      "Test set score: 0.00\n"
     ]
    }
   ],
   "source": [
    "ridge10 = Ridge(alpha=10).fit(X_train, y_train)\n",
    "print(\"Training set score: {:.2f}\".format(ridge10.score(X_train, y_train)))\n",
    "print(\"Test set score: {:.2f}\".format(ridge10.score(X_test, y_test)))"
   ]
  },
  {
   "cell_type": "code",
   "execution_count": 66,
   "metadata": {},
   "outputs": [
    {
     "name": "stdout",
     "output_type": "stream",
     "text": [
      "Training set score: 0.00\n",
      "Test set score: 0.00\n"
     ]
    }
   ],
   "source": [
    "ridge01 = Ridge(alpha=0.1).fit(X_train, y_train)\n",
    "print(\"Training set score: {:.2f}\".format(ridge01.score(X_train, y_train)))\n",
    "print(\"Test set score: {:.2f}\".format(ridge01.score(X_test, y_test)))"
   ]
  },
  {
   "cell_type": "code",
   "execution_count": 67,
   "metadata": {},
   "outputs": [
    {
     "name": "stdout",
     "output_type": "stream",
     "text": [
      "Training set score: 0.00\n",
      "Test set score: -0.00\n",
      "Number of features used: 0\n"
     ]
    }
   ],
   "source": [
    "lasso = Lasso().fit(X_train, y_train)\n",
    "print(\"Training set score: {:.2f}\".format(lasso.score(X_train, y_train)))\n",
    "print(\"Test set score: {:.2f}\".format(lasso.score(X_test, y_test)))\n",
    "print(\"Number of features used: {}\".format(np.sum(lasso.coef_ != 0)))"
   ]
  },
  {
   "cell_type": "code",
   "execution_count": 68,
   "metadata": {},
   "outputs": [
    {
     "name": "stdout",
     "output_type": "stream",
     "text": [
      "Training set score: 0.00\n",
      "Test set score: 0.00\n",
      "Number of features used: 4\n"
     ]
    }
   ],
   "source": [
    "lasso001 = Lasso(alpha=0.01, max_iter=100000).fit(X_train, y_train)\n",
    "print(\"Training set score: {:.2f}\".format(lasso001.score(X_train, y_train)))\n",
    "print(\"Test set score: {:.2f}\".format(lasso001.score(X_test, y_test)))\n",
    "print(\"Number of features used: {}\".format(np.sum(lasso001.coef_ != 0)))"
   ]
  },
  {
   "cell_type": "code",
   "execution_count": 69,
   "metadata": {},
   "outputs": [
    {
     "name": "stdout",
     "output_type": "stream",
     "text": [
      "Training set score: 0.02\n",
      "Test set score: 0.02\n",
      "Number of features used: 8\n"
     ]
    }
   ],
   "source": [
    "lasso00001 = Lasso(alpha=0.0001, max_iter=100000).fit(X_train, y_train)\n",
    "print(\"Training set score: {:.2f}\".format(lasso00001.score(X_train, y_train)))\n",
    "print(\"Test set score: {:.2f}\".format(lasso00001.score(X_test, y_test)))\n",
    "print(\"Number of features used: {}\".format(np.sum(lasso00001.coef_ != 0)))"
   ]
  },
  {
   "cell_type": "code",
   "execution_count": 71,
   "metadata": {},
   "outputs": [
    {
     "ename": "AttributeError",
     "evalue": "target not found",
     "output_type": "error",
     "traceback": [
      "\u001b[1;31m---------------------------------------------------------------------------\u001b[0m",
      "\u001b[1;31mAttributeError\u001b[0m                            Traceback (most recent call last)",
      "\u001b[1;32m<ipython-input-71-215bcd79b3f4>\u001b[0m in \u001b[0;36m<module>\u001b[1;34m()\u001b[0m\n\u001b[0;32m      1\u001b[0m X_train, X_test, y_train, y_test = tts(\n\u001b[1;32m----> 2\u001b[1;33m     Xp, yp, stratify=Xp.target, random_state=42)\n\u001b[0m\u001b[0;32m      3\u001b[0m \u001b[0mlogreg\u001b[0m \u001b[1;33m=\u001b[0m \u001b[0mLogisticRegression\u001b[0m\u001b[1;33m(\u001b[0m\u001b[1;33m)\u001b[0m\u001b[1;33m.\u001b[0m\u001b[0mfit\u001b[0m\u001b[1;33m(\u001b[0m\u001b[0mX_train\u001b[0m\u001b[1;33m,\u001b[0m \u001b[0my_train\u001b[0m\u001b[1;33m)\u001b[0m\u001b[1;33m\u001b[0m\u001b[0m\n\u001b[0;32m      4\u001b[0m \u001b[0mprint\u001b[0m\u001b[1;33m(\u001b[0m\u001b[1;34m\"Training set score: {:.3f}\"\u001b[0m\u001b[1;33m.\u001b[0m\u001b[0mformat\u001b[0m\u001b[1;33m(\u001b[0m\u001b[0mlogreg\u001b[0m\u001b[1;33m.\u001b[0m\u001b[0mscore\u001b[0m\u001b[1;33m(\u001b[0m\u001b[0mX_train\u001b[0m\u001b[1;33m,\u001b[0m \u001b[0my_train\u001b[0m\u001b[1;33m)\u001b[0m\u001b[1;33m)\u001b[0m\u001b[1;33m)\u001b[0m\u001b[1;33m\u001b[0m\u001b[0m\n\u001b[0;32m      5\u001b[0m \u001b[0mprint\u001b[0m\u001b[1;33m(\u001b[0m\u001b[1;34m\"Test set score: {:.3f}\"\u001b[0m\u001b[1;33m.\u001b[0m\u001b[0mformat\u001b[0m\u001b[1;33m(\u001b[0m\u001b[0mlogreg\u001b[0m\u001b[1;33m.\u001b[0m\u001b[0mscore\u001b[0m\u001b[1;33m(\u001b[0m\u001b[0mX_test\u001b[0m\u001b[1;33m,\u001b[0m \u001b[0my_test\u001b[0m\u001b[1;33m)\u001b[0m\u001b[1;33m)\u001b[0m\u001b[1;33m)\u001b[0m\u001b[1;33m\u001b[0m\u001b[0m\n",
      "\u001b[1;32m~\\Anaconda3\\lib\\site-packages\\scipy\\sparse\\base.py\u001b[0m in \u001b[0;36m__getattr__\u001b[1;34m(self, attr)\u001b[0m\n\u001b[0;32m    684\u001b[0m             \u001b[1;32mreturn\u001b[0m \u001b[0mself\u001b[0m\u001b[1;33m.\u001b[0m\u001b[0mgetnnz\u001b[0m\u001b[1;33m(\u001b[0m\u001b[1;33m)\u001b[0m\u001b[1;33m\u001b[0m\u001b[0m\n\u001b[0;32m    685\u001b[0m         \u001b[1;32melse\u001b[0m\u001b[1;33m:\u001b[0m\u001b[1;33m\u001b[0m\u001b[0m\n\u001b[1;32m--> 686\u001b[1;33m             \u001b[1;32mraise\u001b[0m \u001b[0mAttributeError\u001b[0m\u001b[1;33m(\u001b[0m\u001b[0mattr\u001b[0m \u001b[1;33m+\u001b[0m \u001b[1;34m\" not found\"\u001b[0m\u001b[1;33m)\u001b[0m\u001b[1;33m\u001b[0m\u001b[0m\n\u001b[0m\u001b[0;32m    687\u001b[0m \u001b[1;33m\u001b[0m\u001b[0m\n\u001b[0;32m    688\u001b[0m     \u001b[1;32mdef\u001b[0m \u001b[0mtranspose\u001b[0m\u001b[1;33m(\u001b[0m\u001b[0mself\u001b[0m\u001b[1;33m,\u001b[0m \u001b[0maxes\u001b[0m\u001b[1;33m=\u001b[0m\u001b[1;32mNone\u001b[0m\u001b[1;33m,\u001b[0m \u001b[0mcopy\u001b[0m\u001b[1;33m=\u001b[0m\u001b[1;32mFalse\u001b[0m\u001b[1;33m)\u001b[0m\u001b[1;33m:\u001b[0m\u001b[1;33m\u001b[0m\u001b[0m\n",
      "\u001b[1;31mAttributeError\u001b[0m: target not found"
     ]
    }
   ],
   "source": [
    "X_train, X_test, y_train, y_test = tts(\n",
    "    Xp, yp, stratify=Xp.target, random_state=42)\n",
    "logreg = LogisticRegression().fit(X_train, y_train)\n",
    "print(\"Training set score: {:.3f}\".format(logreg.score(X_train, y_train)))\n",
    "print(\"Test set score: {:.3f}\".format(logreg.score(X_test, y_test)))"
   ]
  },
  {
   "cell_type": "code",
   "execution_count": null,
   "metadata": {},
   "outputs": [],
   "source": [
    "logreg001 = LogisticRegression(C=0.01).fit(X_train, y_train)\n",
    "print(\"Training set score: {:.3f}\".format(logreg001.score(X_train, y_train)))\n",
    "print(\"Test set score: {:.3f}\".format(logreg001.score(X_test, y_test)))"
   ]
  },
  {
   "cell_type": "code",
   "execution_count": null,
   "metadata": {},
   "outputs": [],
   "source": [
    "logreg100 = LogisticRegression(C=100).fit(X_train, y_train)"
   ]
  },
  {
   "cell_type": "code",
   "execution_count": null,
   "metadata": {},
   "outputs": [],
   "source": [
    "print(\"Training set score: {:.3f}\".format(logreg100.score(X_train, y_train)))\n",
    "print(\"Test set score {:.3f})\".format(logreg100.score(X_test, y_test)))"
   ]
  },
  {
   "cell_type": "code",
   "execution_count": null,
   "metadata": {},
   "outputs": [],
   "source": [
    "## LinearSVM"
   ]
  },
  {
   "cell_type": "code",
   "execution_count": null,
   "metadata": {},
   "outputs": [],
   "source": [
    "linear_svm = LinearSVC().fit(X, y)\n",
    "print(\"Coefficient shape: \", linear_svm.coef_.shape)\n",
    "print(\"Intercept shape: \", linear_svm.intercept_.shape)"
   ]
  },
  {
   "cell_type": "code",
   "execution_count": null,
   "metadata": {},
   "outputs": [],
   "source": [
    "## Naive Bayes"
   ]
  },
  {
   "cell_type": "code",
   "execution_count": 72,
   "metadata": {},
   "outputs": [],
   "source": [
    "X = np.array([[0, 1, 0, 1],\n",
    "            [1, 0, 1, 1],\n",
    "            [0, 0, 0, 1],\n",
    "            [1, 0, 1, 0]])\n",
    "y = np.array([0, 1, 0, 1])"
   ]
  },
  {
   "cell_type": "code",
   "execution_count": null,
   "metadata": {},
   "outputs": [],
   "source": [
    "counts = {}\n",
    "for label in np.unique(y):\n",
    "    #iterate over each class\n",
    "    #count (sum) entries of 1 per feature\n",
    "    counts[label] = X[y == label].sum(axis=0)\n",
    "print(\"Feature counts:\\n{}\".format(counts))"
   ]
  },
  {
   "cell_type": "code",
   "execution_count": null,
   "metadata": {},
   "outputs": [],
   "source": [
    "## Decision Tree"
   ]
  },
  {
   "cell_type": "code",
   "execution_count": null,
   "metadata": {},
   "outputs": [],
   "source": [
    "tree = DecisionTreeClassifier(random_state=0)\n",
    "tree.fit(X_train, y_train)\n",
    "print(\"Accuracy on training set: {:.3f}\".format(tree.score(X_train, y_train)))\n",
    "print(\"Accuracy on test set: {:.3f}\".format(tree.score(X_test, y_test)))"
   ]
  },
  {
   "cell_type": "code",
   "execution_count": null,
   "metadata": {},
   "outputs": [],
   "source": [
    "tree = DecisionTreeClassifier(max_depth=4, random_state=0)\n",
    "tree.fit(X_train, y_train)\n",
    "\n",
    "print(\"Accuracy on training set: {:.3f}\".format(tree.score(X_train, y_train)))\n",
    "print(\"Accuracy on test set: {:.3f}\".format(tree.score(X_test, y_test)))"
   ]
  },
  {
   "cell_type": "code",
   "execution_count": null,
   "metadata": {},
   "outputs": [],
   "source": [
    "export_graphviz(tree, out_file=\"tree.dot\", class_names=[\"1\", \"2\", \"3\", \"4\", \"5\", \"6\", \"7\", \"8\", \"9\"],\n",
    "                feature_names=Xp.feature_names, impurity=False, filled=True)"
   ]
  },
  {
   "cell_type": "code",
   "execution_count": null,
   "metadata": {},
   "outputs": [],
   "source": [
    "with open(\"tree.dot\") as f:\n",
    "    dot_graph = f.read()\n",
    "display(graphviz.Source(dot_graph))"
   ]
  },
  {
   "cell_type": "code",
   "execution_count": null,
   "metadata": {},
   "outputs": [],
   "source": [
    "print(\"Feature importances:\\n{}\".format(tree.feature_importances_))"
   ]
  },
  {
   "cell_type": "code",
   "execution_count": null,
   "metadata": {},
   "outputs": [],
   "source": [
    "def plot_feature_importances_safety(model):\n",
    "    n_features = Xp.data.shape[1]\n",
    "    plt.barh(range(n_features), model.feature_importances_, align='center')\n",
    "    plt.yticks(np.arange(n_features), Xp.feature_names)\n",
    "    plt.xlabel(\"Feature importance\")\n",
    "    plt.ylabel(\"Feature\")\n",
    "    plt.ylim(-1, n_features)\n",
    "\n",
    "plot_feature_importances_safety(tree)"
   ]
  }
 ],
 "metadata": {
  "kernelspec": {
   "display_name": "Python 3",
   "language": "python",
   "name": "python3"
  },
  "language_info": {
   "codemirror_mode": {
    "name": "ipython",
    "version": 3
   },
   "file_extension": ".py",
   "mimetype": "text/x-python",
   "name": "python",
   "nbconvert_exporter": "python",
   "pygments_lexer": "ipython3",
   "version": "3.6.5"
  }
 },
 "nbformat": 4,
 "nbformat_minor": 1
}
