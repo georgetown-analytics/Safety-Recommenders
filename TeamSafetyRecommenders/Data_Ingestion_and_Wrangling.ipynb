{
 "cells": [
  {
   "cell_type": "markdown",
   "metadata": {},
   "source": [
    "### Importing Main Libraries:"
   ]
  },
  {
   "cell_type": "code",
   "execution_count": 3,
   "metadata": {},
   "outputs": [],
   "source": [
    "%matplotlib notebook\n",
    "import IPython\n",
    "from IPython.display import display\n",
    "from sqlalchemy import create_engine\n",
    "import psycopg2\n",
    "import psycopg2.extras\n",
    "import pandas as pd\n",
    "import csv\n",
    "from numpy import nan as NA\n",
    "from datetime import datetime\n",
    "import re\n",
    "import sys\n",
    "import numpy as np\n",
    "import matplotlib.pyplot as plt \n",
    "from pandas import *\n",
    "import pickle\n",
    "import requests\n",
    "import os"
   ]
  },
  {
   "cell_type": "markdown",
   "metadata": {},
   "source": [
    "# ------------------------DATA INGESTION------------------------"
   ]
  },
  {
   "cell_type": "markdown",
   "metadata": {},
   "source": [
    "First of all, we will change pandas settings so it can show all the features."
   ]
  },
  {
   "cell_type": "code",
   "execution_count": 4,
   "metadata": {},
   "outputs": [],
   "source": [
    "#Panda settings\n",
    "#Pandas will not display all columns in our data when using the head() function without this\n",
    "pd.set_option('max_columns',50) \n",
    "pd.set_option('display.max_columns', None)\n",
    "pd.set_option('display.max_rows', None)"
   ]
  },
  {
   "cell_type": "markdown",
   "metadata": {},
   "source": [
    "Here We are creating the module that will take care of our csv file. One class is designed to deal with csv files, the other class to deal with a postgres database and the last one to fetch the file online:"
   ]
  },
  {
   "cell_type": "code",
   "execution_count": 5,
   "metadata": {},
   "outputs": [],
   "source": [
    "class Ingestion(object):\n",
    "    \"\"\"This is the ingestion class to deal with csv directly from the same directory where the module is\"\"\"\n",
    "\n",
    "    def __init__(self, file, sep = \",\", header = 0 ):\n",
    "        self.file = file\n",
    "        self.delimiter = sep\n",
    "        self.df = pd.read_csv(file, sep= sep, header=header, engine='python', \n",
    "                              parse_dates = False)\n",
    "\n",
    "    def file_csv(self):\n",
    "        return self.df\n",
    "\n",
    "class IngestionDatabase(object):\n",
    "\n",
    "    \"\"\" This is the ingestion class to deal with postgress database \"\"\"\n",
    "    def __init__(self, database, query):\n",
    "        self.engine = create_engine(database)\n",
    "        self.table_names = self.engine.table_names()\n",
    "        self.con = self.engine.connect()\n",
    "        self.rs = self.con.execute(query)\n",
    "        self.df = pd.DataFrame(self.rs.fetchmany(size=15))\n",
    "\n",
    "    def cols(self):\n",
    "        self.df.columns = self.rs.keys()\n",
    "        return self.df\n",
    "\n",
    "class OnlineFetch(object):\n",
    "    \n",
    "    def __init__(self, URL, fname=\"dc-crimes-search-results.csv\"):\n",
    "        self.URL = URL\n",
    "        self.fname = fname \n",
    "        \n",
    "  \n",
    "    def fetch_data(self):\n",
    "        \n",
    "        \"\"\"\n",
    "        Helper method to retrieve the ML Repository dataset.\n",
    "        \"\"\"\n",
    "        self.response = requests.get(self.URL)\n",
    "        self.outpath  = os.path.abspath(self.fname)\n",
    "        \n",
    "        with open(self.outpath, 'wb') as f:\n",
    "            f.write(self.response.content)\n",
    "        self.online_data = pd.read_csv(self.outpath, engine='python', parse_dates = False)\n",
    "        return self.online_data\n",
    "        "
   ]
  },
  {
   "cell_type": "code",
   "execution_count": 8,
   "metadata": {},
   "outputs": [],
   "source": [
    "# Fetching online data:\n",
    "\n",
    "#URL = \"https://datagate.dc.gov/search/open/crimes?daterange=8years&details=true&format=csv\"\n",
    "#obj = OnlineFetch(URL)\n",
    "#DATA = obj.fetch_data()"
   ]
  },
  {
   "cell_type": "code",
   "execution_count": 9,
   "metadata": {},
   "outputs": [],
   "source": [
    "#type(DATA)"
   ]
  },
  {
   "cell_type": "code",
   "execution_count": null,
   "metadata": {},
   "outputs": [],
   "source": []
  },
  {
   "cell_type": "markdown",
   "metadata": {},
   "source": [
    "## Creating the Ingestion instances for the crime dataset and weather dataset:"
   ]
  },
  {
   "cell_type": "code",
   "execution_count": 8,
   "metadata": {},
   "outputs": [],
   "source": [
    "ingest = Ingestion('DC_Crime_Official2.csv')\n",
    "data = ingest.file_csv()"
   ]
  },
  {
   "cell_type": "code",
   "execution_count": 9,
   "metadata": {},
   "outputs": [],
   "source": [
    "ingest = Ingestion('dc_weather_2010-2018.csv')\n",
    "weather_data = ingest.file_csv()"
   ]
  },
  {
   "cell_type": "code",
   "execution_count": 10,
   "metadata": {},
   "outputs": [
    {
     "data": {
      "text/html": [
       "<div>\n",
       "<style scoped>\n",
       "    .dataframe tbody tr th:only-of-type {\n",
       "        vertical-align: middle;\n",
       "    }\n",
       "\n",
       "    .dataframe tbody tr th {\n",
       "        vertical-align: top;\n",
       "    }\n",
       "\n",
       "    .dataframe thead th {\n",
       "        text-align: right;\n",
       "    }\n",
       "</style>\n",
       "<table border=\"1\" class=\"dataframe\">\n",
       "  <thead>\n",
       "    <tr style=\"text-align: right;\">\n",
       "      <th></th>\n",
       "      <th>NEIGHBORHOOD_CLUSTER</th>\n",
       "      <th>CENSUS_TRACT</th>\n",
       "      <th>offensegroup</th>\n",
       "      <th>LONGITUDE</th>\n",
       "      <th>END_DATE</th>\n",
       "      <th>offense-text</th>\n",
       "      <th>SHIFT</th>\n",
       "      <th>YBLOCK</th>\n",
       "      <th>DISTRICT</th>\n",
       "      <th>WARD</th>\n",
       "      <th>YEAR</th>\n",
       "      <th>offensekey</th>\n",
       "      <th>BID</th>\n",
       "      <th>sector</th>\n",
       "      <th>PSA</th>\n",
       "      <th>ucr-rank</th>\n",
       "      <th>BLOCK_GROUP</th>\n",
       "      <th>VOTING_PRECINCT</th>\n",
       "      <th>XBLOCK</th>\n",
       "      <th>BLOCK</th>\n",
       "      <th>START_DATE</th>\n",
       "      <th>CCN</th>\n",
       "      <th>OFFENSE</th>\n",
       "      <th>ANC</th>\n",
       "      <th>REPORT_DAT</th>\n",
       "      <th>METHOD</th>\n",
       "      <th>location</th>\n",
       "      <th>LATITUDE</th>\n",
       "    </tr>\n",
       "  </thead>\n",
       "  <tbody>\n",
       "    <tr>\n",
       "      <th>0</th>\n",
       "      <td>cluster 15</td>\n",
       "      <td>600.0</td>\n",
       "      <td>property</td>\n",
       "      <td>-77.069766</td>\n",
       "      <td>2015-05-05T17:45:00.000</td>\n",
       "      <td>theft f/auto</td>\n",
       "      <td>evening</td>\n",
       "      <td>140519.000000</td>\n",
       "      <td>2.0</td>\n",
       "      <td>3.0</td>\n",
       "      <td>2015</td>\n",
       "      <td>property|theft f/auto</td>\n",
       "      <td>NaN</td>\n",
       "      <td>2D2</td>\n",
       "      <td>204.0</td>\n",
       "      <td>7</td>\n",
       "      <td>000600 3</td>\n",
       "      <td>precinct 27</td>\n",
       "      <td>393951.000000</td>\n",
       "      <td>3500 - 3599 block of lowell street nw</td>\n",
       "      <td>2015-05-05T15:00:00.000</td>\n",
       "      <td>15064669</td>\n",
       "      <td>theft f/auto</td>\n",
       "      <td>3C</td>\n",
       "      <td>2015-05-05T22:06:00.000Z</td>\n",
       "      <td>others</td>\n",
       "      <td>38.932540365033717,-77.069768169731375</td>\n",
       "      <td>38.932533</td>\n",
       "    </tr>\n",
       "    <tr>\n",
       "      <th>1</th>\n",
       "      <td>cluster 2</td>\n",
       "      <td>3000.0</td>\n",
       "      <td>violent</td>\n",
       "      <td>-77.031208</td>\n",
       "      <td>2015-05-05T20:55:00.000</td>\n",
       "      <td>robbery</td>\n",
       "      <td>evening</td>\n",
       "      <td>140084.000000</td>\n",
       "      <td>3.0</td>\n",
       "      <td>1.0</td>\n",
       "      <td>2015</td>\n",
       "      <td>violent|robbery</td>\n",
       "      <td>NaN</td>\n",
       "      <td>3D1</td>\n",
       "      <td>302.0</td>\n",
       "      <td>4</td>\n",
       "      <td>003000 2</td>\n",
       "      <td>precinct 39</td>\n",
       "      <td>397294.000000</td>\n",
       "      <td>1300 - 1399 block of irving street nw</td>\n",
       "      <td>2015-05-05T20:50:00.000</td>\n",
       "      <td>15064781</td>\n",
       "      <td>robbery</td>\n",
       "      <td>1A</td>\n",
       "      <td>2015-05-06T01:05:00.000Z</td>\n",
       "      <td>gun</td>\n",
       "      <td>38.928638407177509,-77.031210110921407</td>\n",
       "      <td>38.928631</td>\n",
       "    </tr>\n",
       "    <tr>\n",
       "      <th>2</th>\n",
       "      <td>cluster 3</td>\n",
       "      <td>4400.0</td>\n",
       "      <td>property</td>\n",
       "      <td>-77.028460</td>\n",
       "      <td>2015-05-05T22:14:00.000</td>\n",
       "      <td>motor vehicle theft</td>\n",
       "      <td>evening</td>\n",
       "      <td>139201.000000</td>\n",
       "      <td>3.0</td>\n",
       "      <td>1.0</td>\n",
       "      <td>2015</td>\n",
       "      <td>property|motor vehicle theft</td>\n",
       "      <td>NaN</td>\n",
       "      <td>3D2</td>\n",
       "      <td>305.0</td>\n",
       "      <td>8</td>\n",
       "      <td>004400 1</td>\n",
       "      <td>precinct 22</td>\n",
       "      <td>397532.000000</td>\n",
       "      <td>1200 - 1247 block of florida avenue nw</td>\n",
       "      <td>2015-05-05T18:18:00.000</td>\n",
       "      <td>15064796</td>\n",
       "      <td>motor vehicle theft</td>\n",
       "      <td>1B</td>\n",
       "      <td>2015-05-06T02:58:00.000Z</td>\n",
       "      <td>others</td>\n",
       "      <td>38.920684762113531,-77.028462123394547</td>\n",
       "      <td>38.920677</td>\n",
       "    </tr>\n",
       "    <tr>\n",
       "      <th>3</th>\n",
       "      <td>cluster 23</td>\n",
       "      <td>8804.0</td>\n",
       "      <td>violent</td>\n",
       "      <td>-76.985496</td>\n",
       "      <td>2015-06-23T08:00:00.000</td>\n",
       "      <td>homicide</td>\n",
       "      <td>midnight</td>\n",
       "      <td>137689.000000</td>\n",
       "      <td>5.0</td>\n",
       "      <td>5.0</td>\n",
       "      <td>2015</td>\n",
       "      <td>violent|homicide</td>\n",
       "      <td>NaN</td>\n",
       "      <td>5D3</td>\n",
       "      <td>506.0</td>\n",
       "      <td>1</td>\n",
       "      <td>008804 1</td>\n",
       "      <td>precinct 78</td>\n",
       "      <td>401258.000000</td>\n",
       "      <td>1200 - 1299 block of holbrook terrace ne</td>\n",
       "      <td>2015-06-23T05:23:00.000</td>\n",
       "      <td>15094190</td>\n",
       "      <td>homicide</td>\n",
       "      <td>5D</td>\n",
       "      <td>2015-06-24T04:00:00.000Z</td>\n",
       "      <td>gun</td>\n",
       "      <td>38.907066722563066,-76.985498377563218</td>\n",
       "      <td>38.907059</td>\n",
       "    </tr>\n",
       "    <tr>\n",
       "      <th>4</th>\n",
       "      <td>cluster 25</td>\n",
       "      <td>8100.0</td>\n",
       "      <td>property</td>\n",
       "      <td>-76.990245</td>\n",
       "      <td>2015-06-23T06:30:00.000</td>\n",
       "      <td>theft f/auto</td>\n",
       "      <td>day</td>\n",
       "      <td>136398.650012</td>\n",
       "      <td>1.0</td>\n",
       "      <td>6.0</td>\n",
       "      <td>2015</td>\n",
       "      <td>property|theft f/auto</td>\n",
       "      <td>NaN</td>\n",
       "      <td>1D2</td>\n",
       "      <td>107.0</td>\n",
       "      <td>7</td>\n",
       "      <td>008100 1</td>\n",
       "      <td>precinct 81</td>\n",
       "      <td>400846.210015</td>\n",
       "      <td>duncan place ne and 12th street ne</td>\n",
       "      <td>2015-06-22T22:00:00.000</td>\n",
       "      <td>15094194</td>\n",
       "      <td>theft f/auto</td>\n",
       "      <td>6A</td>\n",
       "      <td>2015-06-23T12:48:00.000Z</td>\n",
       "      <td>others</td>\n",
       "      <td>38.895443280295112,-76.990247632314322</td>\n",
       "      <td>38.895435</td>\n",
       "    </tr>\n",
       "  </tbody>\n",
       "</table>\n",
       "</div>"
      ],
      "text/plain": [
       "  NEIGHBORHOOD_CLUSTER  CENSUS_TRACT offensegroup  LONGITUDE  \\\n",
       "0           cluster 15         600.0     property -77.069766   \n",
       "1            cluster 2        3000.0      violent -77.031208   \n",
       "2            cluster 3        4400.0     property -77.028460   \n",
       "3           cluster 23        8804.0      violent -76.985496   \n",
       "4           cluster 25        8100.0     property -76.990245   \n",
       "\n",
       "                  END_DATE         offense-text     SHIFT         YBLOCK  \\\n",
       "0  2015-05-05T17:45:00.000         theft f/auto   evening  140519.000000   \n",
       "1  2015-05-05T20:55:00.000              robbery   evening  140084.000000   \n",
       "2  2015-05-05T22:14:00.000  motor vehicle theft   evening  139201.000000   \n",
       "3  2015-06-23T08:00:00.000             homicide  midnight  137689.000000   \n",
       "4  2015-06-23T06:30:00.000         theft f/auto       day  136398.650012   \n",
       "\n",
       "   DISTRICT  WARD  YEAR                    offensekey  BID sector    PSA  \\\n",
       "0       2.0   3.0  2015         property|theft f/auto  NaN    2D2  204.0   \n",
       "1       3.0   1.0  2015               violent|robbery  NaN    3D1  302.0   \n",
       "2       3.0   1.0  2015  property|motor vehicle theft  NaN    3D2  305.0   \n",
       "3       5.0   5.0  2015              violent|homicide  NaN    5D3  506.0   \n",
       "4       1.0   6.0  2015         property|theft f/auto  NaN    1D2  107.0   \n",
       "\n",
       "   ucr-rank BLOCK_GROUP VOTING_PRECINCT         XBLOCK  \\\n",
       "0         7    000600 3     precinct 27  393951.000000   \n",
       "1         4    003000 2     precinct 39  397294.000000   \n",
       "2         8    004400 1     precinct 22  397532.000000   \n",
       "3         1    008804 1     precinct 78  401258.000000   \n",
       "4         7    008100 1     precinct 81  400846.210015   \n",
       "\n",
       "                                      BLOCK               START_DATE  \\\n",
       "0     3500 - 3599 block of lowell street nw  2015-05-05T15:00:00.000   \n",
       "1     1300 - 1399 block of irving street nw  2015-05-05T20:50:00.000   \n",
       "2    1200 - 1247 block of florida avenue nw  2015-05-05T18:18:00.000   \n",
       "3  1200 - 1299 block of holbrook terrace ne  2015-06-23T05:23:00.000   \n",
       "4        duncan place ne and 12th street ne  2015-06-22T22:00:00.000   \n",
       "\n",
       "        CCN              OFFENSE ANC                REPORT_DAT  METHOD  \\\n",
       "0  15064669         theft f/auto  3C  2015-05-05T22:06:00.000Z  others   \n",
       "1  15064781              robbery  1A  2015-05-06T01:05:00.000Z     gun   \n",
       "2  15064796  motor vehicle theft  1B  2015-05-06T02:58:00.000Z  others   \n",
       "3  15094190             homicide  5D  2015-06-24T04:00:00.000Z     gun   \n",
       "4  15094194         theft f/auto  6A  2015-06-23T12:48:00.000Z  others   \n",
       "\n",
       "                                 location   LATITUDE  \n",
       "0  38.932540365033717,-77.069768169731375  38.932533  \n",
       "1  38.928638407177509,-77.031210110921407  38.928631  \n",
       "2  38.920684762113531,-77.028462123394547  38.920677  \n",
       "3  38.907066722563066,-76.985498377563218  38.907059  \n",
       "4  38.895443280295112,-76.990247632314322  38.895435  "
      ]
     },
     "execution_count": 10,
     "metadata": {},
     "output_type": "execute_result"
    }
   ],
   "source": [
    "data.head(5)"
   ]
  },
  {
   "cell_type": "code",
   "execution_count": 11,
   "metadata": {},
   "outputs": [
    {
     "data": {
      "text/html": [
       "<div>\n",
       "<style scoped>\n",
       "    .dataframe tbody tr th:only-of-type {\n",
       "        vertical-align: middle;\n",
       "    }\n",
       "\n",
       "    .dataframe tbody tr th {\n",
       "        vertical-align: top;\n",
       "    }\n",
       "\n",
       "    .dataframe thead th {\n",
       "        text-align: right;\n",
       "    }\n",
       "</style>\n",
       "<table border=\"1\" class=\"dataframe\">\n",
       "  <thead>\n",
       "    <tr style=\"text-align: right;\">\n",
       "      <th></th>\n",
       "      <th>Year</th>\n",
       "      <th>Month</th>\n",
       "      <th>Day</th>\n",
       "      <th>Hour</th>\n",
       "      <th>Temperature</th>\n",
       "      <th>Precipitation</th>\n",
       "      <th>Snowfall</th>\n",
       "    </tr>\n",
       "  </thead>\n",
       "  <tbody>\n",
       "    <tr>\n",
       "      <th>0</th>\n",
       "      <td>2010</td>\n",
       "      <td>1</td>\n",
       "      <td>1</td>\n",
       "      <td>0</td>\n",
       "      <td>44.92</td>\n",
       "      <td>0.0</td>\n",
       "      <td>0.0</td>\n",
       "    </tr>\n",
       "    <tr>\n",
       "      <th>1</th>\n",
       "      <td>2010</td>\n",
       "      <td>1</td>\n",
       "      <td>1</td>\n",
       "      <td>1</td>\n",
       "      <td>43.83</td>\n",
       "      <td>0.0</td>\n",
       "      <td>0.0</td>\n",
       "    </tr>\n",
       "    <tr>\n",
       "      <th>2</th>\n",
       "      <td>2010</td>\n",
       "      <td>1</td>\n",
       "      <td>1</td>\n",
       "      <td>2</td>\n",
       "      <td>42.22</td>\n",
       "      <td>0.0</td>\n",
       "      <td>0.0</td>\n",
       "    </tr>\n",
       "    <tr>\n",
       "      <th>3</th>\n",
       "      <td>2010</td>\n",
       "      <td>1</td>\n",
       "      <td>1</td>\n",
       "      <td>3</td>\n",
       "      <td>40.23</td>\n",
       "      <td>0.0</td>\n",
       "      <td>0.0</td>\n",
       "    </tr>\n",
       "    <tr>\n",
       "      <th>4</th>\n",
       "      <td>2010</td>\n",
       "      <td>1</td>\n",
       "      <td>1</td>\n",
       "      <td>4</td>\n",
       "      <td>39.38</td>\n",
       "      <td>0.0</td>\n",
       "      <td>0.0</td>\n",
       "    </tr>\n",
       "  </tbody>\n",
       "</table>\n",
       "</div>"
      ],
      "text/plain": [
       "   Year  Month  Day  Hour  Temperature  Precipitation  Snowfall\n",
       "0  2010      1    1     0        44.92            0.0       0.0\n",
       "1  2010      1    1     1        43.83            0.0       0.0\n",
       "2  2010      1    1     2        42.22            0.0       0.0\n",
       "3  2010      1    1     3        40.23            0.0       0.0\n",
       "4  2010      1    1     4        39.38            0.0       0.0"
      ]
     },
     "execution_count": 11,
     "metadata": {},
     "output_type": "execute_result"
    }
   ],
   "source": [
    "weather_data.head(5)"
   ]
  },
  {
   "cell_type": "markdown",
   "metadata": {},
   "source": [
    "# -------------------------DATA WRANGLING--------------------"
   ]
  },
  {
   "cell_type": "markdown",
   "metadata": {},
   "source": [
    "## 1. Wrangling crime data:"
   ]
  },
  {
   "cell_type": "code",
   "execution_count": 26,
   "metadata": {},
   "outputs": [],
   "source": [
    "class Wrangling(object):\n",
    "\n",
    "    def __init__(self, data = data):\n",
    "        self.df = data\n",
    "# drop empty rows\n",
    "    def dropNA(self):\n",
    "        self.df = self.df.dropna(how='all') # this only drop rows with 100% NA\n",
    "        return self.df\n",
    "\n",
    "    def __offense_column(self, text1 ='theft/other', text2 ='theft f/auto', text3 = 'assault w/dangerous weapon',\n",
    "                       repl1 = 'theft', repl2 = 'auto theft', repl3 = 'assault with weapon' ):\n",
    "\n",
    "        \"\"\"There are 9 categories of offenses here:\n",
    "        This function will transform the caterogies into more readable text\n",
    "        for example : assault w/dangerous weapon = assault with dangerous weapon\"\"\"\n",
    "\n",
    "        self.df['offense_text'] = self.df['offense_text'].replace([text1, text2, # add the column name to the arguments.\n",
    "        text3], [repl1, repl2, repl3])\n",
    "        return self.df\n",
    "\n",
    "    def date_time_transformer(self, time = 'START_DATE', second_date = 'REPORT_DAT', third_date = 'END_DATE'):\n",
    "        ''' transform into datetime 64 object and eliminate the second date column'''\n",
    "        self.df[second_date] = pd.to_datetime(self.df['REPORT_DAT'])\n",
    "        self.df[time] = pd.to_datetime(self.df['START_DATE'])\n",
    "        self.df.drop([third_date], axis = 1, inplace = True)\n",
    "        return self.df\n",
    "\n",
    "    def __latlong_cutter(self):\n",
    "        \"\"\" Reduce the presition of the lat long data by cutting them.\"\"\"\n",
    "        self.newlat = []\n",
    "        self.newlon = []\n",
    "        for item in self.df['LATITUDE']:\n",
    "            item = str(item)\n",
    "            item = float(item[0:6])\n",
    "            self.newlat.append(item)\n",
    "\n",
    "        self.df['LATITUDE'] = self.newlat\n",
    "\n",
    "        for item in self.df['LONGITUDE']:\n",
    "            item = str(item)\n",
    "            item = float(item[0:7])\n",
    "            self.newlon.append(item)\n",
    "        self.df['LONGITUDE'] = self.newlon\n",
    "\n",
    "        return self.df\n",
    "\n",
    "    def lat_long_rounder(self, decimals = 3):\n",
    "        \"\"\" Reduce the presition of the lat long data by rounging decimals\"\"\"\n",
    "        self.df['LATITUDE'] = self.df['LATITUDE'].round(decimals = decimals)\n",
    "        self.df['LONGITUDE'] = self.df['LONGITUDE'].round(decimals = decimals)\n",
    "        return self.df\n",
    "\n",
    "    def adress_format_modifier(self):\n",
    "        \"\"\"This columns replace some of the content from the block columns to it is easy to parse it\"\"\"\n",
    "\n",
    "        self.splitted = []\n",
    "\n",
    "        # creating the splited column\n",
    "        # this is working. it cannot be transformed into pandas' .replace because it is using the split method\n",
    "        # Note that the built in .replace it does not work properly with integers and neither with large amounts of\n",
    "        # things to change.. This works but it is not very wise to use.\n",
    "        for row in self.df['BLOCK']:\n",
    "            row = row.replace(\"block of \", \"\")\n",
    "            row = row.replace(\"street\", \"St\")\n",
    "            row = row.replace(\"-\", \"\")\n",
    "            row = row.split(' ', 1)\n",
    "            self.splitted.append(row)\n",
    "        self.df['splitted'] = self.splitted\n",
    "        return self.df\n",
    "\n",
    "    def block_parser(self):\n",
    "        \"\"\" This is the block parser that separate block in start and en blocks\"\"\"\n",
    "\n",
    "        self.startblock = []\n",
    "        self.endblock_1 = []\n",
    "        self.endblock = []\n",
    "        #  create column 'startblock'\n",
    "        for row in self.df['splitted']:\n",
    "            row = row[0]\n",
    "            self.startblock.append(row)\n",
    "        self.df['startblock'] = self.startblock\n",
    "        # create column  'endblock_1'\n",
    "        for row in self.df['splitted']:\n",
    "            row = row[-1].lstrip() # enblock_1\n",
    "            row = row.split(' ',1)\n",
    "            self.endblock_1.append(row)\n",
    "        self.df['endblock_1'] = self.endblock_1\n",
    "        # create column  'endblock'\n",
    "        for row in self.df['endblock_1']:\n",
    "            row = row[0]\n",
    "            self.endblock.append(row)\n",
    "        self.df['endblock'] = self.endblock\n",
    "        return self.df\n",
    "\n",
    "    def street_parser(self):\n",
    "        self.street = []\n",
    "        #creating column 'street'\n",
    "        for row in self.df['endblock_1']:\n",
    "            row = row[1]\n",
    "            self.street.append(row)\n",
    "        self.df['street'] = self.street\n",
    "        return self.df"
   ]
  },
  {
   "cell_type": "code",
   "execution_count": 27,
   "metadata": {},
   "outputs": [],
   "source": [
    "Wrangled = Wrangling()\n",
    "Wrangled.dropNA()\n",
    "Wrangled.date_time_transformer()\n",
    "Wrangled.lat_long_rounder()\n",
    "Wrangled.adress_format_modifier()\n",
    "Wrangled.block_parser()\n",
    "crime_df = Wrangled.street_parser()"
   ]
  },
  {
   "cell_type": "code",
   "execution_count": 28,
   "metadata": {},
   "outputs": [],
   "source": [
    "crime_df[\"REPORT_DAT\"] = pd.to_datetime(crime_df[\"REPORT_DAT\"])"
   ]
  },
  {
   "cell_type": "markdown",
   "metadata": {},
   "source": [
    "### 1.1: Set the REPORT_DAT column from the crime dataset as an index:"
   ]
  },
  {
   "cell_type": "code",
   "execution_count": 29,
   "metadata": {},
   "outputs": [],
   "source": [
    "crime_df = crime_df.rename(columns = {'REPORT_DAT': 'datetime'})"
   ]
  },
  {
   "cell_type": "code",
   "execution_count": 30,
   "metadata": {},
   "outputs": [],
   "source": [
    "crime_df[\"year\"] =crime_df[\"START_DATE\"].dt.year\n",
    "crime_df[\"month\"] =crime_df[\"START_DATE\"].dt.month\n",
    "crime_df[\"day\"] =crime_df[\"START_DATE\"].dt.day\n",
    "crime_df[\"hour\"] =crime_df[\"START_DATE\"].dt.hour\n",
    "crime_df[\"minute\"] =crime_df[\"START_DATE\"].dt.minute\n",
    "crime_df[\"second\"] =crime_df[\"START_DATE\"].dt.second"
   ]
  },
  {
   "cell_type": "markdown",
   "metadata": {},
   "source": [
    "#### 1.1.1 The maximum precision of the weather dataset is hourly, so we need to change the format:"
   ]
  },
  {
   "cell_type": "code",
   "execution_count": 31,
   "metadata": {},
   "outputs": [],
   "source": [
    "crime_df['datetime'] = crime_df['datetime'].apply(lambda x: x.replace(minute = 0, second = 0))"
   ]
  },
  {
   "cell_type": "markdown",
   "metadata": {},
   "source": [
    "#### 1.1.2: Adding index to crime dataset:"
   ]
  },
  {
   "cell_type": "code",
   "execution_count": 32,
   "metadata": {},
   "outputs": [],
   "source": [
    "crime_df = crime_df.set_index(pd.DatetimeIndex(crime_df['datetime']), drop = False)"
   ]
  },
  {
   "cell_type": "markdown",
   "metadata": {},
   "source": [
    "## 2. Wrangling weather data:"
   ]
  },
  {
   "cell_type": "code",
   "execution_count": 33,
   "metadata": {},
   "outputs": [],
   "source": [
    "weather_data['datetime'] =  pd.to_datetime(weather_data[['Year', 'Month', 'Day', 'Hour']])"
   ]
  },
  {
   "cell_type": "markdown",
   "metadata": {},
   "source": [
    "### 2.1 Seting index for weather data:"
   ]
  },
  {
   "cell_type": "code",
   "execution_count": 34,
   "metadata": {},
   "outputs": [],
   "source": [
    "weather_data = weather_data.set_index(pd.DatetimeIndex(weather_data['datetime']), drop = False)"
   ]
  },
  {
   "cell_type": "code",
   "execution_count": 35,
   "metadata": {},
   "outputs": [
    {
     "name": "stdout",
     "output_type": "stream",
     "text": [
      "<class 'pandas.core.frame.DataFrame'>\n",
      "DatetimeIndex: 74064 entries, 2010-01-01 00:00:00 to 2018-06-13 23:00:00\n",
      "Data columns (total 8 columns):\n",
      "Year             74064 non-null int64\n",
      "Month            74064 non-null int64\n",
      "Day              74064 non-null int64\n",
      "Hour             74064 non-null int64\n",
      "Temperature      74064 non-null float64\n",
      "Precipitation    74064 non-null float64\n",
      "Snowfall         74064 non-null float64\n",
      "datetime         74064 non-null datetime64[ns]\n",
      "dtypes: datetime64[ns](1), float64(3), int64(4)\n",
      "memory usage: 5.1 MB\n"
     ]
    }
   ],
   "source": [
    "weather_data.info()"
   ]
  },
  {
   "cell_type": "markdown",
   "metadata": {},
   "source": [
    "## 3. Merging the two datasets:"
   ]
  },
  {
   "cell_type": "markdown",
   "metadata": {},
   "source": [
    "\n",
    "First, we need to be sure that there are no duplicated values:"
   ]
  },
  {
   "cell_type": "code",
   "execution_count": 36,
   "metadata": {},
   "outputs": [
    {
     "data": {
      "text/plain": [
       "0    0\n",
       "dtype: int64"
      ]
     },
     "execution_count": 36,
     "metadata": {},
     "output_type": "execute_result"
    }
   ],
   "source": [
    "a= weather_data.index.duplicated(keep = False)\n",
    "a = DataFrame(a)\n",
    "b = a[a[0]== True]\n",
    "b.count()"
   ]
  },
  {
   "cell_type": "markdown",
   "metadata": {},
   "source": [
    "### 3.1 Setting up the time range:"
   ]
  },
  {
   "cell_type": "code",
   "execution_count": 37,
   "metadata": {},
   "outputs": [
    {
     "name": "stdout",
     "output_type": "stream",
     "text": [
      "2010-06-11 04:00:00\n",
      "2018-06-11 03:00:00\n"
     ]
    }
   ],
   "source": [
    "print(crime_df['datetime'].min())\n",
    "print(crime_df['datetime'].max())"
   ]
  },
  {
   "cell_type": "markdown",
   "metadata": {},
   "source": [
    "Sorting Values:"
   ]
  },
  {
   "cell_type": "code",
   "execution_count": 38,
   "metadata": {},
   "outputs": [],
   "source": [
    "crime_df = crime_df.sort_values('datetime')\n",
    "weather_data = weather_data.sort_values('datetime')"
   ]
  },
  {
   "cell_type": "markdown",
   "metadata": {},
   "source": [
    "#### 3.1.1 Setting up the time range so it matches the crime data . The weather dataset contains dates that do not exist on the crime dataset. Also, the minimum common time unit is hour:"
   ]
  },
  {
   "cell_type": "code",
   "execution_count": 39,
   "metadata": {},
   "outputs": [],
   "source": [
    "idx = pd.date_range('2010-06-11 04:00:00', '2018-06-11 03:00:00', freq = \"H\")"
   ]
  },
  {
   "cell_type": "code",
   "execution_count": 40,
   "metadata": {},
   "outputs": [
    {
     "name": "stdout",
     "output_type": "stream",
     "text": [
      "<class 'pandas.core.frame.DataFrame'>\n",
      "DatetimeIndex: 282475 entries, 2010-06-11 04:00:00 to 2018-06-11 03:00:00\n",
      "Data columns (total 38 columns):\n",
      "NEIGHBORHOOD_CLUSTER    278891 non-null object\n",
      "CENSUS_TRACT            281632 non-null float64\n",
      "offensegroup            282475 non-null object\n",
      "LONGITUDE               282475 non-null float64\n",
      "offense-text            282475 non-null object\n",
      "SHIFT                   282475 non-null object\n",
      "YBLOCK                  282475 non-null float64\n",
      "DISTRICT                282313 non-null float64\n",
      "WARD                    282463 non-null float64\n",
      "YEAR                    282475 non-null int64\n",
      "offensekey              282475 non-null object\n",
      "BID                     46124 non-null object\n",
      "sector                  282296 non-null object\n",
      "PSA                     282296 non-null float64\n",
      "ucr-rank                282475 non-null int64\n",
      "BLOCK_GROUP             281632 non-null object\n",
      "VOTING_PRECINCT         282414 non-null object\n",
      "XBLOCK                  282475 non-null float64\n",
      "BLOCK                   282475 non-null object\n",
      "START_DATE              282467 non-null datetime64[ns]\n",
      "CCN                     282475 non-null int64\n",
      "OFFENSE                 282475 non-null object\n",
      "ANC                     282475 non-null object\n",
      "datetime                282475 non-null datetime64[ns]\n",
      "METHOD                  282475 non-null object\n",
      "location                282475 non-null object\n",
      "LATITUDE                282475 non-null float64\n",
      "splitted                282475 non-null object\n",
      "startblock              282475 non-null object\n",
      "endblock_1              282475 non-null object\n",
      "endblock                282475 non-null object\n",
      "street                  282475 non-null object\n",
      "year                    282467 non-null float64\n",
      "month                   282467 non-null float64\n",
      "day                     282467 non-null float64\n",
      "hour                    282467 non-null float64\n",
      "minute                  282467 non-null float64\n",
      "second                  282467 non-null float64\n",
      "dtypes: datetime64[ns](2), float64(14), int64(3), object(19)\n",
      "memory usage: 84.0+ MB\n"
     ]
    }
   ],
   "source": [
    "crime_df.info()"
   ]
  },
  {
   "cell_type": "markdown",
   "metadata": {},
   "source": [
    "## 4. Merging both datasets:"
   ]
  },
  {
   "cell_type": "code",
   "execution_count": 41,
   "metadata": {},
   "outputs": [],
   "source": [
    "df = pd.merge(crime_df, weather_data, how='left', on='datetime', left_index= True)"
   ]
  },
  {
   "cell_type": "code",
   "execution_count": 42,
   "metadata": {
    "scrolled": true
   },
   "outputs": [
    {
     "name": "stdout",
     "output_type": "stream",
     "text": [
      "Index(['NEIGHBORHOOD_CLUSTER', 'CENSUS_TRACT', 'offensegroup', 'LONGITUDE',\n",
      "       'offense-text', 'SHIFT', 'YBLOCK', 'DISTRICT', 'WARD', 'YEAR',\n",
      "       'offensekey', 'BID', 'sector', 'PSA', 'ucr-rank', 'BLOCK_GROUP',\n",
      "       'VOTING_PRECINCT', 'XBLOCK', 'BLOCK', 'START_DATE', 'CCN', 'OFFENSE',\n",
      "       'ANC', 'datetime', 'METHOD', 'location', 'LATITUDE', 'splitted',\n",
      "       'startblock', 'endblock_1', 'endblock', 'street', 'year', 'month',\n",
      "       'day', 'hour', 'minute', 'second', 'Year', 'Month', 'Day', 'Hour',\n",
      "       'Temperature', 'Precipitation', 'Snowfall'],\n",
      "      dtype='object')\n"
     ]
    }
   ],
   "source": [
    "print(df.columns)"
   ]
  },
  {
   "cell_type": "markdown",
   "metadata": {},
   "source": [
    "### 4.1 Saving all to disk:"
   ]
  },
  {
   "cell_type": "code",
   "execution_count": 43,
   "metadata": {},
   "outputs": [],
   "source": [
    "with open('merged_dataset.pickle', 'wb') as dataframe:\n",
    "    \n",
    "    pickle.dump(df , dataframe)"
   ]
  }
 ],
 "metadata": {
  "kernelspec": {
   "display_name": "Python 3",
   "language": "python",
   "name": "python3"
  },
  "language_info": {
   "codemirror_mode": {
    "name": "ipython",
    "version": 3
   },
   "file_extension": ".py",
   "mimetype": "text/x-python",
   "name": "python",
   "nbconvert_exporter": "python",
   "pygments_lexer": "ipython3",
   "version": "3.6.5"
  }
 },
 "nbformat": 4,
 "nbformat_minor": 2
}
