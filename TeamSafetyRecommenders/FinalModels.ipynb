{
 "cells": [
  {
   "cell_type": "code",
   "execution_count": 1,
   "metadata": {},
   "outputs": [],
   "source": [
    "%matplotlib notebook\n",
    "import IPython\n",
    "from IPython.display import display\n",
    "import pandas as pd\n",
    "import csv\n",
    "from numpy import nan as NA\n",
    "from datetime import datetime\n",
    "import re\n",
    "import sys\n",
    "import numpy as np\n",
    "import matplotlib.pyplot as plt \n",
    "from pandas import *\n",
    "import pickle\n",
    "import requests\n",
    "import os\n",
    "from sklearn import model_selection\n",
    "from sklearn.model_selection import cross_val_score\n",
    "from sklearn.metrics import classification_report\n",
    "from sklearn.pipeline import Pipeline\n",
    "from yellowbrick.classifier import ClassificationReport\n",
    "from sklearn.naive_bayes import GaussianNB\n",
    "from sklearn.naive_bayes import MultinomialNB\n",
    "from sklearn.svm import LinearSVC, NuSVC, SVC\n",
    "from sklearn.linear_model import LogisticRegressionCV, LogisticRegression, SGDClassifier\n",
    "from sklearn.ensemble import BaggingClassifier, ExtraTreesClassifier, RandomForestClassifier\n",
    "from sklearn.preprocessing import StandardScaler\n",
    "from sklearn.preprocessing import MinMaxScaler\n",
    "from sklearn.preprocessing import Normalizer\n",
    "from sklearn.neighbors import KNeighborsClassifier\n",
    "from sklearn.model_selection import GridSearchCV\n",
    "from sklearn.linear_model import PassiveAggressiveClassifier\n",
    "from sklearn.neural_network import MLPClassifier"
   ]
  },
  {
   "cell_type": "code",
   "execution_count": 2,
   "metadata": {},
   "outputs": [],
   "source": [
    "#Panda settings\n",
    "#Pandas will not display all columns in our data when using the head() function without this\n",
    "pd.set_option('max_columns',50) \n",
    "pd.set_option('display.max_columns', None)\n",
    "pd.set_option('display.max_rows', None)"
   ]
  },
  {
   "cell_type": "markdown",
   "metadata": {},
   "source": [
    "## 0.0 Opening Pickled Files"
   ]
  },
  {
   "cell_type": "code",
   "execution_count": 3,
   "metadata": {},
   "outputs": [],
   "source": [
    "with open('x_y_z.pickle', 'rb') as xyz:\n",
    "    feat_var = pickle.load(xyz)"
   ]
  },
  {
   "cell_type": "code",
   "execution_count": 4,
   "metadata": {},
   "outputs": [],
   "source": [
    "X =  feat_var[0]\n",
    "y =  feat_var[1] #y is \"offense group\"\n",
    "z =  feat_var[2] # z is \"ucr-rank\""
   ]
  },
  {
   "cell_type": "code",
   "execution_count": 5,
   "metadata": {},
   "outputs": [
    {
     "data": {
      "text/plain": [
       "6    102462\n",
       "7     82325\n",
       "4     26379\n",
       "5     23033\n",
       "8     22602\n",
       "3     17686\n",
       "2      2170\n",
       "1       942\n",
       "9       196\n",
       "Name: ucr-rank, dtype: int64"
      ]
     },
     "execution_count": 5,
     "metadata": {},
     "output_type": "execute_result"
    }
   ],
   "source": [
    "z_i = pd.Series(z)\n",
    "z_i.value_counts()"
   ]
  },
  {
   "cell_type": "code",
   "execution_count": 6,
   "metadata": {},
   "outputs": [],
   "source": [
    "X = X[[\"hour\",\"street\", \"month\", \"day\", \"LATITUDE\", \"LONGITUDE\", \"Temperature\"]]"
   ]
  },
  {
   "cell_type": "markdown",
   "metadata": {},
   "source": [
    "# 1 Target variable \"offensegroup\" y"
   ]
  },
  {
   "cell_type": "markdown",
   "metadata": {},
   "source": [
    "As we saw in the previous notebook. There was a significant class imbalance in our target variable and that was evident when showing our results. There are many methods to deal with class imbalance but we will focus on the two most popular: Up-Sampling( randomly adding elements to our minority class) and Down-sampling( reducing the number of elements in our minority class). \n",
    "\n",
    "In this example we will use cross validation of 12, And we will use the best parameters obtained during hyperparameter tunning."
   ]
  },
  {
   "cell_type": "code",
   "execution_count": 7,
   "metadata": {},
   "outputs": [
    {
     "data": {
      "text/plain": [
       "0    230618\n",
       "1     47177\n",
       "dtype: int64"
      ]
     },
     "execution_count": 7,
     "metadata": {},
     "output_type": "execute_result"
    }
   ],
   "source": [
    "y_i = pd.Series(y)\n",
    "y_i.value_counts()  # 0 non violent, 1 violent"
   ]
  },
  {
   "cell_type": "markdown",
   "metadata": {},
   "source": [
    "## 1.1 Up-Sampling"
   ]
  },
  {
   "cell_type": "code",
   "execution_count": 8,
   "metadata": {},
   "outputs": [],
   "source": [
    "from collections import Counter\n",
    "from imblearn.over_sampling import RandomOverSampler \n",
    "ros = RandomOverSampler(random_state=42)\n",
    "X_res, y_res = ros.fit_sample(X, y)"
   ]
  },
  {
   "cell_type": "code",
   "execution_count": 9,
   "metadata": {},
   "outputs": [
    {
     "name": "stdout",
     "output_type": "stream",
     "text": [
      "<class 'pandas.core.frame.DataFrame'>\n",
      "RangeIndex: 461236 entries, 0 to 461235\n",
      "Data columns (total 7 columns):\n",
      "0    461236 non-null int64\n",
      "1    461236 non-null int64\n",
      "2    461236 non-null int64\n",
      "3    461236 non-null int64\n",
      "4    461236 non-null int64\n",
      "5    461236 non-null int64\n",
      "6    461236 non-null int64\n",
      "dtypes: int64(7)\n",
      "memory usage: 24.6 MB\n",
      "None\n",
      "1    230618\n",
      "0    230618\n",
      "dtype: int64\n"
     ]
    }
   ],
   "source": [
    "X_res_i = pd.DataFrame(X_res)\n",
    "y_res_i = pd.Series(y_res)\n",
    "\n",
    "print (X_res_i.info())\n",
    "print (y_res_i.value_counts())"
   ]
  },
  {
   "cell_type": "markdown",
   "metadata": {},
   "source": [
    "The module performed the oversampling with success \n"
   ]
  },
  {
   "cell_type": "markdown",
   "metadata": {},
   "source": [
    "Choosing the best parameters using the best models from the previous notebook:"
   ]
  },
  {
   "cell_type": "code",
   "execution_count": 10,
   "metadata": {},
   "outputs": [],
   "source": [
    "knn = KNeighborsClassifier(n_neighbors = 50, n_jobs= -1) \n",
    "rnf = RandomForestClassifier(n_estimators = 128, n_jobs= -1)\n",
    "# ann = MLPClassifier(hidden_layer_sizes = (300,), max_iter = 400)\n",
    "sgd = SGDClassifier(alpha = 0.0001, n_jobs= -1)\n",
    "baggin = BaggingClassifier(max_features = 5, max_samples = 100, n_estimators = 100, n_jobs= -1)\n",
    "pas = PassiveAggressiveClassifier(C = 100, fit_intercept = True, max_iter = 10, n_jobs = -1)"
   ]
  },
  {
   "cell_type": "code",
   "execution_count": 11,
   "metadata": {},
   "outputs": [],
   "source": [
    "import multiprocessing\n",
    "from multiprocessing import Process\n",
    "from sklearn.model_selection import StratifiedKFold\n",
    "from sklearn.metrics import accuracy_score, f1_score, precision_score, recall_score\n"
   ]
  },
  {
   "cell_type": "code",
   "execution_count": 12,
   "metadata": {},
   "outputs": [],
   "source": [
    "\n",
    "def sampling_offensegroup(features, target, average, pickle_file, pickle_estimators):\n",
    "    \n",
    "    \n",
    "    scores = {'accuracy_knn':[], 'f1_knn':[], 'precision_knn':[], 'recall_knn':[],\n",
    "                          'accuracy_rnf':[], 'f1_rnf':[], 'precision_rnf':[], 'recall_rnf':[],\n",
    "                          'accuracy_sgd':[], 'f1_sgd':[], 'precision_sgd':[], 'recall_sgd':[],\n",
    "                          'accuracy_baggin':[], 'f1_baggin':[], 'precision_baggin':[], 'recall_baggin':[],\n",
    "                          'accuracy_pas':[], 'f1_pas':[], 'precision_pas':[], 'recall_pas':[]}\n",
    "\n",
    "    \n",
    "    \n",
    "    skf = StratifiedKFold(n_splits=12)\n",
    "\n",
    "    for train_index, test_index in skf.split(features, target):\n",
    "        X_train, X_test = features[train_index], features[test_index]\n",
    "        y_train, y_test = target[train_index], target[test_index]\n",
    "    \n",
    "        # scaling:\n",
    "        scaler = StandardScaler()\n",
    "        X_train = scaler.fit(X_train).transform(X_train)\n",
    "        X_test = scaler.fit(X_test).transform(X_test)\n",
    "    \n",
    "        # knn:\n",
    "        fitted_knn = knn.fit(X_train, y_train)\n",
    "        predicted_knn = knn.predict(X_test)\n",
    "        report_knn = classification_report(y_test, predicted_knn)\n",
    "        scores['accuracy_knn'].append(accuracy_score(y_test, predicted_knn))\n",
    "        scores['f1_knn'].append(f1_score(y_test, predicted_knn, average = average))\n",
    "        scores['precision_knn'].append(precision_score(y_test, predicted_knn, average = average))\n",
    "        scores['recall_knn'].append(recall_score(y_test, predicted_knn, average = average))   \n",
    "                                      \n",
    "                                      \n",
    "       \n",
    "        \n",
    "        # rnf:\n",
    "        fitted_rnf = rnf.fit(X_train, y_train)\n",
    "        predicted_rnf = rnf.predict(X_test)\n",
    "        report_rnf = classification_report(y_test, predicted_rnf)\n",
    "        scores['accuracy_rnf'].append(accuracy_score(y_test, predicted_rnf))\n",
    "        scores['f1_rnf'].append(f1_score(y_test, predicted_rnf, average = average))\n",
    "        scores['precision_rnf'].append(precision_score(y_test, predicted_rnf, average = average))\n",
    "        scores['recall_rnf'].append(recall_score(y_test, predicted_rnf, average = average))\n",
    "                                    \n",
    "       \n",
    "        \n",
    "        # ann: too slow, takes very long time\n",
    "        #fitted_ann = ann.fit(X_train, y_train)\n",
    "        #predicted_ann = ann.predict(X_test)\n",
    "        #report_ann = classification_report(y_test, predicted_ann)\n",
    "        #classification_dict['report_ann'].append(report_ann)\n",
    "        \n",
    "    \n",
    "      \n",
    "        # sgd:\n",
    "        fitted_sgd = sgd.fit(X_train, y_train)\n",
    "        predicted_sgd = sgd.predict(X_test)\n",
    "        report_sgd = classification_report(y_test, predicted_sgd)\n",
    "        scores['accuracy_sgd'].append(accuracy_score(y_test, predicted_sgd))\n",
    "        scores['f1_sgd'].append(f1_score(y_test, predicted_sgd, average = average))\n",
    "        scores['precision_sgd'].append(precision_score(y_test, predicted_sgd, average = average))\n",
    "        scores['recall_sgd'].append(recall_score(y_test, predicted_sgd, average = average))\n",
    "    \n",
    "        #baggin:\n",
    "    \n",
    "        fitted_baggin = baggin.fit(X_train, y_train)\n",
    "        predicted_baggin = baggin.predict(X_test)\n",
    "        report_baggin = classification_report(y_test, predicted_baggin)\n",
    "        scores['accuracy_baggin'].append(accuracy_score(y_test, predicted_baggin))\n",
    "        scores['f1_baggin'].append(f1_score(y_test, predicted_baggin, average = average))\n",
    "        scores['precision_baggin'].append(precision_score(y_test, predicted_baggin, average = average))\n",
    "        scores['recall_baggin'].append(recall_score(y_test, predicted_baggin, average = average))\n",
    "        \n",
    "        \n",
    "        # pas:\n",
    "        \n",
    "        fitted_pas = pas.fit(X_train, y_train)\n",
    "        predicted_pas = pas.predict(X_test)\n",
    "        report_pas = classification_report(y_test, predicted_pas)\n",
    "        scores['accuracy_pas'].append(accuracy_score(y_test, predicted_pas))\n",
    "        scores['f1_pas'].append(f1_score(y_test, predicted_pas, average = average))\n",
    "        scores['precision_pas'].append(precision_score(y_test, predicted_pas, average = average))\n",
    "        scores['recall_pas'].append(recall_score(y_test, predicted_pas, average = average))\n",
    "        \n",
    "    \n",
    "        print(scores)\n",
    "    \n",
    "        # write last estimator to disc.\n",
    "    \n",
    "        with open(pickle_file, 'wb') as a:\n",
    "            pickle.dump([fitted_knn, fitted_rnf, fitted_sgd, fitted_baggin, fitted_pas] , a)\n",
    "        \n",
    "        with open(pickle_estimators, 'wb') as est:\n",
    "            pickle.dump([predicted_knn, predicted_rnf, predicted_sgd, predicted_baggin, predicted_pas,\n",
    "                        report_knn, report_rnf, report_sgd, report_baggin, report_pas] , est)\n",
    "            \n",
    "            \n",
    "        \n",
    "    print('DONE!')\n",
    "        \n",
    "    return (scores)\n",
    "\n"
   ]
  },
  {
   "cell_type": "code",
   "execution_count": 19,
   "metadata": {
    "scrolled": false
   },
   "outputs": [
    {
     "name": "stderr",
     "output_type": "stream",
     "text": [
      "c:\\users\\franc\\appdata\\local\\programs\\python\\python36\\lib\\site-packages\\sklearn\\utils\\validation.py:475: DataConversionWarning: Data with input dtype int64 was converted to float64 by StandardScaler.\n",
      "  warnings.warn(msg, DataConversionWarning)\n",
      "c:\\users\\franc\\appdata\\local\\programs\\python\\python36\\lib\\site-packages\\sklearn\\linear_model\\stochastic_gradient.py:128: FutureWarning: max_iter and tol parameters have been added in <class 'sklearn.linear_model.stochastic_gradient.SGDClassifier'> in 0.19. If both are left unset, they default to max_iter=5 and tol=None. If tol is not None, max_iter defaults to max_iter=1000. From 0.21, default max_iter will be 1000, and default tol will be 1e-3.\n",
      "  \"and default tol will be 1e-3.\" % type(self), FutureWarning)\n"
     ]
    },
    {
     "name": "stdout",
     "output_type": "stream",
     "text": [
      "{'accuracy_knn': [0.6457932254539779], 'f1_knn': [0.6632034632034632], 'precision_knn': [0.6321324153541451], 'recall_knn': [0.6974868619595193], 'accuracy_rnf': [0.7414537697070607], 'f1_rnf': [0.6820857325655789], 'precision_rnf': [0.8853915787725272], 'recall_rnf': [0.5547114834278578], 'accuracy_sgd': [0.5727665331182684], 'f1_sgd': [0.5640562782054684], 'precision_sgd': [0.5757953498455368], 'recall_sgd': [0.5527863052187939], 'accuracy_baggin': [0.6180862687965034], 'f1_baggin': [0.6220585963647598], 'precision_baggin': [0.6156550986087754], 'recall_baggin': [0.6285967011811229], 'accuracy_pas': [0.527134606379104], 'f1_pas': [0.554902536977177], 'precision_pas': [0.5241245316186335], 'recall_pas': [0.5895207867214736]}\n"
     ]
    },
    {
     "name": "stderr",
     "output_type": "stream",
     "text": [
      "c:\\users\\franc\\appdata\\local\\programs\\python\\python36\\lib\\site-packages\\sklearn\\utils\\validation.py:475: DataConversionWarning: Data with input dtype int64 was converted to float64 by StandardScaler.\n",
      "  warnings.warn(msg, DataConversionWarning)\n",
      "c:\\users\\franc\\appdata\\local\\programs\\python\\python36\\lib\\site-packages\\sklearn\\linear_model\\stochastic_gradient.py:128: FutureWarning: max_iter and tol parameters have been added in <class 'sklearn.linear_model.stochastic_gradient.SGDClassifier'> in 0.19. If both are left unset, they default to max_iter=5 and tol=None. If tol is not None, max_iter defaults to max_iter=1000. From 0.21, default max_iter will be 1000, and default tol will be 1e-3.\n",
      "  \"and default tol will be 1e-3.\" % type(self), FutureWarning)\n"
     ]
    },
    {
     "name": "stdout",
     "output_type": "stream",
     "text": [
      "{'accuracy_knn': [0.6457932254539779, 0.6630677974920651], 'f1_knn': [0.6632034632034632, 0.6821450484722051], 'precision_knn': [0.6321324153541451, 0.645591377868624], 'recall_knn': [0.6974868619595193, 0.7230865289557209], 'accuracy_rnf': [0.7414537697070607, 0.7320099901139497], 'f1_rnf': [0.6820857325655789, 0.6651279217190599], 'precision_rnf': [0.8853915787725272, 0.8863281926875758], 'recall_rnf': [0.5547114834278578, 0.5322857588844373], 'accuracy_sgd': [0.5727665331182684, 0.6218325615276549], 'f1_sgd': [0.5640562782054684, 0.6138150903294367], 'precision_sgd': [0.5757953498455368, 0.6271103631724662], 'recall_sgd': [0.5527863052187939, 0.6010718559758572], 'accuracy_baggin': [0.6180862687965034, 0.6419688849575941], 'f1_baggin': [0.6220585963647598, 0.634417171395176], 'precision_baggin': [0.6156550986087754, 0.6480868385345997], 'recall_baggin': [0.6285967011811229, 0.6213122430927728], 'accuracy_pas': [0.527134606379104, 0.4588428118008221], 'f1_pas': [0.554902536977177, 0.461016246469567], 'precision_pas': [0.5241245316186335, 0.45917208630122847], 'recall_pas': [0.5895207867214736, 0.46287527967115877]}\n"
     ]
    },
    {
     "name": "stderr",
     "output_type": "stream",
     "text": [
      "c:\\users\\franc\\appdata\\local\\programs\\python\\python36\\lib\\site-packages\\sklearn\\utils\\validation.py:475: DataConversionWarning: Data with input dtype int64 was converted to float64 by StandardScaler.\n",
      "  warnings.warn(msg, DataConversionWarning)\n",
      "c:\\users\\franc\\appdata\\local\\programs\\python\\python36\\lib\\site-packages\\sklearn\\linear_model\\stochastic_gradient.py:128: FutureWarning: max_iter and tol parameters have been added in <class 'sklearn.linear_model.stochastic_gradient.SGDClassifier'> in 0.19. If both are left unset, they default to max_iter=5 and tol=None. If tol is not None, max_iter defaults to max_iter=1000. From 0.21, default max_iter will be 1000, and default tol will be 1e-3.\n",
      "  \"and default tol will be 1e-3.\" % type(self), FutureWarning)\n"
     ]
    },
    {
     "name": "stdout",
     "output_type": "stream",
     "text": [
      "{'accuracy_knn': [0.6457932254539779, 0.6630677974920651, 0.6510042668331772], 'f1_knn': [0.6632034632034632, 0.6821450484722051, 0.6655530068814202], 'precision_knn': [0.6321324153541451, 0.645591377868624, 0.6389181426519865], 'recall_knn': [0.6974868619595193, 0.7230865289557209, 0.6945051514205433], 'accuracy_rnf': [0.7414537697070607, 0.7320099901139497, 0.8843011759808513], 'f1_rnf': [0.6820857325655789, 0.6651279217190599, 0.8790491473332064], 'precision_rnf': [0.8853915787725272, 0.8863281926875758, 0.920850190894068], 'recall_rnf': [0.5547114834278578, 0.5322857588844373, 0.840878343219898], 'accuracy_sgd': [0.5727665331182684, 0.6218325615276549, 0.5990217504422937], 'f1_sgd': [0.5640562782054684, 0.6138150903294367, 0.5778459515722582], 'precision_sgd': [0.5757953498455368, 0.6271103631724662, 0.6100636205899364], 'recall_sgd': [0.5527863052187939, 0.6010718559758572, 0.548860443334374], 'accuracy_baggin': [0.6180862687965034, 0.6419688849575941, 0.6297481527734415], 'f1_baggin': [0.6220585963647598, 0.634417171395176, 0.6503010197813], 'precision_baggin': [0.6156550986087754, 0.6480868385345997, 0.6161009451971877], 'recall_baggin': [0.6285967011811229, 0.6213122430927728, 0.6885211780622333], 'accuracy_pas': [0.527134606379104, 0.4588428118008221, 0.5430065563534187], 'f1_pas': [0.554902536977177, 0.461016246469567, 0.5451485097236968], 'precision_pas': [0.5241245316186335, 0.45917208630122847, 0.5426052889324192], 'recall_pas': [0.5895207867214736, 0.46287527967115877, 0.5477156832136538]}\n"
     ]
    },
    {
     "name": "stderr",
     "output_type": "stream",
     "text": [
      "c:\\users\\franc\\appdata\\local\\programs\\python\\python36\\lib\\site-packages\\sklearn\\utils\\validation.py:475: DataConversionWarning: Data with input dtype int64 was converted to float64 by StandardScaler.\n",
      "  warnings.warn(msg, DataConversionWarning)\n",
      "c:\\users\\franc\\appdata\\local\\programs\\python\\python36\\lib\\site-packages\\sklearn\\linear_model\\stochastic_gradient.py:128: FutureWarning: max_iter and tol parameters have been added in <class 'sklearn.linear_model.stochastic_gradient.SGDClassifier'> in 0.19. If both are left unset, they default to max_iter=5 and tol=None. If tol is not None, max_iter defaults to max_iter=1000. From 0.21, default max_iter will be 1000, and default tol will be 1e-3.\n",
      "  \"and default tol will be 1e-3.\" % type(self), FutureWarning)\n"
     ]
    },
    {
     "name": "stdout",
     "output_type": "stream",
     "text": [
      "{'accuracy_knn': [0.6457932254539779, 0.6630677974920651, 0.6510042668331772, 0.6622177125611406], 'f1_knn': [0.6632034632034632, 0.6821450484722051, 0.6655530068814202, 0.676032439176544], 'precision_knn': [0.6321324153541451, 0.645591377868624, 0.6389181426519865, 0.6494702018506976], 'recall_knn': [0.6974868619595193, 0.7230865289557209, 0.6945051514205433, 0.7048600270579665], 'accuracy_rnf': [0.7414537697070607, 0.7320099901139497, 0.8843011759808513, 0.7666250390259132], 'f1_rnf': [0.6820857325655789, 0.6651279217190599, 0.8790491473332064, 0.7211861245803804], 'precision_rnf': [0.8853915787725272, 0.8863281926875758, 0.920850190894068, 0.8955534969893469], 'recall_rnf': [0.5547114834278578, 0.5322857588844373, 0.840878343219898, 0.6036528254761161], 'accuracy_sgd': [0.5727665331182684, 0.6218325615276549, 0.5990217504422937, 0.5782339473410344], 'f1_sgd': [0.5640562782054684, 0.6138150903294367, 0.5778459515722582, 0.5864224302880323], 'precision_sgd': [0.5757953498455368, 0.6271103631724662, 0.6100636205899364, 0.5752540167175534], 'recall_sgd': [0.5527863052187939, 0.6010718559758572, 0.548860443334374, 0.598033093974399], 'accuracy_baggin': [0.6180862687965034, 0.6419688849575941, 0.6297481527734415, 0.6047715683213654], 'f1_baggin': [0.6220585963647598, 0.634417171395176, 0.6503010197813, 0.6071326971319212], 'precision_baggin': [0.6156550986087754, 0.6480868385345997, 0.6161009451971877, 0.6035271736336059], 'recall_baggin': [0.6285967011811229, 0.6213122430927728, 0.6885211780622333, 0.6107815589551462], 'accuracy_pas': [0.527134606379104, 0.4588428118008221, 0.5430065563534187, 0.5404828806327402], 'f1_pas': [0.554902536977177, 0.461016246469567, 0.5451485097236968, 0.40226072830648435], 'precision_pas': [0.5241245316186335, 0.45917208630122847, 0.5426052889324192, 0.5753146176185866], 'recall_pas': [0.5895207867214736, 0.46287527967115877, 0.5477156832136538, 0.3092413362472682]}\n"
     ]
    },
    {
     "name": "stderr",
     "output_type": "stream",
     "text": [
      "c:\\users\\franc\\appdata\\local\\programs\\python\\python36\\lib\\site-packages\\sklearn\\utils\\validation.py:475: DataConversionWarning: Data with input dtype int64 was converted to float64 by StandardScaler.\n",
      "  warnings.warn(msg, DataConversionWarning)\n",
      "c:\\users\\franc\\appdata\\local\\programs\\python\\python36\\lib\\site-packages\\sklearn\\linear_model\\stochastic_gradient.py:128: FutureWarning: max_iter and tol parameters have been added in <class 'sklearn.linear_model.stochastic_gradient.SGDClassifier'> in 0.19. If both are left unset, they default to max_iter=5 and tol=None. If tol is not None, max_iter defaults to max_iter=1000. From 0.21, default max_iter will be 1000, and default tol will be 1e-3.\n",
      "  \"and default tol will be 1e-3.\" % type(self), FutureWarning)\n"
     ]
    },
    {
     "name": "stdout",
     "output_type": "stream",
     "text": [
      "{'accuracy_knn': [0.6457932254539779, 0.6630677974920651, 0.6510042668331772, 0.6622177125611406, 0.6633364554063899], 'f1_knn': [0.6632034632034632, 0.6821450484722051, 0.6655530068814202, 0.676032439176544, 0.6830606446556285], 'precision_knn': [0.6321324153541451, 0.645591377868624, 0.6389181426519865, 0.6494702018506976, 0.6452568255437298], 'recall_knn': [0.6974868619595193, 0.7230865289557209, 0.6945051514205433, 0.7048600270579665, 0.725569778332813], 'accuracy_rnf': [0.7414537697070607, 0.7320099901139497, 0.8843011759808513, 0.7666250390259132, 0.7883234467686544], 'f1_rnf': [0.6820857325655789, 0.6651279217190599, 0.8790491473332064, 0.7211861245803804, 0.7543774906412269], 'precision_rnf': [0.8853915787725272, 0.8863281926875758, 0.920850190894068, 0.8955534969893469, 0.8984610959298145], 'recall_rnf': [0.5547114834278578, 0.5322857588844373, 0.840878343219898, 0.6036528254761161, 0.6501196794671662], 'accuracy_sgd': [0.5727665331182684, 0.6218325615276549, 0.5990217504422937, 0.5782339473410344, 0.6014933916120304], 'f1_sgd': [0.5640562782054684, 0.6138150903294367, 0.5778459515722582, 0.5864224302880323, 0.5738767561552373], 'precision_sgd': [0.5757953498455368, 0.6271103631724662, 0.6100636205899364, 0.5752540167175534, 0.6166078794762958], 'recall_sgd': [0.5527863052187939, 0.6010718559758572, 0.548860443334374, 0.598033093974399, 0.5366843584139869], 'accuracy_baggin': [0.6180862687965034, 0.6419688849575941, 0.6297481527734415, 0.6047715683213654, 0.6350036424185659], 'f1_baggin': [0.6220585963647598, 0.634417171395176, 0.6503010197813, 0.6071326971319212, 0.6351839812768171], 'precision_baggin': [0.6156550986087754, 0.6480868385345997, 0.6161009451971877, 0.6035271736336059, 0.6348703020221448], 'recall_baggin': [0.6285967011811229, 0.6213122430927728, 0.6885211780622333, 0.6107815589551462, 0.6354979706525132], 'accuracy_pas': [0.527134606379104, 0.4588428118008221, 0.5430065563534187, 0.5404828806327402, 0.6160890831512124], 'f1_pas': [0.554902536977177, 0.461016246469567, 0.5451485097236968, 0.40226072830648435, 0.5229535755851545], 'precision_pas': [0.5241245316186335, 0.45917208630122847, 0.5426052889324192, 0.5753146176185866, 0.6904558647771897], 'recall_pas': [0.5895207867214736, 0.46287527967115877, 0.5477156832136538, 0.3092413362472682, 0.4208554480174836]}\n"
     ]
    },
    {
     "name": "stderr",
     "output_type": "stream",
     "text": [
      "c:\\users\\franc\\appdata\\local\\programs\\python\\python36\\lib\\site-packages\\sklearn\\utils\\validation.py:475: DataConversionWarning: Data with input dtype int64 was converted to float64 by StandardScaler.\n",
      "  warnings.warn(msg, DataConversionWarning)\n",
      "c:\\users\\franc\\appdata\\local\\programs\\python\\python36\\lib\\site-packages\\sklearn\\linear_model\\stochastic_gradient.py:128: FutureWarning: max_iter and tol parameters have been added in <class 'sklearn.linear_model.stochastic_gradient.SGDClassifier'> in 0.19. If both are left unset, they default to max_iter=5 and tol=None. If tol is not None, max_iter defaults to max_iter=1000. From 0.21, default max_iter will be 1000, and default tol will be 1e-3.\n",
      "  \"and default tol will be 1e-3.\" % type(self), FutureWarning)\n"
     ]
    },
    {
     "name": "stdout",
     "output_type": "stream",
     "text": [
      "{'accuracy_knn': [0.6457932254539779, 0.6630677974920651, 0.6510042668331772, 0.6622177125611406, 0.6633364554063899, 0.6714278280778437], 'f1_knn': [0.6632034632034632, 0.6821450484722051, 0.6655530068814202, 0.676032439176544, 0.6830606446556285, 0.6879339741530553], 'precision_knn': [0.6321324153541451, 0.645591377868624, 0.6389181426519865, 0.6494702018506976, 0.6452568255437298, 0.6550279986824149], 'recall_knn': [0.6974868619595193, 0.7230865289557209, 0.6945051514205433, 0.7048600270579665, 0.725569778332813, 0.7243209491102092], 'accuracy_rnf': [0.7414537697070607, 0.7320099901139497, 0.8843011759808513, 0.7666250390259132, 0.7883234467686544, 0.9534030596315953], 'f1_rnf': [0.6820857325655789, 0.6651279217190599, 0.8790491473332064, 0.7211861245803804, 0.7543774906412269, 0.9545419934516104], 'precision_rnf': [0.8853915787725272, 0.8863281926875758, 0.920850190894068, 0.8955534969893469, 0.8984610959298145, 0.9317675040880036], 'recall_rnf': [0.5547114834278578, 0.5322857588844373, 0.840878343219898, 0.6036528254761161, 0.6501196794671662, 0.9784576959100842], 'accuracy_sgd': [0.5727665331182684, 0.6218325615276549, 0.5990217504422937, 0.5782339473410344, 0.6014933916120304, 0.6140337183890103], 'f1_sgd': [0.5640562782054684, 0.6138150903294367, 0.5778459515722582, 0.5864224302880323, 0.5738767561552373, 0.6131581006023625], 'precision_sgd': [0.5757953498455368, 0.6271103631724662, 0.6100636205899364, 0.5752540167175534, 0.6166078794762958, 0.6145522973184884], 'recall_sgd': [0.5527863052187939, 0.6010718559758572, 0.548860443334374, 0.598033093974399, 0.5366843584139869, 0.6117702154230409], 'accuracy_baggin': [0.6180862687965034, 0.6419688849575941, 0.6297481527734415, 0.6047715683213654, 0.6350036424185659, 0.6373451972109481], 'f1_baggin': [0.6220585963647598, 0.634417171395176, 0.6503010197813, 0.6071326971319212, 0.6351839812768171, 0.6525586380517959], 'precision_baggin': [0.6156550986087754, 0.6480868385345997, 0.6161009451971877, 0.6035271736336059, 0.6348703020221448, 0.6262858236448017], 'recall_baggin': [0.6285967011811229, 0.6213122430927728, 0.6885211780622333, 0.6107815589551462, 0.6354979706525132, 0.6811322718284941], 'accuracy_pas': [0.527134606379104, 0.4588428118008221, 0.5430065563534187, 0.5404828806327402, 0.6160890831512124, 0.5554688313039858], 'f1_pas': [0.554902536977177, 0.461016246469567, 0.5451485097236968, 0.40226072830648435, 0.5229535755851545, 0.5845854607342573], 'precision_pas': [0.5241245316186335, 0.45917208630122847, 0.5426052889324192, 0.5753146176185866, 0.6904558647771897, 0.548649142022636], 'recall_pas': [0.5895207867214736, 0.46287527967115877, 0.5477156832136538, 0.3092413362472682, 0.4208554480174836, 0.6255593714226246]}\n"
     ]
    },
    {
     "name": "stderr",
     "output_type": "stream",
     "text": [
      "c:\\users\\franc\\appdata\\local\\programs\\python\\python36\\lib\\site-packages\\sklearn\\utils\\validation.py:475: DataConversionWarning: Data with input dtype int64 was converted to float64 by StandardScaler.\n",
      "  warnings.warn(msg, DataConversionWarning)\n",
      "c:\\users\\franc\\appdata\\local\\programs\\python\\python36\\lib\\site-packages\\sklearn\\linear_model\\stochastic_gradient.py:128: FutureWarning: max_iter and tol parameters have been added in <class 'sklearn.linear_model.stochastic_gradient.SGDClassifier'> in 0.19. If both are left unset, they default to max_iter=5 and tol=None. If tol is not None, max_iter defaults to max_iter=1000. From 0.21, default max_iter will be 1000, and default tol will be 1e-3.\n",
      "  \"and default tol will be 1e-3.\" % type(self), FutureWarning)\n"
     ]
    },
    {
     "name": "stdout",
     "output_type": "stream",
     "text": [
      "{'accuracy_knn': [0.6457932254539779, 0.6630677974920651, 0.6510042668331772, 0.6622177125611406, 0.6633364554063899, 0.6714278280778437, 0.6669528566968467], 'f1_knn': [0.6632034632034632, 0.6821450484722051, 0.6655530068814202, 0.676032439176544, 0.6830606446556285, 0.6879339741530553, 0.679197052853169], 'precision_knn': [0.6321324153541451, 0.645591377868624, 0.6389181426519865, 0.6494702018506976, 0.6452568255437298, 0.6550279986824149, 0.6551124002900652], 'recall_knn': [0.6974868619595193, 0.7230865289557209, 0.6945051514205433, 0.7048600270579665, 0.725569778332813, 0.7243209491102092, 0.7051201998126756], 'accuracy_rnf': [0.7414537697070607, 0.7320099901139497, 0.8843011759808513, 0.7666250390259132, 0.7883234467686544, 0.9534030596315953, 0.8250078051826413], 'f1_rnf': [0.6820857325655789, 0.6651279217190599, 0.8790491473332064, 0.7211861245803804, 0.7543774906412269, 0.9545419934516104, 0.8012176380186783], 'precision_rnf': [0.8853915787725272, 0.8863281926875758, 0.920850190894068, 0.8955534969893469, 0.8984610959298145, 0.9317675040880036, 0.9272814338486797], 'recall_rnf': [0.5547114834278578, 0.5322857588844373, 0.840878343219898, 0.6036528254761161, 0.6501196794671662, 0.9784576959100842, 0.7053283380164429], 'accuracy_sgd': [0.5727665331182684, 0.6218325615276549, 0.5990217504422937, 0.5782339473410344, 0.6014933916120304, 0.6140337183890103, 0.5903840149859507], 'f1_sgd': [0.5640562782054684, 0.6138150903294367, 0.5778459515722582, 0.5864224302880323, 0.5738767561552373, 0.6131581006023625, 0.5767741935483871], 'precision_sgd': [0.5757953498455368, 0.6271103631724662, 0.6100636205899364, 0.5752540167175534, 0.6166078794762958, 0.6145522973184884, 0.5965965965965966], 'recall_sgd': [0.5527863052187939, 0.6010718559758572, 0.548860443334374, 0.598033093974399, 0.5366843584139869, 0.6117702154230409, 0.5582266625039026], 'accuracy_baggin': [0.6180862687965034, 0.6419688849575941, 0.6297481527734415, 0.6047715683213654, 0.6350036424185659, 0.6373451972109481, 0.6285253408263086], 'f1_baggin': [0.6220585963647598, 0.634417171395176, 0.6503010197813, 0.6071326971319212, 0.6351839812768171, 0.6525586380517959, 0.6222751322751323], 'precision_baggin': [0.6156550986087754, 0.6480868385345997, 0.6161009451971877, 0.6035271736336059, 0.6348703020221448, 0.6262858236448017, 0.6329243353783232], 'recall_baggin': [0.6285967011811229, 0.6213122430927728, 0.6885211780622333, 0.6107815589551462, 0.6354979706525132, 0.6811322718284941, 0.6119783536268082], 'accuracy_pas': [0.527134606379104, 0.4588428118008221, 0.5430065563534187, 0.5404828806327402, 0.6160890831512124, 0.5554688313039858, 0.4284004579040483], 'f1_pas': [0.554902536977177, 0.461016246469567, 0.5451485097236968, 0.40226072830648435, 0.5229535755851545, 0.5845854607342573, 0.39916862659300995], 'precision_pas': [0.5241245316186335, 0.45917208630122847, 0.5426052889324192, 0.5753146176185866, 0.6904558647771897, 0.548649142022636, 0.42068249942356467], 'recall_pas': [0.5895207867214736, 0.46287527967115877, 0.5477156832136538, 0.3092413362472682, 0.4208554480174836, 0.6255593714226246, 0.37974815277344154]}\n"
     ]
    },
    {
     "name": "stderr",
     "output_type": "stream",
     "text": [
      "c:\\users\\franc\\appdata\\local\\programs\\python\\python36\\lib\\site-packages\\sklearn\\utils\\validation.py:475: DataConversionWarning: Data with input dtype int64 was converted to float64 by StandardScaler.\n",
      "  warnings.warn(msg, DataConversionWarning)\n",
      "c:\\users\\franc\\appdata\\local\\programs\\python\\python36\\lib\\site-packages\\sklearn\\linear_model\\stochastic_gradient.py:128: FutureWarning: max_iter and tol parameters have been added in <class 'sklearn.linear_model.stochastic_gradient.SGDClassifier'> in 0.19. If both are left unset, they default to max_iter=5 and tol=None. If tol is not None, max_iter defaults to max_iter=1000. From 0.21, default max_iter will be 1000, and default tol will be 1e-3.\n",
      "  \"and default tol will be 1e-3.\" % type(self), FutureWarning)\n"
     ]
    },
    {
     "name": "stdout",
     "output_type": "stream",
     "text": [
      "{'accuracy_knn': [0.6457932254539779, 0.6630677974920651, 0.6510042668331772, 0.6622177125611406, 0.6633364554063899, 0.6714278280778437, 0.6669528566968467, 0.6683838068477469], 'f1_knn': [0.6632034632034632, 0.6821450484722051, 0.6655530068814202, 0.676032439176544, 0.6830606446556285, 0.6879339741530553, 0.679197052853169, 0.6866302797856124], 'precision_knn': [0.6321324153541451, 0.645591377868624, 0.6389181426519865, 0.6494702018506976, 0.6452568255437298, 0.6550279986824149, 0.6551124002900652, 0.6508202833706189], 'recall_knn': [0.6974868619595193, 0.7230865289557209, 0.6945051514205433, 0.7048600270579665, 0.725569778332813, 0.7243209491102092, 0.7051201998126756, 0.7266104693516495], 'accuracy_rnf': [0.7414537697070607, 0.7320099901139497, 0.8843011759808513, 0.7666250390259132, 0.7883234467686544, 0.9534030596315953, 0.8250078051826413, 0.7095431366427307], 'f1_rnf': [0.6820857325655789, 0.6651279217190599, 0.8790491473332064, 0.7211861245803804, 0.7543774906412269, 0.9545419934516104, 0.8012176380186783, 0.6254696725711218], 'precision_rnf': [0.8853915787725272, 0.8863281926875758, 0.920850190894068, 0.8955534969893469, 0.8984610959298145, 0.9317675040880036, 0.9272814338486797, 0.8802644003777148], 'recall_rnf': [0.5547114834278578, 0.5322857588844373, 0.840878343219898, 0.6036528254761161, 0.6501196794671662, 0.9784576959100842, 0.7053283380164429, 0.48506608387969613], 'accuracy_sgd': [0.5727665331182684, 0.6218325615276549, 0.5990217504422937, 0.5782339473410344, 0.6014933916120304, 0.6140337183890103, 0.5903840149859507, 0.619783536268082], 'f1_sgd': [0.5640562782054684, 0.6138150903294367, 0.5778459515722582, 0.5864224302880323, 0.5738767561552373, 0.6131581006023625, 0.5767741935483871, 0.6094393072852637], 'precision_sgd': [0.5757953498455368, 0.6271103631724662, 0.6100636205899364, 0.5752540167175534, 0.6166078794762958, 0.6145522973184884, 0.5965965965965966, 0.6264835164835165], 'recall_sgd': [0.5527863052187939, 0.6010718559758572, 0.548860443334374, 0.598033093974399, 0.5366843584139869, 0.6117702154230409, 0.5582266625039026, 0.5932979498386929], 'accuracy_baggin': [0.6180862687965034, 0.6419688849575941, 0.6297481527734415, 0.6047715683213654, 0.6350036424185659, 0.6373451972109481, 0.6285253408263086, 0.6437714642522635], 'f1_baggin': [0.6220585963647598, 0.634417171395176, 0.6503010197813, 0.6071326971319212, 0.6351839812768171, 0.6525586380517959, 0.6222751322751323, 0.647785152029634], 'precision_baggin': [0.6156550986087754, 0.6480868385345997, 0.6161009451971877, 0.6035271736336059, 0.6348703020221448, 0.6262858236448017, 0.6329243353783232, 0.6405677655677655], 'recall_baggin': [0.6285967011811229, 0.6213122430927728, 0.6885211780622333, 0.6107815589551462, 0.6354979706525132, 0.6811322718284941, 0.6119783536268082, 0.6551670309085232], 'accuracy_pas': [0.527134606379104, 0.4588428118008221, 0.5430065563534187, 0.5404828806327402, 0.6160890831512124, 0.5554688313039858, 0.4284004579040483, 0.6006868560724321], 'f1_pas': [0.554902536977177, 0.461016246469567, 0.5451485097236968, 0.40226072830648435, 0.5229535755851545, 0.5845854607342573, 0.39916862659300995, 0.524240545567266], 'precision_pas': [0.5241245316186335, 0.45917208630122847, 0.5426052889324192, 0.5753146176185866, 0.6904558647771897, 0.548649142022636, 0.42068249942356467, 0.6483668149056893], 'recall_pas': [0.5895207867214736, 0.46287527967115877, 0.5477156832136538, 0.3092413362472682, 0.4208554480174836, 0.6255593714226246, 0.37974815277344154, 0.44000416276407534]}\n"
     ]
    },
    {
     "name": "stderr",
     "output_type": "stream",
     "text": [
      "c:\\users\\franc\\appdata\\local\\programs\\python\\python36\\lib\\site-packages\\sklearn\\utils\\validation.py:475: DataConversionWarning: Data with input dtype int64 was converted to float64 by StandardScaler.\n",
      "  warnings.warn(msg, DataConversionWarning)\n",
      "c:\\users\\franc\\appdata\\local\\programs\\python\\python36\\lib\\site-packages\\sklearn\\linear_model\\stochastic_gradient.py:128: FutureWarning: max_iter and tol parameters have been added in <class 'sklearn.linear_model.stochastic_gradient.SGDClassifier'> in 0.19. If both are left unset, they default to max_iter=5 and tol=None. If tol is not None, max_iter defaults to max_iter=1000. From 0.21, default max_iter will be 1000, and default tol will be 1e-3.\n",
      "  \"and default tol will be 1e-3.\" % type(self), FutureWarning)\n"
     ]
    },
    {
     "name": "stdout",
     "output_type": "stream",
     "text": [
      "{'accuracy_knn': [0.6457932254539779, 0.6630677974920651, 0.6510042668331772, 0.6622177125611406, 0.6633364554063899, 0.6714278280778437, 0.6669528566968467, 0.6683838068477469, 0.6578207930065564], 'f1_knn': [0.6632034632034632, 0.6821450484722051, 0.6655530068814202, 0.676032439176544, 0.6830606446556285, 0.6879339741530553, 0.679197052853169, 0.6866302797856124, 0.6682808716707023], 'precision_knn': [0.6321324153541451, 0.645591377868624, 0.6389181426519865, 0.6494702018506976, 0.6452568255437298, 0.6550279986824149, 0.6551124002900652, 0.6508202833706189, 0.6484581497797357], 'recall_knn': [0.6974868619595193, 0.7230865289557209, 0.6945051514205433, 0.7048600270579665, 0.725569778332813, 0.7243209491102092, 0.7051201998126756, 0.7266104693516495, 0.6893537308773026], 'accuracy_rnf': [0.7414537697070607, 0.7320099901139497, 0.8843011759808513, 0.7666250390259132, 0.7883234467686544, 0.9534030596315953, 0.8250078051826413, 0.7095431366427307, 0.6961442397752108], 'f1_rnf': [0.6820857325655789, 0.6651279217190599, 0.8790491473332064, 0.7211861245803804, 0.7543774906412269, 0.9545419934516104, 0.8012176380186783, 0.6254696725711218, 0.6002943290324788], 'precision_rnf': [0.8853915787725272, 0.8863281926875758, 0.920850190894068, 0.8955534969893469, 0.8984610959298145, 0.9317675040880036, 0.9272814338486797, 0.8802644003777148, 0.8769123087691231], 'recall_rnf': [0.5547114834278578, 0.5322857588844373, 0.840878343219898, 0.6036528254761161, 0.6501196794671662, 0.9784576959100842, 0.7053283380164429, 0.48506608387969613, 0.4563430117598085], 'accuracy_sgd': [0.5727665331182684, 0.6218325615276549, 0.5990217504422937, 0.5782339473410344, 0.6014933916120304, 0.6140337183890103, 0.5903840149859507, 0.619783536268082, 0.6021178062233323], 'f1_sgd': [0.5640562782054684, 0.6138150903294367, 0.5778459515722582, 0.5864224302880323, 0.5738767561552373, 0.6131581006023625, 0.5767741935483871, 0.6094393072852637, 0.575159041031197], 'precision_sgd': [0.5757953498455368, 0.6271103631724662, 0.6100636205899364, 0.5752540167175534, 0.6166078794762958, 0.6145522973184884, 0.5965965965965966, 0.6264835164835165, 0.6169616782883366], 'recall_sgd': [0.5527863052187939, 0.6010718559758572, 0.548860443334374, 0.598033093974399, 0.5366843584139869, 0.6117702154230409, 0.5582266625039026, 0.5932979498386929, 0.5386616713497763], 'accuracy_baggin': [0.6180862687965034, 0.6419688849575941, 0.6297481527734415, 0.6047715683213654, 0.6350036424185659, 0.6373451972109481, 0.6285253408263086, 0.6437714642522635, 0.6145020293474868], 'f1_baggin': [0.6220585963647598, 0.634417171395176, 0.6503010197813, 0.6071326971319212, 0.6351839812768171, 0.6525586380517959, 0.6222751322751323, 0.647785152029634, 0.6115204111061587], 'precision_baggin': [0.6156550986087754, 0.6480868385345997, 0.6161009451971877, 0.6035271736336059, 0.6348703020221448, 0.6262858236448017, 0.6329243353783232, 0.6405677655677655, 0.6162870580774719], 'recall_baggin': [0.6285967011811229, 0.6213122430927728, 0.6885211780622333, 0.6107815589551462, 0.6354979706525132, 0.6811322718284941, 0.6119783536268082, 0.6551670309085232, 0.6068269330835675], 'accuracy_pas': [0.527134606379104, 0.4588428118008221, 0.5430065563534187, 0.5404828806327402, 0.6160890831512124, 0.5554688313039858, 0.4284004579040483, 0.6006868560724321, 0.5524768446248309], 'f1_pas': [0.554902536977177, 0.461016246469567, 0.5451485097236968, 0.40226072830648435, 0.5229535755851545, 0.5845854607342573, 0.39916862659300995, 0.524240545567266, 0.6420112801515121], 'precision_pas': [0.5241245316186335, 0.45917208630122847, 0.5426052889324192, 0.5753146176185866, 0.6904558647771897, 0.548649142022636, 0.42068249942356467, 0.6483668149056893, 0.5349797093406403], 'recall_pas': [0.5895207867214736, 0.46287527967115877, 0.5477156832136538, 0.3092413362472682, 0.4208554480174836, 0.6255593714226246, 0.37974815277344154, 0.44000416276407534, 0.8025809137267146]}\n"
     ]
    },
    {
     "name": "stderr",
     "output_type": "stream",
     "text": [
      "c:\\users\\franc\\appdata\\local\\programs\\python\\python36\\lib\\site-packages\\sklearn\\utils\\validation.py:475: DataConversionWarning: Data with input dtype int64 was converted to float64 by StandardScaler.\n",
      "  warnings.warn(msg, DataConversionWarning)\n",
      "c:\\users\\franc\\appdata\\local\\programs\\python\\python36\\lib\\site-packages\\sklearn\\linear_model\\stochastic_gradient.py:128: FutureWarning: max_iter and tol parameters have been added in <class 'sklearn.linear_model.stochastic_gradient.SGDClassifier'> in 0.19. If both are left unset, they default to max_iter=5 and tol=None. If tol is not None, max_iter defaults to max_iter=1000. From 0.21, default max_iter will be 1000, and default tol will be 1e-3.\n",
      "  \"and default tol will be 1e-3.\" % type(self), FutureWarning)\n"
     ]
    },
    {
     "name": "stdout",
     "output_type": "stream",
     "text": [
      "{'accuracy_knn': [0.6457932254539779, 0.6630677974920651, 0.6510042668331772, 0.6622177125611406, 0.6633364554063899, 0.6714278280778437, 0.6669528566968467, 0.6683838068477469, 0.6578207930065564, 0.6802216671870122], 'f1_knn': [0.6632034632034632, 0.6821450484722051, 0.6655530068814202, 0.676032439176544, 0.6830606446556285, 0.6879339741530553, 0.679197052853169, 0.6866302797856124, 0.6682808716707023, 0.6951258836661293], 'precision_knn': [0.6321324153541451, 0.645591377868624, 0.6389181426519865, 0.6494702018506976, 0.6452568255437298, 0.6550279986824149, 0.6551124002900652, 0.6508202833706189, 0.6484581497797357, 0.6641702611745746], 'recall_knn': [0.6974868619595193, 0.7230865289557209, 0.6945051514205433, 0.7048600270579665, 0.725569778332813, 0.7243209491102092, 0.7051201998126756, 0.7266104693516495, 0.6893537308773026, 0.7291081277968571], 'accuracy_rnf': [0.7414537697070607, 0.7320099901139497, 0.8843011759808513, 0.7666250390259132, 0.7883234467686544, 0.9534030596315953, 0.8250078051826413, 0.7095431366427307, 0.6961442397752108, 0.8924966177541888], 'f1_rnf': [0.6820857325655789, 0.6651279217190599, 0.8790491473332064, 0.7211861245803804, 0.7543774906412269, 0.9545419934516104, 0.8012176380186783, 0.6254696725711218, 0.6002943290324788, 0.8881247630909189], 'precision_rnf': [0.8853915787725272, 0.8863281926875758, 0.920850190894068, 0.8955534969893469, 0.8984610959298145, 0.9317675040880036, 0.9272814338486797, 0.8802644003777148, 0.8769123087691231, 0.9257733122601038], 'recall_rnf': [0.5547114834278578, 0.5322857588844373, 0.840878343219898, 0.6036528254761161, 0.6501196794671662, 0.9784576959100842, 0.7053283380164429, 0.48506608387969613, 0.4563430117598085, 0.8534186699968779], 'accuracy_sgd': [0.5727665331182684, 0.6218325615276549, 0.5990217504422937, 0.5782339473410344, 0.6014933916120304, 0.6140337183890103, 0.5903840149859507, 0.619783536268082, 0.6021178062233323, 0.6039390155062961], 'f1_sgd': [0.5640562782054684, 0.6138150903294367, 0.5778459515722582, 0.5864224302880323, 0.5738767561552373, 0.6131581006023625, 0.5767741935483871, 0.6094393072852637, 0.575159041031197, 0.5978177591080818], 'precision_sgd': [0.5757953498455368, 0.6271103631724662, 0.6100636205899364, 0.5752540167175534, 0.6166078794762958, 0.6145522973184884, 0.5965965965965966, 0.6264835164835165, 0.6169616782883366, 0.6072022755326572], 'recall_sgd': [0.5527863052187939, 0.6010718559758572, 0.548860443334374, 0.598033093974399, 0.5366843584139869, 0.6117702154230409, 0.5582266625039026, 0.5932979498386929, 0.5386616713497763, 0.5887189093558123], 'accuracy_baggin': [0.6180862687965034, 0.6419688849575941, 0.6297481527734415, 0.6047715683213654, 0.6350036424185659, 0.6373451972109481, 0.6285253408263086, 0.6437714642522635, 0.6145020293474868, 0.6454886044333438], 'f1_baggin': [0.6220585963647598, 0.634417171395176, 0.6503010197813, 0.6071326971319212, 0.6351839812768171, 0.6525586380517959, 0.6222751322751323, 0.647785152029634, 0.6115204111061587, 0.6411566417360162], 'precision_baggin': [0.6156550986087754, 0.6480868385345997, 0.6161009451971877, 0.6035271736336059, 0.6348703020221448, 0.6262858236448017, 0.6329243353783232, 0.6405677655677655, 0.6162870580774719, 0.6490881945185027], 'recall_baggin': [0.6285967011811229, 0.6213122430927728, 0.6885211780622333, 0.6107815589551462, 0.6354979706525132, 0.6811322718284941, 0.6119783536268082, 0.6551670309085232, 0.6068269330835675, 0.6334165886148403], 'accuracy_pas': [0.527134606379104, 0.4588428118008221, 0.5430065563534187, 0.5404828806327402, 0.6160890831512124, 0.5554688313039858, 0.4284004579040483, 0.6006868560724321, 0.5524768446248309, 0.609922988864606], 'f1_pas': [0.554902536977177, 0.461016246469567, 0.5451485097236968, 0.40226072830648435, 0.5229535755851545, 0.5845854607342573, 0.39916862659300995, 0.524240545567266, 0.6420112801515121, 0.6001973280712514], 'precision_pas': [0.5241245316186335, 0.45917208630122847, 0.5426052889324192, 0.5753146176185866, 0.6904558647771897, 0.548649142022636, 0.42068249942356467, 0.6483668149056893, 0.5349797093406403, 0.6155444948859596], 'recall_pas': [0.5895207867214736, 0.46287527967115877, 0.5477156832136538, 0.3092413362472682, 0.4208554480174836, 0.6255593714226246, 0.37974815277344154, 0.44000416276407534, 0.8025809137267146, 0.5855968362993027]}\n"
     ]
    },
    {
     "name": "stderr",
     "output_type": "stream",
     "text": [
      "c:\\users\\franc\\appdata\\local\\programs\\python\\python36\\lib\\site-packages\\sklearn\\utils\\validation.py:475: DataConversionWarning: Data with input dtype int64 was converted to float64 by StandardScaler.\n",
      "  warnings.warn(msg, DataConversionWarning)\n",
      "c:\\users\\franc\\appdata\\local\\programs\\python\\python36\\lib\\site-packages\\sklearn\\linear_model\\stochastic_gradient.py:128: FutureWarning: max_iter and tol parameters have been added in <class 'sklearn.linear_model.stochastic_gradient.SGDClassifier'> in 0.19. If both are left unset, they default to max_iter=5 and tol=None. If tol is not None, max_iter defaults to max_iter=1000. From 0.21, default max_iter will be 1000, and default tol will be 1e-3.\n",
      "  \"and default tol will be 1e-3.\" % type(self), FutureWarning)\n"
     ]
    },
    {
     "name": "stdout",
     "output_type": "stream",
     "text": [
      "{'accuracy_knn': [0.6457932254539779, 0.6630677974920651, 0.6510042668331772, 0.6622177125611406, 0.6633364554063899, 0.6714278280778437, 0.6669528566968467, 0.6683838068477469, 0.6578207930065564, 0.6802216671870122, 0.6762930585909044], 'f1_knn': [0.6632034632034632, 0.6821450484722051, 0.6655530068814202, 0.676032439176544, 0.6830606446556285, 0.6879339741530553, 0.679197052853169, 0.6866302797856124, 0.6682808716707023, 0.6951258836661293, 0.692288667952713], 'precision_knn': [0.6321324153541451, 0.645591377868624, 0.6389181426519865, 0.6494702018506976, 0.6452568255437298, 0.6550279986824149, 0.6551124002900652, 0.6508202833706189, 0.6484581497797357, 0.6641702611745746, 0.6596907993966817], 'recall_knn': [0.6974868619595193, 0.7230865289557209, 0.6945051514205433, 0.7048600270579665, 0.725569778332813, 0.7243209491102092, 0.7051201998126756, 0.7266104693516495, 0.6893537308773026, 0.7291081277968571, 0.7282755749817879], 'accuracy_rnf': [0.7414537697070607, 0.7320099901139497, 0.8843011759808513, 0.7666250390259132, 0.7883234467686544, 0.9534030596315953, 0.8250078051826413, 0.7095431366427307, 0.6961442397752108, 0.8924966177541888, 0.8065355395982933], 'f1_rnf': [0.6820857325655789, 0.6651279217190599, 0.8790491473332064, 0.7211861245803804, 0.7543774906412269, 0.9545419934516104, 0.8012176380186783, 0.6254696725711218, 0.6002943290324788, 0.8881247630909189, 0.7775517530214192], 'precision_rnf': [0.8853915787725272, 0.8863281926875758, 0.920850190894068, 0.8955534969893469, 0.8984610959298145, 0.9317675040880036, 0.9272814338486797, 0.8802644003777148, 0.8769123087691231, 0.9257733122601038, 0.914567206192822], 'recall_rnf': [0.5547114834278578, 0.5322857588844373, 0.840878343219898, 0.6036528254761161, 0.6501196794671662, 0.9784576959100842, 0.7053283380164429, 0.48506608387969613, 0.4563430117598085, 0.8534186699968779, 0.6762410240399626], 'accuracy_sgd': [0.5727665331182684, 0.6218325615276549, 0.5990217504422937, 0.5782339473410344, 0.6014933916120304, 0.6140337183890103, 0.5903840149859507, 0.619783536268082, 0.6021178062233323, 0.6039390155062961, 0.5939743990009366], 'f1_sgd': [0.5640562782054684, 0.6138150903294367, 0.5778459515722582, 0.5864224302880323, 0.5738767561552373, 0.6131581006023625, 0.5767741935483871, 0.6094393072852637, 0.575159041031197, 0.5978177591080818, 0.5877100285321779], 'precision_sgd': [0.5757953498455368, 0.6271103631724662, 0.6100636205899364, 0.5752540167175534, 0.6166078794762958, 0.6145522973184884, 0.5965965965965966, 0.6264835164835165, 0.6169616782883366, 0.6072022755326572, 0.5969196093163035], 'recall_sgd': [0.5527863052187939, 0.6010718559758572, 0.548860443334374, 0.598033093974399, 0.5366843584139869, 0.6117702154230409, 0.5582266625039026, 0.5932979498386929, 0.5386616713497763, 0.5887189093558123, 0.5787803101259236], 'accuracy_baggin': [0.6180862687965034, 0.6419688849575941, 0.6297481527734415, 0.6047715683213654, 0.6350036424185659, 0.6373451972109481, 0.6285253408263086, 0.6437714642522635, 0.6145020293474868, 0.6454886044333438, 0.6320376730148819], 'f1_baggin': [0.6220585963647598, 0.634417171395176, 0.6503010197813, 0.6071326971319212, 0.6351839812768171, 0.6525586380517959, 0.6222751322751323, 0.647785152029634, 0.6115204111061587, 0.6411566417360162, 0.6171255312813017], 'precision_baggin': [0.6156550986087754, 0.6480868385345997, 0.6161009451971877, 0.6035271736336059, 0.6348703020221448, 0.6262858236448017, 0.6329243353783232, 0.6405677655677655, 0.6162870580774719, 0.6490881945185027, 0.6431916934710231], 'recall_baggin': [0.6285967011811229, 0.6213122430927728, 0.6885211780622333, 0.6107815589551462, 0.6354979706525132, 0.6811322718284941, 0.6119783536268082, 0.6551670309085232, 0.6068269330835675, 0.6334165886148403, 0.5930898116349256], 'accuracy_pas': [0.527134606379104, 0.4588428118008221, 0.5430065563534187, 0.5404828806327402, 0.6160890831512124, 0.5554688313039858, 0.4284004579040483, 0.6006868560724321, 0.5524768446248309, 0.609922988864606, 0.5273961910708711], 'f1_pas': [0.554902536977177, 0.461016246469567, 0.5451485097236968, 0.40226072830648435, 0.5229535755851545, 0.5845854607342573, 0.39916862659300995, 0.524240545567266, 0.6420112801515121, 0.6001973280712514, 0.5882539610580956], 'precision_pas': [0.5241245316186335, 0.45917208630122847, 0.5426052889324192, 0.5753146176185866, 0.6904558647771897, 0.548649142022636, 0.42068249942356467, 0.6483668149056893, 0.5349797093406403, 0.6155444948859596, 0.5211454275272099], 'recall_pas': [0.5895207867214736, 0.46287527967115877, 0.5477156832136538, 0.3092413362472682, 0.4208554480174836, 0.6255593714226246, 0.37974815277344154, 0.44000416276407534, 0.8025809137267146, 0.5855968362993027, 0.675200333021126]}\n"
     ]
    },
    {
     "name": "stderr",
     "output_type": "stream",
     "text": [
      "c:\\users\\franc\\appdata\\local\\programs\\python\\python36\\lib\\site-packages\\sklearn\\utils\\validation.py:475: DataConversionWarning: Data with input dtype int64 was converted to float64 by StandardScaler.\n",
      "  warnings.warn(msg, DataConversionWarning)\n",
      "c:\\users\\franc\\appdata\\local\\programs\\python\\python36\\lib\\site-packages\\sklearn\\linear_model\\stochastic_gradient.py:128: FutureWarning: max_iter and tol parameters have been added in <class 'sklearn.linear_model.stochastic_gradient.SGDClassifier'> in 0.19. If both are left unset, they default to max_iter=5 and tol=None. If tol is not None, max_iter defaults to max_iter=1000. From 0.21, default max_iter will be 1000, and default tol will be 1e-3.\n",
      "  \"and default tol will be 1e-3.\" % type(self), FutureWarning)\n"
     ]
    },
    {
     "name": "stdout",
     "output_type": "stream",
     "text": [
      "{'accuracy_knn': [0.6457932254539779, 0.6630677974920651, 0.6510042668331772, 0.6622177125611406, 0.6633364554063899, 0.6714278280778437, 0.6669528566968467, 0.6683838068477469, 0.6578207930065564, 0.6802216671870122, 0.6762930585909044, 0.665391820168592], 'f1_knn': [0.6632034632034632, 0.6821450484722051, 0.6655530068814202, 0.676032439176544, 0.6830606446556285, 0.6879339741530553, 0.679197052853169, 0.6866302797856124, 0.6682808716707023, 0.6951258836661293, 0.692288667952713, 0.6758248682983389], 'precision_knn': [0.6321324153541451, 0.645591377868624, 0.6389181426519865, 0.6494702018506976, 0.6452568255437298, 0.6550279986824149, 0.6551124002900652, 0.6508202833706189, 0.6484581497797357, 0.6641702611745746, 0.6596907993966817, 0.6553898802248839], 'recall_knn': [0.6974868619595193, 0.7230865289557209, 0.6945051514205433, 0.7048600270579665, 0.725569778332813, 0.7243209491102092, 0.7051201998126756, 0.7266104693516495, 0.6893537308773026, 0.7291081277968571, 0.7282755749817879, 0.6975751899261109], 'accuracy_rnf': [0.7414537697070607, 0.7320099901139497, 0.8843011759808513, 0.7666250390259132, 0.7883234467686544, 0.9534030596315953, 0.8250078051826413, 0.7095431366427307, 0.6961442397752108, 0.8924966177541888, 0.8065355395982933, 0.7098813612238526], 'f1_rnf': [0.6820857325655789, 0.6651279217190599, 0.8790491473332064, 0.7211861245803804, 0.7543774906412269, 0.9545419934516104, 0.8012176380186783, 0.6254696725711218, 0.6002943290324788, 0.8881247630909189, 0.7775517530214192, 0.6228310502283105], 'precision_rnf': [0.8853915787725272, 0.8863281926875758, 0.920850190894068, 0.8955534969893469, 0.8984610959298145, 0.9317675040880036, 0.9272814338486797, 0.8802644003777148, 0.8769123087691231, 0.9257733122601038, 0.914567206192822, 0.8898231371412003], 'recall_rnf': [0.5547114834278578, 0.5322857588844373, 0.840878343219898, 0.6036528254761161, 0.6501196794671662, 0.9784576959100842, 0.7053283380164429, 0.48506608387969613, 0.4563430117598085, 0.8534186699968779, 0.6762410240399626, 0.4790821105213862], 'accuracy_sgd': [0.5727665331182684, 0.6218325615276549, 0.5990217504422937, 0.5782339473410344, 0.6014933916120304, 0.6140337183890103, 0.5903840149859507, 0.619783536268082, 0.6021178062233323, 0.6039390155062961, 0.5939743990009366, 0.580133208450411], 'f1_sgd': [0.5640562782054684, 0.6138150903294367, 0.5778459515722582, 0.5864224302880323, 0.5738767561552373, 0.6131581006023625, 0.5767741935483871, 0.6094393072852637, 0.575159041031197, 0.5978177591080818, 0.5877100285321779, 0.5563558390147351], 'precision_sgd': [0.5757953498455368, 0.6271103631724662, 0.6100636205899364, 0.5752540167175534, 0.6166078794762958, 0.6145522973184884, 0.5965965965965966, 0.6264835164835165, 0.6169616782883366, 0.6072022755326572, 0.5969196093163035, 0.5897540505886467], 'recall_sgd': [0.5527863052187939, 0.6010718559758572, 0.548860443334374, 0.598033093974399, 0.5366843584139869, 0.6117702154230409, 0.5582266625039026, 0.5932979498386929, 0.5386616713497763, 0.5887189093558123, 0.5787803101259236, 0.526537620980331], 'accuracy_baggin': [0.6180862687965034, 0.6419688849575941, 0.6297481527734415, 0.6047715683213654, 0.6350036424185659, 0.6373451972109481, 0.6285253408263086, 0.6437714642522635, 0.6145020293474868, 0.6454886044333438, 0.6320376730148819, 0.6281090644187741], 'f1_baggin': [0.6220585963647598, 0.634417171395176, 0.6503010197813, 0.6071326971319212, 0.6351839812768171, 0.6525586380517959, 0.6222751322751323, 0.647785152029634, 0.6115204111061587, 0.6411566417360162, 0.6171255312813017, 0.6253211009174312], 'precision_baggin': [0.6156550986087754, 0.6480868385345997, 0.6161009451971877, 0.6035271736336059, 0.6348703020221448, 0.6262858236448017, 0.6329243353783232, 0.6405677655677655, 0.6162870580774719, 0.6490881945185027, 0.6431916934710231, 0.6300443693217832], 'recall_baggin': [0.6285967011811229, 0.6213122430927728, 0.6885211780622333, 0.6107815589551462, 0.6354979706525132, 0.6811322718284941, 0.6119783536268082, 0.6551670309085232, 0.6068269330835675, 0.6334165886148403, 0.5930898116349256, 0.6206681236340931], 'accuracy_pas': [0.527134606379104, 0.4588428118008221, 0.5430065563534187, 0.5404828806327402, 0.6160890831512124, 0.5554688313039858, 0.4284004579040483, 0.6006868560724321, 0.5524768446248309, 0.609922988864606, 0.5273961910708711, 0.5097304610261213], 'f1_pas': [0.554902536977177, 0.461016246469567, 0.5451485097236968, 0.40226072830648435, 0.5229535755851545, 0.5845854607342573, 0.39916862659300995, 0.524240545567266, 0.6420112801515121, 0.6001973280712514, 0.5882539610580956, 0.6093050257090729], 'precision_pas': [0.5241245316186335, 0.45917208630122847, 0.5426052889324192, 0.5753146176185866, 0.6904558647771897, 0.548649142022636, 0.42068249942356467, 0.6483668149056893, 0.5349797093406403, 0.6155444948859596, 0.5211454275272099, 0.5064451644033915], 'recall_pas': [0.5895207867214736, 0.46287527967115877, 0.5477156832136538, 0.3092413362472682, 0.4208554480174836, 0.6255593714226246, 0.37974815277344154, 0.44000416276407534, 0.8025809137267146, 0.5855968362993027, 0.675200333021126, 0.764595691539182]}\n",
      "DONE!\n"
     ]
    }
   ],
   "source": [
    "if __name__ == '__main__':\n",
    "   \n",
    "    report_offensegroup_up = sampling_offensegroup(X_res, y_res, 'binary', 'offensegroup_upsampled_model.pickle',\n",
    "                                                  'offensegroup_upsampled_report.pickle')"
   ]
  },
  {
   "cell_type": "code",
   "execution_count": 20,
   "metadata": {},
   "outputs": [],
   "source": [
    "\n",
    "report_offensegroup_up = pd.DataFrame(report_offensegroup_up)"
   ]
  },
  {
   "cell_type": "code",
   "execution_count": 21,
   "metadata": {},
   "outputs": [
    {
     "name": "stdout",
     "output_type": "stream",
     "text": [
      "    accuracy_baggin  accuracy_knn  accuracy_pas  accuracy_rnf  accuracy_sgd  \\\n",
      "0          0.618086      0.645793      0.527135      0.741454      0.572767   \n",
      "1          0.641969      0.663068      0.458843      0.732010      0.621833   \n",
      "2          0.629748      0.651004      0.543007      0.884301      0.599022   \n",
      "3          0.604772      0.662218      0.540483      0.766625      0.578234   \n",
      "4          0.635004      0.663336      0.616089      0.788323      0.601493   \n",
      "5          0.637345      0.671428      0.555469      0.953403      0.614034   \n",
      "6          0.628525      0.666953      0.428400      0.825008      0.590384   \n",
      "7          0.643771      0.668384      0.600687      0.709543      0.619784   \n",
      "8          0.614502      0.657821      0.552477      0.696144      0.602118   \n",
      "9          0.645489      0.680222      0.609923      0.892497      0.603939   \n",
      "10         0.632038      0.676293      0.527396      0.806536      0.593974   \n",
      "11         0.628109      0.665392      0.509730      0.709881      0.580133   \n",
      "\n",
      "    f1_baggin    f1_knn    f1_pas    f1_rnf    f1_sgd  precision_baggin  \\\n",
      "0    0.622059  0.663203  0.554903  0.682086  0.564056          0.615655   \n",
      "1    0.634417  0.682145  0.461016  0.665128  0.613815          0.648087   \n",
      "2    0.650301  0.665553  0.545149  0.879049  0.577846          0.616101   \n",
      "3    0.607133  0.676032  0.402261  0.721186  0.586422          0.603527   \n",
      "4    0.635184  0.683061  0.522954  0.754377  0.573877          0.634870   \n",
      "5    0.652559  0.687934  0.584585  0.954542  0.613158          0.626286   \n",
      "6    0.622275  0.679197  0.399169  0.801218  0.576774          0.632924   \n",
      "7    0.647785  0.686630  0.524241  0.625470  0.609439          0.640568   \n",
      "8    0.611520  0.668281  0.642011  0.600294  0.575159          0.616287   \n",
      "9    0.641157  0.695126  0.600197  0.888125  0.597818          0.649088   \n",
      "10   0.617126  0.692289  0.588254  0.777552  0.587710          0.643192   \n",
      "11   0.625321  0.675825  0.609305  0.622831  0.556356          0.630044   \n",
      "\n",
      "    precision_knn  precision_pas  precision_rnf  precision_sgd  recall_baggin  \\\n",
      "0        0.632132       0.524125       0.885392       0.575795       0.628597   \n",
      "1        0.645591       0.459172       0.886328       0.627110       0.621312   \n",
      "2        0.638918       0.542605       0.920850       0.610064       0.688521   \n",
      "3        0.649470       0.575315       0.895553       0.575254       0.610782   \n",
      "4        0.645257       0.690456       0.898461       0.616608       0.635498   \n",
      "5        0.655028       0.548649       0.931768       0.614552       0.681132   \n",
      "6        0.655112       0.420682       0.927281       0.596597       0.611978   \n",
      "7        0.650820       0.648367       0.880264       0.626484       0.655167   \n",
      "8        0.648458       0.534980       0.876912       0.616962       0.606827   \n",
      "9        0.664170       0.615544       0.925773       0.607202       0.633417   \n",
      "10       0.659691       0.521145       0.914567       0.596920       0.593090   \n",
      "11       0.655390       0.506445       0.889823       0.589754       0.620668   \n",
      "\n",
      "    recall_knn  recall_pas  recall_rnf  recall_sgd  \n",
      "0     0.697487    0.589521    0.554711    0.552786  \n",
      "1     0.723087    0.462875    0.532286    0.601072  \n",
      "2     0.694505    0.547716    0.840878    0.548860  \n",
      "3     0.704860    0.309241    0.603653    0.598033  \n",
      "4     0.725570    0.420855    0.650120    0.536684  \n",
      "5     0.724321    0.625559    0.978458    0.611770  \n",
      "6     0.705120    0.379748    0.705328    0.558227  \n",
      "7     0.726610    0.440004    0.485066    0.593298  \n",
      "8     0.689354    0.802581    0.456343    0.538662  \n",
      "9     0.729108    0.585597    0.853419    0.588719  \n",
      "10    0.728276    0.675200    0.676241    0.578780  \n",
      "11    0.697575    0.764596    0.479082    0.526538  \n"
     ]
    }
   ],
   "source": [
    "print(report_offensegroup_up)"
   ]
  },
  {
   "cell_type": "markdown",
   "metadata": {},
   "source": [
    "## 1.2 DownSampling "
   ]
  },
  {
   "cell_type": "code",
   "execution_count": 13,
   "metadata": {},
   "outputs": [],
   "source": [
    "from imblearn.under_sampling import RandomUnderSampler \n",
    "rus = RandomUnderSampler(random_state=42)\n",
    "X_rus, y_rus = rus.fit_sample(X, y)\n"
   ]
  },
  {
   "cell_type": "code",
   "execution_count": 14,
   "metadata": {},
   "outputs": [
    {
     "name": "stdout",
     "output_type": "stream",
     "text": [
      "<class 'pandas.core.frame.DataFrame'>\n",
      "RangeIndex: 94354 entries, 0 to 94353\n",
      "Data columns (total 7 columns):\n",
      "0    94354 non-null int64\n",
      "1    94354 non-null int64\n",
      "2    94354 non-null int64\n",
      "3    94354 non-null int64\n",
      "4    94354 non-null int64\n",
      "5    94354 non-null int64\n",
      "6    94354 non-null int64\n",
      "dtypes: int64(7)\n",
      "memory usage: 5.0 MB\n",
      "None\n",
      "1    47177\n",
      "0    47177\n",
      "dtype: int64\n"
     ]
    }
   ],
   "source": [
    "X_rus_i = pd.DataFrame(X_rus)\n",
    "y_rus_i = pd.Series(y_rus)\n",
    "\n",
    "print (X_rus_i.info())\n",
    "print (y_rus_i.value_counts())"
   ]
  },
  {
   "cell_type": "code",
   "execution_count": 24,
   "metadata": {},
   "outputs": [
    {
     "name": "stderr",
     "output_type": "stream",
     "text": [
      "c:\\users\\franc\\appdata\\local\\programs\\python\\python36\\lib\\site-packages\\sklearn\\utils\\validation.py:475: DataConversionWarning: Data with input dtype int64 was converted to float64 by StandardScaler.\n",
      "  warnings.warn(msg, DataConversionWarning)\n",
      "c:\\users\\franc\\appdata\\local\\programs\\python\\python36\\lib\\site-packages\\sklearn\\linear_model\\stochastic_gradient.py:128: FutureWarning: max_iter and tol parameters have been added in <class 'sklearn.linear_model.stochastic_gradient.SGDClassifier'> in 0.19. If both are left unset, they default to max_iter=5 and tol=None. If tol is not None, max_iter defaults to max_iter=1000. From 0.21, default max_iter will be 1000, and default tol will be 1e-3.\n",
      "  \"and default tol will be 1e-3.\" % type(self), FutureWarning)\n"
     ]
    },
    {
     "name": "stdout",
     "output_type": "stream",
     "text": [
      "{'accuracy_knn': [0.643056968463886], 'f1_knn': [0.6477600702723051], 'precision_knn': [0.6393361406985385], 'recall_knn': [0.6564089521871821], 'accuracy_rnf': [0.6557731434384537], 'f1_rnf': [0.6635177128651335], 'precision_rnf': [0.6489180646729881], 'recall_rnf': [0.6787894201424212], 'accuracy_sgd': [0.5762970498474059], 'f1_sgd': [0.5332025777528719], 'precision_sgd': [0.5935745477230193], 'recall_sgd': [0.48397761953204477], 'accuracy_baggin': [0.6345371312309257], 'f1_baggin': [0.6553130247061646], 'precision_baggin': [0.6200635497049478], 'recall_baggin': [0.6948118006103764], 'accuracy_pas': [0.4551119023397762], 'f1_pas': [0.45614925751998986], 'precision_pas': [0.45528249303268303], 'recall_pas': [0.45701932858596134]}\n"
     ]
    },
    {
     "name": "stderr",
     "output_type": "stream",
     "text": [
      "c:\\users\\franc\\appdata\\local\\programs\\python\\python36\\lib\\site-packages\\sklearn\\utils\\validation.py:475: DataConversionWarning: Data with input dtype int64 was converted to float64 by StandardScaler.\n",
      "  warnings.warn(msg, DataConversionWarning)\n",
      "c:\\users\\franc\\appdata\\local\\programs\\python\\python36\\lib\\site-packages\\sklearn\\linear_model\\stochastic_gradient.py:128: FutureWarning: max_iter and tol parameters have been added in <class 'sklearn.linear_model.stochastic_gradient.SGDClassifier'> in 0.19. If both are left unset, they default to max_iter=5 and tol=None. If tol is not None, max_iter defaults to max_iter=1000. From 0.21, default max_iter will be 1000, and default tol will be 1e-3.\n",
      "  \"and default tol will be 1e-3.\" % type(self), FutureWarning)\n"
     ]
    },
    {
     "name": "stdout",
     "output_type": "stream",
     "text": [
      "{'accuracy_knn': [0.643056968463886, 0.6256358087487284], 'f1_knn': [0.6477600702723051, 0.627906976744186], 'precision_knn': [0.6393361406985385, 0.6241206030150753], 'recall_knn': [0.6564089521871821, 0.6317395727365208], 'accuracy_rnf': [0.6557731434384537, 0.6528484231943031], 'f1_rnf': [0.6635177128651335, 0.6557377049180328], 'precision_rnf': [0.6489180646729881, 0.6503251625812907], 'recall_rnf': [0.6787894201424212, 0.6612410986775178], 'accuracy_sgd': [0.5762970498474059, 0.595116988809766], 'f1_sgd': [0.5332025777528719, 0.6095168015697818], 'precision_sgd': [0.5935745477230193, 0.5885836096636665], 'recall_sgd': [0.48397761953204477, 0.6319938962360122], 'accuracy_baggin': [0.6345371312309257, 0.6070701932858596], 'f1_baggin': [0.6553130247061646, 0.600672008270871], 'precision_baggin': [0.6200635497049478, 0.6106148187073043], 'recall_baggin': [0.6948118006103764, 0.5910478128179044], 'accuracy_pas': [0.4551119023397762, 0.5085198372329603], 'f1_pas': [0.45614925751998986, 0.5214807478024018], 'precision_pas': [0.45528249303268303, 0.5080820265379976], 'recall_pas': [0.45701932858596134, 0.5356052899287894]}\n"
     ]
    },
    {
     "name": "stderr",
     "output_type": "stream",
     "text": [
      "c:\\users\\franc\\appdata\\local\\programs\\python\\python36\\lib\\site-packages\\sklearn\\utils\\validation.py:475: DataConversionWarning: Data with input dtype int64 was converted to float64 by StandardScaler.\n",
      "  warnings.warn(msg, DataConversionWarning)\n",
      "c:\\users\\franc\\appdata\\local\\programs\\python\\python36\\lib\\site-packages\\sklearn\\linear_model\\stochastic_gradient.py:128: FutureWarning: max_iter and tol parameters have been added in <class 'sklearn.linear_model.stochastic_gradient.SGDClassifier'> in 0.19. If both are left unset, they default to max_iter=5 and tol=None. If tol is not None, max_iter defaults to max_iter=1000. From 0.21, default max_iter will be 1000, and default tol will be 1e-3.\n",
      "  \"and default tol will be 1e-3.\" % type(self), FutureWarning)\n"
     ]
    },
    {
     "name": "stdout",
     "output_type": "stream",
     "text": [
      "{'accuracy_knn': [0.643056968463886, 0.6256358087487284, 0.6272889114954222], 'f1_knn': [0.6477600702723051, 0.627906976744186, 0.6188060866172455], 'precision_knn': [0.6393361406985385, 0.6241206030150753, 0.6332179930795848], 'recall_knn': [0.6564089521871821, 0.6317395727365208, 0.6050356052899288], 'accuracy_rnf': [0.6557731434384537, 0.6528484231943031, 0.6620040691759919], 'f1_rnf': [0.6635177128651335, 0.6557377049180328, 0.6535453597497393], 'precision_rnf': [0.6489180646729881, 0.6503251625812907, 0.6703208556149732], 'recall_rnf': [0.6787894201424212, 0.6612410986775178, 0.637589013224822], 'accuracy_sgd': [0.5762970498474059, 0.595116988809766, 0.5705747711088505], 'f1_sgd': [0.5332025777528719, 0.6095168015697818, 0.5442029963557836], 'precision_sgd': [0.5935745477230193, 0.5885836096636665, 0.5798101811906816], 'recall_sgd': [0.48397761953204477, 0.6319938962360122, 0.5127161749745677], 'accuracy_baggin': [0.6345371312309257, 0.6070701932858596, 0.6186419125127162], 'f1_baggin': [0.6553130247061646, 0.600672008270871, 0.6227198389734557], 'precision_baggin': [0.6200635497049478, 0.6106148187073043, 0.6161314413741599], 'recall_baggin': [0.6948118006103764, 0.5910478128179044, 0.6294506612410987], 'accuracy_pas': [0.4551119023397762, 0.5085198372329603, 0.5160223804679552], 'f1_pas': [0.45614925751998986, 0.5214807478024018, 0.2767008741923223], 'precision_pas': [0.45528249303268303, 0.5080820265379976, 0.5473684210526316], 'recall_pas': [0.45701932858596134, 0.5356052899287894, 0.18514750762970497]}\n"
     ]
    },
    {
     "name": "stderr",
     "output_type": "stream",
     "text": [
      "c:\\users\\franc\\appdata\\local\\programs\\python\\python36\\lib\\site-packages\\sklearn\\utils\\validation.py:475: DataConversionWarning: Data with input dtype int64 was converted to float64 by StandardScaler.\n",
      "  warnings.warn(msg, DataConversionWarning)\n",
      "c:\\users\\franc\\appdata\\local\\programs\\python\\python36\\lib\\site-packages\\sklearn\\linear_model\\stochastic_gradient.py:128: FutureWarning: max_iter and tol parameters have been added in <class 'sklearn.linear_model.stochastic_gradient.SGDClassifier'> in 0.19. If both are left unset, they default to max_iter=5 and tol=None. If tol is not None, max_iter defaults to max_iter=1000. From 0.21, default max_iter will be 1000, and default tol will be 1e-3.\n",
      "  \"and default tol will be 1e-3.\" % type(self), FutureWarning)\n"
     ]
    },
    {
     "name": "stdout",
     "output_type": "stream",
     "text": [
      "{'accuracy_knn': [0.643056968463886, 0.6256358087487284, 0.6272889114954222, 0.6393692777212614], 'f1_knn': [0.6477600702723051, 0.627906976744186, 0.6188060866172455, 0.6513400540939266], 'precision_knn': [0.6393361406985385, 0.6241206030150753, 0.6332179930795848, 0.6304140885292717], 'recall_knn': [0.6564089521871821, 0.6317395727365208, 0.6050356052899288, 0.6737029501525941], 'accuracy_rnf': [0.6557731434384537, 0.6528484231943031, 0.6620040691759919, 0.6593336724313327], 'f1_rnf': [0.6635177128651335, 0.6557377049180328, 0.6535453597497393, 0.6666666666666667], 'precision_rnf': [0.6489180646729881, 0.6503251625812907, 0.6703208556149732, 0.6526187576126675], 'recall_rnf': [0.6787894201424212, 0.6612410986775178, 0.637589013224822, 0.6813326551373347], 'accuracy_sgd': [0.5762970498474059, 0.595116988809766, 0.5705747711088505, 0.6036368260427264], 'f1_sgd': [0.5332025777528719, 0.6095168015697818, 0.5442029963557836, 0.5658169661512744], 'precision_sgd': [0.5935745477230193, 0.5885836096636665, 0.5798101811906816, 0.6255004619648906], 'recall_sgd': [0.48397761953204477, 0.6319938962360122, 0.5127161749745677, 0.5165310274669379], 'accuracy_baggin': [0.6345371312309257, 0.6070701932858596, 0.6186419125127162, 0.6087232960325534], 'f1_baggin': [0.6553130247061646, 0.600672008270871, 0.6227198389734557, 0.6206386388854643], 'precision_baggin': [0.6200635497049478, 0.6106148187073043, 0.6161314413741599, 0.6022972002871501], 'recall_baggin': [0.6948118006103764, 0.5910478128179044, 0.6294506612410987, 0.6401322482197355], 'accuracy_pas': [0.4551119023397762, 0.5085198372329603, 0.5160223804679552, 0.46401322482197355], 'f1_pas': [0.45614925751998986, 0.5214807478024018, 0.2767008741923223, 0.3909839618552232], 'precision_pas': [0.45528249303268303, 0.5080820265379976, 0.5473684210526316, 0.4526597524255604], 'recall_pas': [0.45701932858596134, 0.5356052899287894, 0.18514750762970497, 0.3440996948118006]}\n"
     ]
    },
    {
     "name": "stderr",
     "output_type": "stream",
     "text": [
      "c:\\users\\franc\\appdata\\local\\programs\\python\\python36\\lib\\site-packages\\sklearn\\utils\\validation.py:475: DataConversionWarning: Data with input dtype int64 was converted to float64 by StandardScaler.\n",
      "  warnings.warn(msg, DataConversionWarning)\n",
      "c:\\users\\franc\\appdata\\local\\programs\\python\\python36\\lib\\site-packages\\sklearn\\linear_model\\stochastic_gradient.py:128: FutureWarning: max_iter and tol parameters have been added in <class 'sklearn.linear_model.stochastic_gradient.SGDClassifier'> in 0.19. If both are left unset, they default to max_iter=5 and tol=None. If tol is not None, max_iter defaults to max_iter=1000. From 0.21, default max_iter will be 1000, and default tol will be 1e-3.\n",
      "  \"and default tol will be 1e-3.\" % type(self), FutureWarning)\n"
     ]
    },
    {
     "name": "stdout",
     "output_type": "stream",
     "text": [
      "{'accuracy_knn': [0.643056968463886, 0.6256358087487284, 0.6272889114954222, 0.6393692777212614, 0.6593336724313327], 'f1_knn': [0.6477600702723051, 0.627906976744186, 0.6188060866172455, 0.6513400540939266, 0.6617851281403863], 'precision_knn': [0.6393361406985385, 0.6241206030150753, 0.6332179930795848, 0.6304140885292717, 0.6570569064928553], 'recall_knn': [0.6564089521871821, 0.6317395727365208, 0.6050356052899288, 0.6737029501525941, 0.6665818921668362], 'accuracy_rnf': [0.6557731434384537, 0.6528484231943031, 0.6620040691759919, 0.6593336724313327, 0.6892166836215666], 'f1_rnf': [0.6635177128651335, 0.6557377049180328, 0.6535453597497393, 0.6666666666666667, 0.690632911392405], 'precision_rnf': [0.6489180646729881, 0.6503251625812907, 0.6703208556149732, 0.6526187576126675, 0.6875], 'recall_rnf': [0.6787894201424212, 0.6612410986775178, 0.637589013224822, 0.6813326551373347, 0.6937945066124109], 'accuracy_sgd': [0.5762970498474059, 0.595116988809766, 0.5705747711088505, 0.6036368260427264, 0.6105035605289929], 'f1_sgd': [0.5332025777528719, 0.6095168015697818, 0.5442029963557836, 0.5658169661512744, 0.5829816201497617], 'precision_sgd': [0.5935745477230193, 0.5885836096636665, 0.5798101811906816, 0.6255004619648906, 0.6273073542338119], 'recall_sgd': [0.48397761953204477, 0.6319938962360122, 0.5127161749745677, 0.5165310274669379, 0.5445066124109867], 'accuracy_baggin': [0.6345371312309257, 0.6070701932858596, 0.6186419125127162, 0.6087232960325534, 0.6492878942014242], 'f1_baggin': [0.6553130247061646, 0.600672008270871, 0.6227198389734557, 0.6206386388854643, 0.6365313653136532], 'precision_baggin': [0.6200635497049478, 0.6106148187073043, 0.6161314413741599, 0.6022972002871501, 0.6605579868708972], 'recall_baggin': [0.6948118006103764, 0.5910478128179044, 0.6294506612410987, 0.6401322482197355, 0.6141912512716174], 'accuracy_pas': [0.4551119023397762, 0.5085198372329603, 0.5160223804679552, 0.46401322482197355, 0.5330620549338759], 'f1_pas': [0.45614925751998986, 0.5214807478024018, 0.2767008741923223, 0.3909839618552232, 0.5511002444987775], 'precision_pas': [0.45528249303268303, 0.5080820265379976, 0.5473684210526316, 0.4526597524255604, 0.53060263653484], 'recall_pas': [0.45701932858596134, 0.5356052899287894, 0.18514750762970497, 0.3440996948118006, 0.5732451678535097]}\n"
     ]
    },
    {
     "name": "stderr",
     "output_type": "stream",
     "text": [
      "c:\\users\\franc\\appdata\\local\\programs\\python\\python36\\lib\\site-packages\\sklearn\\utils\\validation.py:475: DataConversionWarning: Data with input dtype int64 was converted to float64 by StandardScaler.\n",
      "  warnings.warn(msg, DataConversionWarning)\n",
      "c:\\users\\franc\\appdata\\local\\programs\\python\\python36\\lib\\site-packages\\sklearn\\linear_model\\stochastic_gradient.py:128: FutureWarning: max_iter and tol parameters have been added in <class 'sklearn.linear_model.stochastic_gradient.SGDClassifier'> in 0.19. If both are left unset, they default to max_iter=5 and tol=None. If tol is not None, max_iter defaults to max_iter=1000. From 0.21, default max_iter will be 1000, and default tol will be 1e-3.\n",
      "  \"and default tol will be 1e-3.\" % type(self), FutureWarning)\n"
     ]
    },
    {
     "name": "stdout",
     "output_type": "stream",
     "text": [
      "{'accuracy_knn': [0.643056968463886, 0.6256358087487284, 0.6272889114954222, 0.6393692777212614, 0.6593336724313327, 0.6386415670312897], 'f1_knn': [0.6477600702723051, 0.627906976744186, 0.6188060866172455, 0.6513400540939266, 0.6617851281403863, 0.6419659735349716], 'precision_knn': [0.6393361406985385, 0.6241206030150753, 0.6332179930795848, 0.6304140885292717, 0.6570569064928553, 0.6361138861138861], 'recall_knn': [0.6564089521871821, 0.6317395727365208, 0.6050356052899288, 0.6737029501525941, 0.6665818921668362, 0.6479267361994403], 'accuracy_rnf': [0.6557731434384537, 0.6528484231943031, 0.6620040691759919, 0.6593336724313327, 0.6892166836215666, 0.6667514627321293], 'f1_rnf': [0.6635177128651335, 0.6557377049180328, 0.6535453597497393, 0.6666666666666667, 0.690632911392405, 0.6701082850667339], 'precision_rnf': [0.6489180646729881, 0.6503251625812907, 0.6703208556149732, 0.6526187576126675, 0.6875, 0.6634255796559462], 'recall_rnf': [0.6787894201424212, 0.6612410986775178, 0.637589013224822, 0.6813326551373347, 0.6937945066124109, 0.6769269905876367], 'accuracy_sgd': [0.5762970498474059, 0.595116988809766, 0.5705747711088505, 0.6036368260427264, 0.6105035605289929, 0.5532943271432206], 'f1_sgd': [0.5332025777528719, 0.6095168015697818, 0.5442029963557836, 0.5658169661512744, 0.5829816201497617, 0.4803196211897011], 'precision_sgd': [0.5935745477230193, 0.5885836096636665, 0.5798101811906816, 0.6255004619648906, 0.6273073542338119, 0.574106827025115], 'recall_sgd': [0.48397761953204477, 0.6319938962360122, 0.5127161749745677, 0.5165310274669379, 0.5445066124109867, 0.412872042737217], 'accuracy_baggin': [0.6345371312309257, 0.6070701932858596, 0.6186419125127162, 0.6087232960325534, 0.6492878942014242, 0.6345713558890868], 'f1_baggin': [0.6553130247061646, 0.600672008270871, 0.6227198389734557, 0.6206386388854643, 0.6365313653136532, 0.6201242893031865], 'precision_baggin': [0.6200635497049478, 0.6106148187073043, 0.6161314413741599, 0.6022972002871501, 0.6605579868708972, 0.6456497797356828], 'recall_baggin': [0.6948118006103764, 0.5910478128179044, 0.6294506612410987, 0.6401322482197355, 0.6141912512716174, 0.5965403205291274], 'accuracy_pas': [0.4551119023397762, 0.5085198372329603, 0.5160223804679552, 0.46401322482197355, 0.5330620549338759, 0.48766217247519716], 'f1_pas': [0.45614925751998986, 0.5214807478024018, 0.2767008741923223, 0.3909839618552232, 0.5511002444987775, 0.3840978593272171], 'precision_pas': [0.45528249303268303, 0.5080820265379976, 0.5473684210526316, 0.4526597524255604, 0.53060263653484, 0.4814105021080874], 'recall_pas': [0.45701932858596134, 0.5356052899287894, 0.18514750762970497, 0.3440996948118006, 0.5732451678535097, 0.3195115746629356]}\n"
     ]
    },
    {
     "name": "stderr",
     "output_type": "stream",
     "text": [
      "c:\\users\\franc\\appdata\\local\\programs\\python\\python36\\lib\\site-packages\\sklearn\\utils\\validation.py:475: DataConversionWarning: Data with input dtype int64 was converted to float64 by StandardScaler.\n",
      "  warnings.warn(msg, DataConversionWarning)\n",
      "c:\\users\\franc\\appdata\\local\\programs\\python\\python36\\lib\\site-packages\\sklearn\\linear_model\\stochastic_gradient.py:128: FutureWarning: max_iter and tol parameters have been added in <class 'sklearn.linear_model.stochastic_gradient.SGDClassifier'> in 0.19. If both are left unset, they default to max_iter=5 and tol=None. If tol is not None, max_iter defaults to max_iter=1000. From 0.21, default max_iter will be 1000, and default tol will be 1e-3.\n",
      "  \"and default tol will be 1e-3.\" % type(self), FutureWarning)\n"
     ]
    },
    {
     "name": "stdout",
     "output_type": "stream",
     "text": [
      "{'accuracy_knn': [0.643056968463886, 0.6256358087487284, 0.6272889114954222, 0.6393692777212614, 0.6593336724313327, 0.6386415670312897, 0.6471635716102773], 'f1_knn': [0.6477600702723051, 0.627906976744186, 0.6188060866172455, 0.6513400540939266, 0.6617851281403863, 0.6419659735349716, 0.6536828963795256], 'precision_knn': [0.6393361406985385, 0.6241206030150753, 0.6332179930795848, 0.6304140885292717, 0.6570569064928553, 0.6361138861138861, 0.6418239764648198], 'recall_knn': [0.6564089521871821, 0.6317395727365208, 0.6050356052899288, 0.6737029501525941, 0.6665818921668362, 0.6479267361994403, 0.6659882981429661], 'accuracy_rnf': [0.6557731434384537, 0.6528484231943031, 0.6620040691759919, 0.6593336724313327, 0.6892166836215666, 0.6667514627321293, 0.6746374968201475], 'f1_rnf': [0.6635177128651335, 0.6557377049180328, 0.6535453597497393, 0.6666666666666667, 0.690632911392405, 0.6701082850667339, 0.6777525825144873], 'precision_rnf': [0.6489180646729881, 0.6503251625812907, 0.6703208556149732, 0.6526187576126675, 0.6875, 0.6634255796559462, 0.6713251809333666], 'recall_rnf': [0.6787894201424212, 0.6612410986775178, 0.637589013224822, 0.6813326551373347, 0.6937945066124109, 0.6769269905876367, 0.6843042482828797], 'accuracy_sgd': [0.5762970498474059, 0.595116988809766, 0.5705747711088505, 0.6036368260427264, 0.6105035605289929, 0.5532943271432206, 0.6105316713304503], 'f1_sgd': [0.5332025777528719, 0.6095168015697818, 0.5442029963557836, 0.5658169661512744, 0.5829816201497617, 0.4803196211897011, 0.5975289169295478], 'precision_sgd': [0.5935745477230193, 0.5885836096636665, 0.5798101811906816, 0.6255004619648906, 0.6273073542338119, 0.574106827025115, 0.6181669839543106], 'recall_sgd': [0.48397761953204477, 0.6319938962360122, 0.5127161749745677, 0.5165310274669379, 0.5445066124109867, 0.412872042737217, 0.5782243703892139], 'accuracy_baggin': [0.6345371312309257, 0.6070701932858596, 0.6186419125127162, 0.6087232960325534, 0.6492878942014242, 0.6345713558890868, 0.6410582548969728], 'f1_baggin': [0.6553130247061646, 0.600672008270871, 0.6227198389734557, 0.6206386388854643, 0.6365313653136532, 0.6201242893031865, 0.6468968968968969], 'precision_baggin': [0.6200635497049478, 0.6106148187073043, 0.6161314413741599, 0.6022972002871501, 0.6605579868708972, 0.6456497797356828, 0.6365427234671264], 'recall_baggin': [0.6948118006103764, 0.5910478128179044, 0.6294506612410987, 0.6401322482197355, 0.6141912512716174, 0.5965403205291274, 0.6575934876621725], 'accuracy_pas': [0.4551119023397762, 0.5085198372329603, 0.5160223804679552, 0.46401322482197355, 0.5330620549338759, 0.48766217247519716, 0.5132281862121597], 'f1_pas': [0.45614925751998986, 0.5214807478024018, 0.2767008741923223, 0.3909839618552232, 0.5511002444987775, 0.3840978593272171, 0.48360545135609234], 'precision_pas': [0.45528249303268303, 0.5080820265379976, 0.5473684210526316, 0.4526597524255604, 0.53060263653484, 0.4814105021080874, 0.5149425287356322], 'recall_pas': [0.45701932858596134, 0.5356052899287894, 0.18514750762970497, 0.3440996948118006, 0.5732451678535097, 0.3195115746629356, 0.4558636479267362]}\n"
     ]
    },
    {
     "name": "stderr",
     "output_type": "stream",
     "text": [
      "c:\\users\\franc\\appdata\\local\\programs\\python\\python36\\lib\\site-packages\\sklearn\\utils\\validation.py:475: DataConversionWarning: Data with input dtype int64 was converted to float64 by StandardScaler.\n",
      "  warnings.warn(msg, DataConversionWarning)\n",
      "c:\\users\\franc\\appdata\\local\\programs\\python\\python36\\lib\\site-packages\\sklearn\\linear_model\\stochastic_gradient.py:128: FutureWarning: max_iter and tol parameters have been added in <class 'sklearn.linear_model.stochastic_gradient.SGDClassifier'> in 0.19. If both are left unset, they default to max_iter=5 and tol=None. If tol is not None, max_iter defaults to max_iter=1000. From 0.21, default max_iter will be 1000, and default tol will be 1e-3.\n",
      "  \"and default tol will be 1e-3.\" % type(self), FutureWarning)\n"
     ]
    },
    {
     "name": "stdout",
     "output_type": "stream",
     "text": [
      "{'accuracy_knn': [0.643056968463886, 0.6256358087487284, 0.6272889114954222, 0.6393692777212614, 0.6593336724313327, 0.6386415670312897, 0.6471635716102773, 0.6394047316204529], 'f1_knn': [0.6477600702723051, 0.627906976744186, 0.6188060866172455, 0.6513400540939266, 0.6617851281403863, 0.6419659735349716, 0.6536828963795256, 0.633768246996512], 'precision_knn': [0.6393361406985385, 0.6241206030150753, 0.6332179930795848, 0.6304140885292717, 0.6570569064928553, 0.6361138861138861, 0.6418239764648198, 0.6438320209973754], 'recall_knn': [0.6564089521871821, 0.6317395727365208, 0.6050356052899288, 0.6737029501525941, 0.6665818921668362, 0.6479267361994403, 0.6659882981429661, 0.6240142457389977], 'accuracy_rnf': [0.6557731434384537, 0.6528484231943031, 0.6620040691759919, 0.6593336724313327, 0.6892166836215666, 0.6667514627321293, 0.6746374968201475, 0.662045281098957], 'f1_rnf': [0.6635177128651335, 0.6557377049180328, 0.6535453597497393, 0.6666666666666667, 0.690632911392405, 0.6701082850667339, 0.6777525825144873, 0.6561408049695872], 'precision_rnf': [0.6489180646729881, 0.6503251625812907, 0.6703208556149732, 0.6526187576126675, 0.6875, 0.6634255796559462, 0.6713251809333666, 0.6678082191780822], 'recall_rnf': [0.6787894201424212, 0.6612410986775178, 0.637589013224822, 0.6813326551373347, 0.6937945066124109, 0.6769269905876367, 0.6843042482828797, 0.644874077842788], 'accuracy_sgd': [0.5762970498474059, 0.595116988809766, 0.5705747711088505, 0.6036368260427264, 0.6105035605289929, 0.5532943271432206, 0.6105316713304503, 0.6149834647672348], 'f1_sgd': [0.5332025777528719, 0.6095168015697818, 0.5442029963557836, 0.5658169661512744, 0.5829816201497617, 0.4803196211897011, 0.5975289169295478, 0.5662702392892965], 'precision_sgd': [0.5935745477230193, 0.5885836096636665, 0.5798101811906816, 0.6255004619648906, 0.6273073542338119, 0.574106827025115, 0.6181669839543106, 0.6482939632545932], 'recall_sgd': [0.48397761953204477, 0.6319938962360122, 0.5127161749745677, 0.5165310274669379, 0.5445066124109867, 0.412872042737217, 0.5782243703892139, 0.5026710760620707], 'accuracy_baggin': [0.6345371312309257, 0.6070701932858596, 0.6186419125127162, 0.6087232960325534, 0.6492878942014242, 0.6345713558890868, 0.6410582548969728, 0.6465276011193081], 'f1_baggin': [0.6553130247061646, 0.600672008270871, 0.6227198389734557, 0.6206386388854643, 0.6365313653136532, 0.6201242893031865, 0.6468968968968969, 0.6522337629833562], 'precision_baggin': [0.6200635497049478, 0.6106148187073043, 0.6161314413741599, 0.6022972002871501, 0.6605579868708972, 0.6456497797356828, 0.6365427234671264, 0.641871921182266], 'recall_baggin': [0.6948118006103764, 0.5910478128179044, 0.6294506612410987, 0.6401322482197355, 0.6141912512716174, 0.5965403205291274, 0.6575934876621725, 0.6629356397863139], 'accuracy_pas': [0.4551119023397762, 0.5085198372329603, 0.5160223804679552, 0.46401322482197355, 0.5330620549338759, 0.48766217247519716, 0.5132281862121597, 0.4369117272958535], 'f1_pas': [0.45614925751998986, 0.5214807478024018, 0.2767008741923223, 0.3909839618552232, 0.5511002444987775, 0.3840978593272171, 0.48360545135609234, 0.43940736988729895], 'precision_pas': [0.45528249303268303, 0.5080820265379976, 0.5473684210526316, 0.4526597524255604, 0.53060263653484, 0.4814105021080874, 0.5149425287356322, 0.43746848209783157], 'recall_pas': [0.45701932858596134, 0.5356052899287894, 0.18514750762970497, 0.3440996948118006, 0.5732451678535097, 0.3195115746629356, 0.4558636479267362, 0.441363520732638]}\n"
     ]
    },
    {
     "name": "stderr",
     "output_type": "stream",
     "text": [
      "c:\\users\\franc\\appdata\\local\\programs\\python\\python36\\lib\\site-packages\\sklearn\\utils\\validation.py:475: DataConversionWarning: Data with input dtype int64 was converted to float64 by StandardScaler.\n",
      "  warnings.warn(msg, DataConversionWarning)\n",
      "c:\\users\\franc\\appdata\\local\\programs\\python\\python36\\lib\\site-packages\\sklearn\\linear_model\\stochastic_gradient.py:128: FutureWarning: max_iter and tol parameters have been added in <class 'sklearn.linear_model.stochastic_gradient.SGDClassifier'> in 0.19. If both are left unset, they default to max_iter=5 and tol=None. If tol is not None, max_iter defaults to max_iter=1000. From 0.21, default max_iter will be 1000, and default tol will be 1e-3.\n",
      "  \"and default tol will be 1e-3.\" % type(self), FutureWarning)\n"
     ]
    },
    {
     "name": "stdout",
     "output_type": "stream",
     "text": [
      "{'accuracy_knn': [0.643056968463886, 0.6256358087487284, 0.6272889114954222, 0.6393692777212614, 0.6593336724313327, 0.6386415670312897, 0.6471635716102773, 0.6394047316204529, 0.6353345204782498], 'f1_knn': [0.6477600702723051, 0.627906976744186, 0.6188060866172455, 0.6513400540939266, 0.6617851281403863, 0.6419659735349716, 0.6536828963795256, 0.633768246996512, 0.6407718331036211], 'precision_knn': [0.6393361406985385, 0.6241206030150753, 0.6332179930795848, 0.6304140885292717, 0.6570569064928553, 0.6361138861138861, 0.6418239764648198, 0.6438320209973754, 0.631358024691358], 'recall_knn': [0.6564089521871821, 0.6317395727365208, 0.6050356052899288, 0.6737029501525941, 0.6665818921668362, 0.6479267361994403, 0.6659882981429661, 0.6240142457389977, 0.6504706181633172], 'accuracy_rnf': [0.6557731434384537, 0.6528484231943031, 0.6620040691759919, 0.6593336724313327, 0.6892166836215666, 0.6667514627321293, 0.6746374968201475, 0.662045281098957, 0.6546680234037141], 'f1_rnf': [0.6635177128651335, 0.6557377049180328, 0.6535453597497393, 0.6666666666666667, 0.690632911392405, 0.6701082850667339, 0.6777525825144873, 0.6561408049695872, 0.657672424662716], 'precision_rnf': [0.6489180646729881, 0.6503251625812907, 0.6703208556149732, 0.6526187576126675, 0.6875, 0.6634255796559462, 0.6713251809333666, 0.6678082191780822, 0.652], 'recall_rnf': [0.6787894201424212, 0.6612410986775178, 0.637589013224822, 0.6813326551373347, 0.6937945066124109, 0.6769269905876367, 0.6843042482828797, 0.644874077842788, 0.6634444161790893], 'accuracy_sgd': [0.5762970498474059, 0.595116988809766, 0.5705747711088505, 0.6036368260427264, 0.6105035605289929, 0.5532943271432206, 0.6105316713304503, 0.6149834647672348, 0.5228949376748919], 'f1_sgd': [0.5332025777528719, 0.6095168015697818, 0.5442029963557836, 0.5658169661512744, 0.5829816201497617, 0.4803196211897011, 0.5975289169295478, 0.5662702392892965, 0.5056016870963489], 'precision_sgd': [0.5935745477230193, 0.5885836096636665, 0.5798101811906816, 0.6255004619648906, 0.6273073542338119, 0.574106827025115, 0.6181669839543106, 0.6482939632545932, 0.524617067833698], 'recall_sgd': [0.48397761953204477, 0.6319938962360122, 0.5127161749745677, 0.5165310274669379, 0.5445066124109867, 0.412872042737217, 0.5782243703892139, 0.5026710760620707, 0.48791656067158484], 'accuracy_baggin': [0.6345371312309257, 0.6070701932858596, 0.6186419125127162, 0.6087232960325534, 0.6492878942014242, 0.6345713558890868, 0.6410582548969728, 0.6465276011193081, 0.6219791401678962], 'f1_baggin': [0.6553130247061646, 0.600672008270871, 0.6227198389734557, 0.6206386388854643, 0.6365313653136532, 0.6201242893031865, 0.6468968968968969, 0.6522337629833562, 0.6366748166259167], 'precision_baggin': [0.6200635497049478, 0.6106148187073043, 0.6161314413741599, 0.6022972002871501, 0.6605579868708972, 0.6456497797356828, 0.6365427234671264, 0.641871921182266, 0.6128500823723229], 'recall_baggin': [0.6948118006103764, 0.5910478128179044, 0.6294506612410987, 0.6401322482197355, 0.6141912512716174, 0.5965403205291274, 0.6575934876621725, 0.6629356397863139, 0.6624268633935385], 'accuracy_pas': [0.4551119023397762, 0.5085198372329603, 0.5160223804679552, 0.46401322482197355, 0.5330620549338759, 0.48766217247519716, 0.5132281862121597, 0.4369117272958535, 0.5015263291783262], 'f1_pas': [0.45614925751998986, 0.5214807478024018, 0.2767008741923223, 0.3909839618552232, 0.5511002444987775, 0.3840978593272171, 0.48360545135609234, 0.43940736988729895, 0.4257875457875458], 'precision_pas': [0.45528249303268303, 0.5080820265379976, 0.5473684210526316, 0.4526597524255604, 0.53060263653484, 0.4814105021080874, 0.5149425287356322, 0.43746848209783157, 0.5020732550103663], 'recall_pas': [0.45701932858596134, 0.5356052899287894, 0.18514750762970497, 0.3440996948118006, 0.5732451678535097, 0.3195115746629356, 0.4558636479267362, 0.441363520732638, 0.3696260493513101]}\n"
     ]
    },
    {
     "name": "stderr",
     "output_type": "stream",
     "text": [
      "c:\\users\\franc\\appdata\\local\\programs\\python\\python36\\lib\\site-packages\\sklearn\\utils\\validation.py:475: DataConversionWarning: Data with input dtype int64 was converted to float64 by StandardScaler.\n",
      "  warnings.warn(msg, DataConversionWarning)\n",
      "c:\\users\\franc\\appdata\\local\\programs\\python\\python36\\lib\\site-packages\\sklearn\\linear_model\\stochastic_gradient.py:128: FutureWarning: max_iter and tol parameters have been added in <class 'sklearn.linear_model.stochastic_gradient.SGDClassifier'> in 0.19. If both are left unset, they default to max_iter=5 and tol=None. If tol is not None, max_iter defaults to max_iter=1000. From 0.21, default max_iter will be 1000, and default tol will be 1e-3.\n",
      "  \"and default tol will be 1e-3.\" % type(self), FutureWarning)\n"
     ]
    },
    {
     "name": "stdout",
     "output_type": "stream",
     "text": [
      "{'accuracy_knn': [0.643056968463886, 0.6256358087487284, 0.6272889114954222, 0.6393692777212614, 0.6593336724313327, 0.6386415670312897, 0.6471635716102773, 0.6394047316204529, 0.6353345204782498, 0.6408038667005851], 'f1_knn': [0.6477600702723051, 0.627906976744186, 0.6188060866172455, 0.6513400540939266, 0.6617851281403863, 0.6419659735349716, 0.6536828963795256, 0.633768246996512, 0.6407718331036211, 0.6398877837286406], 'precision_knn': [0.6393361406985385, 0.6241206030150753, 0.6332179930795848, 0.6304140885292717, 0.6570569064928553, 0.6361138861138861, 0.6418239764648198, 0.6438320209973754, 0.631358024691358, 0.6415239069291742], 'recall_knn': [0.6564089521871821, 0.6317395727365208, 0.6050356052899288, 0.6737029501525941, 0.6665818921668362, 0.6479267361994403, 0.6659882981429661, 0.6240142457389977, 0.6504706181633172, 0.6382599847367082], 'accuracy_rnf': [0.6557731434384537, 0.6528484231943031, 0.6620040691759919, 0.6593336724313327, 0.6892166836215666, 0.6667514627321293, 0.6746374968201475, 0.662045281098957, 0.6546680234037141, 0.6617908929025693], 'f1_rnf': [0.6635177128651335, 0.6557377049180328, 0.6535453597497393, 0.6666666666666667, 0.690632911392405, 0.6701082850667339, 0.6777525825144873, 0.6561408049695872, 0.657672424662716, 0.6607985712463325], 'precision_rnf': [0.6489180646729881, 0.6503251625812907, 0.6703208556149732, 0.6526187576126675, 0.6875, 0.6634255796559462, 0.6713251809333666, 0.6678082191780822, 0.652, 0.6627430910951894], 'recall_rnf': [0.6787894201424212, 0.6612410986775178, 0.637589013224822, 0.6813326551373347, 0.6937945066124109, 0.6769269905876367, 0.6843042482828797, 0.644874077842788, 0.6634444161790893, 0.6588654286441109], 'accuracy_sgd': [0.5762970498474059, 0.595116988809766, 0.5705747711088505, 0.6036368260427264, 0.6105035605289929, 0.5532943271432206, 0.6105316713304503, 0.6149834647672348, 0.5228949376748919, 0.6003561434749428], 'f1_sgd': [0.5332025777528719, 0.6095168015697818, 0.5442029963557836, 0.5658169661512744, 0.5829816201497617, 0.4803196211897011, 0.5975289169295478, 0.5662702392892965, 0.5056016870963489, 0.6031826218742106], 'precision_sgd': [0.5935745477230193, 0.5885836096636665, 0.5798101811906816, 0.6255004619648906, 0.6273073542338119, 0.574106827025115, 0.6181669839543106, 0.6482939632545932, 0.524617067833698, 0.5989465763732129], 'recall_sgd': [0.48397761953204477, 0.6319938962360122, 0.5127161749745677, 0.5165310274669379, 0.5445066124109867, 0.412872042737217, 0.5782243703892139, 0.5026710760620707, 0.48791656067158484, 0.607479012973798], 'accuracy_baggin': [0.6345371312309257, 0.6070701932858596, 0.6186419125127162, 0.6087232960325534, 0.6492878942014242, 0.6345713558890868, 0.6410582548969728, 0.6465276011193081, 0.6219791401678962, 0.6250317985245485], 'f1_baggin': [0.6553130247061646, 0.600672008270871, 0.6227198389734557, 0.6206386388854643, 0.6365313653136532, 0.6201242893031865, 0.6468968968968969, 0.6522337629833562, 0.6366748166259167, 0.6171428571428571], 'precision_baggin': [0.6200635497049478, 0.6106148187073043, 0.6161314413741599, 0.6022972002871501, 0.6605579868708972, 0.6456497797356828, 0.6365427234671264, 0.641871921182266, 0.6128500823723229, 0.6304059432210135], 'recall_baggin': [0.6948118006103764, 0.5910478128179044, 0.6294506612410987, 0.6401322482197355, 0.6141912512716174, 0.5965403205291274, 0.6575934876621725, 0.6629356397863139, 0.6624268633935385, 0.6044263546171458], 'accuracy_pas': [0.4551119023397762, 0.5085198372329603, 0.5160223804679552, 0.46401322482197355, 0.5330620549338759, 0.48766217247519716, 0.5132281862121597, 0.4369117272958535, 0.5015263291783262, 0.4608242177562961], 'f1_pas': [0.45614925751998986, 0.5214807478024018, 0.2767008741923223, 0.3909839618552232, 0.5511002444987775, 0.3840978593272171, 0.48360545135609234, 0.43940736988729895, 0.4257875457875458, 0.4132871972318339], 'precision_pas': [0.45528249303268303, 0.5080820265379976, 0.5473684210526316, 0.4526597524255604, 0.53060263653484, 0.4814105021080874, 0.5149425287356322, 0.43746848209783157, 0.5020732550103663, 0.4532483302975106], 'recall_pas': [0.45701932858596134, 0.5356052899287894, 0.18514750762970497, 0.3440996948118006, 0.5732451678535097, 0.3195115746629356, 0.4558636479267362, 0.441363520732638, 0.3696260493513101, 0.3798015772068176]}\n"
     ]
    },
    {
     "name": "stderr",
     "output_type": "stream",
     "text": [
      "c:\\users\\franc\\appdata\\local\\programs\\python\\python36\\lib\\site-packages\\sklearn\\utils\\validation.py:475: DataConversionWarning: Data with input dtype int64 was converted to float64 by StandardScaler.\n",
      "  warnings.warn(msg, DataConversionWarning)\n",
      "c:\\users\\franc\\appdata\\local\\programs\\python\\python36\\lib\\site-packages\\sklearn\\linear_model\\stochastic_gradient.py:128: FutureWarning: max_iter and tol parameters have been added in <class 'sklearn.linear_model.stochastic_gradient.SGDClassifier'> in 0.19. If both are left unset, they default to max_iter=5 and tol=None. If tol is not None, max_iter defaults to max_iter=1000. From 0.21, default max_iter will be 1000, and default tol will be 1e-3.\n",
      "  \"and default tol will be 1e-3.\" % type(self), FutureWarning)\n"
     ]
    },
    {
     "name": "stdout",
     "output_type": "stream",
     "text": [
      "{'accuracy_knn': [0.643056968463886, 0.6256358087487284, 0.6272889114954222, 0.6393692777212614, 0.6593336724313327, 0.6386415670312897, 0.6471635716102773, 0.6394047316204529, 0.6353345204782498, 0.6408038667005851, 0.6390231493258712], 'f1_knn': [0.6477600702723051, 0.627906976744186, 0.6188060866172455, 0.6513400540939266, 0.6617851281403863, 0.6419659735349716, 0.6536828963795256, 0.633768246996512, 0.6407718331036211, 0.6398877837286406, 0.6364335126825519], 'precision_knn': [0.6393361406985385, 0.6241206030150753, 0.6332179930795848, 0.6304140885292717, 0.6570569064928553, 0.6361138861138861, 0.6418239764648198, 0.6438320209973754, 0.631358024691358, 0.6415239069291742, 0.6410322580645161], 'recall_knn': [0.6564089521871821, 0.6317395727365208, 0.6050356052899288, 0.6737029501525941, 0.6665818921668362, 0.6479267361994403, 0.6659882981429661, 0.6240142457389977, 0.6504706181633172, 0.6382599847367082, 0.631900279827016], 'accuracy_rnf': [0.6557731434384537, 0.6528484231943031, 0.6620040691759919, 0.6593336724313327, 0.6892166836215666, 0.6667514627321293, 0.6746374968201475, 0.662045281098957, 0.6546680234037141, 0.6617908929025693, 0.6455100483337574], 'f1_rnf': [0.6635177128651335, 0.6557377049180328, 0.6535453597497393, 0.6666666666666667, 0.690632911392405, 0.6701082850667339, 0.6777525825144873, 0.6561408049695872, 0.657672424662716, 0.6607985712463325, 0.6382868267358858], 'precision_rnf': [0.6489180646729881, 0.6503251625812907, 0.6703208556149732, 0.6526187576126675, 0.6875, 0.6634255796559462, 0.6713251809333666, 0.6678082191780822, 0.652, 0.6627430910951894, 0.6515633280339163], 'recall_rnf': [0.6787894201424212, 0.6612410986775178, 0.637589013224822, 0.6813326551373347, 0.6937945066124109, 0.6769269905876367, 0.6843042482828797, 0.644874077842788, 0.6634444161790893, 0.6588654286441109, 0.6255405749173238], 'accuracy_sgd': [0.5762970498474059, 0.595116988809766, 0.5705747711088505, 0.6036368260427264, 0.6105035605289929, 0.5532943271432206, 0.6105316713304503, 0.6149834647672348, 0.5228949376748919, 0.6003561434749428, 0.6063342660900535], 'f1_sgd': [0.5332025777528719, 0.6095168015697818, 0.5442029963557836, 0.5658169661512744, 0.5829816201497617, 0.4803196211897011, 0.5975289169295478, 0.5662702392892965, 0.5056016870963489, 0.6031826218742106, 0.5563995986813817], 'precision_sgd': [0.5935745477230193, 0.5885836096636665, 0.5798101811906816, 0.6255004619648906, 0.6273073542338119, 0.574106827025115, 0.6181669839543106, 0.6482939632545932, 0.524617067833698, 0.5989465763732129, 0.6372291529875246], 'recall_sgd': [0.48397761953204477, 0.6319938962360122, 0.5127161749745677, 0.5165310274669379, 0.5445066124109867, 0.412872042737217, 0.5782243703892139, 0.5026710760620707, 0.48791656067158484, 0.607479012973798, 0.49376748918850166], 'accuracy_baggin': [0.6345371312309257, 0.6070701932858596, 0.6186419125127162, 0.6087232960325534, 0.6492878942014242, 0.6345713558890868, 0.6410582548969728, 0.6465276011193081, 0.6219791401678962, 0.6250317985245485, 0.6413126430933604], 'f1_baggin': [0.6553130247061646, 0.600672008270871, 0.6227198389734557, 0.6206386388854643, 0.6365313653136532, 0.6201242893031865, 0.6468968968968969, 0.6522337629833562, 0.6366748166259167, 0.6171428571428571, 0.6391092910161249], 'precision_baggin': [0.6200635497049478, 0.6106148187073043, 0.6161314413741599, 0.6022972002871501, 0.6605579868708972, 0.6456497797356828, 0.6365427234671264, 0.641871921182266, 0.6128500823723229, 0.6304059432210135, 0.6430594900849859], 'recall_baggin': [0.6948118006103764, 0.5910478128179044, 0.6294506612410987, 0.6401322482197355, 0.6141912512716174, 0.5965403205291274, 0.6575934876621725, 0.6629356397863139, 0.6624268633935385, 0.6044263546171458, 0.635207326380056], 'accuracy_pas': [0.4551119023397762, 0.5085198372329603, 0.5160223804679552, 0.46401322482197355, 0.5330620549338759, 0.48766217247519716, 0.5132281862121597, 0.4369117272958535, 0.5015263291783262, 0.4608242177562961, 0.5714830831849402], 'f1_pas': [0.45614925751998986, 0.5214807478024018, 0.2767008741923223, 0.3909839618552232, 0.5511002444987775, 0.3840978593272171, 0.48360545135609234, 0.43940736988729895, 0.4257875457875458, 0.4132871972318339, 0.46886331388932684], 'precision_pas': [0.45528249303268303, 0.5080820265379976, 0.5473684210526316, 0.4526597524255604, 0.53060263653484, 0.4814105021080874, 0.5149425287356322, 0.43746848209783157, 0.5020732550103663, 0.4532483302975106, 0.6165008291873963], 'recall_pas': [0.45701932858596134, 0.5356052899287894, 0.18514750762970497, 0.3440996948118006, 0.5732451678535097, 0.3195115746629356, 0.4558636479267362, 0.441363520732638, 0.3696260493513101, 0.3798015772068176, 0.3782752480284915]}\n"
     ]
    },
    {
     "name": "stderr",
     "output_type": "stream",
     "text": [
      "c:\\users\\franc\\appdata\\local\\programs\\python\\python36\\lib\\site-packages\\sklearn\\utils\\validation.py:475: DataConversionWarning: Data with input dtype int64 was converted to float64 by StandardScaler.\n",
      "  warnings.warn(msg, DataConversionWarning)\n",
      "c:\\users\\franc\\appdata\\local\\programs\\python\\python36\\lib\\site-packages\\sklearn\\linear_model\\stochastic_gradient.py:128: FutureWarning: max_iter and tol parameters have been added in <class 'sklearn.linear_model.stochastic_gradient.SGDClassifier'> in 0.19. If both are left unset, they default to max_iter=5 and tol=None. If tol is not None, max_iter defaults to max_iter=1000. From 0.21, default max_iter will be 1000, and default tol will be 1e-3.\n",
      "  \"and default tol will be 1e-3.\" % type(self), FutureWarning)\n"
     ]
    },
    {
     "name": "stdout",
     "output_type": "stream",
     "text": [
      "{'accuracy_knn': [0.643056968463886, 0.6256358087487284, 0.6272889114954222, 0.6393692777212614, 0.6593336724313327, 0.6386415670312897, 0.6471635716102773, 0.6394047316204529, 0.6353345204782498, 0.6408038667005851, 0.6390231493258712, 0.6428389722716866], 'f1_knn': [0.6477600702723051, 0.627906976744186, 0.6188060866172455, 0.6513400540939266, 0.6617851281403863, 0.6419659735349716, 0.6536828963795256, 0.633768246996512, 0.6407718331036211, 0.6398877837286406, 0.6364335126825519, 0.6444669536591542], 'precision_knn': [0.6393361406985385, 0.6241206030150753, 0.6332179930795848, 0.6304140885292717, 0.6570569064928553, 0.6361138861138861, 0.6418239764648198, 0.6438320209973754, 0.631358024691358, 0.6415239069291742, 0.6410322580645161, 0.6415427275018906], 'recall_knn': [0.6564089521871821, 0.6317395727365208, 0.6050356052899288, 0.6737029501525941, 0.6665818921668362, 0.6479267361994403, 0.6659882981429661, 0.6240142457389977, 0.6504706181633172, 0.6382599847367082, 0.631900279827016, 0.6474179598066649], 'accuracy_rnf': [0.6557731434384537, 0.6528484231943031, 0.6620040691759919, 0.6593336724313327, 0.6892166836215666, 0.6667514627321293, 0.6746374968201475, 0.662045281098957, 0.6546680234037141, 0.6617908929025693, 0.6455100483337574, 0.6596285932332739], 'f1_rnf': [0.6635177128651335, 0.6557377049180328, 0.6535453597497393, 0.6666666666666667, 0.690632911392405, 0.6701082850667339, 0.6777525825144873, 0.6561408049695872, 0.657672424662716, 0.6607985712463325, 0.6382868267358858, 0.6598881545500762], 'precision_rnf': [0.6489180646729881, 0.6503251625812907, 0.6703208556149732, 0.6526187576126675, 0.6875, 0.6634255796559462, 0.6713251809333666, 0.6678082191780822, 0.652, 0.6627430910951894, 0.6515633280339163, 0.6593853187706376], 'recall_rnf': [0.6787894201424212, 0.6612410986775178, 0.637589013224822, 0.6813326551373347, 0.6937945066124109, 0.6769269905876367, 0.6843042482828797, 0.644874077842788, 0.6634444161790893, 0.6588654286441109, 0.6255405749173238, 0.6603917578224371], 'accuracy_sgd': [0.5762970498474059, 0.595116988809766, 0.5705747711088505, 0.6036368260427264, 0.6105035605289929, 0.5532943271432206, 0.6105316713304503, 0.6149834647672348, 0.5228949376748919, 0.6003561434749428, 0.6063342660900535, 0.5862375985754261], 'f1_sgd': [0.5332025777528719, 0.6095168015697818, 0.5442029963557836, 0.5658169661512744, 0.5829816201497617, 0.4803196211897011, 0.5975289169295478, 0.5662702392892965, 0.5056016870963489, 0.6031826218742106, 0.5563995986813817, 0.6185953804666431], 'precision_sgd': [0.5935745477230193, 0.5885836096636665, 0.5798101811906816, 0.6255004619648906, 0.6273073542338119, 0.574106827025115, 0.6181669839543106, 0.6482939632545932, 0.524617067833698, 0.5989465763732129, 0.6372291529875246, 0.5737277076989996], 'recall_sgd': [0.48397761953204477, 0.6319938962360122, 0.5127161749745677, 0.5165310274669379, 0.5445066124109867, 0.412872042737217, 0.5782243703892139, 0.5026710760620707, 0.48791656067158484, 0.607479012973798, 0.49376748918850166, 0.6710760620707199], 'accuracy_baggin': [0.6345371312309257, 0.6070701932858596, 0.6186419125127162, 0.6087232960325534, 0.6492878942014242, 0.6345713558890868, 0.6410582548969728, 0.6465276011193081, 0.6219791401678962, 0.6250317985245485, 0.6413126430933604, 0.6338081912999237], 'f1_baggin': [0.6553130247061646, 0.600672008270871, 0.6227198389734557, 0.6206386388854643, 0.6365313653136532, 0.6201242893031865, 0.6468968968968969, 0.6522337629833562, 0.6366748166259167, 0.6171428571428571, 0.6391092910161249, 0.6309447506729907], 'precision_baggin': [0.6200635497049478, 0.6106148187073043, 0.6161314413741599, 0.6022972002871501, 0.6605579868708972, 0.6456497797356828, 0.6365427234671264, 0.641871921182266, 0.6128500823723229, 0.6304059432210135, 0.6430594900849859, 0.6359173126614988], 'recall_baggin': [0.6948118006103764, 0.5910478128179044, 0.6294506612410987, 0.6401322482197355, 0.6141912512716174, 0.5965403205291274, 0.6575934876621725, 0.6629356397863139, 0.6624268633935385, 0.6044263546171458, 0.635207326380056, 0.6260493513100992], 'accuracy_pas': [0.4551119023397762, 0.5085198372329603, 0.5160223804679552, 0.46401322482197355, 0.5330620549338759, 0.48766217247519716, 0.5132281862121597, 0.4369117272958535, 0.5015263291783262, 0.4608242177562961, 0.5714830831849402, 0.568430424828288], 'f1_pas': [0.45614925751998986, 0.5214807478024018, 0.2767008741923223, 0.3909839618552232, 0.5511002444987775, 0.3840978593272171, 0.48360545135609234, 0.43940736988729895, 0.4257875457875458, 0.4132871972318339, 0.46886331388932684, 0.6159592529711375], 'precision_pas': [0.45528249303268303, 0.5080820265379976, 0.5473684210526316, 0.4526597524255604, 0.53060263653484, 0.4814105021080874, 0.5149425287356322, 0.43746848209783157, 0.5020732550103663, 0.4532483302975106, 0.6165008291873963, 0.5548531810766721], 'recall_pas': [0.45701932858596134, 0.5356052899287894, 0.18514750762970497, 0.3440996948118006, 0.5732451678535097, 0.3195115746629356, 0.4558636479267362, 0.441363520732638, 0.3696260493513101, 0.3798015772068176, 0.3782752480284915, 0.692190282370898]}\n",
      "DONE!\n"
     ]
    }
   ],
   "source": [
    "if __name__ == '__main__':\n",
    "   \n",
    "    report_offensegroup_down = sampling_offensegroup(X_rus, y_rus, 'binary', 'offensegroup_downsampled_model.pickle',\n",
    "                                                     'offensegroup_downsampled_report.pickle')"
   ]
  },
  {
   "cell_type": "code",
   "execution_count": 25,
   "metadata": {},
   "outputs": [
    {
     "name": "stdout",
     "output_type": "stream",
     "text": [
      "    accuracy_baggin  accuracy_knn  accuracy_pas  accuracy_rnf  accuracy_sgd  \\\n",
      "0          0.634537      0.643057      0.455112      0.655773      0.576297   \n",
      "1          0.607070      0.625636      0.508520      0.652848      0.595117   \n",
      "2          0.618642      0.627289      0.516022      0.662004      0.570575   \n",
      "3          0.608723      0.639369      0.464013      0.659334      0.603637   \n",
      "4          0.649288      0.659334      0.533062      0.689217      0.610504   \n",
      "5          0.634571      0.638642      0.487662      0.666751      0.553294   \n",
      "6          0.641058      0.647164      0.513228      0.674637      0.610532   \n",
      "7          0.646528      0.639405      0.436912      0.662045      0.614983   \n",
      "8          0.621979      0.635335      0.501526      0.654668      0.522895   \n",
      "9          0.625032      0.640804      0.460824      0.661791      0.600356   \n",
      "10         0.641313      0.639023      0.571483      0.645510      0.606334   \n",
      "11         0.633808      0.642839      0.568430      0.659629      0.586238   \n",
      "\n",
      "    f1_baggin    f1_knn    f1_pas    f1_rnf    f1_sgd  precision_baggin  \\\n",
      "0    0.655313  0.647760  0.456149  0.663518  0.533203          0.620064   \n",
      "1    0.600672  0.627907  0.521481  0.655738  0.609517          0.610615   \n",
      "2    0.622720  0.618806  0.276701  0.653545  0.544203          0.616131   \n",
      "3    0.620639  0.651340  0.390984  0.666667  0.565817          0.602297   \n",
      "4    0.636531  0.661785  0.551100  0.690633  0.582982          0.660558   \n",
      "5    0.620124  0.641966  0.384098  0.670108  0.480320          0.645650   \n",
      "6    0.646897  0.653683  0.483605  0.677753  0.597529          0.636543   \n",
      "7    0.652234  0.633768  0.439407  0.656141  0.566270          0.641872   \n",
      "8    0.636675  0.640772  0.425788  0.657672  0.505602          0.612850   \n",
      "9    0.617143  0.639888  0.413287  0.660799  0.603183          0.630406   \n",
      "10   0.639109  0.636434  0.468863  0.638287  0.556400          0.643059   \n",
      "11   0.630945  0.644467  0.615959  0.659888  0.618595          0.635917   \n",
      "\n",
      "    precision_knn  precision_pas  precision_rnf  precision_sgd  recall_baggin  \\\n",
      "0        0.639336       0.455282       0.648918       0.593575       0.694812   \n",
      "1        0.624121       0.508082       0.650325       0.588584       0.591048   \n",
      "2        0.633218       0.547368       0.670321       0.579810       0.629451   \n",
      "3        0.630414       0.452660       0.652619       0.625500       0.640132   \n",
      "4        0.657057       0.530603       0.687500       0.627307       0.614191   \n",
      "5        0.636114       0.481411       0.663426       0.574107       0.596540   \n",
      "6        0.641824       0.514943       0.671325       0.618167       0.657593   \n",
      "7        0.643832       0.437468       0.667808       0.648294       0.662936   \n",
      "8        0.631358       0.502073       0.652000       0.524617       0.662427   \n",
      "9        0.641524       0.453248       0.662743       0.598947       0.604426   \n",
      "10       0.641032       0.616501       0.651563       0.637229       0.635207   \n",
      "11       0.641543       0.554853       0.659385       0.573728       0.626049   \n",
      "\n",
      "    recall_knn  recall_pas  recall_rnf  recall_sgd  \n",
      "0     0.656409    0.457019    0.678789    0.483978  \n",
      "1     0.631740    0.535605    0.661241    0.631994  \n",
      "2     0.605036    0.185148    0.637589    0.512716  \n",
      "3     0.673703    0.344100    0.681333    0.516531  \n",
      "4     0.666582    0.573245    0.693795    0.544507  \n",
      "5     0.647927    0.319512    0.676927    0.412872  \n",
      "6     0.665988    0.455864    0.684304    0.578224  \n",
      "7     0.624014    0.441364    0.644874    0.502671  \n",
      "8     0.650471    0.369626    0.663444    0.487917  \n",
      "9     0.638260    0.379802    0.658865    0.607479  \n",
      "10    0.631900    0.378275    0.625541    0.493767  \n",
      "11    0.647418    0.692190    0.660392    0.671076  \n"
     ]
    }
   ],
   "source": [
    "report_offensegroup_down = pd.DataFrame(report_offensegroup_down)\n",
    "print (report_offensegroup_down)"
   ]
  },
  {
   "cell_type": "markdown",
   "metadata": {},
   "source": [
    "# 2 target variable \"ucr-rank with 3 levels\" z"
   ]
  },
  {
   "cell_type": "code",
   "execution_count": 15,
   "metadata": {},
   "outputs": [],
   "source": [
    "X =  feat_var[0]\n",
    "y =  feat_var[1] #y is \"offense group\"\n",
    "z =  feat_var[2] # z is \"ucr-rank\""
   ]
  },
  {
   "cell_type": "code",
   "execution_count": 16,
   "metadata": {},
   "outputs": [],
   "source": [
    "X = X[[\"hour\",\"street\", \"month\", \"day\", \"LATITUDE\", \"LONGITUDE\", \"Temperature\"]]"
   ]
  },
  {
   "cell_type": "code",
   "execution_count": 17,
   "metadata": {},
   "outputs": [
    {
     "data": {
      "text/plain": [
       "6    102462\n",
       "7     82325\n",
       "4     26379\n",
       "5     23033\n",
       "8     22602\n",
       "3     17686\n",
       "2      2170\n",
       "1       942\n",
       "9       196\n",
       "Name: ucr-rank, dtype: int64"
      ]
     },
     "execution_count": 17,
     "metadata": {},
     "output_type": "execute_result"
    }
   ],
   "source": [
    "z_i = pd.Series(z)\n",
    "z_i.value_counts()"
   ]
  },
  {
   "cell_type": "code",
   "execution_count": 18,
   "metadata": {},
   "outputs": [],
   "source": [
    "def new_cat(z):\n",
    "    \n",
    "    new_cat = []\n",
    "    for i in z:\n",
    "        if i >= 1 and i < 5:\n",
    "            i = 3\n",
    "        elif i == 7:\n",
    "            i = 2\n",
    "        elif i == 8:\n",
    "            i = 2\n",
    "        else:\n",
    "            i = 1\n",
    "        new_cat.append(i)\n",
    "    z = pd.Series(new_cat)\n",
    "    return z"
   ]
  },
  {
   "cell_type": "code",
   "execution_count": 19,
   "metadata": {},
   "outputs": [],
   "source": [
    "z = new_cat(z)"
   ]
  },
  {
   "cell_type": "code",
   "execution_count": 20,
   "metadata": {},
   "outputs": [
    {
     "data": {
      "text/plain": [
       "1    125691\n",
       "2    104927\n",
       "3     47177\n",
       "dtype: int64"
      ]
     },
     "execution_count": 20,
     "metadata": {},
     "output_type": "execute_result"
    }
   ],
   "source": [
    "z_j = pd.Series(z)\n",
    "z_j.value_counts()"
   ]
  },
  {
   "cell_type": "markdown",
   "metadata": {},
   "source": [
    "## 2.1 Up-Sampling"
   ]
  },
  {
   "cell_type": "code",
   "execution_count": 21,
   "metadata": {},
   "outputs": [],
   "source": [
    "ros = RandomOverSampler(random_state=43)\n",
    "X_res1, z_res = ros.fit_sample(X, z)"
   ]
  },
  {
   "cell_type": "code",
   "execution_count": 22,
   "metadata": {},
   "outputs": [
    {
     "name": "stdout",
     "output_type": "stream",
     "text": [
      "<class 'pandas.core.frame.DataFrame'>\n",
      "RangeIndex: 377073 entries, 0 to 377072\n",
      "Data columns (total 7 columns):\n",
      "0    377073 non-null int64\n",
      "1    377073 non-null int64\n",
      "2    377073 non-null int64\n",
      "3    377073 non-null int64\n",
      "4    377073 non-null int64\n",
      "5    377073 non-null int64\n",
      "6    377073 non-null int64\n",
      "dtypes: int64(7)\n",
      "memory usage: 20.1 MB\n",
      "None\n",
      "3    125691\n",
      "2    125691\n",
      "1    125691\n",
      "dtype: int64\n"
     ]
    }
   ],
   "source": [
    "X_res_i = pd.DataFrame(X_res1)\n",
    "z_res_i = pd.Series(z_res)\n",
    "\n",
    "print (X_res_i.info())\n",
    "print (z_res_i.value_counts())"
   ]
  },
  {
   "cell_type": "markdown",
   "metadata": {},
   "source": []
  },
  {
   "cell_type": "code",
   "execution_count": 34,
   "metadata": {
    "scrolled": true
   },
   "outputs": [
    {
     "name": "stderr",
     "output_type": "stream",
     "text": [
      "c:\\users\\franc\\appdata\\local\\programs\\python\\python36\\lib\\site-packages\\sklearn\\utils\\validation.py:475: DataConversionWarning: Data with input dtype int64 was converted to float64 by StandardScaler.\n",
      "  warnings.warn(msg, DataConversionWarning)\n",
      "c:\\users\\franc\\appdata\\local\\programs\\python\\python36\\lib\\site-packages\\sklearn\\linear_model\\stochastic_gradient.py:128: FutureWarning: max_iter and tol parameters have been added in <class 'sklearn.linear_model.stochastic_gradient.SGDClassifier'> in 0.19. If both are left unset, they default to max_iter=5 and tol=None. If tol is not None, max_iter defaults to max_iter=1000. From 0.21, default max_iter will be 1000, and default tol will be 1e-3.\n",
      "  \"and default tol will be 1e-3.\" % type(self), FutureWarning)\n"
     ]
    },
    {
     "name": "stdout",
     "output_type": "stream",
     "text": [
      "{'accuracy_knn': [0.47573587907716786], 'f1_knn': [0.47301528587375574], 'precision_knn': [0.4749948730134729], 'recall_knn': [0.47573587907716786], 'accuracy_rnf': [0.5591726332537789], 'f1_rnf': [0.5606161263665855], 'precision_rnf': [0.572737203292459], 'recall_rnf': [0.5591726332537789], 'accuracy_sgd': [0.3436117740652347], 'f1_sgd': [0.3078873470572044], 'precision_sgd': [0.3388724362983908], 'recall_sgd': [0.3436117740652347], 'accuracy_baggin': [0.44009546539379474], 'f1_baggin': [0.44040743169262275], 'precision_baggin': [0.44403718403849235], 'recall_baggin': [0.44009546539379474], 'accuracy_pas': [0.3665552903739061], 'f1_pas': [0.32114836757564774], 'precision_pas': [0.39140295966343136], 'recall_pas': [0.3665552903739061]}\n"
     ]
    },
    {
     "name": "stderr",
     "output_type": "stream",
     "text": [
      "c:\\users\\franc\\appdata\\local\\programs\\python\\python36\\lib\\site-packages\\sklearn\\utils\\validation.py:475: DataConversionWarning: Data with input dtype int64 was converted to float64 by StandardScaler.\n",
      "  warnings.warn(msg, DataConversionWarning)\n",
      "c:\\users\\franc\\appdata\\local\\programs\\python\\python36\\lib\\site-packages\\sklearn\\linear_model\\stochastic_gradient.py:128: FutureWarning: max_iter and tol parameters have been added in <class 'sklearn.linear_model.stochastic_gradient.SGDClassifier'> in 0.19. If both are left unset, they default to max_iter=5 and tol=None. If tol is not None, max_iter defaults to max_iter=1000. From 0.21, default max_iter will be 1000, and default tol will be 1e-3.\n",
      "  \"and default tol will be 1e-3.\" % type(self), FutureWarning)\n"
     ]
    },
    {
     "name": "stdout",
     "output_type": "stream",
     "text": [
      "{'accuracy_knn': [0.47573587907716786, 0.47993635640413684], 'f1_knn': [0.47301528587375574, 0.47555573760845743], 'precision_knn': [0.4749948730134729, 0.4786082449046639], 'recall_knn': [0.47573587907716786, 0.47993635640413684], 'accuracy_rnf': [0.5591726332537789, 0.6499602227525855], 'f1_rnf': [0.5606161263665855, 0.6486314952627743], 'precision_rnf': [0.572737203292459, 0.6500404161424476], 'recall_rnf': [0.5591726332537789, 0.6499602227525855], 'accuracy_sgd': [0.3436117740652347, 0.3681782020684169], 'f1_sgd': [0.3078873470572044, 0.351093665890447], 'precision_sgd': [0.3388724362983908, 0.3673065518579553], 'recall_sgd': [0.3436117740652347, 0.3681782020684169], 'accuracy_baggin': [0.44009546539379474, 0.4505648369132856], 'f1_baggin': [0.44040743169262275, 0.44775230149940815], 'precision_baggin': [0.44403718403849235, 0.44722494064784923], 'recall_baggin': [0.44009546539379474, 0.4505648369132856], 'accuracy_pas': [0.3665552903739061, 0.38463007159904533], 'f1_pas': [0.32114836757564774, 0.3676854049121349], 'precision_pas': [0.39140295966343136, 0.4073024726621491], 'recall_pas': [0.3665552903739061, 0.38463007159904533]}\n"
     ]
    },
    {
     "name": "stderr",
     "output_type": "stream",
     "text": [
      "c:\\users\\franc\\appdata\\local\\programs\\python\\python36\\lib\\site-packages\\sklearn\\utils\\validation.py:475: DataConversionWarning: Data with input dtype int64 was converted to float64 by StandardScaler.\n",
      "  warnings.warn(msg, DataConversionWarning)\n",
      "c:\\users\\franc\\appdata\\local\\programs\\python\\python36\\lib\\site-packages\\sklearn\\linear_model\\stochastic_gradient.py:128: FutureWarning: max_iter and tol parameters have been added in <class 'sklearn.linear_model.stochastic_gradient.SGDClassifier'> in 0.19. If both are left unset, they default to max_iter=5 and tol=None. If tol is not None, max_iter defaults to max_iter=1000. From 0.21, default max_iter will be 1000, and default tol will be 1e-3.\n",
      "  \"and default tol will be 1e-3.\" % type(self), FutureWarning)\n"
     ]
    },
    {
     "name": "stdout",
     "output_type": "stream",
     "text": [
      "{'accuracy_knn': [0.47573587907716786, 0.47993635640413684, 0.47993635640413684], 'f1_knn': [0.47301528587375574, 0.47555573760845743, 0.4764448029694337], 'precision_knn': [0.4749948730134729, 0.4786082449046639, 0.47745753765951365], 'recall_knn': [0.47573587907716786, 0.47993635640413684, 0.47993635640413684], 'accuracy_rnf': [0.5591726332537789, 0.6499602227525855, 0.6700715990453461], 'f1_rnf': [0.5606161263665855, 0.6486314952627743, 0.6677048076880495], 'precision_rnf': [0.572737203292459, 0.6500404161424476, 0.6675228332961971], 'recall_rnf': [0.5591726332537789, 0.6499602227525855, 0.6700715990453461], 'accuracy_sgd': [0.3436117740652347, 0.3681782020684169, 0.37403341288782815], 'f1_sgd': [0.3078873470572044, 0.351093665890447, 0.3680696830697378], 'precision_sgd': [0.3388724362983908, 0.3673065518579553, 0.3825106377248456], 'recall_sgd': [0.3436117740652347, 0.3681782020684169, 0.37403341288782815], 'accuracy_baggin': [0.44009546539379474, 0.4505648369132856, 0.4614797136038186], 'f1_baggin': [0.44040743169262275, 0.44775230149940815, 0.45893376576390565], 'precision_baggin': [0.44403718403849235, 0.44722494064784923, 0.45868966166003894], 'recall_baggin': [0.44009546539379474, 0.4505648369132856, 0.4614797136038186], 'accuracy_pas': [0.3665552903739061, 0.38463007159904533, 0.3742879872712808], 'f1_pas': [0.32114836757564774, 0.3676854049121349, 0.36255361286799603], 'precision_pas': [0.39140295966343136, 0.4073024726621491, 0.36273986736202074], 'recall_pas': [0.3665552903739061, 0.38463007159904533, 0.3742879872712808]}\n"
     ]
    },
    {
     "name": "stderr",
     "output_type": "stream",
     "text": [
      "c:\\users\\franc\\appdata\\local\\programs\\python\\python36\\lib\\site-packages\\sklearn\\utils\\validation.py:475: DataConversionWarning: Data with input dtype int64 was converted to float64 by StandardScaler.\n",
      "  warnings.warn(msg, DataConversionWarning)\n",
      "c:\\users\\franc\\appdata\\local\\programs\\python\\python36\\lib\\site-packages\\sklearn\\linear_model\\stochastic_gradient.py:128: FutureWarning: max_iter and tol parameters have been added in <class 'sklearn.linear_model.stochastic_gradient.SGDClassifier'> in 0.19. If both are left unset, they default to max_iter=5 and tol=None. If tol is not None, max_iter defaults to max_iter=1000. From 0.21, default max_iter will be 1000, and default tol will be 1e-3.\n",
      "  \"and default tol will be 1e-3.\" % type(self), FutureWarning)\n"
     ]
    },
    {
     "name": "stdout",
     "output_type": "stream",
     "text": [
      "{'accuracy_knn': [0.47573587907716786, 0.47993635640413684, 0.47993635640413684, 0.46480173127108393], 'f1_knn': [0.47301528587375574, 0.47555573760845743, 0.4764448029694337, 0.4622924076917051], 'precision_knn': [0.4749948730134729, 0.4786082449046639, 0.47745753765951365, 0.46293755495614536], 'recall_knn': [0.47573587907716786, 0.47993635640413684, 0.47993635640413684, 0.46480173127108393], 'accuracy_rnf': [0.5591726332537789, 0.6499602227525855, 0.6700715990453461, 0.6592833046909808], 'f1_rnf': [0.5606161263665855, 0.6486314952627743, 0.6677048076880495, 0.6573425488340184], 'precision_rnf': [0.572737203292459, 0.6500404161424476, 0.6675228332961971, 0.6570440119478682], 'recall_rnf': [0.5591726332537789, 0.6499602227525855, 0.6700715990453461, 0.6592833046909808], 'accuracy_sgd': [0.3436117740652347, 0.3681782020684169, 0.37403341288782815, 0.3195850041372287], 'f1_sgd': [0.3078873470572044, 0.351093665890447, 0.3680696830697378, 0.31563070683191674], 'precision_sgd': [0.3388724362983908, 0.3673065518579553, 0.3825106377248456, 0.32563703397783467], 'recall_sgd': [0.3436117740652347, 0.3681782020684169, 0.37403341288782815, 0.3195850041372287], 'accuracy_baggin': [0.44009546539379474, 0.4505648369132856, 0.4614797136038186, 0.4296989370504742], 'f1_baggin': [0.44040743169262275, 0.44775230149940815, 0.45893376576390565, 0.4250525602300644], 'precision_baggin': [0.44403718403849235, 0.44722494064784923, 0.45868966166003894, 0.42595888276967064], 'recall_baggin': [0.44009546539379474, 0.4505648369132856, 0.4614797136038186, 0.4296989370504742], 'accuracy_pas': [0.3665552903739061, 0.38463007159904533, 0.3742879872712808, 0.34504487301890396], 'f1_pas': [0.32114836757564774, 0.3676854049121349, 0.36255361286799603, 0.3376444958576383], 'precision_pas': [0.39140295966343136, 0.4073024726621491, 0.36273986736202074, 0.3485459368110012], 'recall_pas': [0.3665552903739061, 0.38463007159904533, 0.3742879872712808, 0.34504487301890396]}\n"
     ]
    },
    {
     "name": "stderr",
     "output_type": "stream",
     "text": [
      "c:\\users\\franc\\appdata\\local\\programs\\python\\python36\\lib\\site-packages\\sklearn\\utils\\validation.py:475: DataConversionWarning: Data with input dtype int64 was converted to float64 by StandardScaler.\n",
      "  warnings.warn(msg, DataConversionWarning)\n",
      "c:\\users\\franc\\appdata\\local\\programs\\python\\python36\\lib\\site-packages\\sklearn\\linear_model\\stochastic_gradient.py:128: FutureWarning: max_iter and tol parameters have been added in <class 'sklearn.linear_model.stochastic_gradient.SGDClassifier'> in 0.19. If both are left unset, they default to max_iter=5 and tol=None. If tol is not None, max_iter defaults to max_iter=1000. From 0.21, default max_iter will be 1000, and default tol will be 1e-3.\n",
      "  \"and default tol will be 1e-3.\" % type(self), FutureWarning)\n"
     ]
    },
    {
     "name": "stdout",
     "output_type": "stream",
     "text": [
      "{'accuracy_knn': [0.47573587907716786, 0.47993635640413684, 0.47993635640413684, 0.46480173127108393, 0.4801413022722933], 'f1_knn': [0.47301528587375574, 0.47555573760845743, 0.4764448029694337, 0.4622924076917051, 0.47565553382944037], 'precision_knn': [0.4749948730134729, 0.4786082449046639, 0.47745753765951365, 0.46293755495614536, 0.4776042805044861], 'recall_knn': [0.47573587907716786, 0.47993635640413684, 0.47993635640413684, 0.46480173127108393, 0.4801413022722933], 'accuracy_rnf': [0.5591726332537789, 0.6499602227525855, 0.6700715990453461, 0.6592833046909808, 0.6957545668639806], 'f1_rnf': [0.5606161263665855, 0.6486314952627743, 0.6677048076880495, 0.6573425488340184, 0.6910422105708477], 'precision_rnf': [0.572737203292459, 0.6500404161424476, 0.6675228332961971, 0.6570440119478682, 0.6897617435205322], 'recall_rnf': [0.5591726332537789, 0.6499602227525855, 0.6700715990453461, 0.6592833046909808, 0.6957545668639806], 'accuracy_sgd': [0.3436117740652347, 0.3681782020684169, 0.37403341288782815, 0.3195850041372287, 0.3619438609891159], 'f1_sgd': [0.3078873470572044, 0.351093665890447, 0.3680696830697378, 0.31563070683191674, 0.3588067519898387], 'precision_sgd': [0.3388724362983908, 0.3673065518579553, 0.3825106377248456, 0.32563703397783467, 0.3583007032884915], 'recall_sgd': [0.3436117740652347, 0.3681782020684169, 0.37403341288782815, 0.3195850041372287, 0.3619438609891159], 'accuracy_baggin': [0.44009546539379474, 0.4505648369132856, 0.4614797136038186, 0.4296989370504742, 0.4451658073960919], 'f1_baggin': [0.44040743169262275, 0.44775230149940815, 0.45893376576390565, 0.4250525602300644, 0.44283926287493114], 'precision_baggin': [0.44403718403849235, 0.44722494064784923, 0.45868966166003894, 0.42595888276967064, 0.44242252363486284], 'recall_baggin': [0.44009546539379474, 0.4505648369132856, 0.4614797136038186, 0.4296989370504742, 0.4451658073960919], 'accuracy_pas': [0.3665552903739061, 0.38463007159904533, 0.3742879872712808, 0.34504487301890396, 0.3769333587932022], 'f1_pas': [0.32114836757564774, 0.3676854049121349, 0.36255361286799603, 0.3376444958576383, 0.35284504793574584], 'precision_pas': [0.39140295966343136, 0.4073024726621491, 0.36273986736202074, 0.3485459368110012, 0.38409590138624405], 'recall_pas': [0.3665552903739061, 0.38463007159904533, 0.3742879872712808, 0.34504487301890396, 0.3769333587932022]}\n"
     ]
    },
    {
     "name": "stderr",
     "output_type": "stream",
     "text": [
      "c:\\users\\franc\\appdata\\local\\programs\\python\\python36\\lib\\site-packages\\sklearn\\utils\\validation.py:475: DataConversionWarning: Data with input dtype int64 was converted to float64 by StandardScaler.\n",
      "  warnings.warn(msg, DataConversionWarning)\n",
      "c:\\users\\franc\\appdata\\local\\programs\\python\\python36\\lib\\site-packages\\sklearn\\linear_model\\stochastic_gradient.py:128: FutureWarning: max_iter and tol parameters have been added in <class 'sklearn.linear_model.stochastic_gradient.SGDClassifier'> in 0.19. If both are left unset, they default to max_iter=5 and tol=None. If tol is not None, max_iter defaults to max_iter=1000. From 0.21, default max_iter will be 1000, and default tol will be 1e-3.\n",
      "  \"and default tol will be 1e-3.\" % type(self), FutureWarning)\n"
     ]
    },
    {
     "name": "stdout",
     "output_type": "stream",
     "text": [
      "{'accuracy_knn': [0.47573587907716786, 0.47993635640413684, 0.47993635640413684, 0.46480173127108393, 0.4801413022722933, 0.4830055375214818], 'f1_knn': [0.47301528587375574, 0.47555573760845743, 0.4764448029694337, 0.4622924076917051, 0.47565553382944037, 0.47889097636016403], 'precision_knn': [0.4749948730134729, 0.4786082449046639, 0.47745753765951365, 0.46293755495614536, 0.4776042805044861, 0.47906905829509633], 'recall_knn': [0.47573587907716786, 0.47993635640413684, 0.47993635640413684, 0.46480173127108393, 0.4801413022722933, 0.4830055375214818], 'accuracy_rnf': [0.5591726332537789, 0.6499602227525855, 0.6700715990453461, 0.6592833046909808, 0.6957545668639806, 0.6827700337343263], 'f1_rnf': [0.5606161263665855, 0.6486314952627743, 0.6677048076880495, 0.6573425488340184, 0.6910422105708477, 0.6795943531053427], 'precision_rnf': [0.572737203292459, 0.6500404161424476, 0.6675228332961971, 0.6570440119478682, 0.6897617435205322, 0.678019330948305], 'recall_rnf': [0.5591726332537789, 0.6499602227525855, 0.6700715990453461, 0.6592833046909808, 0.6957545668639806, 0.6827700337343263], 'accuracy_sgd': [0.3436117740652347, 0.3681782020684169, 0.37403341288782815, 0.3195850041372287, 0.3619438609891159, 0.40907644325631726], 'f1_sgd': [0.3078873470572044, 0.351093665890447, 0.3680696830697378, 0.31563070683191674, 0.3588067519898387, 0.4092178873637088], 'precision_sgd': [0.3388724362983908, 0.3673065518579553, 0.3825106377248456, 0.32563703397783467, 0.3583007032884915, 0.4156580963466025], 'recall_sgd': [0.3436117740652347, 0.3681782020684169, 0.37403341288782815, 0.3195850041372287, 0.3619438609891159, 0.40907644325631726], 'accuracy_baggin': [0.44009546539379474, 0.4505648369132856, 0.4614797136038186, 0.4296989370504742, 0.4451658073960919, 0.4528992425689008], 'f1_baggin': [0.44040743169262275, 0.44775230149940815, 0.45893376576390565, 0.4250525602300644, 0.44283926287493114, 0.44855069363877176], 'precision_baggin': [0.44403718403849235, 0.44722494064784923, 0.45868966166003894, 0.42595888276967064, 0.44242252363486284, 0.4497082187989882], 'recall_baggin': [0.44009546539379474, 0.4505648369132856, 0.4614797136038186, 0.4296989370504742, 0.4451658073960919, 0.4528992425689008], 'accuracy_pas': [0.3665552903739061, 0.38463007159904533, 0.3742879872712808, 0.34504487301890396, 0.3769333587932022, 0.36277130672777036], 'f1_pas': [0.32114836757564774, 0.3676854049121349, 0.36255361286799603, 0.3376444958576383, 0.35284504793574584, 0.36353129331409445], 'precision_pas': [0.39140295966343136, 0.4073024726621491, 0.36273986736202074, 0.3485459368110012, 0.38409590138624405, 0.36508642884697756], 'recall_pas': [0.3665552903739061, 0.38463007159904533, 0.3742879872712808, 0.34504487301890396, 0.3769333587932022, 0.36277130672777036]}\n"
     ]
    },
    {
     "name": "stderr",
     "output_type": "stream",
     "text": [
      "c:\\users\\franc\\appdata\\local\\programs\\python\\python36\\lib\\site-packages\\sklearn\\utils\\validation.py:475: DataConversionWarning: Data with input dtype int64 was converted to float64 by StandardScaler.\n",
      "  warnings.warn(msg, DataConversionWarning)\n",
      "c:\\users\\franc\\appdata\\local\\programs\\python\\python36\\lib\\site-packages\\sklearn\\linear_model\\stochastic_gradient.py:128: FutureWarning: max_iter and tol parameters have been added in <class 'sklearn.linear_model.stochastic_gradient.SGDClassifier'> in 0.19. If both are left unset, they default to max_iter=5 and tol=None. If tol is not None, max_iter defaults to max_iter=1000. From 0.21, default max_iter will be 1000, and default tol will be 1e-3.\n",
      "  \"and default tol will be 1e-3.\" % type(self), FutureWarning)\n"
     ]
    },
    {
     "name": "stdout",
     "output_type": "stream",
     "text": [
      "{'accuracy_knn': [0.47573587907716786, 0.47993635640413684, 0.47993635640413684, 0.46480173127108393, 0.4801413022722933, 0.4830055375214818, 0.4769269938259818], 'f1_knn': [0.47301528587375574, 0.47555573760845743, 0.4764448029694337, 0.4622924076917051, 0.47565553382944037, 0.47889097636016403, 0.47158392975844493], 'precision_knn': [0.4749948730134729, 0.4786082449046639, 0.47745753765951365, 0.46293755495614536, 0.4776042805044861, 0.47906905829509633, 0.47135573737507797], 'recall_knn': [0.47573587907716786, 0.47993635640413684, 0.47993635640413684, 0.46480173127108393, 0.4801413022722933, 0.4830055375214818, 0.4769269938259818], 'accuracy_rnf': [0.5591726332537789, 0.6499602227525855, 0.6700715990453461, 0.6592833046909808, 0.6957545668639806, 0.6827700337343263, 0.6955636178473681], 'f1_rnf': [0.5606161263665855, 0.6486314952627743, 0.6677048076880495, 0.6573425488340184, 0.6910422105708477, 0.6795943531053427, 0.6892607675988909], 'precision_rnf': [0.572737203292459, 0.6500404161424476, 0.6675228332961971, 0.6570440119478682, 0.6897617435205322, 0.678019330948305, 0.6875252818252635], 'recall_rnf': [0.5591726332537789, 0.6499602227525855, 0.6700715990453461, 0.6592833046909808, 0.6957545668639806, 0.6827700337343263, 0.6955636178473681], 'accuracy_sgd': [0.3436117740652347, 0.3681782020684169, 0.37403341288782815, 0.3195850041372287, 0.3619438609891159, 0.40907644325631726, 0.40598943415441413], 'f1_sgd': [0.3078873470572044, 0.351093665890447, 0.3680696830697378, 0.31563070683191674, 0.3588067519898387, 0.4092178873637088, 0.39453959729839444], 'precision_sgd': [0.3388724362983908, 0.3673065518579553, 0.3825106377248456, 0.32563703397783467, 0.3583007032884915, 0.4156580963466025, 0.39537653686783103], 'recall_sgd': [0.3436117740652347, 0.3681782020684169, 0.37403341288782815, 0.3195850041372287, 0.3619438609891159, 0.40907644325631726, 0.40598943415441413], 'accuracy_baggin': [0.44009546539379474, 0.4505648369132856, 0.4614797136038186, 0.4296989370504742, 0.4451658073960919, 0.4528992425689008, 0.4405830309973904], 'f1_baggin': [0.44040743169262275, 0.44775230149940815, 0.45893376576390565, 0.4250525602300644, 0.44283926287493114, 0.44855069363877176, 0.4373111122815499], 'precision_baggin': [0.44403718403849235, 0.44722494064784923, 0.45868966166003894, 0.42595888276967064, 0.44242252363486284, 0.4497082187989882, 0.4367147308366604], 'recall_baggin': [0.44009546539379474, 0.4505648369132856, 0.4614797136038186, 0.4296989370504742, 0.4451658073960919, 0.4528992425689008, 0.4405830309973904], 'accuracy_pas': [0.3665552903739061, 0.38463007159904533, 0.3742879872712808, 0.34504487301890396, 0.3769333587932022, 0.36277130672777036, 0.36671758640443003], 'f1_pas': [0.32114836757564774, 0.3676854049121349, 0.36255361286799603, 0.3376444958576383, 0.35284504793574584, 0.36353129331409445, 0.33244533372673957], 'precision_pas': [0.39140295966343136, 0.4073024726621491, 0.36273986736202074, 0.3485459368110012, 0.38409590138624405, 0.36508642884697756, 0.34239260717567416], 'recall_pas': [0.3665552903739061, 0.38463007159904533, 0.3742879872712808, 0.34504487301890396, 0.3769333587932022, 0.36277130672777036, 0.36671758640443003]}\n"
     ]
    },
    {
     "name": "stderr",
     "output_type": "stream",
     "text": [
      "c:\\users\\franc\\appdata\\local\\programs\\python\\python36\\lib\\site-packages\\sklearn\\utils\\validation.py:475: DataConversionWarning: Data with input dtype int64 was converted to float64 by StandardScaler.\n",
      "  warnings.warn(msg, DataConversionWarning)\n",
      "c:\\users\\franc\\appdata\\local\\programs\\python\\python36\\lib\\site-packages\\sklearn\\linear_model\\stochastic_gradient.py:128: FutureWarning: max_iter and tol parameters have been added in <class 'sklearn.linear_model.stochastic_gradient.SGDClassifier'> in 0.19. If both are left unset, they default to max_iter=5 and tol=None. If tol is not None, max_iter defaults to max_iter=1000. From 0.21, default max_iter will be 1000, and default tol will be 1e-3.\n",
      "  \"and default tol will be 1e-3.\" % type(self), FutureWarning)\n"
     ]
    },
    {
     "name": "stdout",
     "output_type": "stream",
     "text": [
      "{'accuracy_knn': [0.47573587907716786, 0.47993635640413684, 0.47993635640413684, 0.46480173127108393, 0.4801413022722933, 0.4830055375214818, 0.4769269938259818, 0.490516198841576], 'f1_knn': [0.47301528587375574, 0.47555573760845743, 0.4764448029694337, 0.4622924076917051, 0.47565553382944037, 0.47889097636016403, 0.47158392975844493, 0.4845888641121079], 'precision_knn': [0.4749948730134729, 0.4786082449046639, 0.47745753765951365, 0.46293755495614536, 0.4776042805044861, 0.47906905829509633, 0.47135573737507797, 0.4861692936867715], 'recall_knn': [0.47573587907716786, 0.47993635640413684, 0.47993635640413684, 0.46480173127108393, 0.4801413022722933, 0.4830055375214818, 0.4769269938259818, 0.490516198841576], 'accuracy_rnf': [0.5591726332537789, 0.6499602227525855, 0.6700715990453461, 0.6592833046909808, 0.6957545668639806, 0.6827700337343263, 0.6955636178473681, 0.5945515880593215], 'f1_rnf': [0.5606161263665855, 0.6486314952627743, 0.6677048076880495, 0.6573425488340184, 0.6910422105708477, 0.6795943531053427, 0.6892607675988909, 0.5968284389681175], 'precision_rnf': [0.572737203292459, 0.6500404161424476, 0.6675228332961971, 0.6570440119478682, 0.6897617435205322, 0.678019330948305, 0.6875252818252635, 0.601661950832148], 'recall_rnf': [0.5591726332537789, 0.6499602227525855, 0.6700715990453461, 0.6592833046909808, 0.6957545668639806, 0.6827700337343263, 0.6955636178473681, 0.5945515880593215], 'accuracy_sgd': [0.3436117740652347, 0.3681782020684169, 0.37403341288782815, 0.3195850041372287, 0.3619438609891159, 0.40907644325631726, 0.40598943415441413, 0.3706002164088855], 'f1_sgd': [0.3078873470572044, 0.351093665890447, 0.3680696830697378, 0.31563070683191674, 0.3588067519898387, 0.4092178873637088, 0.39453959729839444, 0.36319700275230987], 'precision_sgd': [0.3388724362983908, 0.3673065518579553, 0.3825106377248456, 0.32563703397783467, 0.3583007032884915, 0.4156580963466025, 0.39537653686783103, 0.36381977054313064], 'recall_sgd': [0.3436117740652347, 0.3681782020684169, 0.37403341288782815, 0.3195850041372287, 0.3619438609891159, 0.40907644325631726, 0.40598943415441413, 0.3706002164088855], 'accuracy_baggin': [0.44009546539379474, 0.4505648369132856, 0.4614797136038186, 0.4296989370504742, 0.4451658073960919, 0.4528992425689008, 0.4405830309973904, 0.45690917191776464], 'f1_baggin': [0.44040743169262275, 0.44775230149940815, 0.45893376576390565, 0.4250525602300644, 0.44283926287493114, 0.44855069363877176, 0.4373111122815499, 0.4527548446397806], 'precision_baggin': [0.44403718403849235, 0.44722494064784923, 0.45868966166003894, 0.42595888276967064, 0.44242252363486284, 0.4497082187989882, 0.4367147308366604, 0.45268990680584487], 'recall_baggin': [0.44009546539379474, 0.4505648369132856, 0.4614797136038186, 0.4296989370504742, 0.4451658073960919, 0.4528992425689008, 0.4405830309973904, 0.45690917191776464], 'accuracy_pas': [0.3665552903739061, 0.38463007159904533, 0.3742879872712808, 0.34504487301890396, 0.3769333587932022, 0.36277130672777036, 0.36671758640443003, 0.32346763414168417], 'f1_pas': [0.32114836757564774, 0.3676854049121349, 0.36255361286799603, 0.3376444958576383, 0.35284504793574584, 0.36353129331409445, 0.33244533372673957, 0.3030423263477602], 'precision_pas': [0.39140295966343136, 0.4073024726621491, 0.36273986736202074, 0.3485459368110012, 0.38409590138624405, 0.36508642884697756, 0.34239260717567416, 0.3105246007611085], 'recall_pas': [0.3665552903739061, 0.38463007159904533, 0.3742879872712808, 0.34504487301890396, 0.3769333587932022, 0.36277130672777036, 0.36671758640443003, 0.32346763414168417]}\n"
     ]
    },
    {
     "name": "stderr",
     "output_type": "stream",
     "text": [
      "c:\\users\\franc\\appdata\\local\\programs\\python\\python36\\lib\\site-packages\\sklearn\\utils\\validation.py:475: DataConversionWarning: Data with input dtype int64 was converted to float64 by StandardScaler.\n",
      "  warnings.warn(msg, DataConversionWarning)\n",
      "c:\\users\\franc\\appdata\\local\\programs\\python\\python36\\lib\\site-packages\\sklearn\\linear_model\\stochastic_gradient.py:128: FutureWarning: max_iter and tol parameters have been added in <class 'sklearn.linear_model.stochastic_gradient.SGDClassifier'> in 0.19. If both are left unset, they default to max_iter=5 and tol=None. If tol is not None, max_iter defaults to max_iter=1000. From 0.21, default max_iter will be 1000, and default tol will be 1e-3.\n",
      "  \"and default tol will be 1e-3.\" % type(self), FutureWarning)\n"
     ]
    },
    {
     "name": "stdout",
     "output_type": "stream",
     "text": [
      "{'accuracy_knn': [0.47573587907716786, 0.47993635640413684, 0.47993635640413684, 0.46480173127108393, 0.4801413022722933, 0.4830055375214818, 0.4769269938259818, 0.490516198841576, 0.47972757940296606], 'f1_knn': [0.47301528587375574, 0.47555573760845743, 0.4764448029694337, 0.4622924076917051, 0.47565553382944037, 0.47889097636016403, 0.47158392975844493, 0.4845888641121079, 0.47742287254119936], 'precision_knn': [0.4749948730134729, 0.4786082449046639, 0.47745753765951365, 0.46293755495614536, 0.4776042805044861, 0.47906905829509633, 0.47135573737507797, 0.4861692936867715, 0.47718837187998603], 'recall_knn': [0.47573587907716786, 0.47993635640413684, 0.47993635640413684, 0.46480173127108393, 0.4801413022722933, 0.4830055375214818, 0.4769269938259818, 0.490516198841576, 0.47972757940296606], 'accuracy_rnf': [0.5591726332537789, 0.6499602227525855, 0.6700715990453461, 0.6592833046909808, 0.6957545668639806, 0.6827700337343263, 0.6955636178473681, 0.5945515880593215, 0.5794666157469289], 'f1_rnf': [0.5606161263665855, 0.6486314952627743, 0.6677048076880495, 0.6573425488340184, 0.6910422105708477, 0.6795943531053427, 0.6892607675988909, 0.5968284389681175, 0.5820361045413373], 'precision_rnf': [0.572737203292459, 0.6500404161424476, 0.6675228332961971, 0.6570440119478682, 0.6897617435205322, 0.678019330948305, 0.6875252818252635, 0.601661950832148, 0.5933926675010976], 'recall_rnf': [0.5591726332537789, 0.6499602227525855, 0.6700715990453461, 0.6592833046909808, 0.6957545668639806, 0.6827700337343263, 0.6955636178473681, 0.5945515880593215, 0.5794666157469289], 'accuracy_sgd': [0.3436117740652347, 0.3681782020684169, 0.37403341288782815, 0.3195850041372287, 0.3619438609891159, 0.40907644325631726, 0.40598943415441413, 0.3706002164088855, 0.3527783081917128], 'f1_sgd': [0.3078873470572044, 0.351093665890447, 0.3680696830697378, 0.31563070683191674, 0.3588067519898387, 0.4092178873637088, 0.39453959729839444, 0.36319700275230987, 0.3252957521672698], 'precision_sgd': [0.3388724362983908, 0.3673065518579553, 0.3825106377248456, 0.32563703397783467, 0.3583007032884915, 0.4156580963466025, 0.39537653686783103, 0.36381977054313064, 0.38599562625138817], 'recall_sgd': [0.3436117740652347, 0.3681782020684169, 0.37403341288782815, 0.3195850041372287, 0.3619438609891159, 0.40907644325631726, 0.40598943415441413, 0.3706002164088855, 0.3527783081917128], 'accuracy_baggin': [0.44009546539379474, 0.4505648369132856, 0.4614797136038186, 0.4296989370504742, 0.4451658073960919, 0.4528992425689008, 0.4405830309973904, 0.45690917191776464, 0.4308128063140475], 'f1_baggin': [0.44040743169262275, 0.44775230149940815, 0.45893376576390565, 0.4250525602300644, 0.44283926287493114, 0.44855069363877176, 0.4373111122815499, 0.4527548446397806, 0.43013639402258114], 'precision_baggin': [0.44403718403849235, 0.44722494064784923, 0.45868966166003894, 0.42595888276967064, 0.44242252363486284, 0.4497082187989882, 0.4367147308366604, 0.45268990680584487, 0.43127139395985087], 'recall_baggin': [0.44009546539379474, 0.4505648369132856, 0.4614797136038186, 0.4296989370504742, 0.4451658073960919, 0.4528992425689008, 0.4405830309973904, 0.45690917191776464, 0.4308128063140475], 'accuracy_pas': [0.3665552903739061, 0.38463007159904533, 0.3742879872712808, 0.34504487301890396, 0.3769333587932022, 0.36277130672777036, 0.36671758640443003, 0.32346763414168417, 0.36916809878429124], 'f1_pas': [0.32114836757564774, 0.3676854049121349, 0.36255361286799603, 0.3376444958576383, 0.35284504793574584, 0.36353129331409445, 0.33244533372673957, 0.3030423263477602, 0.35172405310735344], 'precision_pas': [0.39140295966343136, 0.4073024726621491, 0.36273986736202074, 0.3485459368110012, 0.38409590138624405, 0.36508642884697756, 0.34239260717567416, 0.3105246007611085, 0.3725114774930291], 'recall_pas': [0.3665552903739061, 0.38463007159904533, 0.3742879872712808, 0.34504487301890396, 0.3769333587932022, 0.36277130672777036, 0.36671758640443003, 0.32346763414168417, 0.36916809878429124]}\n"
     ]
    },
    {
     "name": "stderr",
     "output_type": "stream",
     "text": [
      "c:\\users\\franc\\appdata\\local\\programs\\python\\python36\\lib\\site-packages\\sklearn\\utils\\validation.py:475: DataConversionWarning: Data with input dtype int64 was converted to float64 by StandardScaler.\n",
      "  warnings.warn(msg, DataConversionWarning)\n",
      "c:\\users\\franc\\appdata\\local\\programs\\python\\python36\\lib\\site-packages\\sklearn\\linear_model\\stochastic_gradient.py:128: FutureWarning: max_iter and tol parameters have been added in <class 'sklearn.linear_model.stochastic_gradient.SGDClassifier'> in 0.19. If both are left unset, they default to max_iter=5 and tol=None. If tol is not None, max_iter defaults to max_iter=1000. From 0.21, default max_iter will be 1000, and default tol will be 1e-3.\n",
      "  \"and default tol will be 1e-3.\" % type(self), FutureWarning)\n"
     ]
    },
    {
     "name": "stdout",
     "output_type": "stream",
     "text": [
      "{'accuracy_knn': [0.47573587907716786, 0.47993635640413684, 0.47993635640413684, 0.46480173127108393, 0.4801413022722933, 0.4830055375214818, 0.4769269938259818, 0.490516198841576, 0.47972757940296606, 0.4816370695690917], 'f1_knn': [0.47301528587375574, 0.47555573760845743, 0.4764448029694337, 0.4622924076917051, 0.47565553382944037, 0.47889097636016403, 0.47158392975844493, 0.4845888641121079, 0.47742287254119936, 0.4769871771685863], 'precision_knn': [0.4749948730134729, 0.4786082449046639, 0.47745753765951365, 0.46293755495614536, 0.4776042805044861, 0.47906905829509633, 0.47135573737507797, 0.4861692936867715, 0.47718837187998603, 0.47679457277018217], 'recall_knn': [0.47573587907716786, 0.47993635640413684, 0.47993635640413684, 0.46480173127108393, 0.4801413022722933, 0.4830055375214818, 0.4769269938259818, 0.490516198841576, 0.47972757940296606, 0.4816370695690917], 'accuracy_rnf': [0.5591726332537789, 0.6499602227525855, 0.6700715990453461, 0.6592833046909808, 0.6957545668639806, 0.6827700337343263, 0.6955636178473681, 0.5945515880593215, 0.5794666157469289, 0.6956590923556744], 'f1_rnf': [0.5606161263665855, 0.6486314952627743, 0.6677048076880495, 0.6573425488340184, 0.6910422105708477, 0.6795943531053427, 0.6892607675988909, 0.5968284389681175, 0.5820361045413373, 0.689360484681881], 'precision_rnf': [0.572737203292459, 0.6500404161424476, 0.6675228332961971, 0.6570440119478682, 0.6897617435205322, 0.678019330948305, 0.6875252818252635, 0.601661950832148, 0.5933926675010976, 0.6869825225509139], 'recall_rnf': [0.5591726332537789, 0.6499602227525855, 0.6700715990453461, 0.6592833046909808, 0.6957545668639806, 0.6827700337343263, 0.6955636178473681, 0.5945515880593215, 0.5794666157469289, 0.6956590923556744], 'accuracy_sgd': [0.3436117740652347, 0.3681782020684169, 0.37403341288782815, 0.3195850041372287, 0.3619438609891159, 0.40907644325631726, 0.40598943415441413, 0.3706002164088855, 0.3527783081917128, 0.4151231621157151], 'f1_sgd': [0.3078873470572044, 0.351093665890447, 0.3680696830697378, 0.31563070683191674, 0.3588067519898387, 0.4092178873637088, 0.39453959729839444, 0.36319700275230987, 0.3252957521672698, 0.4073974990325538], 'precision_sgd': [0.3388724362983908, 0.3673065518579553, 0.3825106377248456, 0.32563703397783467, 0.3583007032884915, 0.4156580963466025, 0.39537653686783103, 0.36381977054313064, 0.38599562625138817, 0.4211360070541507], 'recall_sgd': [0.3436117740652347, 0.3681782020684169, 0.37403341288782815, 0.3195850041372287, 0.3619438609891159, 0.40907644325631726, 0.40598943415441413, 0.3706002164088855, 0.3527783081917128, 0.4151231621157151], 'accuracy_baggin': [0.44009546539379474, 0.4505648369132856, 0.4614797136038186, 0.4296989370504742, 0.4451658073960919, 0.4528992425689008, 0.4405830309973904, 0.45690917191776464, 0.4308128063140475, 0.444179237476927], 'f1_baggin': [0.44040743169262275, 0.44775230149940815, 0.45893376576390565, 0.4250525602300644, 0.44283926287493114, 0.44855069363877176, 0.4373111122815499, 0.4527548446397806, 0.43013639402258114, 0.4412832992471244], 'precision_baggin': [0.44403718403849235, 0.44722494064784923, 0.45868966166003894, 0.42595888276967064, 0.44242252363486284, 0.4497082187989882, 0.4367147308366604, 0.45268990680584487, 0.43127139395985087, 0.4411647044958915], 'recall_baggin': [0.44009546539379474, 0.4505648369132856, 0.4614797136038186, 0.4296989370504742, 0.4451658073960919, 0.4528992425689008, 0.4405830309973904, 0.45690917191776464, 0.4308128063140475, 0.444179237476927], 'accuracy_pas': [0.3665552903739061, 0.38463007159904533, 0.3742879872712808, 0.34504487301890396, 0.3769333587932022, 0.36277130672777036, 0.36671758640443003, 0.32346763414168417, 0.36916809878429124, 0.35946152377315255], 'f1_pas': [0.32114836757564774, 0.3676854049121349, 0.36255361286799603, 0.3376444958576383, 0.35284504793574584, 0.36353129331409445, 0.33244533372673957, 0.3030423263477602, 0.35172405310735344, 0.3558781167903987], 'precision_pas': [0.39140295966343136, 0.4073024726621491, 0.36273986736202074, 0.3485459368110012, 0.38409590138624405, 0.36508642884697756, 0.34239260717567416, 0.3105246007611085, 0.3725114774930291, 0.35784905538811473], 'recall_pas': [0.3665552903739061, 0.38463007159904533, 0.3742879872712808, 0.34504487301890396, 0.3769333587932022, 0.36277130672777036, 0.36671758640443003, 0.32346763414168417, 0.36916809878429124, 0.35946152377315255]}\n"
     ]
    },
    {
     "name": "stderr",
     "output_type": "stream",
     "text": [
      "c:\\users\\franc\\appdata\\local\\programs\\python\\python36\\lib\\site-packages\\sklearn\\utils\\validation.py:475: DataConversionWarning: Data with input dtype int64 was converted to float64 by StandardScaler.\n",
      "  warnings.warn(msg, DataConversionWarning)\n",
      "c:\\users\\franc\\appdata\\local\\programs\\python\\python36\\lib\\site-packages\\sklearn\\linear_model\\stochastic_gradient.py:128: FutureWarning: max_iter and tol parameters have been added in <class 'sklearn.linear_model.stochastic_gradient.SGDClassifier'> in 0.19. If both are left unset, they default to max_iter=5 and tol=None. If tol is not None, max_iter defaults to max_iter=1000. From 0.21, default max_iter will be 1000, and default tol will be 1e-3.\n",
      "  \"and default tol will be 1e-3.\" % type(self), FutureWarning)\n"
     ]
    },
    {
     "name": "stdout",
     "output_type": "stream",
     "text": [
      "{'accuracy_knn': [0.47573587907716786, 0.47993635640413684, 0.47993635640413684, 0.46480173127108393, 0.4801413022722933, 0.4830055375214818, 0.4769269938259818, 0.490516198841576, 0.47972757940296606, 0.4816370695690917, 0.5045509515625994], 'f1_knn': [0.47301528587375574, 0.47555573760845743, 0.4764448029694337, 0.4622924076917051, 0.47565553382944037, 0.47889097636016403, 0.47158392975844493, 0.4845888641121079, 0.47742287254119936, 0.4769871771685863, 0.5010695516015539], 'precision_knn': [0.4749948730134729, 0.4786082449046639, 0.47745753765951365, 0.46293755495614536, 0.4776042805044861, 0.47906905829509633, 0.47135573737507797, 0.4861692936867715, 0.47718837187998603, 0.47679457277018217, 0.5030163195154201], 'recall_knn': [0.47573587907716786, 0.47993635640413684, 0.47993635640413684, 0.46480173127108393, 0.4801413022722933, 0.4830055375214818, 0.4769269938259818, 0.490516198841576, 0.47972757940296606, 0.4816370695690917, 0.5045509515625994], 'accuracy_rnf': [0.5591726332537789, 0.6499602227525855, 0.6700715990453461, 0.6592833046909808, 0.6957545668639806, 0.6827700337343263, 0.6955636178473681, 0.5945515880593215, 0.5794666157469289, 0.6956590923556744, 0.7828273184393101], 'f1_rnf': [0.5606161263665855, 0.6486314952627743, 0.6677048076880495, 0.6573425488340184, 0.6910422105708477, 0.6795943531053427, 0.6892607675988909, 0.5968284389681175, 0.5820361045413373, 0.689360484681881, 0.7770559714424851], 'precision_rnf': [0.572737203292459, 0.6500404161424476, 0.6675228332961971, 0.6570440119478682, 0.6897617435205322, 0.678019330948305, 0.6875252818252635, 0.601661950832148, 0.5933926675010976, 0.6869825225509139, 0.7969642792943985], 'recall_rnf': [0.5591726332537789, 0.6499602227525855, 0.6700715990453461, 0.6592833046909808, 0.6957545668639806, 0.6827700337343263, 0.6955636178473681, 0.5945515880593215, 0.5794666157469289, 0.6956590923556744, 0.7828273184393101], 'accuracy_sgd': [0.3436117740652347, 0.3681782020684169, 0.37403341288782815, 0.3195850041372287, 0.3619438609891159, 0.40907644325631726, 0.40598943415441413, 0.3706002164088855, 0.3527783081917128, 0.4151231621157151, 0.3762968620711603], 'f1_sgd': [0.3078873470572044, 0.351093665890447, 0.3680696830697378, 0.31563070683191674, 0.3588067519898387, 0.4092178873637088, 0.39453959729839444, 0.36319700275230987, 0.3252957521672698, 0.4073974990325538, 0.3677134806884805], 'precision_sgd': [0.3388724362983908, 0.3673065518579553, 0.3825106377248456, 0.32563703397783467, 0.3583007032884915, 0.4156580963466025, 0.39537653686783103, 0.36381977054313064, 0.38599562625138817, 0.4211360070541507, 0.3777075691263482], 'recall_sgd': [0.3436117740652347, 0.3681782020684169, 0.37403341288782815, 0.3195850041372287, 0.3619438609891159, 0.40907644325631726, 0.40598943415441413, 0.3706002164088855, 0.3527783081917128, 0.4151231621157151, 0.3762968620711603], 'accuracy_baggin': [0.44009546539379474, 0.4505648369132856, 0.4614797136038186, 0.4296989370504742, 0.4451658073960919, 0.4528992425689008, 0.4405830309973904, 0.45690917191776464, 0.4308128063140475, 0.444179237476927, 0.45083062822226466], 'f1_baggin': [0.44040743169262275, 0.44775230149940815, 0.45893376576390565, 0.4250525602300644, 0.44283926287493114, 0.44855069363877176, 0.4373111122815499, 0.4527548446397806, 0.43013639402258114, 0.4412832992471244, 0.44891285894337996], 'precision_baggin': [0.44403718403849235, 0.44722494064784923, 0.45868966166003894, 0.42595888276967064, 0.44242252363486284, 0.4497082187989882, 0.4367147308366604, 0.45268990680584487, 0.43127139395985087, 0.4411647044958915, 0.44915504670226136], 'recall_baggin': [0.44009546539379474, 0.4505648369132856, 0.4614797136038186, 0.4296989370504742, 0.4451658073960919, 0.4528992425689008, 0.4405830309973904, 0.45690917191776464, 0.4308128063140475, 0.444179237476927, 0.45083062822226466], 'accuracy_pas': [0.3665552903739061, 0.38463007159904533, 0.3742879872712808, 0.34504487301890396, 0.3769333587932022, 0.36277130672777036, 0.36671758640443003, 0.32346763414168417, 0.36916809878429124, 0.35946152377315255, 0.38266182929157916], 'f1_pas': [0.32114836757564774, 0.3676854049121349, 0.36255361286799603, 0.3376444958576383, 0.35284504793574584, 0.36353129331409445, 0.33244533372673957, 0.3030423263477602, 0.35172405310735344, 0.3558781167903987, 0.3544314757523043], 'precision_pas': [0.39140295966343136, 0.4073024726621491, 0.36273986736202074, 0.3485459368110012, 0.38409590138624405, 0.36508642884697756, 0.34239260717567416, 0.3105246007611085, 0.3725114774930291, 0.35784905538811473, 0.36421071353185386], 'recall_pas': [0.3665552903739061, 0.38463007159904533, 0.3742879872712808, 0.34504487301890396, 0.3769333587932022, 0.36277130672777036, 0.36671758640443003, 0.32346763414168417, 0.36916809878429124, 0.35946152377315255, 0.38266182929157916]}\n"
     ]
    },
    {
     "name": "stderr",
     "output_type": "stream",
     "text": [
      "c:\\users\\franc\\appdata\\local\\programs\\python\\python36\\lib\\site-packages\\sklearn\\utils\\validation.py:475: DataConversionWarning: Data with input dtype int64 was converted to float64 by StandardScaler.\n",
      "  warnings.warn(msg, DataConversionWarning)\n",
      "c:\\users\\franc\\appdata\\local\\programs\\python\\python36\\lib\\site-packages\\sklearn\\linear_model\\stochastic_gradient.py:128: FutureWarning: max_iter and tol parameters have been added in <class 'sklearn.linear_model.stochastic_gradient.SGDClassifier'> in 0.19. If both are left unset, they default to max_iter=5 and tol=None. If tol is not None, max_iter defaults to max_iter=1000. From 0.21, default max_iter will be 1000, and default tol will be 1e-3.\n",
      "  \"and default tol will be 1e-3.\" % type(self), FutureWarning)\n"
     ]
    },
    {
     "name": "stdout",
     "output_type": "stream",
     "text": [
      "{'accuracy_knn': [0.47573587907716786, 0.47993635640413684, 0.47993635640413684, 0.46480173127108393, 0.4801413022722933, 0.4830055375214818, 0.4769269938259818, 0.490516198841576, 0.47972757940296606, 0.4816370695690917, 0.5045509515625994, 0.49796321048946596], 'f1_knn': [0.47301528587375574, 0.47555573760845743, 0.4764448029694337, 0.4622924076917051, 0.47565553382944037, 0.47889097636016403, 0.47158392975844493, 0.4845888641121079, 0.47742287254119936, 0.4769871771685863, 0.5010695516015539, 0.49510187285779717], 'precision_knn': [0.4749948730134729, 0.4786082449046639, 0.47745753765951365, 0.46293755495614536, 0.4776042805044861, 0.47906905829509633, 0.47135573737507797, 0.4861692936867715, 0.47718837187998603, 0.47679457277018217, 0.5030163195154201, 0.49572941639636986], 'recall_knn': [0.47573587907716786, 0.47993635640413684, 0.47993635640413684, 0.46480173127108393, 0.4801413022722933, 0.4830055375214818, 0.4769269938259818, 0.490516198841576, 0.47972757940296606, 0.4816370695690917, 0.5045509515625994, 0.49796321048946596], 'accuracy_rnf': [0.5591726332537789, 0.6499602227525855, 0.6700715990453461, 0.6592833046909808, 0.6957545668639806, 0.6827700337343263, 0.6955636178473681, 0.5945515880593215, 0.5794666157469289, 0.6956590923556744, 0.7828273184393101, 0.7436827700337343], 'f1_rnf': [0.5606161263665855, 0.6486314952627743, 0.6677048076880495, 0.6573425488340184, 0.6910422105708477, 0.6795943531053427, 0.6892607675988909, 0.5968284389681175, 0.5820361045413373, 0.689360484681881, 0.7770559714424851, 0.7398625887122643], 'precision_rnf': [0.572737203292459, 0.6500404161424476, 0.6675228332961971, 0.6570440119478682, 0.6897617435205322, 0.678019330948305, 0.6875252818252635, 0.601661950832148, 0.5933926675010976, 0.6869825225509139, 0.7969642792943985, 0.7559468875475098], 'recall_rnf': [0.5591726332537789, 0.6499602227525855, 0.6700715990453461, 0.6592833046909808, 0.6957545668639806, 0.6827700337343263, 0.6955636178473681, 0.5945515880593215, 0.5794666157469289, 0.6956590923556744, 0.7828273184393101, 0.7436827700337343], 'accuracy_sgd': [0.3436117740652347, 0.3681782020684169, 0.37403341288782815, 0.3195850041372287, 0.3619438609891159, 0.40907644325631726, 0.40598943415441413, 0.3706002164088855, 0.3527783081917128, 0.4151231621157151, 0.3762968620711603, 0.3927821271720451], 'f1_sgd': [0.3078873470572044, 0.351093665890447, 0.3680696830697378, 0.31563070683191674, 0.3588067519898387, 0.4092178873637088, 0.39453959729839444, 0.36319700275230987, 0.3252957521672698, 0.4073974990325538, 0.3677134806884805, 0.32591869873042034], 'precision_sgd': [0.3388724362983908, 0.3673065518579553, 0.3825106377248456, 0.32563703397783467, 0.3583007032884915, 0.4156580963466025, 0.39537653686783103, 0.36381977054313064, 0.38599562625138817, 0.4211360070541507, 0.3777075691263482, 0.3469166877600349], 'recall_sgd': [0.3436117740652347, 0.3681782020684169, 0.37403341288782815, 0.3195850041372287, 0.3619438609891159, 0.40907644325631726, 0.40598943415441413, 0.3706002164088855, 0.3527783081917128, 0.4151231621157151, 0.3762968620711603, 0.3927821271720451], 'accuracy_baggin': [0.44009546539379474, 0.4505648369132856, 0.4614797136038186, 0.4296989370504742, 0.4451658073960919, 0.4528992425689008, 0.4405830309973904, 0.45690917191776464, 0.4308128063140475, 0.444179237476927, 0.45083062822226466, 0.43635032779581184], 'f1_baggin': [0.44040743169262275, 0.44775230149940815, 0.45893376576390565, 0.4250525602300644, 0.44283926287493114, 0.44855069363877176, 0.4373111122815499, 0.4527548446397806, 0.43013639402258114, 0.4412832992471244, 0.44891285894337996, 0.43327859125651735], 'precision_baggin': [0.44403718403849235, 0.44722494064784923, 0.45868966166003894, 0.42595888276967064, 0.44242252363486284, 0.4497082187989882, 0.4367147308366604, 0.45268990680584487, 0.43127139395985087, 0.4411647044958915, 0.44915504670226136, 0.4334791997652783], 'recall_baggin': [0.44009546539379474, 0.4505648369132856, 0.4614797136038186, 0.4296989370504742, 0.4451658073960919, 0.4528992425689008, 0.4405830309973904, 0.45690917191776464, 0.4308128063140475, 0.444179237476927, 0.45083062822226466, 0.43635032779581184], 'accuracy_pas': [0.3665552903739061, 0.38463007159904533, 0.3742879872712808, 0.34504487301890396, 0.3769333587932022, 0.36277130672777036, 0.36671758640443003, 0.32346763414168417, 0.36916809878429124, 0.35946152377315255, 0.38266182929157916, 0.37250970657501115], 'f1_pas': [0.32114836757564774, 0.3676854049121349, 0.36255361286799603, 0.3376444958576383, 0.35284504793574584, 0.36353129331409445, 0.33244533372673957, 0.3030423263477602, 0.35172405310735344, 0.3558781167903987, 0.3544314757523043, 0.35825455416799523], 'precision_pas': [0.39140295966343136, 0.4073024726621491, 0.36273986736202074, 0.3485459368110012, 0.38409590138624405, 0.36508642884697756, 0.34239260717567416, 0.3105246007611085, 0.3725114774930291, 0.35784905538811473, 0.36421071353185386, 0.3608493540741799], 'recall_pas': [0.3665552903739061, 0.38463007159904533, 0.3742879872712808, 0.34504487301890396, 0.3769333587932022, 0.36277130672777036, 0.36671758640443003, 0.32346763414168417, 0.36916809878429124, 0.35946152377315255, 0.38266182929157916, 0.37250970657501115]}\n",
      "DONE!\n"
     ]
    }
   ],
   "source": [
    "if __name__ == '__main__':\n",
    "   \n",
    "    report_ucr_up = sampling_offensegroup(X_res1, z_res, 'weighted',  'ucrrank_upsampled_model.pickle', \n",
    "                                          'ucrrank_upsampled_report.pickle')"
   ]
  },
  {
   "cell_type": "code",
   "execution_count": 35,
   "metadata": {},
   "outputs": [
    {
     "name": "stdout",
     "output_type": "stream",
     "text": [
      "    accuracy_baggin  accuracy_knn  accuracy_pas  accuracy_rnf  accuracy_sgd  \\\n",
      "0          0.440095      0.475736      0.366555      0.559173      0.343612   \n",
      "1          0.450565      0.479936      0.384630      0.649960      0.368178   \n",
      "2          0.461480      0.479936      0.374288      0.670072      0.374033   \n",
      "3          0.429699      0.464802      0.345045      0.659283      0.319585   \n",
      "4          0.445166      0.480141      0.376933      0.695755      0.361944   \n",
      "5          0.452899      0.483006      0.362771      0.682770      0.409076   \n",
      "6          0.440583      0.476927      0.366718      0.695564      0.405989   \n",
      "7          0.456909      0.490516      0.323468      0.594552      0.370600   \n",
      "8          0.430813      0.479728      0.369168      0.579467      0.352778   \n",
      "9          0.444179      0.481637      0.359462      0.695659      0.415123   \n",
      "10         0.450831      0.504551      0.382662      0.782827      0.376297   \n",
      "11         0.436350      0.497963      0.372510      0.743683      0.392782   \n",
      "\n",
      "    f1_baggin    f1_knn    f1_pas    f1_rnf    f1_sgd  precision_baggin  \\\n",
      "0    0.440407  0.473015  0.321148  0.560616  0.307887          0.444037   \n",
      "1    0.447752  0.475556  0.367685  0.648631  0.351094          0.447225   \n",
      "2    0.458934  0.476445  0.362554  0.667705  0.368070          0.458690   \n",
      "3    0.425053  0.462292  0.337644  0.657343  0.315631          0.425959   \n",
      "4    0.442839  0.475656  0.352845  0.691042  0.358807          0.442423   \n",
      "5    0.448551  0.478891  0.363531  0.679594  0.409218          0.449708   \n",
      "6    0.437311  0.471584  0.332445  0.689261  0.394540          0.436715   \n",
      "7    0.452755  0.484589  0.303042  0.596828  0.363197          0.452690   \n",
      "8    0.430136  0.477423  0.351724  0.582036  0.325296          0.431271   \n",
      "9    0.441283  0.476987  0.355878  0.689360  0.407397          0.441165   \n",
      "10   0.448913  0.501070  0.354431  0.777056  0.367713          0.449155   \n",
      "11   0.433279  0.495102  0.358255  0.739863  0.325919          0.433479   \n",
      "\n",
      "    precision_knn  precision_pas  precision_rnf  precision_sgd  recall_baggin  \\\n",
      "0        0.474995       0.391403       0.572737       0.338872       0.440095   \n",
      "1        0.478608       0.407302       0.650040       0.367307       0.450565   \n",
      "2        0.477458       0.362740       0.667523       0.382511       0.461480   \n",
      "3        0.462938       0.348546       0.657044       0.325637       0.429699   \n",
      "4        0.477604       0.384096       0.689762       0.358301       0.445166   \n",
      "5        0.479069       0.365086       0.678019       0.415658       0.452899   \n",
      "6        0.471356       0.342393       0.687525       0.395377       0.440583   \n",
      "7        0.486169       0.310525       0.601662       0.363820       0.456909   \n",
      "8        0.477188       0.372511       0.593393       0.385996       0.430813   \n",
      "9        0.476795       0.357849       0.686983       0.421136       0.444179   \n",
      "10       0.503016       0.364211       0.796964       0.377708       0.450831   \n",
      "11       0.495729       0.360849       0.755947       0.346917       0.436350   \n",
      "\n",
      "    recall_knn  recall_pas  recall_rnf  recall_sgd  \n",
      "0     0.475736    0.366555    0.559173    0.343612  \n",
      "1     0.479936    0.384630    0.649960    0.368178  \n",
      "2     0.479936    0.374288    0.670072    0.374033  \n",
      "3     0.464802    0.345045    0.659283    0.319585  \n",
      "4     0.480141    0.376933    0.695755    0.361944  \n",
      "5     0.483006    0.362771    0.682770    0.409076  \n",
      "6     0.476927    0.366718    0.695564    0.405989  \n",
      "7     0.490516    0.323468    0.594552    0.370600  \n",
      "8     0.479728    0.369168    0.579467    0.352778  \n",
      "9     0.481637    0.359462    0.695659    0.415123  \n",
      "10    0.504551    0.382662    0.782827    0.376297  \n",
      "11    0.497963    0.372510    0.743683    0.392782  \n"
     ]
    }
   ],
   "source": [
    "report_ucr_up = pd.DataFrame(report_ucr_up)\n",
    "print(report_ucr_up)"
   ]
  },
  {
   "cell_type": "markdown",
   "metadata": {},
   "source": [
    "## 2.2 Downsampling"
   ]
  },
  {
   "cell_type": "code",
   "execution_count": 23,
   "metadata": {},
   "outputs": [],
   "source": [
    "from imblearn.under_sampling import RandomUnderSampler \n",
    "rus = RandomUnderSampler(random_state=42)\n",
    "X_rus1, z_rus1 = rus.fit_sample(X, z)\n"
   ]
  },
  {
   "cell_type": "code",
   "execution_count": 24,
   "metadata": {},
   "outputs": [
    {
     "name": "stdout",
     "output_type": "stream",
     "text": [
      "<class 'pandas.core.frame.DataFrame'>\n",
      "RangeIndex: 141531 entries, 0 to 141530\n",
      "Data columns (total 7 columns):\n",
      "0    141531 non-null int64\n",
      "1    141531 non-null int64\n",
      "2    141531 non-null int64\n",
      "3    141531 non-null int64\n",
      "4    141531 non-null int64\n",
      "5    141531 non-null int64\n",
      "6    141531 non-null int64\n",
      "dtypes: int64(7)\n",
      "memory usage: 7.6 MB\n",
      "None\n",
      "3    47177\n",
      "2    47177\n",
      "1    47177\n",
      "dtype: int64\n"
     ]
    }
   ],
   "source": [
    "X_rus_j = pd.DataFrame(X_rus1)\n",
    "z_rus_j = pd.Series(z_rus1)\n",
    "\n",
    "print (X_rus_j.info())\n",
    "print (z_rus_j.value_counts())"
   ]
  },
  {
   "cell_type": "code",
   "execution_count": 38,
   "metadata": {},
   "outputs": [
    {
     "name": "stderr",
     "output_type": "stream",
     "text": [
      "c:\\users\\franc\\appdata\\local\\programs\\python\\python36\\lib\\site-packages\\sklearn\\utils\\validation.py:475: DataConversionWarning: Data with input dtype int64 was converted to float64 by StandardScaler.\n",
      "  warnings.warn(msg, DataConversionWarning)\n",
      "c:\\users\\franc\\appdata\\local\\programs\\python\\python36\\lib\\site-packages\\sklearn\\linear_model\\stochastic_gradient.py:128: FutureWarning: max_iter and tol parameters have been added in <class 'sklearn.linear_model.stochastic_gradient.SGDClassifier'> in 0.19. If both are left unset, they default to max_iter=5 and tol=None. If tol is not None, max_iter defaults to max_iter=1000. From 0.21, default max_iter will be 1000, and default tol will be 1e-3.\n",
      "  \"and default tol will be 1e-3.\" % type(self), FutureWarning)\n"
     ]
    },
    {
     "name": "stdout",
     "output_type": "stream",
     "text": [
      "{'accuracy_knn': [0.4710918955578162], 'f1_knn': [0.4687451321192662], 'precision_knn': [0.4688646963011701], 'recall_knn': [0.4710918955578162], 'accuracy_rnf': [0.5061885384876229], 'f1_rnf': [0.5053687779628614], 'precision_rnf': [0.5077107830947593], 'recall_rnf': [0.5061885384876229], 'accuracy_sgd': [0.3987792472024415], 'f1_sgd': [0.39513840723653776], 'precision_sgd': [0.3963779745120379], 'recall_sgd': [0.3987792472024415], 'accuracy_baggin': [0.44362495761275006], 'f1_baggin': [0.4430573189532098], 'precision_baggin': [0.44608965862550354], 'recall_baggin': [0.44362495761275006], 'accuracy_pas': [0.3584265852831468], 'f1_pas': [0.3023135143789276], 'precision_pas': [0.37404794895628884], 'recall_pas': [0.3584265852831468]}\n"
     ]
    },
    {
     "name": "stderr",
     "output_type": "stream",
     "text": [
      "c:\\users\\franc\\appdata\\local\\programs\\python\\python36\\lib\\site-packages\\sklearn\\utils\\validation.py:475: DataConversionWarning: Data with input dtype int64 was converted to float64 by StandardScaler.\n",
      "  warnings.warn(msg, DataConversionWarning)\n",
      "c:\\users\\franc\\appdata\\local\\programs\\python\\python36\\lib\\site-packages\\sklearn\\linear_model\\stochastic_gradient.py:128: FutureWarning: max_iter and tol parameters have been added in <class 'sklearn.linear_model.stochastic_gradient.SGDClassifier'> in 0.19. If both are left unset, they default to max_iter=5 and tol=None. If tol is not None, max_iter defaults to max_iter=1000. From 0.21, default max_iter will be 1000, and default tol will be 1e-3.\n",
      "  \"and default tol will be 1e-3.\" % type(self), FutureWarning)\n"
     ]
    },
    {
     "name": "stdout",
     "output_type": "stream",
     "text": [
      "{'accuracy_knn': [0.4710918955578162, 0.46719226856561547], 'f1_knn': [0.4687451321192662, 0.4654909414970245], 'precision_knn': [0.4688646963011701, 0.4656355315378022], 'recall_knn': [0.4710918955578162, 0.46719226856561547], 'accuracy_rnf': [0.5061885384876229, 0.5126314004747372], 'f1_rnf': [0.5053687779628614, 0.5118528473410173], 'precision_rnf': [0.5077107830947593, 0.5166657776851173], 'recall_rnf': [0.5061885384876229, 0.5126314004747372], 'accuracy_sgd': [0.3987792472024415, 0.37707697524584605], 'f1_sgd': [0.39513840723653776, 0.350808628606691], 'precision_sgd': [0.3963779745120379, 0.3974033865154086], 'recall_sgd': [0.3987792472024415, 0.37707697524584605], 'accuracy_baggin': [0.44362495761275006, 0.43023058663953884], 'f1_baggin': [0.4430573189532098, 0.4302276793949826], 'precision_baggin': [0.44608965862550354, 0.4330173092271244], 'recall_baggin': [0.44362495761275006, 0.43023058663953884], 'accuracy_pas': [0.3584265852831468, 0.3942861987114276], 'f1_pas': [0.3023135143789276, 0.37417295757323227], 'precision_pas': [0.37404794895628884, 0.3803224171032763], 'recall_pas': [0.3584265852831468, 0.3942861987114276]}\n"
     ]
    },
    {
     "name": "stderr",
     "output_type": "stream",
     "text": [
      "c:\\users\\franc\\appdata\\local\\programs\\python\\python36\\lib\\site-packages\\sklearn\\utils\\validation.py:475: DataConversionWarning: Data with input dtype int64 was converted to float64 by StandardScaler.\n",
      "  warnings.warn(msg, DataConversionWarning)\n",
      "c:\\users\\franc\\appdata\\local\\programs\\python\\python36\\lib\\site-packages\\sklearn\\linear_model\\stochastic_gradient.py:128: FutureWarning: max_iter and tol parameters have been added in <class 'sklearn.linear_model.stochastic_gradient.SGDClassifier'> in 0.19. If both are left unset, they default to max_iter=5 and tol=None. If tol is not None, max_iter defaults to max_iter=1000. From 0.21, default max_iter will be 1000, and default tol will be 1e-3.\n",
      "  \"and default tol will be 1e-3.\" % type(self), FutureWarning)\n"
     ]
    },
    {
     "name": "stdout",
     "output_type": "stream",
     "text": [
      "{'accuracy_knn': [0.4710918955578162, 0.46719226856561547, 0.4532892505934215], 'f1_knn': [0.4687451321192662, 0.4654909414970245, 0.45268804643984734], 'precision_knn': [0.4688646963011701, 0.4656355315378022, 0.45240126301798467], 'recall_knn': [0.4710918955578162, 0.46719226856561547, 0.4532892505934215], 'accuracy_rnf': [0.5061885384876229, 0.5126314004747372, 0.5125466259749067], 'f1_rnf': [0.5053687779628614, 0.5118528473410173, 0.5122789890673902], 'precision_rnf': [0.5077107830947593, 0.5166657776851173, 0.5150323759940479], 'recall_rnf': [0.5061885384876229, 0.5126314004747372, 0.5125466259749067], 'accuracy_sgd': [0.3987792472024415, 0.37707697524584605, 0.3730077992539844], 'f1_sgd': [0.39513840723653776, 0.350808628606691, 0.37274827860299903], 'precision_sgd': [0.3963779745120379, 0.3974033865154086, 0.3725296922195943], 'recall_sgd': [0.3987792472024415, 0.37707697524584605, 0.3730077992539844], 'accuracy_baggin': [0.44362495761275006, 0.43023058663953884, 0.44837232960325535], 'f1_baggin': [0.4430573189532098, 0.4302276793949826, 0.4463816925663681], 'precision_baggin': [0.44608965862550354, 0.4330173092271244, 0.44830089684007596], 'recall_baggin': [0.44362495761275006, 0.43023058663953884, 0.44837232960325535], 'accuracy_pas': [0.3584265852831468, 0.3942861987114276, 0.40793489318413023], 'f1_pas': [0.3023135143789276, 0.37417295757323227, 0.40182918018789177], 'precision_pas': [0.37404794895628884, 0.3803224171032763, 0.40000442142255227], 'recall_pas': [0.3584265852831468, 0.3942861987114276, 0.40793489318413023]}\n"
     ]
    },
    {
     "name": "stderr",
     "output_type": "stream",
     "text": [
      "c:\\users\\franc\\appdata\\local\\programs\\python\\python36\\lib\\site-packages\\sklearn\\utils\\validation.py:475: DataConversionWarning: Data with input dtype int64 was converted to float64 by StandardScaler.\n",
      "  warnings.warn(msg, DataConversionWarning)\n",
      "c:\\users\\franc\\appdata\\local\\programs\\python\\python36\\lib\\site-packages\\sklearn\\linear_model\\stochastic_gradient.py:128: FutureWarning: max_iter and tol parameters have been added in <class 'sklearn.linear_model.stochastic_gradient.SGDClassifier'> in 0.19. If both are left unset, they default to max_iter=5 and tol=None. If tol is not None, max_iter defaults to max_iter=1000. From 0.21, default max_iter will be 1000, and default tol will be 1e-3.\n",
      "  \"and default tol will be 1e-3.\" % type(self), FutureWarning)\n"
     ]
    },
    {
     "name": "stdout",
     "output_type": "stream",
     "text": [
      "{'accuracy_knn': [0.4710918955578162, 0.46719226856561547, 0.4532892505934215, 0.4729569345540861], 'f1_knn': [0.4687451321192662, 0.4654909414970245, 0.45268804643984734, 0.4697956050871611], 'precision_knn': [0.4688646963011701, 0.4656355315378022, 0.45240126301798467, 0.47074385051218337], 'recall_knn': [0.4710918955578162, 0.46719226856561547, 0.4532892505934215, 0.4729569345540861], 'accuracy_rnf': [0.5061885384876229, 0.5126314004747372, 0.5125466259749067, 0.5138182434723635], 'f1_rnf': [0.5053687779628614, 0.5118528473410173, 0.5122789890673902, 0.5130788897126619], 'precision_rnf': [0.5077107830947593, 0.5166657776851173, 0.5150323759940479, 0.5150089697283494], 'recall_rnf': [0.5061885384876229, 0.5126314004747372, 0.5125466259749067, 0.5138182434723635], 'accuracy_sgd': [0.3987792472024415, 0.37707697524584605, 0.3730077992539844, 0.34520176330959645], 'f1_sgd': [0.39513840723653776, 0.350808628606691, 0.37274827860299903, 0.32101765527869763], 'precision_sgd': [0.3963779745120379, 0.3974033865154086, 0.3725296922195943, 0.3527035319789538], 'recall_sgd': [0.3987792472024415, 0.37707697524584605, 0.3730077992539844, 0.34520176330959645], 'accuracy_baggin': [0.44362495761275006, 0.43023058663953884, 0.44837232960325535, 0.438538487622923], 'f1_baggin': [0.4430573189532098, 0.4302276793949826, 0.4463816925663681, 0.4327070149892512], 'precision_baggin': [0.44608965862550354, 0.4330173092271244, 0.44830089684007596, 0.43525088712129545], 'recall_baggin': [0.44362495761275006, 0.43023058663953884, 0.44837232960325535, 0.438538487622923], 'accuracy_pas': [0.3584265852831468, 0.3942861987114276, 0.40793489318413023, 0.3399457443201085], 'f1_pas': [0.3023135143789276, 0.37417295757323227, 0.40182918018789177, 0.3381899062041428], 'precision_pas': [0.37404794895628884, 0.3803224171032763, 0.40000442142255227, 0.3375319179275558], 'recall_pas': [0.3584265852831468, 0.3942861987114276, 0.40793489318413023, 0.3399457443201085]}\n"
     ]
    },
    {
     "name": "stderr",
     "output_type": "stream",
     "text": [
      "c:\\users\\franc\\appdata\\local\\programs\\python\\python36\\lib\\site-packages\\sklearn\\utils\\validation.py:475: DataConversionWarning: Data with input dtype int64 was converted to float64 by StandardScaler.\n",
      "  warnings.warn(msg, DataConversionWarning)\n",
      "c:\\users\\franc\\appdata\\local\\programs\\python\\python36\\lib\\site-packages\\sklearn\\linear_model\\stochastic_gradient.py:128: FutureWarning: max_iter and tol parameters have been added in <class 'sklearn.linear_model.stochastic_gradient.SGDClassifier'> in 0.19. If both are left unset, they default to max_iter=5 and tol=None. If tol is not None, max_iter defaults to max_iter=1000. From 0.21, default max_iter will be 1000, and default tol will be 1e-3.\n",
      "  \"and default tol will be 1e-3.\" % type(self), FutureWarning)\n"
     ]
    },
    {
     "name": "stdout",
     "output_type": "stream",
     "text": [
      "{'accuracy_knn': [0.4710918955578162, 0.46719226856561547, 0.4532892505934215, 0.4729569345540861, 0.48262122753475756], 'f1_knn': [0.4687451321192662, 0.4654909414970245, 0.45268804643984734, 0.4697956050871611, 0.48067307781873475], 'precision_knn': [0.4688646963011701, 0.4656355315378022, 0.45240126301798467, 0.47074385051218337, 0.4806068840268915], 'recall_knn': [0.4710918955578162, 0.46719226856561547, 0.4532892505934215, 0.4729569345540861, 0.48262122753475756], 'accuracy_rnf': [0.5061885384876229, 0.5126314004747372, 0.5125466259749067, 0.5138182434723635, 0.5357748389284503], 'f1_rnf': [0.5053687779628614, 0.5118528473410173, 0.5122789890673902, 0.5130788897126619, 0.5350727052272621], 'precision_rnf': [0.5077107830947593, 0.5166657776851173, 0.5150323759940479, 0.5150089697283494, 0.5372173653549195], 'recall_rnf': [0.5061885384876229, 0.5126314004747372, 0.5125466259749067, 0.5138182434723635, 0.5357748389284503], 'accuracy_sgd': [0.3987792472024415, 0.37707697524584605, 0.3730077992539844, 0.34520176330959645, 0.4119192946761614], 'f1_sgd': [0.39513840723653776, 0.350808628606691, 0.37274827860299903, 0.32101765527869763, 0.3813070931440497], 'precision_sgd': [0.3963779745120379, 0.3974033865154086, 0.3725296922195943, 0.3527035319789538, 0.4496911856521828], 'recall_sgd': [0.3987792472024415, 0.37707697524584605, 0.3730077992539844, 0.34520176330959645, 0.4119192946761614], 'accuracy_baggin': [0.44362495761275006, 0.43023058663953884, 0.44837232960325535, 0.438538487622923, 0.4687182095625636], 'f1_baggin': [0.4430573189532098, 0.4302276793949826, 0.4463816925663681, 0.4327070149892512, 0.4628387569371428], 'precision_baggin': [0.44608965862550354, 0.4330173092271244, 0.44830089684007596, 0.43525088712129545, 0.464317018340495], 'recall_baggin': [0.44362495761275006, 0.43023058663953884, 0.44837232960325535, 0.438538487622923, 0.4687182095625636], 'accuracy_pas': [0.3584265852831468, 0.3942861987114276, 0.40793489318413023, 0.3399457443201085, 0.38487622923024756], 'f1_pas': [0.3023135143789276, 0.37417295757323227, 0.40182918018789177, 0.3381899062041428, 0.29468289753037796], 'precision_pas': [0.37404794895628884, 0.3803224171032763, 0.40000442142255227, 0.3375319179275558, 0.31845533169962154], 'recall_pas': [0.3584265852831468, 0.3942861987114276, 0.40793489318413023, 0.3399457443201085, 0.38487622923024756]}\n"
     ]
    },
    {
     "name": "stderr",
     "output_type": "stream",
     "text": [
      "c:\\users\\franc\\appdata\\local\\programs\\python\\python36\\lib\\site-packages\\sklearn\\utils\\validation.py:475: DataConversionWarning: Data with input dtype int64 was converted to float64 by StandardScaler.\n",
      "  warnings.warn(msg, DataConversionWarning)\n",
      "c:\\users\\franc\\appdata\\local\\programs\\python\\python36\\lib\\site-packages\\sklearn\\linear_model\\stochastic_gradient.py:128: FutureWarning: max_iter and tol parameters have been added in <class 'sklearn.linear_model.stochastic_gradient.SGDClassifier'> in 0.19. If both are left unset, they default to max_iter=5 and tol=None. If tol is not None, max_iter defaults to max_iter=1000. From 0.21, default max_iter will be 1000, and default tol will be 1e-3.\n",
      "  \"and default tol will be 1e-3.\" % type(self), FutureWarning)\n"
     ]
    },
    {
     "name": "stdout",
     "output_type": "stream",
     "text": [
      "{'accuracy_knn': [0.4710918955578162, 0.46719226856561547, 0.4532892505934215, 0.4729569345540861, 0.48262122753475756, 0.4605274315271771], 'f1_knn': [0.4687451321192662, 0.4654909414970245, 0.45268804643984734, 0.4697956050871611, 0.48067307781873475, 0.4581686903710403], 'precision_knn': [0.4688646963011701, 0.4656355315378022, 0.45240126301798467, 0.47074385051218337, 0.4806068840268915, 0.458338996743595], 'recall_knn': [0.4710918955578162, 0.46719226856561547, 0.4532892505934215, 0.4729569345540861, 0.48262122753475756, 0.4605274315271771], 'accuracy_rnf': [0.5061885384876229, 0.5126314004747372, 0.5125466259749067, 0.5138182434723635, 0.5357748389284503, 0.5082676163825999], 'f1_rnf': [0.5053687779628614, 0.5118528473410173, 0.5122789890673902, 0.5130788897126619, 0.5350727052272621, 0.5074826283620397], 'precision_rnf': [0.5077107830947593, 0.5166657776851173, 0.5150323759940479, 0.5150089697283494, 0.5372173653549195, 0.5095867389893579], 'recall_rnf': [0.5061885384876229, 0.5126314004747372, 0.5125466259749067, 0.5138182434723635, 0.5357748389284503, 0.5082676163825999], 'accuracy_sgd': [0.3987792472024415, 0.37707697524584605, 0.3730077992539844, 0.34520176330959645, 0.4119192946761614, 0.37284829983888745], 'f1_sgd': [0.39513840723653776, 0.350808628606691, 0.37274827860299903, 0.32101765527869763, 0.3813070931440497, 0.3484665443305748], 'precision_sgd': [0.3963779745120379, 0.3974033865154086, 0.3725296922195943, 0.3527035319789538, 0.4496911856521828, 0.36983138049818076], 'recall_sgd': [0.3987792472024415, 0.37707697524584605, 0.3730077992539844, 0.34520176330959645, 0.4119192946761614, 0.37284829983888745], 'accuracy_baggin': [0.44362495761275006, 0.43023058663953884, 0.44837232960325535, 0.438538487622923, 0.4687182095625636, 0.44305944204188924], 'f1_baggin': [0.4430573189532098, 0.4302276793949826, 0.4463816925663681, 0.4327070149892512, 0.4628387569371428, 0.44042132427955216], 'precision_baggin': [0.44608965862550354, 0.4330173092271244, 0.44830089684007596, 0.43525088712129545, 0.464317018340495, 0.44177382283275524], 'recall_baggin': [0.44362495761275006, 0.43023058663953884, 0.44837232960325535, 0.438538487622923, 0.4687182095625636, 0.44305944204188924], 'accuracy_pas': [0.3584265852831468, 0.3942861987114276, 0.40793489318413023, 0.3399457443201085, 0.38487622923024756, 0.3647078775544815], 'f1_pas': [0.3023135143789276, 0.37417295757323227, 0.40182918018789177, 0.3381899062041428, 0.29468289753037796, 0.3630080543389907], 'precision_pas': [0.37404794895628884, 0.3803224171032763, 0.40000442142255227, 0.3375319179275558, 0.31845533169962154, 0.3634156490042429], 'recall_pas': [0.3584265852831468, 0.3942861987114276, 0.40793489318413023, 0.3399457443201085, 0.38487622923024756, 0.3647078775544815]}\n"
     ]
    },
    {
     "name": "stderr",
     "output_type": "stream",
     "text": [
      "c:\\users\\franc\\appdata\\local\\programs\\python\\python36\\lib\\site-packages\\sklearn\\utils\\validation.py:475: DataConversionWarning: Data with input dtype int64 was converted to float64 by StandardScaler.\n",
      "  warnings.warn(msg, DataConversionWarning)\n",
      "c:\\users\\franc\\appdata\\local\\programs\\python\\python36\\lib\\site-packages\\sklearn\\linear_model\\stochastic_gradient.py:128: FutureWarning: max_iter and tol parameters have been added in <class 'sklearn.linear_model.stochastic_gradient.SGDClassifier'> in 0.19. If both are left unset, they default to max_iter=5 and tol=None. If tol is not None, max_iter defaults to max_iter=1000. From 0.21, default max_iter will be 1000, and default tol will be 1e-3.\n",
      "  \"and default tol will be 1e-3.\" % type(self), FutureWarning)\n"
     ]
    },
    {
     "name": "stdout",
     "output_type": "stream",
     "text": [
      "{'accuracy_knn': [0.4710918955578162, 0.46719226856561547, 0.4532892505934215, 0.4729569345540861, 0.48262122753475756, 0.4605274315271771, 0.4816416518273552], 'f1_knn': [0.4687451321192662, 0.4654909414970245, 0.45268804643984734, 0.4697956050871611, 0.48067307781873475, 0.4581686903710403, 0.4787090377652946], 'precision_knn': [0.4688646963011701, 0.4656355315378022, 0.45240126301798467, 0.47074385051218337, 0.4806068840268915, 0.458338996743595, 0.47995485303641905], 'recall_knn': [0.4710918955578162, 0.46719226856561547, 0.4532892505934215, 0.4729569345540861, 0.48262122753475756, 0.4605274315271771, 0.4816416518273552], 'accuracy_rnf': [0.5061885384876229, 0.5126314004747372, 0.5125466259749067, 0.5138182434723635, 0.5357748389284503, 0.5082676163825999, 0.5250572373441872], 'f1_rnf': [0.5053687779628614, 0.5118528473410173, 0.5122789890673902, 0.5130788897126619, 0.5350727052272621, 0.5074826283620397, 0.5237390108506236], 'precision_rnf': [0.5077107830947593, 0.5166657776851173, 0.5150323759940479, 0.5150089697283494, 0.5372173653549195, 0.5095867389893579, 0.524732124764799], 'recall_rnf': [0.5061885384876229, 0.5126314004747372, 0.5125466259749067, 0.5138182434723635, 0.5357748389284503, 0.5082676163825999, 0.5250572373441872], 'accuracy_sgd': [0.3987792472024415, 0.37707697524584605, 0.3730077992539844, 0.34520176330959645, 0.4119192946761614, 0.37284829983888745, 0.38039514966505555], 'f1_sgd': [0.39513840723653776, 0.350808628606691, 0.37274827860299903, 0.32101765527869763, 0.3813070931440497, 0.3484665443305748, 0.36226699384365435], 'precision_sgd': [0.3963779745120379, 0.3974033865154086, 0.3725296922195943, 0.3527035319789538, 0.4496911856521828, 0.36983138049818076, 0.3752736547545378], 'recall_sgd': [0.3987792472024415, 0.37707697524584605, 0.3730077992539844, 0.34520176330959645, 0.4119192946761614, 0.37284829983888745, 0.38039514966505555], 'accuracy_baggin': [0.44362495761275006, 0.43023058663953884, 0.44837232960325535, 0.438538487622923, 0.4687182095625636, 0.44305944204188924, 0.4638344780802171], 'f1_baggin': [0.4430573189532098, 0.4302276793949826, 0.4463816925663681, 0.4327070149892512, 0.4628387569371428, 0.44042132427955216, 0.4587739618288745], 'precision_baggin': [0.44608965862550354, 0.4330173092271244, 0.44830089684007596, 0.43525088712129545, 0.464317018340495, 0.44177382283275524, 0.46170757629685816], 'recall_baggin': [0.44362495761275006, 0.43023058663953884, 0.44837232960325535, 0.438538487622923, 0.4687182095625636, 0.44305944204188924, 0.4638344780802171], 'accuracy_pas': [0.3584265852831468, 0.3942861987114276, 0.40793489318413023, 0.3399457443201085, 0.38487622923024756, 0.3647078775544815, 0.38081912999236833], 'f1_pas': [0.3023135143789276, 0.37417295757323227, 0.40182918018789177, 0.3381899062041428, 0.29468289753037796, 0.3630080543389907, 0.3769379336079225], 'precision_pas': [0.37404794895628884, 0.3803224171032763, 0.40000442142255227, 0.3375319179275558, 0.31845533169962154, 0.3634156490042429, 0.3780946252822663], 'recall_pas': [0.3584265852831468, 0.3942861987114276, 0.40793489318413023, 0.3399457443201085, 0.38487622923024756, 0.3647078775544815, 0.38081912999236833]}\n"
     ]
    },
    {
     "name": "stderr",
     "output_type": "stream",
     "text": [
      "c:\\users\\franc\\appdata\\local\\programs\\python\\python36\\lib\\site-packages\\sklearn\\utils\\validation.py:475: DataConversionWarning: Data with input dtype int64 was converted to float64 by StandardScaler.\n",
      "  warnings.warn(msg, DataConversionWarning)\n",
      "c:\\users\\franc\\appdata\\local\\programs\\python\\python36\\lib\\site-packages\\sklearn\\linear_model\\stochastic_gradient.py:128: FutureWarning: max_iter and tol parameters have been added in <class 'sklearn.linear_model.stochastic_gradient.SGDClassifier'> in 0.19. If both are left unset, they default to max_iter=5 and tol=None. If tol is not None, max_iter defaults to max_iter=1000. From 0.21, default max_iter will be 1000, and default tol will be 1e-3.\n",
      "  \"and default tol will be 1e-3.\" % type(self), FutureWarning)\n"
     ]
    },
    {
     "name": "stdout",
     "output_type": "stream",
     "text": [
      "{'accuracy_knn': [0.4710918955578162, 0.46719226856561547, 0.4532892505934215, 0.4729569345540861, 0.48262122753475756, 0.4605274315271771, 0.4816416518273552, 0.4730772492156364], 'f1_knn': [0.4687451321192662, 0.4654909414970245, 0.45268804643984734, 0.4697956050871611, 0.48067307781873475, 0.4581686903710403, 0.4787090377652946, 0.4716492805185942], 'precision_knn': [0.4688646963011701, 0.4656355315378022, 0.45240126301798467, 0.47074385051218337, 0.4806068840268915, 0.458338996743595, 0.47995485303641905, 0.47146015319474394], 'recall_knn': [0.4710918955578162, 0.46719226856561547, 0.4532892505934215, 0.4729569345540861, 0.48262122753475756, 0.4605274315271771, 0.4816416518273552, 0.4730772492156364], 'accuracy_rnf': [0.5061885384876229, 0.5126314004747372, 0.5125466259749067, 0.5138182434723635, 0.5357748389284503, 0.5082676163825999, 0.5250572373441872, 0.5174255914525566], 'f1_rnf': [0.5053687779628614, 0.5118528473410173, 0.5122789890673902, 0.5130788897126619, 0.5350727052272621, 0.5074826283620397, 0.5237390108506236, 0.5170643799029933], 'precision_rnf': [0.5077107830947593, 0.5166657776851173, 0.5150323759940479, 0.5150089697283494, 0.5372173653549195, 0.5095867389893579, 0.524732124764799, 0.5181577067014346], 'recall_rnf': [0.5061885384876229, 0.5126314004747372, 0.5125466259749067, 0.5138182434723635, 0.5357748389284503, 0.5082676163825999, 0.5250572373441872, 0.5174255914525566], 'accuracy_sgd': [0.3987792472024415, 0.37707697524584605, 0.3730077992539844, 0.34520176330959645, 0.4119192946761614, 0.37284829983888745, 0.38039514966505555, 0.39506486899007887], 'f1_sgd': [0.39513840723653776, 0.350808628606691, 0.37274827860299903, 0.32101765527869763, 0.3813070931440497, 0.3484665443305748, 0.36226699384365435, 0.3762608129943726], 'precision_sgd': [0.3963779745120379, 0.3974033865154086, 0.3725296922195943, 0.3527035319789538, 0.4496911856521828, 0.36983138049818076, 0.3752736547545378, 0.3835565162846516], 'recall_sgd': [0.3987792472024415, 0.37707697524584605, 0.3730077992539844, 0.34520176330959645, 0.4119192946761614, 0.37284829983888745, 0.38039514966505555, 0.39506486899007887], 'accuracy_baggin': [0.44362495761275006, 0.43023058663953884, 0.44837232960325535, 0.438538487622923, 0.4687182095625636, 0.44305944204188924, 0.4638344780802171, 0.4608666157890274], 'f1_baggin': [0.4430573189532098, 0.4302276793949826, 0.4463816925663681, 0.4327070149892512, 0.4628387569371428, 0.44042132427955216, 0.4587739618288745, 0.4526874334876048], 'precision_baggin': [0.44608965862550354, 0.4330173092271244, 0.44830089684007596, 0.43525088712129545, 0.464317018340495, 0.44177382283275524, 0.46170757629685816, 0.45548076669732107], 'recall_baggin': [0.44362495761275006, 0.43023058663953884, 0.44837232960325535, 0.438538487622923, 0.4687182095625636, 0.44305944204188924, 0.4638344780802171, 0.4608666157890274], 'accuracy_pas': [0.3584265852831468, 0.3942861987114276, 0.40793489318413023, 0.3399457443201085, 0.38487622923024756, 0.3647078775544815, 0.38081912999236833, 0.387857203425761], 'f1_pas': [0.3023135143789276, 0.37417295757323227, 0.40182918018789177, 0.3381899062041428, 0.29468289753037796, 0.3630080543389907, 0.3769379336079225, 0.3852225335890019], 'precision_pas': [0.37404794895628884, 0.3803224171032763, 0.40000442142255227, 0.3375319179275558, 0.31845533169962154, 0.3634156490042429, 0.3780946252822663, 0.3891136335949184], 'recall_pas': [0.3584265852831468, 0.3942861987114276, 0.40793489318413023, 0.3399457443201085, 0.38487622923024756, 0.3647078775544815, 0.38081912999236833, 0.387857203425761]}\n"
     ]
    },
    {
     "name": "stderr",
     "output_type": "stream",
     "text": [
      "c:\\users\\franc\\appdata\\local\\programs\\python\\python36\\lib\\site-packages\\sklearn\\utils\\validation.py:475: DataConversionWarning: Data with input dtype int64 was converted to float64 by StandardScaler.\n",
      "  warnings.warn(msg, DataConversionWarning)\n",
      "c:\\users\\franc\\appdata\\local\\programs\\python\\python36\\lib\\site-packages\\sklearn\\linear_model\\stochastic_gradient.py:128: FutureWarning: max_iter and tol parameters have been added in <class 'sklearn.linear_model.stochastic_gradient.SGDClassifier'> in 0.19. If both are left unset, they default to max_iter=5 and tol=None. If tol is not None, max_iter defaults to max_iter=1000. From 0.21, default max_iter will be 1000, and default tol will be 1e-3.\n",
      "  \"and default tol will be 1e-3.\" % type(self), FutureWarning)\n"
     ]
    },
    {
     "name": "stdout",
     "output_type": "stream",
     "text": [
      "{'accuracy_knn': [0.4710918955578162, 0.46719226856561547, 0.4532892505934215, 0.4729569345540861, 0.48262122753475756, 0.4605274315271771, 0.4816416518273552, 0.4730772492156364, 0.4595098787416264], 'f1_knn': [0.4687451321192662, 0.4654909414970245, 0.45268804643984734, 0.4697956050871611, 0.48067307781873475, 0.4581686903710403, 0.4787090377652946, 0.4716492805185942, 0.4568889319230416], 'precision_knn': [0.4688646963011701, 0.4656355315378022, 0.45240126301798467, 0.47074385051218337, 0.4806068840268915, 0.458338996743595, 0.47995485303641905, 0.47146015319474394, 0.4575276067244457], 'recall_knn': [0.4710918955578162, 0.46719226856561547, 0.4532892505934215, 0.4729569345540861, 0.48262122753475756, 0.4605274315271771, 0.4816416518273552, 0.4730772492156364, 0.4595098787416264], 'accuracy_rnf': [0.5061885384876229, 0.5126314004747372, 0.5125466259749067, 0.5138182434723635, 0.5357748389284503, 0.5082676163825999, 0.5250572373441872, 0.5174255914525566, 0.5080980242516747], 'f1_rnf': [0.5053687779628614, 0.5118528473410173, 0.5122789890673902, 0.5130788897126619, 0.5350727052272621, 0.5074826283620397, 0.5237390108506236, 0.5170643799029933, 0.5079123297260857], 'precision_rnf': [0.5077107830947593, 0.5166657776851173, 0.5150323759940479, 0.5150089697283494, 0.5372173653549195, 0.5095867389893579, 0.524732124764799, 0.5181577067014346, 0.5099436663429083], 'recall_rnf': [0.5061885384876229, 0.5126314004747372, 0.5125466259749067, 0.5138182434723635, 0.5357748389284503, 0.5082676163825999, 0.5250572373441872, 0.5174255914525566, 0.5080980242516747], 'accuracy_sgd': [0.3987792472024415, 0.37707697524584605, 0.3730077992539844, 0.34520176330959645, 0.4119192946761614, 0.37284829983888745, 0.38039514966505555, 0.39506486899007887, 0.365386246078182], 'f1_sgd': [0.39513840723653776, 0.350808628606691, 0.37274827860299903, 0.32101765527869763, 0.3813070931440497, 0.3484665443305748, 0.36226699384365435, 0.3762608129943726, 0.36175606984953224], 'precision_sgd': [0.3963779745120379, 0.3974033865154086, 0.3725296922195943, 0.3527035319789538, 0.4496911856521828, 0.36983138049818076, 0.3752736547545378, 0.3835565162846516, 0.37422650107537203], 'recall_sgd': [0.3987792472024415, 0.37707697524584605, 0.3730077992539844, 0.34520176330959645, 0.4119192946761614, 0.37284829983888745, 0.38039514966505555, 0.39506486899007887, 0.365386246078182], 'accuracy_baggin': [0.44362495761275006, 0.43023058663953884, 0.44837232960325535, 0.438538487622923, 0.4687182095625636, 0.44305944204188924, 0.4638344780802171, 0.4608666157890274, 0.4404307640125498], 'f1_baggin': [0.4430573189532098, 0.4302276793949826, 0.4463816925663681, 0.4327070149892512, 0.4628387569371428, 0.44042132427955216, 0.4587739618288745, 0.4526874334876048, 0.43858700139554824], 'precision_baggin': [0.44608965862550354, 0.4330173092271244, 0.44830089684007596, 0.43525088712129545, 0.464317018340495, 0.44177382283275524, 0.46170757629685816, 0.45548076669732107, 0.4389092472173831], 'recall_baggin': [0.44362495761275006, 0.43023058663953884, 0.44837232960325535, 0.438538487622923, 0.4687182095625636, 0.44305944204188924, 0.4638344780802171, 0.4608666157890274, 0.4404307640125498], 'accuracy_pas': [0.3584265852831468, 0.3942861987114276, 0.40793489318413023, 0.3399457443201085, 0.38487622923024756, 0.3647078775544815, 0.38081912999236833, 0.387857203425761, 0.3345204782498092], 'f1_pas': [0.3023135143789276, 0.37417295757323227, 0.40182918018789177, 0.3381899062041428, 0.29468289753037796, 0.3630080543389907, 0.3769379336079225, 0.3852225335890019, 0.32462649469590305], 'precision_pas': [0.37404794895628884, 0.3803224171032763, 0.40000442142255227, 0.3375319179275558, 0.31845533169962154, 0.3634156490042429, 0.3780946252822663, 0.3891136335949184, 0.3329791704784059], 'recall_pas': [0.3584265852831468, 0.3942861987114276, 0.40793489318413023, 0.3399457443201085, 0.38487622923024756, 0.3647078775544815, 0.38081912999236833, 0.387857203425761, 0.3345204782498092]}\n"
     ]
    },
    {
     "name": "stderr",
     "output_type": "stream",
     "text": [
      "c:\\users\\franc\\appdata\\local\\programs\\python\\python36\\lib\\site-packages\\sklearn\\utils\\validation.py:475: DataConversionWarning: Data with input dtype int64 was converted to float64 by StandardScaler.\n",
      "  warnings.warn(msg, DataConversionWarning)\n",
      "c:\\users\\franc\\appdata\\local\\programs\\python\\python36\\lib\\site-packages\\sklearn\\linear_model\\stochastic_gradient.py:128: FutureWarning: max_iter and tol parameters have been added in <class 'sklearn.linear_model.stochastic_gradient.SGDClassifier'> in 0.19. If both are left unset, they default to max_iter=5 and tol=None. If tol is not None, max_iter defaults to max_iter=1000. From 0.21, default max_iter will be 1000, and default tol will be 1e-3.\n",
      "  \"and default tol will be 1e-3.\" % type(self), FutureWarning)\n"
     ]
    },
    {
     "name": "stdout",
     "output_type": "stream",
     "text": [
      "{'accuracy_knn': [0.4710918955578162, 0.46719226856561547, 0.4532892505934215, 0.4729569345540861, 0.48262122753475756, 0.4605274315271771, 0.4816416518273552, 0.4730772492156364, 0.4595098787416264, 0.4755363351140507], 'f1_knn': [0.4687451321192662, 0.4654909414970245, 0.45268804643984734, 0.4697956050871611, 0.48067307781873475, 0.4581686903710403, 0.4787090377652946, 0.4716492805185942, 0.4568889319230416, 0.47387466697398645], 'precision_knn': [0.4688646963011701, 0.4656355315378022, 0.45240126301798467, 0.47074385051218337, 0.4806068840268915, 0.458338996743595, 0.47995485303641905, 0.47146015319474394, 0.4575276067244457, 0.4748941176789549], 'recall_knn': [0.4710918955578162, 0.46719226856561547, 0.4532892505934215, 0.4729569345540861, 0.48262122753475756, 0.4605274315271771, 0.4816416518273552, 0.4730772492156364, 0.4595098787416264, 0.4755363351140507], 'accuracy_rnf': [0.5061885384876229, 0.5126314004747372, 0.5125466259749067, 0.5138182434723635, 0.5357748389284503, 0.5082676163825999, 0.5250572373441872, 0.5174255914525566, 0.5080980242516747, 0.5211566183329094], 'f1_rnf': [0.5053687779628614, 0.5118528473410173, 0.5122789890673902, 0.5130788897126619, 0.5350727052272621, 0.5074826283620397, 0.5237390108506236, 0.5170643799029933, 0.5079123297260857, 0.5208896286001794], 'precision_rnf': [0.5077107830947593, 0.5166657776851173, 0.5150323759940479, 0.5150089697283494, 0.5372173653549195, 0.5095867389893579, 0.524732124764799, 0.5181577067014346, 0.5099436663429083, 0.5215708671479918], 'recall_rnf': [0.5061885384876229, 0.5126314004747372, 0.5125466259749067, 0.5138182434723635, 0.5357748389284503, 0.5082676163825999, 0.5250572373441872, 0.5174255914525566, 0.5080980242516747, 0.5211566183329094], 'accuracy_sgd': [0.3987792472024415, 0.37707697524584605, 0.3730077992539844, 0.34520176330959645, 0.4119192946761614, 0.37284829983888745, 0.38039514966505555, 0.39506486899007887, 0.365386246078182, 0.3924361909607394], 'f1_sgd': [0.39513840723653776, 0.350808628606691, 0.37274827860299903, 0.32101765527869763, 0.3813070931440497, 0.3484665443305748, 0.36226699384365435, 0.3762608129943726, 0.36175606984953224, 0.38785620058900466], 'precision_sgd': [0.3963779745120379, 0.3974033865154086, 0.3725296922195943, 0.3527035319789538, 0.4496911856521828, 0.36983138049818076, 0.3752736547545378, 0.3835565162846516, 0.37422650107537203, 0.39654933924435004], 'recall_sgd': [0.3987792472024415, 0.37707697524584605, 0.3730077992539844, 0.34520176330959645, 0.4119192946761614, 0.37284829983888745, 0.38039514966505555, 0.39506486899007887, 0.365386246078182, 0.3924361909607394], 'accuracy_baggin': [0.44362495761275006, 0.43023058663953884, 0.44837232960325535, 0.438538487622923, 0.4687182095625636, 0.44305944204188924, 0.4638344780802171, 0.4608666157890274, 0.4404307640125498, 0.4534045620283219], 'f1_baggin': [0.4430573189532098, 0.4302276793949826, 0.4463816925663681, 0.4327070149892512, 0.4628387569371428, 0.44042132427955216, 0.4587739618288745, 0.4526874334876048, 0.43858700139554824, 0.4515772423218629], 'precision_baggin': [0.44608965862550354, 0.4330173092271244, 0.44830089684007596, 0.43525088712129545, 0.464317018340495, 0.44177382283275524, 0.46170757629685816, 0.45548076669732107, 0.4389092472173831, 0.4518456529958548], 'recall_baggin': [0.44362495761275006, 0.43023058663953884, 0.44837232960325535, 0.438538487622923, 0.4687182095625636, 0.44305944204188924, 0.4638344780802171, 0.4608666157890274, 0.4404307640125498, 0.4534045620283219], 'accuracy_pas': [0.3584265852831468, 0.3942861987114276, 0.40793489318413023, 0.3399457443201085, 0.38487622923024756, 0.3647078775544815, 0.38081912999236833, 0.387857203425761, 0.3345204782498092, 0.3408801831595014], 'f1_pas': [0.3023135143789276, 0.37417295757323227, 0.40182918018789177, 0.3381899062041428, 0.29468289753037796, 0.3630080543389907, 0.3769379336079225, 0.3852225335890019, 0.32462649469590305, 0.30065938185691093], 'precision_pas': [0.37404794895628884, 0.3803224171032763, 0.40000442142255227, 0.3375319179275558, 0.31845533169962154, 0.3634156490042429, 0.3780946252822663, 0.3891136335949184, 0.3329791704784059, 0.3211169641986148], 'recall_pas': [0.3584265852831468, 0.3942861987114276, 0.40793489318413023, 0.3399457443201085, 0.38487622923024756, 0.3647078775544815, 0.38081912999236833, 0.387857203425761, 0.3345204782498092, 0.3408801831595014]}\n"
     ]
    },
    {
     "name": "stderr",
     "output_type": "stream",
     "text": [
      "c:\\users\\franc\\appdata\\local\\programs\\python\\python36\\lib\\site-packages\\sklearn\\utils\\validation.py:475: DataConversionWarning: Data with input dtype int64 was converted to float64 by StandardScaler.\n",
      "  warnings.warn(msg, DataConversionWarning)\n",
      "c:\\users\\franc\\appdata\\local\\programs\\python\\python36\\lib\\site-packages\\sklearn\\linear_model\\stochastic_gradient.py:128: FutureWarning: max_iter and tol parameters have been added in <class 'sklearn.linear_model.stochastic_gradient.SGDClassifier'> in 0.19. If both are left unset, they default to max_iter=5 and tol=None. If tol is not None, max_iter defaults to max_iter=1000. From 0.21, default max_iter will be 1000, and default tol will be 1e-3.\n",
      "  \"and default tol will be 1e-3.\" % type(self), FutureWarning)\n"
     ]
    },
    {
     "name": "stdout",
     "output_type": "stream",
     "text": [
      "{'accuracy_knn': [0.4710918955578162, 0.46719226856561547, 0.4532892505934215, 0.4729569345540861, 0.48262122753475756, 0.4605274315271771, 0.4816416518273552, 0.4730772492156364, 0.4595098787416264, 0.4755363351140507, 0.47485796659035023], 'f1_knn': [0.4687451321192662, 0.4654909414970245, 0.45268804643984734, 0.4697956050871611, 0.48067307781873475, 0.4581686903710403, 0.4787090377652946, 0.4716492805185942, 0.4568889319230416, 0.47387466697398645, 0.47341286589500164], 'precision_knn': [0.4688646963011701, 0.4656355315378022, 0.45240126301798467, 0.47074385051218337, 0.4806068840268915, 0.458338996743595, 0.47995485303641905, 0.47146015319474394, 0.4575276067244457, 0.4748941176789549, 0.47341048244597794], 'recall_knn': [0.4710918955578162, 0.46719226856561547, 0.4532892505934215, 0.4729569345540861, 0.48262122753475756, 0.4605274315271771, 0.4816416518273552, 0.4730772492156364, 0.4595098787416264, 0.4755363351140507, 0.47485796659035023], 'accuracy_rnf': [0.5061885384876229, 0.5126314004747372, 0.5125466259749067, 0.5138182434723635, 0.5357748389284503, 0.5082676163825999, 0.5250572373441872, 0.5174255914525566, 0.5080980242516747, 0.5211566183329094, 0.5144577291613669], 'f1_rnf': [0.5053687779628614, 0.5118528473410173, 0.5122789890673902, 0.5130788897126619, 0.5350727052272621, 0.5074826283620397, 0.5237390108506236, 0.5170643799029933, 0.5079123297260857, 0.5208896286001794, 0.5140394955962085], 'precision_rnf': [0.5077107830947593, 0.5166657776851173, 0.5150323759940479, 0.5150089697283494, 0.5372173653549195, 0.5095867389893579, 0.524732124764799, 0.5181577067014346, 0.5099436663429083, 0.5215708671479918, 0.5158744040597018], 'recall_rnf': [0.5061885384876229, 0.5126314004747372, 0.5125466259749067, 0.5138182434723635, 0.5357748389284503, 0.5082676163825999, 0.5250572373441872, 0.5174255914525566, 0.5080980242516747, 0.5211566183329094, 0.5144577291613669], 'accuracy_sgd': [0.3987792472024415, 0.37707697524584605, 0.3730077992539844, 0.34520176330959645, 0.4119192946761614, 0.37284829983888745, 0.38039514966505555, 0.39506486899007887, 0.365386246078182, 0.3924361909607394, 0.43856525057237344], 'f1_sgd': [0.39513840723653776, 0.350808628606691, 0.37274827860299903, 0.32101765527869763, 0.3813070931440497, 0.3484665443305748, 0.36226699384365435, 0.3762608129943726, 0.36175606984953224, 0.38785620058900466, 0.43929928205771746], 'precision_sgd': [0.3963779745120379, 0.3974033865154086, 0.3725296922195943, 0.3527035319789538, 0.4496911856521828, 0.36983138049818076, 0.3752736547545378, 0.3835565162846516, 0.37422650107537203, 0.39654933924435004, 0.4413787349659089], 'recall_sgd': [0.3987792472024415, 0.37707697524584605, 0.3730077992539844, 0.34520176330959645, 0.4119192946761614, 0.37284829983888745, 0.38039514966505555, 0.39506486899007887, 0.365386246078182, 0.3924361909607394, 0.43856525057237344], 'accuracy_baggin': [0.44362495761275006, 0.43023058663953884, 0.44837232960325535, 0.438538487622923, 0.4687182095625636, 0.44305944204188924, 0.4638344780802171, 0.4608666157890274, 0.4404307640125498, 0.4534045620283219, 0.4589163062833885], 'f1_baggin': [0.4430573189532098, 0.4302276793949826, 0.4463816925663681, 0.4327070149892512, 0.4628387569371428, 0.44042132427955216, 0.4587739618288745, 0.4526874334876048, 0.43858700139554824, 0.4515772423218629, 0.4527000264945827], 'precision_baggin': [0.44608965862550354, 0.4330173092271244, 0.44830089684007596, 0.43525088712129545, 0.464317018340495, 0.44177382283275524, 0.46170757629685816, 0.45548076669732107, 0.4389092472173831, 0.4518456529958548, 0.4553804192527393], 'recall_baggin': [0.44362495761275006, 0.43023058663953884, 0.44837232960325535, 0.438538487622923, 0.4687182095625636, 0.44305944204188924, 0.4638344780802171, 0.4608666157890274, 0.4404307640125498, 0.4534045620283219, 0.4589163062833885], 'accuracy_pas': [0.3584265852831468, 0.3942861987114276, 0.40793489318413023, 0.3399457443201085, 0.38487622923024756, 0.3647078775544815, 0.38081912999236833, 0.387857203425761, 0.3345204782498092, 0.3408801831595014, 0.37530738573730177], 'f1_pas': [0.3023135143789276, 0.37417295757323227, 0.40182918018789177, 0.3381899062041428, 0.29468289753037796, 0.3630080543389907, 0.3769379336079225, 0.3852225335890019, 0.32462649469590305, 0.30065938185691093, 0.37358671652513736], 'precision_pas': [0.37404794895628884, 0.3803224171032763, 0.40000442142255227, 0.3375319179275558, 0.31845533169962154, 0.3634156490042429, 0.3780946252822663, 0.3891136335949184, 0.3329791704784059, 0.3211169641986148, 0.37726790330874277], 'recall_pas': [0.3584265852831468, 0.3942861987114276, 0.40793489318413023, 0.3399457443201085, 0.38487622923024756, 0.3647078775544815, 0.38081912999236833, 0.387857203425761, 0.3345204782498092, 0.3408801831595014, 0.37530738573730177]}\n"
     ]
    },
    {
     "name": "stderr",
     "output_type": "stream",
     "text": [
      "c:\\users\\franc\\appdata\\local\\programs\\python\\python36\\lib\\site-packages\\sklearn\\utils\\validation.py:475: DataConversionWarning: Data with input dtype int64 was converted to float64 by StandardScaler.\n",
      "  warnings.warn(msg, DataConversionWarning)\n",
      "c:\\users\\franc\\appdata\\local\\programs\\python\\python36\\lib\\site-packages\\sklearn\\linear_model\\stochastic_gradient.py:128: FutureWarning: max_iter and tol parameters have been added in <class 'sklearn.linear_model.stochastic_gradient.SGDClassifier'> in 0.19. If both are left unset, they default to max_iter=5 and tol=None. If tol is not None, max_iter defaults to max_iter=1000. From 0.21, default max_iter will be 1000, and default tol will be 1e-3.\n",
      "  \"and default tol will be 1e-3.\" % type(self), FutureWarning)\n"
     ]
    },
    {
     "name": "stdout",
     "output_type": "stream",
     "text": [
      "{'accuracy_knn': [0.4710918955578162, 0.46719226856561547, 0.4532892505934215, 0.4729569345540861, 0.48262122753475756, 0.4605274315271771, 0.4816416518273552, 0.4730772492156364, 0.4595098787416264, 0.4755363351140507, 0.47485796659035023, 0.4710421436445349], 'f1_knn': [0.4687451321192662, 0.4654909414970245, 0.45268804643984734, 0.4697956050871611, 0.48067307781873475, 0.4581686903710403, 0.4787090377652946, 0.4716492805185942, 0.4568889319230416, 0.47387466697398645, 0.47341286589500164, 0.46867151248101147], 'precision_knn': [0.4688646963011701, 0.4656355315378022, 0.45240126301798467, 0.47074385051218337, 0.4806068840268915, 0.458338996743595, 0.47995485303641905, 0.47146015319474394, 0.4575276067244457, 0.4748941176789549, 0.47341048244597794, 0.46864114731018863], 'recall_knn': [0.4710918955578162, 0.46719226856561547, 0.4532892505934215, 0.4729569345540861, 0.48262122753475756, 0.4605274315271771, 0.4816416518273552, 0.4730772492156364, 0.4595098787416264, 0.4755363351140507, 0.47485796659035023, 0.4710421436445349], 'accuracy_rnf': [0.5061885384876229, 0.5126314004747372, 0.5125466259749067, 0.5138182434723635, 0.5357748389284503, 0.5082676163825999, 0.5250572373441872, 0.5174255914525566, 0.5080980242516747, 0.5211566183329094, 0.5144577291613669, 0.5152208937505299], 'f1_rnf': [0.5053687779628614, 0.5118528473410173, 0.5122789890673902, 0.5130788897126619, 0.5350727052272621, 0.5074826283620397, 0.5237390108506236, 0.5170643799029933, 0.5079123297260857, 0.5208896286001794, 0.5140394955962085, 0.5146464256365207], 'precision_rnf': [0.5077107830947593, 0.5166657776851173, 0.5150323759940479, 0.5150089697283494, 0.5372173653549195, 0.5095867389893579, 0.524732124764799, 0.5181577067014346, 0.5099436663429083, 0.5215708671479918, 0.5158744040597018, 0.5166057716862735], 'recall_rnf': [0.5061885384876229, 0.5126314004747372, 0.5125466259749067, 0.5138182434723635, 0.5357748389284503, 0.5082676163825999, 0.5250572373441872, 0.5174255914525566, 0.5080980242516747, 0.5211566183329094, 0.5144577291613669, 0.5152208937505299], 'accuracy_sgd': [0.3987792472024415, 0.37707697524584605, 0.3730077992539844, 0.34520176330959645, 0.4119192946761614, 0.37284829983888745, 0.38039514966505555, 0.39506486899007887, 0.365386246078182, 0.3924361909607394, 0.43856525057237344, 0.37200033918426184], 'f1_sgd': [0.39513840723653776, 0.350808628606691, 0.37274827860299903, 0.32101765527869763, 0.3813070931440497, 0.3484665443305748, 0.36226699384365435, 0.3762608129943726, 0.36175606984953224, 0.38785620058900466, 0.43929928205771746, 0.3638938609232747], 'precision_sgd': [0.3963779745120379, 0.3974033865154086, 0.3725296922195943, 0.3527035319789538, 0.4496911856521828, 0.36983138049818076, 0.3752736547545378, 0.3835565162846516, 0.37422650107537203, 0.39654933924435004, 0.4413787349659089, 0.37172291974382987], 'recall_sgd': [0.3987792472024415, 0.37707697524584605, 0.3730077992539844, 0.34520176330959645, 0.4119192946761614, 0.37284829983888745, 0.38039514966505555, 0.39506486899007887, 0.365386246078182, 0.3924361909607394, 0.43856525057237344, 0.37200033918426184], 'accuracy_baggin': [0.44362495761275006, 0.43023058663953884, 0.44837232960325535, 0.438538487622923, 0.4687182095625636, 0.44305944204188924, 0.4638344780802171, 0.4608666157890274, 0.4404307640125498, 0.4534045620283219, 0.4589163062833885, 0.45501568727211056], 'f1_baggin': [0.4430573189532098, 0.4302276793949826, 0.4463816925663681, 0.4327070149892512, 0.4628387569371428, 0.44042132427955216, 0.4587739618288745, 0.4526874334876048, 0.43858700139554824, 0.4515772423218629, 0.4527000264945827, 0.4513402730841574], 'precision_baggin': [0.44608965862550354, 0.4330173092271244, 0.44830089684007596, 0.43525088712129545, 0.464317018340495, 0.44177382283275524, 0.46170757629685816, 0.45548076669732107, 0.4389092472173831, 0.4518456529958548, 0.4553804192527393, 0.45182778593445455], 'recall_baggin': [0.44362495761275006, 0.43023058663953884, 0.44837232960325535, 0.438538487622923, 0.4687182095625636, 0.44305944204188924, 0.4638344780802171, 0.4608666157890274, 0.4404307640125498, 0.4534045620283219, 0.4589163062833885, 0.45501568727211056], 'accuracy_pas': [0.3584265852831468, 0.3942861987114276, 0.40793489318413023, 0.3399457443201085, 0.38487622923024756, 0.3647078775544815, 0.38081912999236833, 0.387857203425761, 0.3345204782498092, 0.3408801831595014, 0.37530738573730177, 0.3792080047485797], 'f1_pas': [0.3023135143789276, 0.37417295757323227, 0.40182918018789177, 0.3381899062041428, 0.29468289753037796, 0.3630080543389907, 0.3769379336079225, 0.3852225335890019, 0.32462649469590305, 0.30065938185691093, 0.37358671652513736, 0.37741193480449], 'precision_pas': [0.37404794895628884, 0.3803224171032763, 0.40000442142255227, 0.3375319179275558, 0.31845533169962154, 0.3634156490042429, 0.3780946252822663, 0.3891136335949184, 0.3329791704784059, 0.3211169641986148, 0.37726790330874277, 0.37679132288898115], 'recall_pas': [0.3584265852831468, 0.3942861987114276, 0.40793489318413023, 0.3399457443201085, 0.38487622923024756, 0.3647078775544815, 0.38081912999236833, 0.387857203425761, 0.3345204782498092, 0.3408801831595014, 0.37530738573730177, 0.3792080047485797]}\n",
      "DONE!\n"
     ]
    }
   ],
   "source": [
    "if __name__ == '__main__':\n",
    "   \n",
    "    report_ucr_down = sampling_offensegroup(X_rus1, z_rus1,'weighted',  'ucrrank_downsampled_model.pickle',\n",
    "                                            'ucrrank_downsampled_report.pickle')"
   ]
  },
  {
   "cell_type": "code",
   "execution_count": 39,
   "metadata": {},
   "outputs": [
    {
     "name": "stdout",
     "output_type": "stream",
     "text": [
      "    accuracy_baggin  accuracy_knn  accuracy_pas  accuracy_rnf  accuracy_sgd  \\\n",
      "0          0.443625      0.471092      0.358427      0.506189      0.398779   \n",
      "1          0.430231      0.467192      0.394286      0.512631      0.377077   \n",
      "2          0.448372      0.453289      0.407935      0.512547      0.373008   \n",
      "3          0.438538      0.472957      0.339946      0.513818      0.345202   \n",
      "4          0.468718      0.482621      0.384876      0.535775      0.411919   \n",
      "5          0.443059      0.460527      0.364708      0.508268      0.372848   \n",
      "6          0.463834      0.481642      0.380819      0.525057      0.380395   \n",
      "7          0.460867      0.473077      0.387857      0.517426      0.395065   \n",
      "8          0.440431      0.459510      0.334520      0.508098      0.365386   \n",
      "9          0.453405      0.475536      0.340880      0.521157      0.392436   \n",
      "10         0.458916      0.474858      0.375307      0.514458      0.438565   \n",
      "11         0.455016      0.471042      0.379208      0.515221      0.372000   \n",
      "\n",
      "    f1_baggin    f1_knn    f1_pas    f1_rnf    f1_sgd  precision_baggin  \\\n",
      "0    0.443057  0.468745  0.302314  0.505369  0.395138          0.446090   \n",
      "1    0.430228  0.465491  0.374173  0.511853  0.350809          0.433017   \n",
      "2    0.446382  0.452688  0.401829  0.512279  0.372748          0.448301   \n",
      "3    0.432707  0.469796  0.338190  0.513079  0.321018          0.435251   \n",
      "4    0.462839  0.480673  0.294683  0.535073  0.381307          0.464317   \n",
      "5    0.440421  0.458169  0.363008  0.507483  0.348467          0.441774   \n",
      "6    0.458774  0.478709  0.376938  0.523739  0.362267          0.461708   \n",
      "7    0.452687  0.471649  0.385223  0.517064  0.376261          0.455481   \n",
      "8    0.438587  0.456889  0.324626  0.507912  0.361756          0.438909   \n",
      "9    0.451577  0.473875  0.300659  0.520890  0.387856          0.451846   \n",
      "10   0.452700  0.473413  0.373587  0.514039  0.439299          0.455380   \n",
      "11   0.451340  0.468672  0.377412  0.514646  0.363894          0.451828   \n",
      "\n",
      "    precision_knn  precision_pas  precision_rnf  precision_sgd  recall_baggin  \\\n",
      "0        0.468865       0.374048       0.507711       0.396378       0.443625   \n",
      "1        0.465636       0.380322       0.516666       0.397403       0.430231   \n",
      "2        0.452401       0.400004       0.515032       0.372530       0.448372   \n",
      "3        0.470744       0.337532       0.515009       0.352704       0.438538   \n",
      "4        0.480607       0.318455       0.537217       0.449691       0.468718   \n",
      "5        0.458339       0.363416       0.509587       0.369831       0.443059   \n",
      "6        0.479955       0.378095       0.524732       0.375274       0.463834   \n",
      "7        0.471460       0.389114       0.518158       0.383557       0.460867   \n",
      "8        0.457528       0.332979       0.509944       0.374227       0.440431   \n",
      "9        0.474894       0.321117       0.521571       0.396549       0.453405   \n",
      "10       0.473410       0.377268       0.515874       0.441379       0.458916   \n",
      "11       0.468641       0.376791       0.516606       0.371723       0.455016   \n",
      "\n",
      "    recall_knn  recall_pas  recall_rnf  recall_sgd  \n",
      "0     0.471092    0.358427    0.506189    0.398779  \n",
      "1     0.467192    0.394286    0.512631    0.377077  \n",
      "2     0.453289    0.407935    0.512547    0.373008  \n",
      "3     0.472957    0.339946    0.513818    0.345202  \n",
      "4     0.482621    0.384876    0.535775    0.411919  \n",
      "5     0.460527    0.364708    0.508268    0.372848  \n",
      "6     0.481642    0.380819    0.525057    0.380395  \n",
      "7     0.473077    0.387857    0.517426    0.395065  \n",
      "8     0.459510    0.334520    0.508098    0.365386  \n",
      "9     0.475536    0.340880    0.521157    0.392436  \n",
      "10    0.474858    0.375307    0.514458    0.438565  \n",
      "11    0.471042    0.379208    0.515221    0.372000  \n"
     ]
    }
   ],
   "source": [
    "report_ucr_down = pd.DataFrame(report_ucr_down)\n",
    "print(report_ucr_down)"
   ]
  },
  {
   "cell_type": "code",
   "execution_count": 40,
   "metadata": {},
   "outputs": [],
   "source": [
    " with open('undersampling_reports.pickle', 'wb') as b:\n",
    "            pickle.dump([report_offensegroup_up, report_ucr_up, report_offensegroup_down, report_ucr_down ] , b)"
   ]
  },
  {
   "cell_type": "code",
   "execution_count": null,
   "metadata": {},
   "outputs": [],
   "source": []
  },
  {
   "cell_type": "markdown",
   "metadata": {},
   "source": [
    "# Calculating averages and selecting best model for demo:"
   ]
  },
  {
   "cell_type": "code",
   "execution_count": 41,
   "metadata": {},
   "outputs": [
    {
     "name": "stdout",
     "output_type": "stream",
     "text": [
      "accuracy_baggin     0.629946\n",
      "accuracy_knn        0.664326\n",
      "accuracy_pas        0.539137\n",
      "accuracy_rnf        0.792144\n",
      "accuracy_sgd        0.598143\n",
      "f1_baggin           0.630570\n",
      "f1_knn              0.679606\n",
      "f1_pas              0.536170\n",
      "f1_rnf              0.747655\n",
      "f1_sgd              0.586036\n",
      "precision_baggin    0.629719\n",
      "precision_knn       0.650003\n",
      "precision_pas       0.548957\n",
      "precision_rnf       0.902748\n",
      "precision_sgd       0.604442\n",
      "recall_baggin       0.632249\n",
      "recall_knn          0.712156\n",
      "recall_pas          0.550291\n",
      "recall_rnf          0.651299\n",
      "recall_sgd          0.569452\n",
      "dtype: float64\n",
      "------------------------\n",
      "\n",
      "accuracy_baggin     0.630212\n",
      "accuracy_knn        0.639825\n",
      "accuracy_pas        0.501400\n",
      "accuracy_rnf        0.662017\n",
      "accuracy_sgd        0.587563\n",
      "f1_baggin           0.631583\n",
      "f1_knn              0.641548\n",
      "f1_pas              0.452285\n",
      "f1_rnf              0.662562\n",
      "f1_sgd              0.563635\n",
      "precision_baggin    0.629664\n",
      "precision_knn       0.638448\n",
      "precision_pas       0.504541\n",
      "precision_rnf       0.661494\n",
      "precision_sgd       0.599155\n",
      "recall_baggin       0.634568\n",
      "recall_knn          0.644954\n",
      "recall_pas          0.427646\n",
      "recall_rnf          0.663925\n",
      "recall_sgd          0.536978\n",
      "dtype: float64\n",
      "------------------------\n",
      "\n",
      "accuracy_baggin     0.444964\n",
      "accuracy_knn        0.482907\n",
      "accuracy_pas        0.365351\n",
      "accuracy_rnf        0.667397\n",
      "accuracy_sgd        0.374167\n",
      "f1_baggin           0.442268\n",
      "f1_knn              0.479051\n",
      "f1_pas              0.346765\n",
      "f1_rnf              0.664945\n",
      "f1_sgd              0.357897\n",
      "precision_baggin    0.442710\n",
      "precision_knn       0.480077\n",
      "precision_pas       0.363959\n",
      "precision_rnf       0.669800\n",
      "precision_sgd       0.373270\n",
      "recall_baggin       0.444964\n",
      "recall_knn          0.482907\n",
      "recall_pas          0.365351\n",
      "recall_rnf          0.667397\n",
      "recall_sgd          0.374167\n",
      "dtype: float64\n",
      "------------------------\n",
      "\n",
      "accuracy_baggin     0.450418\n",
      "accuracy_knn        0.470279\n",
      "accuracy_pas        0.370731\n",
      "accuracy_rnf        0.515887\n",
      "accuracy_sgd        0.385223\n",
      "f1_baggin           0.446775\n",
      "f1_knn              0.468231\n",
      "f1_pas              0.351053\n",
      "f1_rnf              0.515286\n",
      "f1_sgd              0.371735\n",
      "precision_baggin    0.448658\n",
      "precision_knn       0.468540\n",
      "precision_pas       0.362428\n",
      "precision_rnf       0.517342\n",
      "precision_sgd       0.390104\n",
      "recall_baggin       0.450418\n",
      "recall_knn          0.470279\n",
      "recall_pas          0.370731\n",
      "recall_rnf          0.515887\n",
      "recall_sgd          0.385223\n",
      "dtype: float64\n",
      "------------------------\n",
      "\n"
     ]
    }
   ],
   "source": [
    "score_list = [report_offensegroup_up, report_offensegroup_down,report_ucr_up, report_ucr_down ]\n",
    "\n",
    "for i in score_list:\n",
    "    \n",
    "    print(i.mean())\n",
    "    print('------------------------\\n')"
   ]
  },
  {
   "cell_type": "markdown",
   "metadata": {},
   "source": [
    "# The best scores are:\n",
    "\n",
    "for offensegroup : knn, random forest and bagging and with upsampling\n",
    "    \n",
    "for ucr-rank3 clasess : Knn, random forest and bagging with upsampling\n",
    "    \n",
    "\n",
    "    \n"
   ]
  },
  {
   "cell_type": "markdown",
   "metadata": {},
   "source": [
    "Classification reports: See the demostration notebook"
   ]
  },
  {
   "cell_type": "markdown",
   "metadata": {},
   "source": [
    "# Classification reports: (from the last Kfold)"
   ]
  },
  {
   "cell_type": "code",
   "execution_count": 25,
   "metadata": {},
   "outputs": [],
   "source": [
    "reports = [ 'offensegroup_upsampled_report.pickle', 'offensegroup_downsampled_report.pickle',\n",
    "           'ucrrank_upsampled_report.pickle', 'ucrrank_downsampled_report.pickle']\n",
    "classification_matrix = []\n",
    "\n",
    "\n",
    "\n",
    "with open('offensegroup_upsampled_report.pickle', 'rb') as upsampled_model_offensegroup:\n",
    "    \n",
    "        estimator_upsampled_offensegroup = pickle.load(upsampled_model_offensegroup)\n",
    "        \n",
    "with open('ucrrank_upsampled_report.pickle', 'rb') as upsampled_model_ucrrank:\n",
    "    \n",
    "        estimator_upsampled_ucrrank = pickle.load(upsampled_model_ucrrank)\n",
    "        \n",
    "\n",
    "with open('offensegroup_downsampled_report.pickle', 'rb') as downsampled_model_offensegroup:\n",
    "    \n",
    "        estimator_downsampled_offensegroup = pickle.load(downsampled_model_offensegroup)\n",
    "        \n",
    "with open('ucrrank_downsampled_report.pickle', 'rb') as downsampled_model_ucrrank:\n",
    "    \n",
    "        estimator_downsampled_ucrrank = pickle.load(downsampled_model_ucrrank)\n",
    "        "
   ]
  },
  {
   "cell_type": "markdown",
   "metadata": {},
   "source": [
    "list order: [predicted_knn, predicted_rnf, predicted_sgd, predicted_baggin, predicted_pas, report_knn, report_rnf, report_sgd, report_baggin, report_pas] "
   ]
  },
  {
   "cell_type": "code",
   "execution_count": 27,
   "metadata": {},
   "outputs": [
    {
     "name": "stdout",
     "output_type": "stream",
     "text": [
      "Classification Report for Upsampled Knn on offensegroup: \n",
      "\n",
      "             precision    recall  f1-score   support\n",
      "\n",
      "          0       0.68      0.63      0.65     19218\n",
      "          1       0.66      0.70      0.68     19218\n",
      "\n",
      "avg / total       0.67      0.67      0.67     38436\n",
      "\n",
      "==============================================================================\n",
      "Classification Report for Upsampled RandomForest on offensegroup: \n",
      "\n",
      "             precision    recall  f1-score   support\n",
      "\n",
      "          0       0.64      0.94      0.76     19218\n",
      "          1       0.89      0.48      0.62     19218\n",
      "\n",
      "avg / total       0.77      0.71      0.69     38436\n",
      "\n",
      "==============================================================================\n",
      "Classification Report for Upsampled BaggingClassifier on offensegroup: \n",
      "\n",
      "             precision    recall  f1-score   support\n",
      "\n",
      "          0       0.63      0.64      0.63     19218\n",
      "          1       0.63      0.62      0.63     19218\n",
      "\n",
      "avg / total       0.63      0.63      0.63     38436\n",
      "\n",
      "==============================================================================\n",
      "Classification Report for Upsampled Knn on ucrrank: \n",
      "\n",
      "             precision    recall  f1-score   support\n",
      "\n",
      "          1       0.49      0.44      0.46     10474\n",
      "          2       0.48      0.44      0.46     10474\n",
      "          3       0.52      0.61      0.56     10474\n",
      "\n",
      "avg / total       0.50      0.50      0.50     31422\n",
      "\n",
      "==============================================================================\n",
      "Classification Report for Upsampled RandomForest on ucrrank: \n",
      "\n",
      "             precision    recall  f1-score   support\n",
      "\n",
      "          1       0.75      0.57      0.65     10474\n",
      "          2       0.66      0.88      0.76     10474\n",
      "          3       0.85      0.78      0.82     10474\n",
      "\n",
      "avg / total       0.76      0.74      0.74     31422\n",
      "\n",
      "==============================================================================\n",
      "Classification Report for Upsampled BaggingClassifier on ucrrank: \n",
      "\n",
      "             precision    recall  f1-score   support\n",
      "\n",
      "          1       0.42      0.46      0.44     10474\n",
      "          2       0.40      0.33      0.36     10474\n",
      "          3       0.48      0.52      0.49     10474\n",
      "\n",
      "avg / total       0.43      0.44      0.43     31422\n",
      "\n"
     ]
    }
   ],
   "source": [
    "print(\"Classification Report for Upsampled Knn on offensegroup: \\n\\n\"+estimator_upsampled_offensegroup[5])\n",
    "print(\"==============================================================================\")\n",
    "print(\"Classification Report for Upsampled RandomForest on offensegroup: \\n\\n\"+estimator_upsampled_offensegroup[6])\n",
    "print(\"==============================================================================\")\n",
    "# 0 Nonviolent, 1 is violent.\n",
    "print(\"Classification Report for Upsampled BaggingClassifier on offensegroup: \\n\\n\"+estimator_upsampled_offensegroup[8])\n",
    "print(\"==============================================================================\")\n",
    "print(\"Classification Report for Upsampled Knn on ucrrank: \\n\\n\"+estimator_upsampled_ucrrank[5])\n",
    "print(\"==============================================================================\")\n",
    "print(\"Classification Report for Upsampled RandomForest on ucrrank: \\n\\n\"+estimator_upsampled_ucrrank[6])\n",
    "print(\"==============================================================================\")\n",
    "# 0 Nonviolent, 1 is violent.\n",
    "print(\"Classification Report for Upsampled BaggingClassifier on ucrrank: \\n\\n\"+estimator_upsampled_ucrrank[8])"
   ]
  },
  {
   "cell_type": "code",
   "execution_count": 30,
   "metadata": {},
   "outputs": [],
   "source": [
    "# extra prediction. judith:"
   ]
  },
  {
   "cell_type": "code",
   "execution_count": 28,
   "metadata": {},
   "outputs": [
    {
     "name": "stdout",
     "output_type": "stream",
     "text": [
      "Classification Report for downsampled Knn on offensegroup: \n",
      "\n",
      "             precision    recall  f1-score   support\n",
      "\n",
      "          0       0.64      0.64      0.64      3931\n",
      "          1       0.64      0.65      0.64      3931\n",
      "\n",
      "avg / total       0.64      0.64      0.64      7862\n",
      "\n",
      "==============================================================================\n",
      "Classification Report for downsampled RandomForest on offensegroup: \n",
      "\n",
      "             precision    recall  f1-score   support\n",
      "\n",
      "          0       0.66      0.66      0.66      3931\n",
      "          1       0.66      0.66      0.66      3931\n",
      "\n",
      "avg / total       0.66      0.66      0.66      7862\n",
      "\n",
      "==============================================================================\n",
      "Classification Report for downsampled BaggingClassifier on offensegroup: \n",
      "\n",
      "             precision    recall  f1-score   support\n",
      "\n",
      "          0       0.63      0.64      0.64      3931\n",
      "          1       0.64      0.63      0.63      3931\n",
      "\n",
      "avg / total       0.63      0.63      0.63      7862\n",
      "\n",
      "==============================================================================\n",
      "Classification Report for downsampled Knn on ucrrank: \n",
      "\n",
      "             precision    recall  f1-score   support\n",
      "\n",
      "          1       0.48      0.49      0.48      3931\n",
      "          2       0.44      0.38      0.40      3931\n",
      "          3       0.49      0.54      0.52      3931\n",
      "\n",
      "avg / total       0.47      0.47      0.47     11793\n",
      "\n",
      "==============================================================================\n",
      "Classification Report for downsampled RandomForest on ucrrank: \n",
      "\n",
      "             precision    recall  f1-score   support\n",
      "\n",
      "          1       0.54      0.46      0.50      3931\n",
      "          2       0.49      0.53      0.51      3931\n",
      "          3       0.52      0.55      0.54      3931\n",
      "\n",
      "avg / total       0.52      0.52      0.51     11793\n",
      "\n",
      "==============================================================================\n",
      "Classification Report for downsampled BaggingClassifier on ucrrank: \n",
      "\n",
      "             precision    recall  f1-score   support\n",
      "\n",
      "          1       0.46      0.49      0.47      3931\n",
      "          2       0.42      0.34      0.38      3931\n",
      "          3       0.47      0.54      0.50      3931\n",
      "\n",
      "avg / total       0.45      0.46      0.45     11793\n",
      "\n"
     ]
    }
   ],
   "source": [
    "print(\"Classification Report for downsampled Knn on offensegroup: \\n\\n\"+estimator_downsampled_offensegroup[5])\n",
    "print(\"==============================================================================\")\n",
    "print(\"Classification Report for downsampled RandomForest on offensegroup: \\n\\n\"+estimator_downsampled_offensegroup[6])\n",
    "print(\"==============================================================================\")\n",
    "# 0 Nonviolent, 1 is violent.\n",
    "print(\"Classification Report for downsampled BaggingClassifier on offensegroup: \\n\\n\"+estimator_downsampled_offensegroup[8])\n",
    "print(\"==============================================================================\")\n",
    "print(\"Classification Report for downsampled Knn on ucrrank: \\n\\n\"+estimator_downsampled_ucrrank[5])\n",
    "print(\"==============================================================================\")\n",
    "print(\"Classification Report for downsampled RandomForest on ucrrank: \\n\\n\"+estimator_downsampled_ucrrank[6])\n",
    "print(\"==============================================================================\")\n",
    "# 0 Nonviolent, 1 is violent.\n",
    "print(\"Classification Report for downsampled BaggingClassifier on ucrrank: \\n\\n\"+estimator_downsampled_ucrrank[8])"
   ]
  },
  {
   "cell_type": "code",
   "execution_count": null,
   "metadata": {},
   "outputs": [],
   "source": []
  }
 ],
 "metadata": {
  "kernelspec": {
   "display_name": "Python 3",
   "language": "python",
   "name": "python3"
  },
  "language_info": {
   "codemirror_mode": {
    "name": "ipython",
    "version": 3
   },
   "file_extension": ".py",
   "mimetype": "text/x-python",
   "name": "python",
   "nbconvert_exporter": "python",
   "pygments_lexer": "ipython3",
   "version": "3.6.5"
  }
 },
 "nbformat": 4,
 "nbformat_minor": 2
}
